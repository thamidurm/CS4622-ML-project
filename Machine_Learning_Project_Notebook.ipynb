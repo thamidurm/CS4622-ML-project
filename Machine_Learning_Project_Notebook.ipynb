{
 "cells": [
  {
   "cell_type": "code",
   "execution_count": 394,
   "metadata": {
    "id": "wQzXMxefAQbL"
   },
   "outputs": [],
   "source": [
    "import pandas as pd\n",
    "import matplotlib.pyplot as plt\n",
    "import seaborn as sns\n",
    "import re\n",
    "import numpy as np\n",
    "\n",
    "%matplotlib inline"
   ]
  },
  {
   "cell_type": "code",
   "execution_count": 395,
   "metadata": {
    "id": "YDnqjoK8K2U9"
   },
   "outputs": [],
   "source": [
    "#region_code is dropped because it is erroneous and the same data is available  in region\n",
    "#has more values than there are regions. upon inspection it seems to be errors during entry, 8 is given as 80 etc,\n",
    "#name of the waterpoint is unlikely to be helpful so dropped at first"
   ]
  },
  {
   "cell_type": "code",
   "execution_count": 396,
   "metadata": {
    "id": "DZ1nu5mUDQ8B"
   },
   "outputs": [],
   "source": [
    "dropped_cols =  [ 'recorded_by', 'region_code', 'payment', 'source_class', 'extraction_type']\n",
    "test_data = pd.read_csv(r'C:\\Users\\HP\\Downloads\\test.csv', index_col='id').drop(dropped_cols,axis =1)\n",
    "X = pd.read_csv(r'C:\\Users\\HP\\Downloads\\train_features.csv').drop(['id'] + dropped_cols,axis =1)\n",
    "y = pd.read_csv(r'C:\\Users\\HP\\Downloads\\train_labels.csv').drop(['id'], axis=1)"
   ]
  },
  {
   "cell_type": "code",
   "execution_count": 397,
   "metadata": {},
   "outputs": [],
   "source": [
    "# X['scheme_mgt_imputed'] = 0\n",
    "# def replace_scheme_mgt_na(row):\n",
    "#   if row['scheme_management']:\n",
    "#     return row\n",
    "#   mode = X.loc[:,(X['management'] == row['management'])]['scheme_management'].mode()\n",
    "#   if mode.notna():\n",
    "#     row['scheme_management'] = mode\n",
    "#     row['scheme_mgt_imputed'] = 1\n",
    "#   return row\n",
    "# X = X.apply(replace_scheme_name_na,axis = 1)"
   ]
  },
  {
   "cell_type": "code",
   "execution_count": 398,
   "metadata": {},
   "outputs": [],
   "source": [
    "# X['scheme_name_imputed'] = 0\n",
    "# def replace_scheme_name_na(row):\n",
    "#   if row['scheme_name']:\n",
    "#     return row\n",
    "#   mode = X.loc[:,(X['basin'] == row['basin'])]['scheme_name'].mode()\n",
    "#   if mode.notna():\n",
    "#     row['scheme_name'] = mode\n",
    "#     row['scheme_name_imputed'] = 1\n",
    "#   return row\n",
    "# X = X.apply(replace_scheme_name_na,axis = 1)"
   ]
  },
  {
   "cell_type": "code",
   "execution_count": 399,
   "metadata": {
    "id": "4kOQIn8_DVix"
   },
   "outputs": [],
   "source": [
    "class_labels = y['status_group'].unique()"
   ]
  },
  {
   "cell_type": "code",
   "execution_count": 400,
   "metadata": {
    "id": "YujipauGpOcD"
   },
   "outputs": [],
   "source": [
    "RANDOM_SEED = 42"
   ]
  },
  {
   "cell_type": "markdown",
   "metadata": {},
   "source": [
    "### Preprocessing and New Feature Creation"
   ]
  },
  {
   "cell_type": "code",
   "execution_count": 401,
   "metadata": {
    "id": "x5Zp23eAr2Qq"
   },
   "outputs": [],
   "source": [
    "to_be_processed = [X, test_data]"
   ]
  },
  {
   "cell_type": "code",
   "execution_count": 402,
   "metadata": {
    "id": "Ot7cPceVuPWC"
   },
   "outputs": [],
   "source": [
    "for x in to_be_processed:\n",
    "  x['date_recorded'] =  pd.to_datetime(x['date_recorded'], infer_datetime_format=True)  \n",
    "  x['date_recorded'] = x.date_recorded.values.astype(np.int64) // 10 ** 9"
   ]
  },
  {
   "cell_type": "code",
   "execution_count": 403,
   "metadata": {},
   "outputs": [],
   "source": [
    "# X['construction_year']= 2021 - X['construction_year']\n",
    "# X['amount_per_population'] = X['amount_tsh']/(X['population']+1)\n",
    "# X['log_date_recorded'] = np.log(X['date_recorded'])\n",
    "# X['comb_scheme_name_mgt'] = X['scheme_name'].astype(str) + X['scheme_management']"
   ]
  },
  {
   "cell_type": "code",
   "execution_count": 405,
   "metadata": {
    "id": "KZPtvkYLEUP-"
   },
   "outputs": [],
   "source": [
    "non_num_cols = [c for c in X.columns if X[c].dtype == 'object' if c not in ['permit', 'public_meeting']]"
   ]
  },
  {
   "cell_type": "code",
   "execution_count": 407,
   "metadata": {
    "id": "QXQnjkzkp27T"
   },
   "outputs": [],
   "source": [
    "for c in non_num_cols:\n",
    "    for x in to_be_processed:\n",
    "      x[c] = x[c].str.lower().str.strip().str.replace(re.compile('[\\s\\-\\']'), '')"
   ]
  },
  {
   "cell_type": "code",
   "execution_count": 404,
   "metadata": {},
   "outputs": [],
   "source": [
    "combined = pd.concat([X,y], axis = 1)"
   ]
  },
  {
   "cell_type": "code",
   "execution_count": 406,
   "metadata": {
    "colab": {
     "base_uri": "https://localhost:8080/"
    },
    "id": "vI7ZhnpArpOV",
    "outputId": "14b6a119-6c92-4d5e-c232-3f6c75af647e"
   },
   "outputs": [
    {
     "data": {
      "text/plain": [
       "['funder',\n",
       " 'installer',\n",
       " 'wpt_name',\n",
       " 'basin',\n",
       " 'subvillage',\n",
       " 'region',\n",
       " 'lga',\n",
       " 'ward',\n",
       " 'scheme_management',\n",
       " 'scheme_name',\n",
       " 'extraction_type_group',\n",
       " 'extraction_type_class',\n",
       " 'management',\n",
       " 'management_group',\n",
       " 'payment_type',\n",
       " 'water_quality',\n",
       " 'quality_group',\n",
       " 'quantity',\n",
       " 'quantity_group',\n",
       " 'source',\n",
       " 'source_type',\n",
       " 'waterpoint_type',\n",
       " 'waterpoint_type_group']"
      ]
     },
     "execution_count": 406,
     "metadata": {},
     "output_type": "execute_result"
    }
   ],
   "source": [
    "non_num_cols"
   ]
  },
  {
   "cell_type": "code",
   "execution_count": 408,
   "metadata": {
    "colab": {
     "base_uri": "https://localhost:8080/"
    },
    "id": "zshqFhJfqCYR",
    "outputId": "84704450-03a3-4970-d379-f98088dce221"
   },
   "outputs": [
    {
     "data": {
      "text/plain": [
       "59400"
      ]
     },
     "execution_count": 408,
     "metadata": {},
     "output_type": "execute_result"
    }
   ],
   "source": [
    "len(X)"
   ]
  },
  {
   "cell_type": "code",
   "execution_count": 409,
   "metadata": {
    "colab": {
     "base_uri": "https://localhost:8080/"
    },
    "id": "D9hamSEgeJ_k",
    "outputId": "d8d836c9-703e-4b56-d01c-a22c94b147d8"
   },
   "outputs": [
    {
     "data": {
      "text/plain": [
       "59400"
      ]
     },
     "execution_count": 409,
     "metadata": {},
     "output_type": "execute_result"
    }
   ],
   "source": [
    "len(y)"
   ]
  },
  {
   "cell_type": "code",
   "execution_count": 410,
   "metadata": {
    "id": "2LQRumsmpKLd"
   },
   "outputs": [],
   "source": [
    "from sklearn.model_selection import train_test_split"
   ]
  },
  {
   "cell_type": "code",
   "execution_count": 411,
   "metadata": {
    "id": "CjT9HAVKpNYv"
   },
   "outputs": [],
   "source": [
    "X_train, X_test, y_train, y_test = train_test_split(X, y, test_size=0.2, stratify=y, random_state=RANDOM_SEED)"
   ]
  },
  {
   "cell_type": "code",
   "execution_count": 412,
   "metadata": {
    "id": "CG4N5UHVphxV"
   },
   "outputs": [],
   "source": [
    "train_combined = pd.concat([X_train, y_train], axis = 1)"
   ]
  },
  {
   "cell_type": "code",
   "execution_count": 413,
   "metadata": {
    "id": "eyHXfQdUTTLR"
   },
   "outputs": [],
   "source": [
    "test_empty_cols = { x:test_data[x].isnull().sum() for x in test_data.columns if test_data[x].isnull().sum() > 0}\n",
    "train_empty_cols = { x: X[x].isnull().sum() for x in X.columns if X[x].isnull().sum() > 0}"
   ]
  },
  {
   "cell_type": "markdown",
   "metadata": {},
   "source": [
    "# EDA"
   ]
  },
  {
   "cell_type": "code",
   "execution_count": 414,
   "metadata": {
    "colab": {
     "base_uri": "https://localhost:8080/"
    },
    "id": "C1nO6olyTuZV",
    "outputId": "e637975f-6e94-44cb-9825-b99e02fed736"
   },
   "outputs": [
    {
     "name": "stdout",
     "output_type": "stream",
     "text": [
      "Test Empty Cols :funder (869), installer (877), subvillage (99), public_meeting (821), scheme_management (969), scheme_name (7092), permit (737)\n",
      "Train Empty Cols: funder (3635), installer (3655), subvillage (371), public_meeting (3334), scheme_management (3877), scheme_name (28166), permit (3056)\n"
     ]
    }
   ],
   "source": [
    "print('Test Empty Cols :{0}'.format(', '.join(['{0} ({1})'.format(k,v) for k,v in test_empty_cols.items()])))\n",
    "print('Train Empty Cols: {0}'.format(', '.join(['{0} ({1})'.format(k,v) for k,v in train_empty_cols.items()])))"
   ]
  },
  {
   "cell_type": "code",
   "execution_count": 415,
   "metadata": {
    "colab": {
     "base_uri": "https://localhost:8080/"
    },
    "id": "JQf73xAtS_Na",
    "outputId": "8202be52-c5b4-4903-b870-74f8e3ef5e06"
   },
   "outputs": [
    {
     "name": "stdout",
     "output_type": "stream",
     "text": [
      "<class 'pandas.core.frame.DataFrame'>\n",
      "Int64Index: 14850 entries, 50785 to 68707\n",
      "Data columns (total 34 columns):\n",
      " #   Column                 Non-Null Count  Dtype  \n",
      "---  ------                 --------------  -----  \n",
      " 0   amount_tsh             14850 non-null  float64\n",
      " 1   date_recorded          14850 non-null  int64  \n",
      " 2   funder                 13981 non-null  object \n",
      " 3   gps_height             14850 non-null  int64  \n",
      " 4   installer              13973 non-null  object \n",
      " 5   longitude              14850 non-null  float64\n",
      " 6   latitude               14850 non-null  float64\n",
      " 7   wpt_name               14850 non-null  object \n",
      " 8   num_private            14850 non-null  int64  \n",
      " 9   basin                  14850 non-null  object \n",
      " 10  subvillage             14751 non-null  object \n",
      " 11  region                 14850 non-null  object \n",
      " 12  district_code          14850 non-null  int64  \n",
      " 13  lga                    14850 non-null  object \n",
      " 14  ward                   14850 non-null  object \n",
      " 15  population             14850 non-null  int64  \n",
      " 16  public_meeting         14029 non-null  object \n",
      " 17  scheme_management      13881 non-null  object \n",
      " 18  scheme_name            7758 non-null   object \n",
      " 19  permit                 14113 non-null  object \n",
      " 20  construction_year      14850 non-null  int64  \n",
      " 21  extraction_type_group  14850 non-null  object \n",
      " 22  extraction_type_class  14850 non-null  object \n",
      " 23  management             14850 non-null  object \n",
      " 24  management_group       14850 non-null  object \n",
      " 25  payment_type           14850 non-null  object \n",
      " 26  water_quality          14850 non-null  object \n",
      " 27  quality_group          14850 non-null  object \n",
      " 28  quantity               14850 non-null  object \n",
      " 29  quantity_group         14850 non-null  object \n",
      " 30  source                 14850 non-null  object \n",
      " 31  source_type            14850 non-null  object \n",
      " 32  waterpoint_type        14850 non-null  object \n",
      " 33  waterpoint_type_group  14850 non-null  object \n",
      "dtypes: float64(3), int64(6), object(25)\n",
      "memory usage: 4.0+ MB\n"
     ]
    }
   ],
   "source": [
    "test_data.info()"
   ]
  },
  {
   "cell_type": "markdown",
   "metadata": {
    "id": "FOwnF65Vf2_R"
   },
   "source": [
    "Notes:\n",
    "* Quantity and Quantity Group Are Duplicated\n",
    "* Payment and Payment Type are highly correlated(has same-ish data)\n",
    "* Same as above with quality and quality group\n",
    "* Source type and class are also highly correlated. But seems like a hierarchical relationship - Using source type will probalby help capture more intricate patterns\n",
    "* waterpoint_type_group and waterpoint are the same except in just waterpoint_type communal pipe is split to multiple and single? - this division seems useful "
   ]
  },
  {
   "cell_type": "code",
   "execution_count": 416,
   "metadata": {
    "colab": {
     "base_uri": "https://localhost:8080/",
     "height": 383
    },
    "id": "gM-eXeDtvaJS",
    "outputId": "c75280e8-ceae-4c62-9980-c6f0cf1b2ae5"
   },
   "outputs": [
    {
     "data": {
      "text/html": [
       "<div>\n",
       "<style scoped>\n",
       "    .dataframe tbody tr th:only-of-type {\n",
       "        vertical-align: middle;\n",
       "    }\n",
       "\n",
       "    .dataframe tbody tr th {\n",
       "        vertical-align: top;\n",
       "    }\n",
       "\n",
       "    .dataframe thead th {\n",
       "        text-align: right;\n",
       "    }\n",
       "</style>\n",
       "<table border=\"1\" class=\"dataframe\">\n",
       "  <thead>\n",
       "    <tr style=\"text-align: right;\">\n",
       "      <th></th>\n",
       "      <th>amount_tsh</th>\n",
       "      <th>date_recorded</th>\n",
       "      <th>funder</th>\n",
       "      <th>gps_height</th>\n",
       "      <th>installer</th>\n",
       "      <th>longitude</th>\n",
       "      <th>latitude</th>\n",
       "      <th>wpt_name</th>\n",
       "      <th>num_private</th>\n",
       "      <th>basin</th>\n",
       "      <th>...</th>\n",
       "      <th>management_group</th>\n",
       "      <th>payment_type</th>\n",
       "      <th>water_quality</th>\n",
       "      <th>quality_group</th>\n",
       "      <th>quantity</th>\n",
       "      <th>quantity_group</th>\n",
       "      <th>source</th>\n",
       "      <th>source_type</th>\n",
       "      <th>waterpoint_type</th>\n",
       "      <th>waterpoint_type_group</th>\n",
       "    </tr>\n",
       "  </thead>\n",
       "  <tbody>\n",
       "    <tr>\n",
       "      <th>57632</th>\n",
       "      <td>0.0</td>\n",
       "      <td>1364256000</td>\n",
       "      <td>worldvision</td>\n",
       "      <td>1760</td>\n",
       "      <td>dwe</td>\n",
       "      <td>36.637839</td>\n",
       "      <td>-3.256301</td>\n",
       "      <td>kwakipila</td>\n",
       "      <td>0</td>\n",
       "      <td>pangani</td>\n",
       "      <td>...</td>\n",
       "      <td>usergroup</td>\n",
       "      <td>neverpay</td>\n",
       "      <td>soft</td>\n",
       "      <td>good</td>\n",
       "      <td>enough</td>\n",
       "      <td>enough</td>\n",
       "      <td>spring</td>\n",
       "      <td>spring</td>\n",
       "      <td>other</td>\n",
       "      <td>other</td>\n",
       "    </tr>\n",
       "    <tr>\n",
       "      <th>15500</th>\n",
       "      <td>0.0</td>\n",
       "      <td>1300233600</td>\n",
       "      <td>planint</td>\n",
       "      <td>222</td>\n",
       "      <td>dwe</td>\n",
       "      <td>36.684915</td>\n",
       "      <td>-8.148777</td>\n",
       "      <td>kwamisama</td>\n",
       "      <td>0</td>\n",
       "      <td>rufiji</td>\n",
       "      <td>...</td>\n",
       "      <td>usergroup</td>\n",
       "      <td>neverpay</td>\n",
       "      <td>soft</td>\n",
       "      <td>good</td>\n",
       "      <td>seasonal</td>\n",
       "      <td>seasonal</td>\n",
       "      <td>machinedbh</td>\n",
       "      <td>borehole</td>\n",
       "      <td>communalstandpipe</td>\n",
       "      <td>communalstandpipe</td>\n",
       "    </tr>\n",
       "    <tr>\n",
       "      <th>58319</th>\n",
       "      <td>0.0</td>\n",
       "      <td>1310601600</td>\n",
       "      <td>oxfam</td>\n",
       "      <td>0</td>\n",
       "      <td>oxfam</td>\n",
       "      <td>30.820955</td>\n",
       "      <td>-2.414278</td>\n",
       "      <td>kwadaud</td>\n",
       "      <td>0</td>\n",
       "      <td>lakevictoria</td>\n",
       "      <td>...</td>\n",
       "      <td>usergroup</td>\n",
       "      <td>monthly</td>\n",
       "      <td>soft</td>\n",
       "      <td>good</td>\n",
       "      <td>enough</td>\n",
       "      <td>enough</td>\n",
       "      <td>spring</td>\n",
       "      <td>spring</td>\n",
       "      <td>communalstandpipe</td>\n",
       "      <td>communalstandpipe</td>\n",
       "    </tr>\n",
       "    <tr>\n",
       "      <th>46902</th>\n",
       "      <td>500.0</td>\n",
       "      <td>1300924800</td>\n",
       "      <td>co</td>\n",
       "      <td>314</td>\n",
       "      <td>co</td>\n",
       "      <td>36.996448</td>\n",
       "      <td>-7.592231</td>\n",
       "      <td>kwamadumla</td>\n",
       "      <td>0</td>\n",
       "      <td>rufiji</td>\n",
       "      <td>...</td>\n",
       "      <td>usergroup</td>\n",
       "      <td>onfailure</td>\n",
       "      <td>soft</td>\n",
       "      <td>good</td>\n",
       "      <td>enough</td>\n",
       "      <td>enough</td>\n",
       "      <td>river</td>\n",
       "      <td>river/lake</td>\n",
       "      <td>communalstandpipe</td>\n",
       "      <td>communalstandpipe</td>\n",
       "    </tr>\n",
       "    <tr>\n",
       "      <th>41459</th>\n",
       "      <td>0.0</td>\n",
       "      <td>1358985600</td>\n",
       "      <td>serikali</td>\n",
       "      <td>19</td>\n",
       "      <td>serikaliyakijiji</td>\n",
       "      <td>39.569523</td>\n",
       "      <td>-10.021226</td>\n",
       "      <td>kwanjumba</td>\n",
       "      <td>0</td>\n",
       "      <td>ruvuma/southerncoast</td>\n",
       "      <td>...</td>\n",
       "      <td>usergroup</td>\n",
       "      <td>unknown</td>\n",
       "      <td>soft</td>\n",
       "      <td>good</td>\n",
       "      <td>enough</td>\n",
       "      <td>enough</td>\n",
       "      <td>shallowwell</td>\n",
       "      <td>shallowwell</td>\n",
       "      <td>other</td>\n",
       "      <td>other</td>\n",
       "    </tr>\n",
       "    <tr>\n",
       "      <th>40358</th>\n",
       "      <td>0.0</td>\n",
       "      <td>1358812800</td>\n",
       "      <td>lga</td>\n",
       "      <td>371</td>\n",
       "      <td>lga</td>\n",
       "      <td>38.672733</td>\n",
       "      <td>-10.526459</td>\n",
       "      <td>balozi</td>\n",
       "      <td>0</td>\n",
       "      <td>ruvuma/southerncoast</td>\n",
       "      <td>...</td>\n",
       "      <td>usergroup</td>\n",
       "      <td>unknown</td>\n",
       "      <td>saltyabandoned</td>\n",
       "      <td>salty</td>\n",
       "      <td>dry</td>\n",
       "      <td>dry</td>\n",
       "      <td>machinedbh</td>\n",
       "      <td>borehole</td>\n",
       "      <td>handpump</td>\n",
       "      <td>handpump</td>\n",
       "    </tr>\n",
       "    <tr>\n",
       "      <th>47821</th>\n",
       "      <td>20.0</td>\n",
       "      <td>1359331200</td>\n",
       "      <td>gen</td>\n",
       "      <td>44</td>\n",
       "      <td>gen</td>\n",
       "      <td>39.573541</td>\n",
       "      <td>-9.809472</td>\n",
       "      <td>bombani</td>\n",
       "      <td>0</td>\n",
       "      <td>ruvuma/southerncoast</td>\n",
       "      <td>...</td>\n",
       "      <td>usergroup</td>\n",
       "      <td>perbucket</td>\n",
       "      <td>salty</td>\n",
       "      <td>salty</td>\n",
       "      <td>enough</td>\n",
       "      <td>enough</td>\n",
       "      <td>machinedbh</td>\n",
       "      <td>borehole</td>\n",
       "      <td>handpump</td>\n",
       "      <td>handpump</td>\n",
       "    </tr>\n",
       "    <tr>\n",
       "      <th>22117</th>\n",
       "      <td>0.0</td>\n",
       "      <td>1359590400</td>\n",
       "      <td>NaN</td>\n",
       "      <td>1558</td>\n",
       "      <td>NaN</td>\n",
       "      <td>34.731132</td>\n",
       "      <td>-4.999422</td>\n",
       "      <td>julias</td>\n",
       "      <td>0</td>\n",
       "      <td>internal</td>\n",
       "      <td>...</td>\n",
       "      <td>usergroup</td>\n",
       "      <td>unknown</td>\n",
       "      <td>unknown</td>\n",
       "      <td>unknown</td>\n",
       "      <td>dry</td>\n",
       "      <td>dry</td>\n",
       "      <td>shallowwell</td>\n",
       "      <td>shallowwell</td>\n",
       "      <td>other</td>\n",
       "      <td>other</td>\n",
       "    </tr>\n",
       "    <tr>\n",
       "      <th>2978</th>\n",
       "      <td>7.0</td>\n",
       "      <td>1363737600</td>\n",
       "      <td>germanyrepubli</td>\n",
       "      <td>1211</td>\n",
       "      <td>ces</td>\n",
       "      <td>37.225361</td>\n",
       "      <td>-3.259110</td>\n",
       "      <td>harambeesekondari</td>\n",
       "      <td>0</td>\n",
       "      <td>pangani</td>\n",
       "      <td>...</td>\n",
       "      <td>usergroup</td>\n",
       "      <td>perbucket</td>\n",
       "      <td>soft</td>\n",
       "      <td>good</td>\n",
       "      <td>enough</td>\n",
       "      <td>enough</td>\n",
       "      <td>spring</td>\n",
       "      <td>spring</td>\n",
       "      <td>communalstandpipe</td>\n",
       "      <td>communalstandpipe</td>\n",
       "    </tr>\n",
       "    <tr>\n",
       "      <th>20739</th>\n",
       "      <td>200.0</td>\n",
       "      <td>1299628800</td>\n",
       "      <td>anglicanchurch</td>\n",
       "      <td>1767</td>\n",
       "      <td>angli</td>\n",
       "      <td>34.590898</td>\n",
       "      <td>-9.786536</td>\n",
       "      <td>none</td>\n",
       "      <td>0</td>\n",
       "      <td>lakenyasa</td>\n",
       "      <td>...</td>\n",
       "      <td>usergroup</td>\n",
       "      <td>monthly</td>\n",
       "      <td>soft</td>\n",
       "      <td>good</td>\n",
       "      <td>enough</td>\n",
       "      <td>enough</td>\n",
       "      <td>river</td>\n",
       "      <td>river/lake</td>\n",
       "      <td>communalstandpipe</td>\n",
       "      <td>communalstandpipe</td>\n",
       "    </tr>\n",
       "  </tbody>\n",
       "</table>\n",
       "<p>10 rows × 34 columns</p>\n",
       "</div>"
      ],
      "text/plain": [
       "       amount_tsh  date_recorded          funder  gps_height  \\\n",
       "57632         0.0     1364256000     worldvision        1760   \n",
       "15500         0.0     1300233600         planint         222   \n",
       "58319         0.0     1310601600           oxfam           0   \n",
       "46902       500.0     1300924800              co         314   \n",
       "41459         0.0     1358985600        serikali          19   \n",
       "40358         0.0     1358812800             lga         371   \n",
       "47821        20.0     1359331200             gen          44   \n",
       "22117         0.0     1359590400             NaN        1558   \n",
       "2978          7.0     1363737600  germanyrepubli        1211   \n",
       "20739       200.0     1299628800  anglicanchurch        1767   \n",
       "\n",
       "              installer  longitude   latitude           wpt_name  num_private  \\\n",
       "57632               dwe  36.637839  -3.256301          kwakipila            0   \n",
       "15500               dwe  36.684915  -8.148777          kwamisama            0   \n",
       "58319             oxfam  30.820955  -2.414278            kwadaud            0   \n",
       "46902                co  36.996448  -7.592231         kwamadumla            0   \n",
       "41459  serikaliyakijiji  39.569523 -10.021226          kwanjumba            0   \n",
       "40358               lga  38.672733 -10.526459             balozi            0   \n",
       "47821               gen  39.573541  -9.809472            bombani            0   \n",
       "22117               NaN  34.731132  -4.999422             julias            0   \n",
       "2978                ces  37.225361  -3.259110  harambeesekondari            0   \n",
       "20739             angli  34.590898  -9.786536               none            0   \n",
       "\n",
       "                      basin  ... management_group payment_type  \\\n",
       "57632               pangani  ...        usergroup     neverpay   \n",
       "15500                rufiji  ...        usergroup     neverpay   \n",
       "58319          lakevictoria  ...        usergroup      monthly   \n",
       "46902                rufiji  ...        usergroup    onfailure   \n",
       "41459  ruvuma/southerncoast  ...        usergroup      unknown   \n",
       "40358  ruvuma/southerncoast  ...        usergroup      unknown   \n",
       "47821  ruvuma/southerncoast  ...        usergroup    perbucket   \n",
       "22117              internal  ...        usergroup      unknown   \n",
       "2978                pangani  ...        usergroup    perbucket   \n",
       "20739             lakenyasa  ...        usergroup      monthly   \n",
       "\n",
       "        water_quality quality_group  quantity  quantity_group       source  \\\n",
       "57632            soft          good    enough          enough       spring   \n",
       "15500            soft          good  seasonal        seasonal   machinedbh   \n",
       "58319            soft          good    enough          enough       spring   \n",
       "46902            soft          good    enough          enough        river   \n",
       "41459            soft          good    enough          enough  shallowwell   \n",
       "40358  saltyabandoned         salty       dry             dry   machinedbh   \n",
       "47821           salty         salty    enough          enough   machinedbh   \n",
       "22117         unknown       unknown       dry             dry  shallowwell   \n",
       "2978             soft          good    enough          enough       spring   \n",
       "20739            soft          good    enough          enough        river   \n",
       "\n",
       "       source_type    waterpoint_type waterpoint_type_group  \n",
       "57632       spring              other                 other  \n",
       "15500     borehole  communalstandpipe     communalstandpipe  \n",
       "58319       spring  communalstandpipe     communalstandpipe  \n",
       "46902   river/lake  communalstandpipe     communalstandpipe  \n",
       "41459  shallowwell              other                 other  \n",
       "40358     borehole           handpump              handpump  \n",
       "47821     borehole           handpump              handpump  \n",
       "22117  shallowwell              other                 other  \n",
       "2978        spring  communalstandpipe     communalstandpipe  \n",
       "20739   river/lake  communalstandpipe     communalstandpipe  \n",
       "\n",
       "[10 rows x 34 columns]"
      ]
     },
     "execution_count": 416,
     "metadata": {},
     "output_type": "execute_result"
    }
   ],
   "source": [
    "X.sample(10)"
   ]
  },
  {
   "cell_type": "code",
   "execution_count": 417,
   "metadata": {
    "colab": {
     "base_uri": "https://localhost:8080/"
    },
    "id": "tU6VkueDD45S",
    "outputId": "7d2f70a8-5235-43fb-f49b-35cf457f83e4"
   },
   "outputs": [
    {
     "name": "stdout",
     "output_type": "stream",
     "text": [
      "<class 'pandas.core.frame.DataFrame'>\n",
      "RangeIndex: 59400 entries, 0 to 59399\n",
      "Data columns (total 34 columns):\n",
      " #   Column                 Non-Null Count  Dtype  \n",
      "---  ------                 --------------  -----  \n",
      " 0   amount_tsh             59400 non-null  float64\n",
      " 1   date_recorded          59400 non-null  int64  \n",
      " 2   funder                 55765 non-null  object \n",
      " 3   gps_height             59400 non-null  int64  \n",
      " 4   installer              55745 non-null  object \n",
      " 5   longitude              59400 non-null  float64\n",
      " 6   latitude               59400 non-null  float64\n",
      " 7   wpt_name               59400 non-null  object \n",
      " 8   num_private            59400 non-null  int64  \n",
      " 9   basin                  59400 non-null  object \n",
      " 10  subvillage             59029 non-null  object \n",
      " 11  region                 59400 non-null  object \n",
      " 12  district_code          59400 non-null  int64  \n",
      " 13  lga                    59400 non-null  object \n",
      " 14  ward                   59400 non-null  object \n",
      " 15  population             59400 non-null  int64  \n",
      " 16  public_meeting         56066 non-null  object \n",
      " 17  scheme_management      55523 non-null  object \n",
      " 18  scheme_name            31234 non-null  object \n",
      " 19  permit                 56344 non-null  object \n",
      " 20  construction_year      59400 non-null  int64  \n",
      " 21  extraction_type_group  59400 non-null  object \n",
      " 22  extraction_type_class  59400 non-null  object \n",
      " 23  management             59400 non-null  object \n",
      " 24  management_group       59400 non-null  object \n",
      " 25  payment_type           59400 non-null  object \n",
      " 26  water_quality          59400 non-null  object \n",
      " 27  quality_group          59400 non-null  object \n",
      " 28  quantity               59400 non-null  object \n",
      " 29  quantity_group         59400 non-null  object \n",
      " 30  source                 59400 non-null  object \n",
      " 31  source_type            59400 non-null  object \n",
      " 32  waterpoint_type        59400 non-null  object \n",
      " 33  waterpoint_type_group  59400 non-null  object \n",
      "dtypes: float64(3), int64(6), object(25)\n",
      "memory usage: 15.4+ MB\n"
     ]
    }
   ],
   "source": [
    "X.info()"
   ]
  },
  {
   "cell_type": "code",
   "execution_count": 418,
   "metadata": {
    "colab": {
     "base_uri": "https://localhost:8080/",
     "height": 300
    },
    "id": "ild_bdx1D8Ni",
    "outputId": "6a535c6b-92ac-4dec-b953-8f4e7317827b"
   },
   "outputs": [
    {
     "data": {
      "text/html": [
       "<div>\n",
       "<style scoped>\n",
       "    .dataframe tbody tr th:only-of-type {\n",
       "        vertical-align: middle;\n",
       "    }\n",
       "\n",
       "    .dataframe tbody tr th {\n",
       "        vertical-align: top;\n",
       "    }\n",
       "\n",
       "    .dataframe thead th {\n",
       "        text-align: right;\n",
       "    }\n",
       "</style>\n",
       "<table border=\"1\" class=\"dataframe\">\n",
       "  <thead>\n",
       "    <tr style=\"text-align: right;\">\n",
       "      <th></th>\n",
       "      <th>amount_tsh</th>\n",
       "      <th>date_recorded</th>\n",
       "      <th>gps_height</th>\n",
       "      <th>longitude</th>\n",
       "      <th>latitude</th>\n",
       "      <th>num_private</th>\n",
       "      <th>district_code</th>\n",
       "      <th>population</th>\n",
       "      <th>construction_year</th>\n",
       "    </tr>\n",
       "  </thead>\n",
       "  <tbody>\n",
       "    <tr>\n",
       "      <th>count</th>\n",
       "      <td>59400.000000</td>\n",
       "      <td>5.940000e+04</td>\n",
       "      <td>59400.000000</td>\n",
       "      <td>59400.000000</td>\n",
       "      <td>5.940000e+04</td>\n",
       "      <td>59400.000000</td>\n",
       "      <td>59400.000000</td>\n",
       "      <td>59400.000000</td>\n",
       "      <td>59400.000000</td>\n",
       "    </tr>\n",
       "    <tr>\n",
       "      <th>mean</th>\n",
       "      <td>317.650385</td>\n",
       "      <td>1.333012e+09</td>\n",
       "      <td>668.297239</td>\n",
       "      <td>34.077427</td>\n",
       "      <td>-5.706033e+00</td>\n",
       "      <td>0.474141</td>\n",
       "      <td>5.629747</td>\n",
       "      <td>179.909983</td>\n",
       "      <td>1300.652475</td>\n",
       "    </tr>\n",
       "    <tr>\n",
       "      <th>std</th>\n",
       "      <td>2997.574558</td>\n",
       "      <td>2.887629e+07</td>\n",
       "      <td>693.116350</td>\n",
       "      <td>6.567432</td>\n",
       "      <td>2.946019e+00</td>\n",
       "      <td>12.236230</td>\n",
       "      <td>9.633649</td>\n",
       "      <td>471.482176</td>\n",
       "      <td>951.620547</td>\n",
       "    </tr>\n",
       "    <tr>\n",
       "      <th>min</th>\n",
       "      <td>0.000000</td>\n",
       "      <td>1.034554e+09</td>\n",
       "      <td>-90.000000</td>\n",
       "      <td>0.000000</td>\n",
       "      <td>-1.164944e+01</td>\n",
       "      <td>0.000000</td>\n",
       "      <td>0.000000</td>\n",
       "      <td>0.000000</td>\n",
       "      <td>0.000000</td>\n",
       "    </tr>\n",
       "    <tr>\n",
       "      <th>25%</th>\n",
       "      <td>0.000000</td>\n",
       "      <td>1.301616e+09</td>\n",
       "      <td>0.000000</td>\n",
       "      <td>33.090347</td>\n",
       "      <td>-8.540621e+00</td>\n",
       "      <td>0.000000</td>\n",
       "      <td>2.000000</td>\n",
       "      <td>0.000000</td>\n",
       "      <td>0.000000</td>\n",
       "    </tr>\n",
       "    <tr>\n",
       "      <th>50%</th>\n",
       "      <td>0.000000</td>\n",
       "      <td>1.349827e+09</td>\n",
       "      <td>369.000000</td>\n",
       "      <td>34.908743</td>\n",
       "      <td>-5.021597e+00</td>\n",
       "      <td>0.000000</td>\n",
       "      <td>3.000000</td>\n",
       "      <td>25.000000</td>\n",
       "      <td>1986.000000</td>\n",
       "    </tr>\n",
       "    <tr>\n",
       "      <th>75%</th>\n",
       "      <td>20.000000</td>\n",
       "      <td>1.360368e+09</td>\n",
       "      <td>1319.250000</td>\n",
       "      <td>37.178387</td>\n",
       "      <td>-3.326156e+00</td>\n",
       "      <td>0.000000</td>\n",
       "      <td>5.000000</td>\n",
       "      <td>215.000000</td>\n",
       "      <td>2004.000000</td>\n",
       "    </tr>\n",
       "    <tr>\n",
       "      <th>max</th>\n",
       "      <td>350000.000000</td>\n",
       "      <td>1.386029e+09</td>\n",
       "      <td>2770.000000</td>\n",
       "      <td>40.345193</td>\n",
       "      <td>-2.000000e-08</td>\n",
       "      <td>1776.000000</td>\n",
       "      <td>80.000000</td>\n",
       "      <td>30500.000000</td>\n",
       "      <td>2013.000000</td>\n",
       "    </tr>\n",
       "  </tbody>\n",
       "</table>\n",
       "</div>"
      ],
      "text/plain": [
       "          amount_tsh  date_recorded    gps_height     longitude      latitude  \\\n",
       "count   59400.000000   5.940000e+04  59400.000000  59400.000000  5.940000e+04   \n",
       "mean      317.650385   1.333012e+09    668.297239     34.077427 -5.706033e+00   \n",
       "std      2997.574558   2.887629e+07    693.116350      6.567432  2.946019e+00   \n",
       "min         0.000000   1.034554e+09    -90.000000      0.000000 -1.164944e+01   \n",
       "25%         0.000000   1.301616e+09      0.000000     33.090347 -8.540621e+00   \n",
       "50%         0.000000   1.349827e+09    369.000000     34.908743 -5.021597e+00   \n",
       "75%        20.000000   1.360368e+09   1319.250000     37.178387 -3.326156e+00   \n",
       "max    350000.000000   1.386029e+09   2770.000000     40.345193 -2.000000e-08   \n",
       "\n",
       "        num_private  district_code    population  construction_year  \n",
       "count  59400.000000   59400.000000  59400.000000       59400.000000  \n",
       "mean       0.474141       5.629747    179.909983        1300.652475  \n",
       "std       12.236230       9.633649    471.482176         951.620547  \n",
       "min        0.000000       0.000000      0.000000           0.000000  \n",
       "25%        0.000000       2.000000      0.000000           0.000000  \n",
       "50%        0.000000       3.000000     25.000000        1986.000000  \n",
       "75%        0.000000       5.000000    215.000000        2004.000000  \n",
       "max     1776.000000      80.000000  30500.000000        2013.000000  "
      ]
     },
     "execution_count": 418,
     "metadata": {},
     "output_type": "execute_result"
    }
   ],
   "source": [
    "X.describe()"
   ]
  },
  {
   "cell_type": "code",
   "execution_count": 420,
   "metadata": {
    "colab": {
     "base_uri": "https://localhost:8080/"
    },
    "id": "-_3gt6d0JKqi",
    "outputId": "b1468e40-da9e-44bc-8abb-7065ffe7d3b7"
   },
   "outputs": [
    {
     "data": {
      "text/plain": [
       "['funder',\n",
       " 'installer',\n",
       " 'wpt_name',\n",
       " 'basin',\n",
       " 'subvillage',\n",
       " 'region',\n",
       " 'lga',\n",
       " 'ward',\n",
       " 'scheme_management',\n",
       " 'scheme_name',\n",
       " 'extraction_type_group',\n",
       " 'extraction_type_class',\n",
       " 'management',\n",
       " 'management_group',\n",
       " 'payment_type',\n",
       " 'water_quality',\n",
       " 'quality_group',\n",
       " 'quantity',\n",
       " 'quantity_group',\n",
       " 'source',\n",
       " 'source_type',\n",
       " 'waterpoint_type',\n",
       " 'waterpoint_type_group']"
      ]
     },
     "execution_count": 420,
     "metadata": {},
     "output_type": "execute_result"
    }
   ],
   "source": [
    "non_num_cols"
   ]
  },
  {
   "cell_type": "code",
   "execution_count": 421,
   "metadata": {
    "colab": {
     "base_uri": "https://localhost:8080/"
    },
    "id": "uoqSwemjdXA4",
    "outputId": "f21e5335-19f2-451a-ad29-03aba547ed40"
   },
   "outputs": [
    {
     "name": "stdout",
     "output_type": "stream",
     "text": [
      "management_group 5\n",
      "quantity 5\n",
      "quantity_group 5\n",
      "quality_group 6\n",
      "waterpoint_type_group 6\n",
      "extraction_type_class 7\n",
      "payment_type 7\n",
      "source_type 7\n",
      "waterpoint_type 7\n",
      "water_quality 8\n",
      "basin 9\n",
      "source 10\n",
      "scheme_management 12\n",
      "management 12\n",
      "extraction_type_group 13\n",
      "region 21\n",
      "lga 125\n",
      "funder 1874\n",
      "installer 1878\n",
      "ward 2090\n",
      "scheme_name 2491\n",
      "subvillage 19186\n",
      "wpt_name 36940\n",
      "[None, None, None, None, None, None, None, None, None, None, None, None, None, None, None, None, None, None, None, None, None, None, None]\n"
     ]
    }
   ],
   "source": [
    "value_count_list = []\n",
    "for c in non_num_cols:\n",
    "  value_count_list.append((c, len(X[c].value_counts())))\n",
    "print([print(x,y) for x,y in sorted(value_count_list, key=lambda x: x[1])])"
   ]
  },
  {
   "cell_type": "code",
   "execution_count": 422,
   "metadata": {
    "colab": {
     "base_uri": "https://localhost:8080/"
    },
    "id": "2XbcBsBSKHSQ",
    "outputId": "2257f171-b24c-4cf4-864e-3ab582a9f175"
   },
   "outputs": [
    {
     "name": "stdout",
     "output_type": "stream",
     "text": [
      "governmentoftanzania    9084\n",
      "danida                  3114\n",
      "hesawa                  2202\n",
      "rwssp                   1374\n",
      "worldbank               1349\n",
      "                        ... \n",
      "tadeo                      1\n",
      "wamembiki                  1\n",
      "isf/tasaff                 1\n",
      "netherla                   1\n",
      "gg                         1\n",
      "Name: funder, Length: 1874, dtype: int64\n",
      "\n",
      "-----\n",
      "dwe             17407\n",
      "government       1891\n",
      "hesawa           1395\n",
      "rwe              1206\n",
      "commu            1065\n",
      "                ...  \n",
      "dannida             1\n",
      "tasf                1\n",
      "yohanismgaya        1\n",
      "hashi               1\n",
      "christopher         1\n",
      "Name: installer, Length: 1878, dtype: int64\n",
      "\n",
      "-----\n",
      "none                 3565\n",
      "shuleni              1748\n",
      "zahanati              830\n",
      "msikitini             535\n",
      "kanisani              323\n",
      "                     ... \n",
      "mpenvyi                 1\n",
      "kwamhan                 1\n",
      "kwapetermshanga         1\n",
      "kwamatataibrahim2       1\n",
      "kwakayombonelson        1\n",
      "Name: wpt_name, Length: 36940, dtype: int64\n",
      "\n",
      "-----\n",
      "lakevictoria            10248\n",
      "pangani                  8940\n",
      "rufiji                   7976\n",
      "internal                 7785\n",
      "laketanganyika           6432\n",
      "wami/ruvu                5987\n",
      "lakenyasa                5085\n",
      "ruvuma/southerncoast     4493\n",
      "lakerukwa                2454\n",
      "Name: basin, dtype: int64\n",
      "\n",
      "-----\n",
      "madukani      508\n",
      "shuleni       507\n",
      "majengo       502\n",
      "kati          373\n",
      "mtakuja       262\n",
      "             ... \n",
      "mgamab          1\n",
      "mpingu          1\n",
      "chanemba        1\n",
      "mwamashele      1\n",
      "yandauku        1\n",
      "Name: subvillage, Length: 19186, dtype: int64\n",
      "\n",
      "-----\n",
      "iringa         5294\n",
      "shinyanga      4982\n",
      "mbeya          4639\n",
      "kilimanjaro    4379\n",
      "morogoro       4006\n",
      "arusha         3350\n",
      "kagera         3316\n",
      "mwanza         3102\n",
      "kigoma         2816\n",
      "ruvuma         2640\n",
      "pwani          2635\n",
      "tanga          2547\n",
      "dodoma         2201\n",
      "singida        2093\n",
      "mara           1969\n",
      "tabora         1959\n",
      "rukwa          1808\n",
      "mtwara         1730\n",
      "manyara        1583\n",
      "lindi          1546\n",
      "daressalaam     805\n",
      "Name: region, dtype: int64\n",
      "\n",
      "-----\n",
      "njombe         2503\n",
      "arusharural    1252\n",
      "moshirural     1251\n",
      "bariadi        1177\n",
      "rungwe         1106\n",
      "               ... \n",
      "moshiurban       79\n",
      "kigomaurban      71\n",
      "arushaurban      63\n",
      "lindiurban       21\n",
      "nyamagana         1\n",
      "Name: lga, Length: 125, dtype: int64\n",
      "\n",
      "-----\n",
      "igosi        307\n",
      "imalinyi     252\n",
      "sihakati     232\n",
      "mdandu       231\n",
      "nduruma      217\n",
      "            ... \n",
      "ukata          1\n",
      "matarawe       1\n",
      "burungura      1\n",
      "izia           1\n",
      "mitole         1\n",
      "Name: ward, Length: 2090, dtype: int64\n",
      "\n",
      "-----\n",
      "vwc                36793\n",
      "wug                 5206\n",
      "waterauthority      3153\n",
      "wua                 2883\n",
      "waterboard          2748\n",
      "parastatal          1680\n",
      "privateoperator     1063\n",
      "company             1061\n",
      "other                766\n",
      "swc                   97\n",
      "trust                 72\n",
      "none                   1\n",
      "Name: scheme_management, dtype: int64\n",
      "\n",
      "-----\n",
      "k                       685\n",
      "none                    669\n",
      "borehole                551\n",
      "chalinzewate            406\n",
      "m                       400\n",
      "                       ... \n",
      "mfumbo                    1\n",
      "halewatersuppy            1\n",
      "nyashimo                  1\n",
      "mrunyinaspringsource      1\n",
      "submersible               1\n",
      "Name: scheme_name, Length: 2491, dtype: int64\n",
      "\n",
      "-----\n",
      "gravity           26780\n",
      "nira/tanira        8154\n",
      "other              6430\n",
      "submersible        6179\n",
      "swn80              3670\n",
      "mono               2865\n",
      "indiamarkii        2400\n",
      "afridev            1770\n",
      "ropepump            451\n",
      "otherhandpump       364\n",
      "othermotorpump      122\n",
      "windpowered         117\n",
      "indiamarkiii         98\n",
      "Name: extraction_type_group, dtype: int64\n",
      "\n",
      "-----\n",
      "gravity        26780\n",
      "handpump       16456\n",
      "other           6430\n",
      "submersible     6179\n",
      "motorpump       2987\n",
      "ropepump         451\n",
      "windpowered      117\n",
      "Name: extraction_type_class, dtype: int64\n",
      "\n",
      "-----\n",
      "vwc                40507\n",
      "wug                 6515\n",
      "waterboard          2933\n",
      "wua                 2535\n",
      "privateoperator     1971\n",
      "parastatal          1768\n",
      "waterauthority       904\n",
      "other                844\n",
      "company              685\n",
      "unknown              561\n",
      "otherschool           99\n",
      "trust                 78\n",
      "Name: management, dtype: int64\n",
      "\n",
      "-----\n",
      "usergroup     52490\n",
      "commercial     3638\n",
      "parastatal     1768\n",
      "other           943\n",
      "unknown         561\n",
      "Name: management_group, dtype: int64\n",
      "\n",
      "-----\n",
      "neverpay     25348\n",
      "perbucket     8985\n",
      "monthly       8300\n",
      "unknown       8157\n",
      "onfailure     3914\n",
      "annually      3642\n",
      "other         1054\n",
      "Name: payment_type, dtype: int64\n",
      "\n",
      "-----\n",
      "soft                 50818\n",
      "salty                 4856\n",
      "unknown               1876\n",
      "milky                  804\n",
      "coloured               490\n",
      "saltyabandoned         339\n",
      "fluoride               200\n",
      "fluorideabandoned       17\n",
      "Name: water_quality, dtype: int64\n",
      "\n",
      "-----\n",
      "good        50818\n",
      "salty        5195\n",
      "unknown      1876\n",
      "milky         804\n",
      "colored       490\n",
      "fluoride      217\n",
      "Name: quality_group, dtype: int64\n",
      "\n",
      "-----\n",
      "enough          33186\n",
      "insufficient    15129\n",
      "dry              6246\n",
      "seasonal         4050\n",
      "unknown           789\n",
      "Name: quantity, dtype: int64\n",
      "\n",
      "-----\n",
      "enough          33186\n",
      "insufficient    15129\n",
      "dry              6246\n",
      "seasonal         4050\n",
      "unknown           789\n",
      "Name: quantity_group, dtype: int64\n",
      "\n",
      "-----\n",
      "spring                 17021\n",
      "shallowwell            16824\n",
      "machinedbh             11075\n",
      "river                   9612\n",
      "rainwaterharvesting     2295\n",
      "handdtw                  874\n",
      "lake                     765\n",
      "dam                      656\n",
      "other                    212\n",
      "unknown                   66\n",
      "Name: source, dtype: int64\n",
      "\n",
      "-----\n",
      "spring                 17021\n",
      "shallowwell            16824\n",
      "borehole               11949\n",
      "river/lake             10377\n",
      "rainwaterharvesting     2295\n",
      "dam                      656\n",
      "other                    278\n",
      "Name: source_type, dtype: int64\n",
      "\n",
      "-----\n",
      "communalstandpipe            28522\n",
      "handpump                     17488\n",
      "other                         6380\n",
      "communalstandpipemultiple     6103\n",
      "improvedspring                 784\n",
      "cattletrough                   116\n",
      "dam                              7\n",
      "Name: waterpoint_type, dtype: int64\n",
      "\n",
      "-----\n",
      "communalstandpipe    34625\n",
      "handpump             17488\n",
      "other                 6380\n",
      "improvedspring         784\n",
      "cattletrough           116\n",
      "dam                      7\n",
      "Name: waterpoint_type_group, dtype: int64\n",
      "\n",
      "-----\n"
     ]
    }
   ],
   "source": [
    "for c in non_num_cols:\n",
    "  print(X[c].value_counts())\n",
    "  print()\n",
    "  print('-' * 5)"
   ]
  },
  {
   "cell_type": "code",
   "execution_count": 423,
   "metadata": {
    "id": "PT3HgOPRZgKz"
   },
   "outputs": [],
   "source": [
    "small = [x for x in non_num_cols if X[x].value_counts().count() <= 125]"
   ]
  },
  {
   "cell_type": "code",
   "execution_count": 424,
   "metadata": {},
   "outputs": [
    {
     "data": {
      "text/plain": [
       "array(['vwc', 'other', nan, 'privateoperator', 'wug', 'waterboard', 'wua',\n",
       "       'waterauthority', 'company', 'parastatal', 'trust', 'swc', 'none'],\n",
       "      dtype=object)"
      ]
     },
     "execution_count": 424,
     "metadata": {},
     "output_type": "execute_result"
    }
   ],
   "source": [
    "X['scheme_management'].unique()"
   ]
  },
  {
   "cell_type": "markdown",
   "metadata": {
    "id": "UdY1dnMIm-3a"
   },
   "source": [
    "Region code has too many  values (26) while tanzania has only 22 regions (https://en.wikipedia.org/wiki/Subdivisions_of_Tanzania)"
   ]
  },
  {
   "cell_type": "code",
   "execution_count": 445,
   "metadata": {
    "colab": {
     "base_uri": "https://localhost:8080/"
    },
    "id": "MUUvrYiSj0Cc",
    "outputId": "f92bc5d0-2c2a-414e-9cea-8a26167620c5"
   },
   "outputs": [
    {
     "data": {
      "text/plain": [
       "ccm    65\n",
       "nmc    25\n",
       "juu    25\n",
       "rc     20\n",
       "sia    12\n",
       "       ..\n",
       "43      1\n",
       "24b     1\n",
       "kwa     1\n",
       "18      1\n",
       "vuo     1\n",
       "Name: subvillage, Length: 98, dtype: int64"
      ]
     },
     "execution_count": 445,
     "metadata": {},
     "output_type": "execute_result"
    }
   ],
   "source": [
    "X[(2 <= X['subvillage'].str.len()) & (X['subvillage'].str.len()  <= 3)]['subvillage'].value_counts() \n",
    "#Subvillages with few character names exist"
   ]
  },
  {
   "cell_type": "markdown",
   "metadata": {
    "id": "QRtbRNz4co7Y"
   },
   "source": [
    "### Values in Test Set but not in training"
   ]
  },
  {
   "cell_type": "code",
   "execution_count": 446,
   "metadata": {
    "colab": {
     "base_uri": "https://localhost:8080/"
    },
    "id": "rAd8SHRLDPS4",
    "outputId": "3ed8f692-7f79-4127-d8f5-4a670b8354fa"
   },
   "outputs": [
    {
     "name": "stdout",
     "output_type": "stream",
     "text": [
      "Test set has 238 more values for column funder\n",
      "They are {'mama', 'mzeemoh', 'aveda', 'dedandpriva', 'menonite', 'wingetisafari', 'bandikakilewa', 'jumuiyayadaralber_uae', 'mwikalekurawateruser', 'kwacheonrotaryclub', 'kkktmso', 'kyagoka', 'magufudi', 'eagtchurch', 'mountmeruflowers', 'anrikana', 'patrickmarwa', 'ubaloziwamarekani/dwe', 'mapingaprima', 'goldfinder', 'sharot', 'mlifa', 'dolfproject', 'uwamalu', 'sikongecoppermi', 'jaic', 'matimosangi', 'uniceffinidagermantanzani', 'ulangac', 'jandu', 'aljazera', 'kanutehaule', 'bindizi', 'ramadhandau', 'moyowosi', 'mzeeshekhe', 'dwspd', 'pangaboihealthcentre', 'rulengediocese', 'oldbank', 'newyorkgeneralmeeting', 'friendsofbariadi', 'igwachanyaseco', 'tanzanianaegypt', 'uniceffinidagermantanzania', 'mbunngemkono', 'reginaldmengi', 'hemedislam', 'cuso', 'villager', 'odc', 'jieun', 'kanisalakkt', 'mkumbukwa', 'tanzaniaandegyptcooperat', 'othodoxchurch', 'toberandfriendsfromaustral', 'lakailo', 'grailmission', 'mosha', 'finlandgovernmentfinlandgov', 'servingandfriends', 'mons.', 'nyabasamba', 'maidiasimgaya', 'villagecommittee', 'h/kijiji', 'zaracamp', 'tz/japanembass', 'rubenhunting', 'childreach', 'saidaalf', 'particular', 'nyanokwi', 'salimaliamari', 'friendsofkahama', 'answar', 'villageauthority', 'heasawa', 'thedeskandchairfoundati', 'tanzania/australia', 'mosquebugula', 'omarydodo', 'shabanimharami', 'nicodemumkumbw', 'bingifoundationingerman', 'morrevian', 'mkukuta', 'ihehana', 'mzeeole', 'wateruserassociat', 'lugobaprimar', 'isaboga', 'canaco', 'mowi', 'mjakamtumwa', 'mzeechacha', 'daids', 'leefgoldmining', 'mwakipesile', 'lobosiretvillagecommunity', 'teakcom', 'isg', 'waingereza', 'migration', 'schoolcapital', 'shekhsaid', 'cppswat', 'kkktchurchs', 'ndandamissions', 'mahiti', 'heaswa', 'romamcatholc/vil', 'wazienibilangali', 'kkktimbaseny', 'velem', 'crdb', 'pancrai', 'privatecompany', 'kkktkolila', 'dwsp&centralgovernment', 'krf', 'thevickreywell', 'ilolanguluwatersupply/mileni', 'laurianrafaeli', 'waterofwater', 'colon', 'lgaandthecommu', 'mzeematitiedwin', 'marwa', 'pod', 'privatemanager', 'kaempo', 'gujeolsson', 'mwanashila', 'lenchtalamaye', 'fico', 'mzeemaisha', 'eagt', 'mwanasukari', 'maendeleoyamaji', 'bichau', 'w0rldbank', 'kulwa', 'sabogabisemakori', 'tambalizeni', 'tackle', 'khanga', 'tanzaniachristianservice', 'bint', 'mhema', 'nytamboka', 'umojamakanisapentekostetz', 'childreachinternational', 'magati', 'ccm', 'unise', 'users', 'rafael', 'swedishtandalaproject', 'colony', 'norlad', 'colonies', 'lgsp/dwe', 'banane', 'tasmin', 'medicinelumundi', 'mombia', 'schooladministration', 'nakayama', 'sinohydro', 'wvtnakomboadp', 'kinapacanada', 'bikidawa', 'bakarihamisi', 'localgovernment', 'ndovuresources', 'wiseusa', 'idarayaafya', 'nazareti', 'halmashauriyamanispaa', 'agness', 'dhv/comm', 'farm17secondary', 'envirocare', 'mlolwamasanja', 'tomaskasmil', 'saidnassoro', 'ngokinapa', 'mgolole', 'majimengi', 'mukwabinyeisa', 'heswa', 'diwanimaige', 'tasaf/villagecommunity', 'villagefou', 'farm', 'umfaiswary', 'magomaadpvwc', 'idcihushidevcentre', 'vunjosekondari', 'ba', 'tanzanianeaegypt', 'att/totallandcare', 'dacip', 'kibwanamaumba', 'ci', 'nzige', 'ripat', 'omariabdallah', 'seleman', 'stsaveryprimaryschool', 'kazipombe', 'kwiboni', 'dimel', 's.s.s', 'rentobe', 'robert', 'government/julius', 'lengaimakoo', 'villagegover', 'parkkyungyouls', 'vcw', 'anyemike', 'hadijamakame', 'makorinyitange', 'nyamigogo', 'watotofoundation', 'hima', 'santsigfrigssweden', 'danida/wsdp', 'mwang', 'mosquepera', 'marsfip', 'tagchurchvi', 'care/crc', 'chikoin', 'dasap'}\n",
      "Test set has 219 more values for column installer\n",
      "They are {'aveda', 'dunda', 'athumaniswaleh', 'kuwit', 'menonite', 'germanmissionary', 'kyelamorogoro', 'yusuphkapiligi', 'mwikalekurawateruser', 'kkktmso', 'kyagoka', 'anref', 'villagecontractor', 'eagtchurch', 'mountmeruflowers', 'patrickmarwa', 'zaveriatichengula', 'goldfinder', 'quikwin', 'thedeskandchairfoundatio', 'uwamalu', 'nwe', 'jaic', 'matimosangi', 'ulangac', 'mzeeshekhe', 'bindizi', 'rulengediocese', 'pangaboihealthcentre', 'peesona', 'hkpdbabati', 'georgehekwe', 'koec', 'coica', 'rude/d', 'mbunngemkono', 'lgaan', 'wouldvission', 'hemedislam', 'majijacharles', 'villegers', 'cuso', 'reginaldmengi', 'pancrasi', 'odc', 'africanmus', 'finwter', 'halmashaul', 'othodoxchurch', 'toberandfriendsfromaustral', 'grailmission', 'mosha', 'mohamedshiyo', 'su', 'miss', 'nyabasamba', 'sems', 'maidiasimgaya', 'aimggold', 'h/kijiji', 'koca', 'zaracamp', 'jumamwikabe', 'finida', 'rubenhunting', 'ruraldrinkingwatersuply', 'childreach', 'salimaliamari', 'particular', 'nyanokwi', 'africamuslumagencetanzania', 'commun', 'heasawa', 'mosquebugula', 'omarydodo', 'morrevian', 'njoochomasaine', 'chikoinn', 'mkukuta', 'ihehana', 'mzeeole', 'isaboga', 'canaco', 'mowi', 'mjakamtumwa', 'mzeechacha', 'dardi', 'leefgoldmining', 'mwakipesile', 'teakcom', 'magereza', 'waingereza', 'dr.natomola', 'ubungowaterdept', 'cppswat', 'kkktchurchs', 'mwibal', 'mahiti', 'taqwadrillingcompny', 'abdimtili', 'wazienibilangali', 'kkktimbaseny', 'villagecouncil/rc', 'crdb', 'sdg', 'de&', 'kkktkolila', 'janduplumber', 'artsan', 'thevickreywell', 'w.d$', 'laurianrafaeli', 'mzeematitiedwin', 'mokirimwita', 'marwa', 'vwa', 'pod', 'individualperson', 'totalandcare', 'cotra', 'uncef', 'daealber_uae', 'majimuguu', 'americanpeople', 'mzeemaisha', 'mrjenifredmbunda', 'mwanasukari', 'kulwa', 'sabogabisemakori', 'angrican', 'tambalizeni', 'tackle', 'chinahenanconstruction', 'bint', 'mhema', 'mariakala', 'childreachinternational', 'pentecostakilinga', 'magati', 'agrikana', 'users', 'rafael', 'romancathoricandwaterboard', 'colony', 'colonies', 'lgsp/dwe', 'desk', 'tasmin', 'banane', 'mombia', 'friendschurch', 'mamamaria', 'benkapiligi', 'sinohydro', 'kyasha', 'thomas', 'wvtnakomboadp', 'rwss', 'mbunge/districtcouncil', 'aswar', 'nairobicompany', 'nicodemumkumbwa', 'igwachanyasecondary', 'ministryofhealthy', 'conso', 'halmashauluyatarime', 'tr', 'localgovernment', 'atufigwegemwahula', 'worldvision&community', 'halmashauriyamanispaa', 'farm17secondary', 'kalebezoparish', 'envirocare', 'universalcompany', 'tomaskasmil', 'mgolole', 'majimengi', 'mukwabinyeisa', 'hjkcoltd', 'tasaf/villagecommunity', 'farm', 'umfaiswary', 'mzeekizunda', 'vunjosekondari', 'gidionjoseph', 'att/totallandcare', 'ci', 'ngeye', 'sikong', 'omariabdallah', 'seleman', 'atlan', 'kkktyeriko', 'abrahampalanjo', 'centralgovernment/tlc', 'kwiboni', 'mrjul', 'matala', 's.s.s', 'rentobe', 'robert', 'dawas', 'vcw', 'anyemike', 'singidatetu', 'hadijamakame', 'nampupanga', 'pivateperson', 'smref', 'dsimba', 'watotofoundation', 'hima', 'mwang', 'tanzaniaandegyptcooperati', 've', 'care/crc', 'mlowa', 'chabokecontractor'}\n",
      "Test set has 8122 more values for column wpt_name\n",
      "They are {'kwasarumbo', 'kaminusimchelu', 'kwamzeenjawali', 'kwakitungwa', 'kwaabdala', 'kwaelineus', 'bukurungira', 'mwankobuna', 'kwanaftarikiulamagulu', 'kwamosesmpangavema', 'kwakaseni', 'kwamkingi', 'kambona2', 'kikongeprimary', 'kwahanibimbiru', 'mbaju', 'kwaexaudmasamu', 'kwamzeemwamposa', 'shuleyamsingipito', 'itakashuleni', 'kwapaulomakono', 'kwajarome', 'bwera', 'kwamzeemahika', 'dr.omary', 'kwaudondo', 'kwamwasomola', 'sagala', 'kwajawasi', 'alisomkanjila', 'kwaihume', 'kwaexaudfigawa', 'kwamigeka', 'olorienikatikati', 'kwamzeemangwinda', 'kwarosemarrykessi', 'shonde', 'shalenhwaa', 'kwamzeembege', 'kwaaloycemwinuka', 'kisimachanyambazu', 'nsimbamkuyuni', 'ngowo', 'kwamartinsumbizi', 'andysonmwangoye', 'kwaambukegemwangulube', 'shambadarasa', 'kisimachasambo', 'kwamaguzu', 'mwandiehele', 'kwaallymahunge', 'augustroman', 'kwarymondtemu', 'piusnzomwa', 'mbulsni', 'kwasaidabdallah', 'kwaremyerasto', 'mwabalambu', 'kwabamila', 'kwachimele', 'kwadhahabu', 'masuguruprimaryschool', 'mbalamula', 'edsonmshani', 'mhagaprimaryschool', 'kwalugonzo', 'kwaeliasa', 'kwamzeemasudi', 'kinyandege', 'kwakalelazuberi', 'kwapaschariaoro', 'doktamwandulami', 'kwaodudo', 'gidamba', 'kwahasanihamisi', 'kanisalasabato', 'jacksondaniel', 'umburprimaryschool', 'masachini', 'simionkagoma', 'kwarabondo', 'islaeli', 'kwabaltazaririmisho', 'kwahappnesasei', 'abuujumaa', 'kwamzeeheli', 'kwasimbeye', 'nurub', 'kwacosmangonyani', 'kwatendwa', 'shulenilwihomelo', 'kwablakusaid', 'kumguruka', 'mubajiji', 'kwamsyumba', 'kwalikwena', 'abdalahmchela', 'kwapantaleomunishi', 'kwaramtalahkofi', 'richardmagase', 'lovilunjo', 'kwayayabifua', 'kwamanjeweni', 'kwamagdalenataita', 'kwareginatenga', 'kwathadei', 'boga', 'shuleyamsingikabirizi', 'kwacharleskimuya', 'alhamisistand', 'ziga', 'bawsp', 'kwaulala', 'pilanga', 'mnoha', 'kwaallisaid', 'kwamzeemaseleka', 'eliazongo', 'kwalushooki', 'kwamajuni', 'adruanomwakashindya', 'kwafalijala', 'kwakambanga', 'iyumbuprimar', 'kwatheodori', 'kwamzeenanyumba', 'laitonsilwimba', 'kwachanyendo', 'kwatufike', 'luheka', 'kwasinguliana', 'namayana', 'kwamamakipawa', 'ilulambuli', 'pyululu', 'kwasanguluko', 'kwatimothyfute', 'kwaadamshaabani', 'kwahapendekikatenya', 'shuleyamsingindala', 'nghune', 'nyansururasecondaryschool', 'kwamusaabei', 'kwandivo', 'kwaselasi', 'kwamzeejolamanusi', 'anafichikolowi', 'kwamwenyekitimstaafu', 'ofisiyamtaakipungunib', 'astadongonya', 'kwabenedictgiray', 'nyamwigange', 'machin', 'karastonmwenga', 'shitage', 'kwamtumbo', 'kifuraprimaryschool', 'ngulamazi', 'kwasiyengo', 'kwabandomamsama', 'nghulu', 'kwamwanangu', 'kwaconsolataandreamushi', 'kwalupojamasunga', 'alfred', 'kwagetaro', 'kwajaphety', 'shuleyamsinginyamhoza', 'ifakarabynight', 'kwalosokere', 'kisimachamayaya', 'simbanisecondaryschool4', 'area17namba29', 'kwaalibubu', 'kwamwanamalekana', 'kwakisakeni', 'amismanyole', 'kwamzeemwakipeti', 'kwasalahassani', 'kwamtuka', 'matonya', 'pentokostchurch', 'kabandika', 'kwamzeemabibo', 'ngobe', 'kwaricharddononda', 'kwamzeemgalambe', 'jumahasani', 'njoomlole', 'kwamzeedanielgwatu', 'kwaclaverymwansengs', 'lyabusalu', 'songambeleb', 'mtumwamgeni', 'kwanelsonmapata', 'bonga', 'kwaabugile', 'khalfanmohamed', 'kwamusiba', 'kwamzeekanyasu', 'nyabagaya', 'kwapantasanimamboya', 'nassor', 'kwafabi', 'kwalikadomgohole', 'kwakalamba', 'bible', 'chikwerakati', 'tankilashuleni', 'murkuchidaprimaryschool', 'vulikifo', 'kwaaloice', 'kwakibuta', 'kwamangia', 'kwanasoromangililo', 'kwaamaniseri', 'kwamzigula', 'zilpa', 'ntauruga', 'kwamzeemwatembo', 'shongoprimaryschool', 'kwababajudi', 'papiasimshiri', 'ngukuru', 'richardmbula', 'ujenziyard', 'kwaalocyeshaban', 'mafuriko', 'paulozakaria', 'piusseifsiriwa', 'kwateonasm', 'bugombaa', 'kwamwajabuhaji', 'mavelamasambab', 'kwamamanyaki', 'kwamamaluja', 'kwachao', 'kwagwatemadaudi', 'kwadondwe', 'mamadezo', 'buginghima', 'kwajumahemedi', 'kwazuberimhidze', 'kifingemsikitini', 'kwasinahela', 'kwamzeeshabibu', 'kwautali', 'kwakanjenji', 'kwanyolilo', 'kwapetermserikie', 'karutu', 'kwajosiamkani', 'kwawankembeta', 'zahanatiyakikungu', 'kwaalihussein', 'kwachalesmbula', 'ukambani', 'kwamwaneshija', 'rungwi', 'kanisalaanglican', 'kwastamilihamis', 'williamselele', 'kwamichaelngowi', 'intela', 'mzeelukalukwabi', 'kwayasentfranciss', 'juaniprimaryschool', 'kwaiddhemed', 'kwampaji', 'kwandoo', 'kwakidezo', 'mujamizengo', 'mkonda', 'kwalikangal', 'kwamwambalani', 'nyarukomo', 'gembakwprimaryschool', 'kwachaleshuseni', 'kwanicksonmwaitulo', 'kwaannawillisons', 'abaview', 'kwamdoile', 'msgereza', 'mwalulamilub', 'kwamamazatia', 'msawile', 'kwamaulidmfalimbega', 'itete', 'zebedayonko', 'answile', 'kwaangumbwisemwalukuta', 'kwamkodo', 'mzeemuhogo', 'kwamagobo', 'kwankuyu', 'kwasenyagwa', 'kwapetersinga', 'kwaephatamassawe', 'tarimo', 'kwaisdoryzumba', 'nghanje', 'kwamshamantatilwa', 'kwaelinihaki', 'kwakashele', 'kwamponelamsavange', 'talambo', 'kwasamwelitungera', 'senkorongo', 'kwahassanimsambara', 'dayrir', 'kwashinangu', 'kwamzeemanyata', 'songweshuleni', 'adammwasha1', 'zakariya', 'kwarumidiokuchungura', 'kwasamuelburi', 'kwariwad', 'kwaelifadhili', 'mfungo', 'ghatibenja', 'kwamzeeyambinda', 'suleimanabas', 'kwampala', 'nyakunumbega', 'jelusalemu', 'kwageorgesirian', 'kwamzeekweisiakuhasani', 'kwathobiasilupembe', 'msikitiwatawba', 'kwaremijakimbe', 'kwakitw', 'shuleyamasonga', 'kwaphanuelkehongo', 'ikolomashariki', 'kwaeliakimumoshi', 'kwadinda', 'changaraweprimary', 'msikitinibilolo', 'kwamzeeroberti', 'kwamtimkavu', 'kwatitusmayengela', 'kwajumanneluhamba', 'senjogo', 'kagwina', 'kwamzeegumbo', 'shila', 'kwamzeemwatesa', 'kwamuombo', 'kwamasonga', 'kwamzeeshadi', 'ngomenimoja', 'mandaule', 'kwamzeemuhudihamisi', 'kwakiambo', 'kilino', 'mulamusungula', 'kwarofa', 'didiashuleni', 'kwamanjkunywa', 'kibwanamselembwe', 'kwaobadiakakuru', 'kwamagengere', 'kwalumala', 'kwamuhola', 'kwahami', 'kwagurisha', 'kwabedamatau', 'mbogwekusini', 'lubereje', 'kwahilolimusi', 'h.rhotel', 'matomondo', 'kwabomu', 'kumshindwib', 'kwangukule', 'azimiostar', 'kwaadamukiivale', 'kwamzeesalakamwela', 'nzugwitungwe', 'kwahungilo', 'shuleyamsingiikonda', 'kituochamgelema', 'akundaeli', 'kwapatrissekao', 'kwanamkinga', 'kwapartson', 'kwajoycemsengi', 'kinyantungu', 'mamaleilah', 'lohumboshuleni', 'georgehekwe', 'kwagibsonlimo', 'kwasasigisboyi', 'zahanatiitope', 'kwamzeemohamedihaji', 'misale', 'kwadeogratius', 'mitumbati', 'wiliiam', 'jumannemihayo', 'wilikoprimary', 'kwaanael', 'hansonmwashima', 'kwakamuguna', 'kwaemmanuelnassary', 'egtchurch', 'kwajohnsimoyo', 'ubaga', 'marinepark', 'lusambi', 'kwamarkopatric', 'gumangadispensarytank', 'mwalimmakosa', 'kwaflorencemlelwa', 'kwamdede', 'kwamzeejumma', 'kwahasan', 'kwabukalasa', 'kwamosesmashauri', 'fabianmbwira', 'kwakimburu', 'bombalajeshi', 'ngambangwa', 'kwakanyelema', 'machia', 'setaoyi', 'kwasilvesterngeve', 'kwamzeeshehunde', 'kwajosephwawa', 'aretas', 'jonaswachola', 'kwajohnshamale', 'kwamdundiko', 'kwatiga', 'mizizini', 'kwailomo', 'kwaevaristomlowe', 'mugomasekondari', 'soweyemwampasha', 'chura', 'subiraapolo', 'kwapochali', 'jumatanomagembe', 'kwaesraelmsumanje', 'kwainnocentmasaki', 'tenson', 'mnywezi', 'nikata', 'benardmagige', 'bhokeburuna', 'uduguchambusa', 'makundaprimary', 'kwamzeekidea', 'kwatimlthvngonyani', 'shuleyamsingikimbogho', 'bombanimtakuja', 'bintimfamau', 'kwareginansato', 'edson', 'kwamwanaidikitende', 'hilarylyimo', 'kwadand', 'kwaalfredkimaro', 'kwandal', 'schone', 'kwamzeeasukele', 'malawaga', 'lusungu', 'kwamichaelngoda', 'kwadienga', 'nyambitia', 'kwamzeelwena', 'kwabintiabbas', 'ibrahimbanane', 'mumubale', 'kwamzeegimongekisibo', 'magezibili', 'chapakazibwawani', 'kwangaiza', 'kwamwesi', 'kwamzeevicentmbaga', 'mgayabinda', 'sinzastand', 'uhambuleprimaryschool', 'kwachotacharles', 'mwagembe', 'nduta', 'mbunjumvuleniprimaryschoo', 'kwamzeefrancesmuhina', 'jumannemasoud', 'kwajogaya', 'kwamzeemkoa', 'kwamzeemaduka', 'kwamzeebruti', 'misufini2', 'kwahamisikombo', 'kwadeodaduslisasio', 'kwamzeebariki', 'kwamwandumasesa', 'kwasamelimbalali', 'kwamwambene', 'gambalimwana', 'kwamajolo', 'kwamwalimumbaruku', 'kwagiliadmsilu', 'maendeleoyajamii', 'machakani', 'kwachuli', 'mwembeyanga', 'hemajevua', 'kwayusufulongo', 'kituochabarabarani', 'kwashabanikaumbwa', 'kwakavuganya', 'chemchemmajimoto', 'kwaeliya', 'adinani', 'kwaloinambwiro', 'shuleyamsingikisala', 'kwaharannyato', 'kwaabelmtui', 'kijueni', 'trckota', 'ndunguprimary', 'mbateyoba', 'amosimayunga', 'kwananyembe', 'kwaoskali', 'sondeka', 'kwagilbati', 'kwakalungula', 'kwalikopa', 'gedionmsemwa', 'kwamzeendogoma', 'aderason', 'kwamzeendila', 'kwamwl.janemateru', 'kwarusungumaganga', 'kwaoscanyala', 'omurutunga', 'kwajumaidikambutu', 'kwamzeeramadhanidoti', 'shuma', 'kwamnaguzi', 'kwabeatusmhagama', 'qwankari', 'kusini', 'mwawasinbeye', 'magoha', 'bargishsecondary', 'nkolola', 'luonoprimarytank1', 'kwakatendesa', 'kwabamza2', 'ofisiyaafisatarafa', 'kwamariamjackson', 'kwaselerian', 'kwajumaselenda', 'mwanshinacentre', 'dondoka', 'kwagwayi', 'kwajohnalengo', 'kinyonga', 'qora', 'kwajosephatiakweso', 'kwamzeemwakyambile', 'kwaruzibira', 'mirembe', 'kwaaronmwakilagala', 'saleiyomafee', 'kwamzeesmlyton2', 'kwasangalukumwandosya', 'kyakailabwa', 'jumaisaboga', 'mtaamwema', 'kwamkilo', 'kwasimo', 'teofilo', 'kwamzeebikoka', 'mbeho', 'mwandowile', 'shuleyasecondarimagandi', 'lwatweshuleni', 'kwabenedict', 'manyobwa', 'adamumapuri', 'mbondero', 'marunde', 'kwashehe', 'kwashilolemasanja', 'kwajimokela', 'raphaelmgale', 'josephnanyalu', 'idukilo', 'kwareah', 'magimbini', 'lusungoshuleni', 'nsojoofisiyakata', 'tobia', 'chilulumoshuleni', 'kwamzeemakita', 'kwamkalimaga', 'kwaepimarkngilisho', 'kwaleonardsoka', 'saidomary', 'kwakachelemachia', 'kwazalikaabdul', 'kwamichaeldavidtemba', 'mdote', 'kwamariamomary', 'pepeachabutwa', 'kwaonesmokiwia', 'kwanobertmchome', 'kwamzeedenismasero', 'kwamzeeyosiambonea', 'nyanderemaa', 'bujinjaa', 'shinyangaroad', 'kwalindanoa', 'nyarugugunaprimary', 'chukuda', 'rugale', 'kwamolen', 'kwamhema', 'nguzule', 'kwatumainigkileo', 'kwamajutongeve', 'kwaliagala', 'nsapile', 'shuleyamsingiiponya', 'kwazakayomfusi', 'murukagatiprimaryschool', 'kwashomali', 'alberto', 'kwawandesalamba', 'kwadukta', 'kwamabuyu', 'kwamzeehamad', 'kwamzeemaklina', 'kwadomnikijohnassey', 'kwamevongoli', 'kwamzeekajiugenzi', 'mala', 'kwamzeeleonadtedwa', 'kidodomaprimaryschool', 'kwamany', 'danielmboyo', 'kwagalaboi', 'nyakungo', 'mwamakomelo', 'kwabalanta', 'miembeni1', 'ayubabraham', 'gidoli', 'kwaflakiwelokandonga', 'kwarenad', 'mnari', 'msongolazahanatino1', 'kwanzezwa', 'kemuriminyamabi', 'kwamzeepakyela', 'kwarichardius', 'majimajia', 'sananie', 'kwamamakudra', 'mchengoni', 'kwazakayongilangwa', 'kwajimsonmsemwa', 'kwamodeyamlinga', 'kwamzeesaidihamisi', 'kwaamonikidaru', 'ambakisyeandul', 'nambab', 'luinzilombiti', 'kwachepa', 'minazin', 'kwafilipombilinyi', 'kwachumarajabu', 'kwammbwaga', 'mamamtima', 'area6namba10', 'kwamzeeuleno', 'shulenikisesa', 'meshackmwitamerengo', 'kwabi.hokololo', 'sinyenga', 'shuleningonga', 'wajonga', 'kwabatongowagi', 'kwamjawawanjala', 'makanyagiosokoni', 'kwagracesamwel', 'kwamesiak', 'erikael', 'shabankwangai', 'mpwanila', 'kwanoti', 'wangusimanyana', 'rujoka', 'tanisonhalinga', 'kwamzeemakunga', 'yusufkabodi', 'kwaibrahumuangolwisye', 'mwashiwiwib', 'mateteni', 'kibinza', 'kwamzeeyihanamwamtem', 'jmpande', 'kwamzeembeluni', 'shuleyasekondariguduwi', 'kwastevenchaula', 'kwanghi', 'mdundanikwaagness', 'kwaonesmokiwambe', 'kwageradokalungwana', 'kwamwazambani', 'olkereyankat', 'kwasauchi', 'kwajulianamtui', 'nyanoba', 'chasa', 'njiguji', 'kwawenseslaus', 'kwamwandali', 'kwabanguze', 'yahayamilunga', 'mbugayastarehe', 'kwamzeemandasha', 'jerumani', 'kiamachini', 'kwamzeengonyani', 'chepesi', 'kuliganya', 'kwadiksonmasoko', 'kwavitaliskomba', 'kwawanyenye', 'zarabowhole', 'kwabestonjoni', 'mulambasecschool', 'gwaramadispensary', 'maboma', 'mawe', 'nyamajaki', 'kkktchurchnyamboko', 'franksonruayo', 'mbalale', 'kwayoel', 'jambida', 'kwagudlucktemba', 'kwamatogolo', 'kwamamamary', 'mwanadilatu', 'musaswalehendwamb', 'ngalinganila', 'kwafisi', 'mashaani', 'nchagwamurimi', 'ccmwilaya', 'nkelebe', 'kwaliberath', 'kwagerardmusa', 'lyato', 'makui', 'cheuka', 'mgoda', 'kanangirandetaulo', 'jaribuclub', 'timoteopole', 'kituochambuyuni', 'kwakosma', 'kwamzeesmlyton', 'kwapetermirakuwo', 'kwalutenya', 'mwapaya', 'stanle', 'kwamzeedomisiani', 'omange', 'kwamasondomoa', 'kwandikilamwakilema', 'shuleyamsingimshi', 'kwachomya', 'kwakijombomwakilima', 'kwadigo', 'saile', 'kwasaruniolowoiki', 'kwaismailbakali', 'kwaramadhankisuku', 'omukitenge', 'elnaz', 'azizasaid', 'mtaliano', 'kwawega', 'kwamzeenjele', 'kwashabaleroi', 'gwaidami', 'kwaedwinmwakibinga', 'kwamzeengalagwe', 'mzambauni', 'kwamzeelulembe', 'wama/nakayamaseconadry2', 'kwamzeemalango', 'ndakazi', 'kwenyepump', 'kwamadevu', 'kwamzeembeleka', 'limaprimaryschool', 'kwabandikakilewa', 'lringaroad', 'kwachilinga', 'kwarichardmloe', 'itulu', 'ntandikile', 'bunjiri', 'chang`ombe', 'shuleyamsingindon', 'godawn', 'waja', 'kwaashura', 'kwafilemonipayovela', 'kwajeremiabidede', 'petrokitunyu', 'kwanjaiti', 'kwalugemo', 'kwarichardigogo', 'kwabarabara', 'kwazakariangonyani', 'kwaahmadmatukula', 'mwl.mkumba', 'mrbigo', 'kwakasimumsigwa', 'kwalasilver', 'mpopo', 'kwaenoka', 'kwamaletasalum', 'kindwiticamp1', 'kwabewa', 'umma', 'shuleningana', 'kwajumantundu', 'kwambungenkono', 'malipu', 'kwaandalifaraji', 'kwamohagachigirosi', 'kwaamlani', 'kwandoipo', 'shuleyamsingibunywambele', 'saigodi', 'kwamzeehalifa', 'kwakulumbani', 'angelina', 'kwamwanakaveho', 'taiyani', 'bitete', 'kwarubua', 'lakeko', 'kwaissamahenjela', 'warukeprimaryschool', 'kwawariobansuna', 'shuleyakandete', 'kwadeukali', 'nonga', 'kwamamuddingano', 'kinazi', 'mkasenyi', 'hamsakagoda', 'kwamzeekabanga', 'kwairo', 'kasikazini', 'ludia', 'kwamzorombo', 'kwaanastazialulimo', 'kwageorgemtui', 'kwacosmaskiswaga', 'kwamwanamolo', 'shuleyamsingichisichili', 'kwatumsifueslaa', 'kwajacksonalipakwa', 'mnanka', 'kwamatumaininjovu', 'kwamzeengulo', 'kachiwelomgawe', 'kwababashaima', 'kwamzeetungu', 'mwabadimiprimaryschool', 'kwaanteri', 'kwaemekuretu', 'kwahermanmsambule', 'kumsenga', 'michaelmomole', 'kwanyambaya', 'nyasani', 'lidagala', 'halimachezeni', 'kwaregii', 'kwachitemo', 'kwabijumula', 'likolombejuu', 'vunjosekondari', 'kalebezosecondaryschool', 'kkktgabon', 'kwakaokola', 'kwanaleja', 'mashineyakusaga', 'kwaangombwilemwangalava', 'kwaulirki', 'missionaryofcharityrulenge', 'kwazistiassey', 'kwajosephabinaelm', 'kwazakaruamwamatema', 'nyahaaprimarytank', 'kwatekero', 'mapanda', 'number6', 'kwasharifmahad', 'kwamohamedlikolo', 'msituwahifadhi', 'alatunyilika', 'lashuleyasekondarimamba', 'safariamsii', 'kwafilato', 'kwapaulokapongo', 'kwamzeemhangwa', 'kwamzeenyamole', 'omamu', 'nyarubano', 'kwamarkotabu', 'walla', 'kwadoa', 'kwamzeeyawawa', 'kwasiwazui', 'kwanangaya', 'kwatujilege', 'kashashaa', 'blasshipingi', 'festokonso', 'haleluyamsemwa', 'kwabindizi', 'kwamzeemanjola', 'zahanatilugombo', 'kwamuhi', 'kigombododomezi', 'kwapaulonguwa', 'kwamsendarashid', 'kimangesecschool', 'igogo', 'kwambotanyamege', 'mwabodo', 'kwaenesmoolesindamo', 'mwakyosi', 'kwalukwambe', 'kwaanectus', 'kwamzeeabunwasi', 'kereye', 'shuleyasekondarimkalamo', 'mwininga', 'kibongoto', 'allyagustino', 'kwapaulkitingati', 'kwamdalamanzala', 'kwahayasi', 'nyabugeraa', 'mtatirosagata', 'misheposhuleni', 'kwamzeesemberamadhani', 'kwafabianchepe', 'hedaruprimary', 'mwahindac', 'kwamzeejumamakelo', 'matema', 'kwamamaokocha', 'mwakisanduaprimarytank', 'kwaahmadshigili', 'kioskibayanamtepwezi', 'nyabiororo', 'faustiniakoo', 'nyakambub', 'mwandoyaprimarytank', 'mkuyuni2', 'kwameshark', 'elireema', 'twinga', 'kwamzeeshambashida', 'savana', 'kwamwananchembi', 'rungabureprimaryschool', 'kwamagessa', 'kwamzeeshombe', 'mitungo', 'kwibuya', 'kwaseko', 'tangab', 'kwazuberathumani', 'kwamarthashayo', 'kwamzeemohamedi', 'kwanyamiselya', 'kwamatesosamson', 'kwaasyusisyemwaipaja', 'kakatera', 'sudisaid2', 'ramadhaniomarysel', 'kwamatunguruni', 'shabanmgeni', 'kwasamagu', 'mzeemshana', 'tutuprimarytank', 'kwamzeekifula', 'tegemeamburo', 'shuleyamsingikidahwe', 'sungusunguno2', 'kwamescomagala', 'mwasalage', 'kwamaltamahushi', 'kinzionzio', 'dr.oslensecondaryschool', 'kwashengena', 'njirokampimbi', 'usekenule', 'kwamatatizo', 'kilasa', 'luizamgaya', 'shuleyasecondarikarume', 'kwaminja', 'kifagukwawailanga', 'enzimbali', 'mzeemakata', 'kwasaidimtumwa', 'kwalyanguru', 'kwaefraimmwabungulu', 'kwapauloyohana', 'kwanaseebkasim', 'igombawatertank', 'ndevu', 'kwamayuga', 'kiegeashuleniyamsingi', 'mwabasami', 'kimashale', 'kwaewaldpissa', 'kwaeliamriauwoya', 'mwamazungu', 'kwaulirkikauki', 'kwaboniventure', 'kwachanzula', 'mahakaani', 'kwamzeemlatile', 'ululib', 'kwamwashiuya', 'debe', 'kwalimega', 'kwamzeemazoye', 'kwabondwa', 'kwakasmirithomas', 'shabanimasala', 'limuzi', 'kwarichardnyalusi', 'rizikimwahayonga', 'siimakolongo', 'kayowa', 'mukasecha', 'area14namba5', 'ntingashuleni', 'sambasecschool', 'kwabagege', 'kiselia', 'kwahosearaymond', 'wandijo', 'marktet', 'kwaeliasafumacha', 'kwaantonimwansepe', 'ngugu', 'kwamzeejumahemedi', 'kyalosangi', 'kwagaspermende', 'shukenimurutabo', 'kwastephanmchawu', 'mwabalimu', 'haonganghoswe', 'ibanasiri', 'kwamzeeyoakim', 'sanawarii', 'mwighanjiprimary', 'kwamarcelashuka', 'kwanyagawa', 'kwakiono', 'kwandamana', 'kwafinyangombe', 'kwamohamednachitimbwi', 'kwakunesemangombe', 'mihekelaamjini', 'dp3(kwamwakingwe)', 'chahalimashauri', 'kwajuliuskomakundi', 'afraelleshaleyi', 'kwamtimi', 'kwamzeempyagila', 'kwasedekikimambo', 'nababili', 'ipiriri', 'mwahogo', 'allymgelege', 'kwaokapi', 'kwaizackmasawa', 'kwamkungutele', 'muguzakanisani', 'kwamkwacha', 'shuleyamsingikashozi', 'kwaalimajeenasra', 'kwamzeeasumege', 'kwayakoboganashi', 'kwaselemanimwakibinga', 'ambiwi', 'jacksonjohn', 'alimtanda', 'kihela', 'mwasoli', 'wizunza', 'wiliumnasari', 'galulani1', 'mugomashuleyamsingi', 'kwamzeemajambo', 'mkongaa', 'mukuli', 'tanga', 'dip14hiti', 'elnest', 'elivasdaudi', 'kwababamarium', 'atunyamase', 'efata', 'kwabaijanaki', 'kwakilingai', 'kwajosephndefuno', 'kwasimeo', 'lekabagomi', 'kwafestomkwe', 'kwaadimuhamadi', 'kwamanasejoel', 'kwamzeehajomari', 'mumuliza', 'kwalukamwilongo', 'kwaprivangowa', 'lenjorai', 'kashalira', 'kibadagweprimaryschool', 'kwatomaskasmil', 'kwajimu', 'kwaemanueli', 'kwaeretelus', 'kibonangile', 'munambulib', 'kwamarithelini', 'mk5', 'kwajigu', 'mrama', 'madereka', 'kwamgasha', 'kwanancheto', 'antonikyamba', 'mzeemkali', 'kwamchungajikimambo', 'kwasadati', 'areathreenamba20', 'kwamzeebashae', 'kwalusinde', 'kwabeatricendosi', 'mwalembeguesthouse', 'kwamayasa', 'kwanzomali', 'gaudence', 'kwamzeeantlile', 'kipili', 'kwamtamanyirwa', 'kwashas', 'mashuini', 'gidokitete', 'kochochi', 'kwageorgendanya', 'kwapaulolekule', 'kwamatanji', 'kwamzeeshomari', 'kwatadheusiqrang', 'kwavicentkaulule', 'kwaphilo', 'kwamshumi', 'kanisalaeagt', 'kwaabdalahkarimu', 'hajikiumwe', 'saidingano', 'kwanshimo', 'kwaabrahamelieza', 'kishandaa', 'sabin', 'mwanghonolidispensary', 'magubiki', 'jumamainda', 'mwitongo', 'kwarafaelbalozi', 'kwamzeemusawa', 'kwawilsonchota', 'jonasthomasi', 'budekwas/m', 'kwaeliminaselemani', 'kwamzeemombassa', 'kwambwezi', 'shuleyamsingibusinda', 'ndemeka', 'mwanhelele', 'ukaguruni', 'bununutashiraga', 'mamamarango', 'iddiudugu', 'augustino', 'kwabontu', 'kwashabaninyoni', 'kwavictoriambata', 'kwahuberti', 'natai', 'twilumbachengula', 'kwalongotuti', 'kapangulwa', 'kwaabdalasaid', 'kwaleshule', 'kwamzeesisti', 'mzeepiteje', 'kwanjelekelamwakajoka', 'katikatini', 'kwachristophernyaumbo', 'daudisecondary', 'kwayessemsuya', 'kwalukanyanguye', 'kwanebertmgaya', 'aryoiseus', 'gatino.10', 'kwahasaninyoni', 'zahanatia', 'jeremy', 'jb', 'kwaidadi', 'kwasaidmdengwa', 'kwalauransomwalukuta', 'kwasaidihassan', 'kabichi', 'kwashabanikisanfu', 'itemba', 'mkumba', 'mumasigaa', 'kwadevota', 'kwaesterrmbise', 'kwamakopa', 'catherinemloho', 'kwaelimisiurio', 'kwajoeleagi', 'sanjopr', 'kwaantiluka', 'ofisizareli', 'dipcattletrough', 'mumitundu', 'shuleyasekondariibili', 'kituochaafyaimalamanuo', 'mwantondo', 'kwamzeeandoluisye', 'kwamodesr', 'kwakambiawa', 'yohanashanana', 'muhezaa', 'kwakamtande', 'kwawejo', 'kwaaidimbawala', 'laurianrafaeli', 'kwamzeezakharia', 'ivugulashuleni', 'nachinupu', 'kwamnauka', 'nyakabazi', 'rombo2', 'shuleyamsingikolowasi', 'kwaanasemshiu', 'kwazakariakavakure', 'kwasamweleliswai', 'kwaabrahamnjumuye', 'kwamnanga', 'vadp', 'welamasonga', 'kwaaskofungenge', 'kwasimberiti', 'shuleyasekondarinzuguni', 'kwamlokole', 'nsanga', 'kwahaikaelezekiel', 'nsangamatale', 'kwamichaelmarindo', 'kwagilbertmalekela', 'mwltemba', 'kwabakariathumani', 'kwafrankmnyanyuo', 'kwalyakwesa', 'kwamamatrifonia', 'kwabtwelmushi', 'kwambalati', 'kalonge', 'kwamaganja', 'kwamzeeselemmaniramadha', 'selemanmohhamed', 'manyago', 'bumvanambamojac', 'kwamzeelaini', 'kwaevelinamlowe', 'kwapeterelia', 'kwaashaabdallah', 'kwamaksabi', 'kwahakimukalinga', 'allympingileni', 'kwaatibutarimo', 'kwamzeekosta', 'walagida', 'muharulosecondary', 'kwashekibula', 'kwaraphaelikanana', 'katela', 'kwagabi', 'shuleyamsinginditi', 'kwahalimakayanda', 'malolo', 'kwaloay', 'jumamnyangombe', 'kwahappyepson', 'arumino', 'mpembera', 'kwamzeesebarua', 'kwadaudimisana', 'itongoc', 'kwamtala', 'kwahaziri', 'jasonelias', 'mitete2', 'kwasondo', 'mwanangishuleni', 'matogoloc', 'mkuluc', 'pandia', 'area17namba20', 'kwamarcomagote', 'kwamabulakabadi', 'kwandopwele', 'kwamzeeangeros', 'mwamanyilili', 'lufilyof', 'bulyaheke', 'kwaalbertomdeka', 'kwagoga', 'kwamagalana', 'kwanasrahassan', 'emanuelmarimba', 'sada', 'mautya', 'kwamchicha', 'kwakipupwe', 'kwaustaadhidrisa', 'kwazinzila', 'bukiko', 'kwilbroad', 'kwamzeemaghani', 'kwasamwelinkanda', 'kwaestasapali', 'kwamagakabudaga', 'kwambukeshija', 'kwqmzeemwakapoma', 'kwamugayamwita', 'makangaipejanota', 'shulenishunga', 'kwamzeemwakatapanya', 'mkobeda', 'barazamadanga', 'mihumomtoni', 'kwandunketi', 'kitungwac', 'kumhamaprimaryschool', 'edwinmsomba', 'kwarosiekemanja', 'kwambele', 'kwamzeekanju', 'nyanokwe', 'kwakivalu', 'kwapatrice', 'kwarichardmanyanda', 'mrera', 'ituzya', 'mzeejoseph', 'mzeepeterkaombwe', 'kisimachananondondo', 'bugonzi', 'berenado', 'kwayohaniphabian', 'kwamawenda', 'kwaedwardkasalimu', 'kwamandela', 'kwamzeechichango', 'msikitiini', 'kwamaginusingelengela', 'isenibwawani', 'kwamzeewallacejohn', 'kwakishele', 'rwebagira', 'sandalasonkayange', 'kwamzeemwambanya', 'rwamtangi', 'richardmgeko', 'kwamchaki', 'mbokoyi', 'kwamzeekadiga', 'kwakilaga', 'kwapeterkitutu', 'kwamamawitnes', 'sylian', 'kwamwalimuali', 'kona4misese', 'olomongolibo', 'areafivenamba12', 'kwacelestine', 'shuleyamsingiluwa', 'gatilamadukani', 'kwaufinula', 'vumariprimary', 'zahanatiyabangwe', 'kwamahelesande', 'kwakinoa', 'nasetan', 'kwapetrogitna', 'hamiab1', 'kwamuhamed', 'kwathobiasimwaisobwa', 'kwaseifrashid', 'kwazomoke', 'silimo', 'mwamilo', 'ndrumangeniprimaryschool', 'mwamakimbula', 'msununu', 'nyanzaridpno1', 'kwanzeecheka', 'kwazakariamwaniti', 'saidshabani', 'luvaib', 'kwamusamnatim', 'kwaelizabethofoye', 'kwantungavyanga', 'mnyituka', 'bildadi', 'kwalelelya', 'mzeenangala', 'kwamaauka', 'kwaristonimwilongo', 'kwamathainyagawa', 'harembee', 'kwabrysonkilumile', 'kwamkakilo', 'kwaamagemwaiseje', 'ntamvunyi', 'kituri', 'lyamun', 'mangomela', 'semwelnyanswi', 'kwamanzili', 'kwaallychande', 'zahanatimareu', 'kwamzeemalunda', 'kwamzeemtani', 'isamwingo', 'kwashabanimayala', 'malindiprimary', 'kwamzeemussamajola', 'mlanda', 'mpondac', 'kwamzeepastori', 'kwaseng`unda', 'kwamtohanje', 'mwamigaka', 'igondwetrust', 'buhimbigu', 'mbowetoatanas', 'abelngalama', 'kwamaaret', 'shuleyamsingikaalilo', 'msemembwo', 'kwamzeebonifasi', 'kwasaidimeka', 'kwamohamedkandu', 'zongwe', 'kwanikasikamande', 'kwamerickmgaya', 'kwamzeesimioni', 'kwaponagaweja', 'kwamwambavile', 'kwakwanga', 'kwabudashilaga', 'kwaplanmbukwa', 'mukibogeka', 'kwafikirini', 'yonamgaya', 'kwahologo', 'kwamasune', 'mgezani2', 'kwamamapipo', 'athenasecondaryschool1', 'kwafreloteusi', 'nnonda', 'mzeemleme', 'kwakanyoro', 'kwamzeekazinja', 'kwamzeehondohondo', 'kwamissana', 'kanyinyaprimaryschool', 'kwanikazi', 'kwamuyandaza', 'kisangali', 'kwakwambale', 'kwapampala', 'muchuridpno.8', 'musaabdallahmasika', 'obedkatila', 'kanisalapentekoste', 'kwamamazungu', 'kwaaminsmasanyinga', 'kwalunyachu', 'kwasangije', 'kwaluinusomvelu', 'kwasunjulu', 'ngugunu', 'kwaluji', 'kwapetromaro', 'mwitamasyaga', 'mwitagamaina', 'kwamichaelmtelesi', 'kwagilbertmwanakulya', 'lipakile', 'kwamzeemwandame', 'kwamzeealoycelyimo', 'amonimpumilwa', 'shuleyamsinginambogo', 'agustinohau', 'kwabernardini', 'kwakeso', 'kwajafaringilangwa', 'mwanapalala', 'chamachaccm', 'mbundusisilwimba', 'nyanzavya', 'kwadominictarimo', 'kwaedamtima', 'kwakulwagambu', 'mwamedathuma', 'kwamzeengelangela', 'usulwi', 'iguna', 'kwambembeka', 'kwawilfredngavatula', 'mlolwamasanja', 'kwamwl.moshi', 'kwaclaralite', 'njukaa', 'usawanga', 'mzeeismailtomari', 'kemgesi', 'kwasimionkatole', 'kwangalika', 'kwarobertchristopher', 'ngamba', 'france', 'kwamzeemtamilamatola', 'shuleyamsingiichwandimi', 'newkisoyi', 'kwam/kitiwakitongoji', 'kwalebwanga', 'kwaodembawatata', 'josephmuna', 'kwasariviusi', 'kisimanimakonde', 'mwalingo', 'kwahay', 'kwamdemu', 'kwakenethmbugi', 'mkilama', 'mzeesimon', 'kwaseverinapatwa', 'mbelekese', 'mangengo', 'malandi', 'kwayasini3', 'mwabumwandub', 'kwasembuliweuli', 'kwajumamzuri', 'merengaprimaryschool', 'suluati', 'mwalimuprosper', 'zakariamponda', 'heriaminkaale', 'kwasami', 'bwogaprimary', 'bulanga', 'kwaainamlyuka', 'kwamzeempongo', 'bondenichini', 'kwamzeekimetule', 'kwaleisili', 'mwahoba', 'kwakadima', 'lutherlanchurch', 'kwamlambia', 'kwamzeemjatakipingu', 'kwapatriceauil', 'zahanatiyamaweso', 'njomoke', 'kwantemirugusha', 'mwinga', 'kwabintially', 'kalumozahanati', 'oldonyoilabi', 'marogeorge', 'kwamzeemahengo', 'matine', 'kwaferestalema', 'kwacornel', 'kwacosmastambali', 'kwatalayangombe', 'mzeenestory', 'kwasalimmarco', 'halera', 'dagwisha', 'kwachifumwaikenja', 'kwakenethmwelange', 'kwaandrewmabula', 'abada', 'kwayosiakilabi', 'kwahenrymwanisawa', 'kwaalmashassan', 'mhandisi', 'asumwikechaire', 'kwakuhuka', 'kwerudeve', 'nhunduga', 'kwauledi', 'bandasaba', 'kwajoni', 'kwaarestarikulomi', 'kwaandreakatunka', 'kwayudamhelela', 'kwamwaseva', 'kijungumadukani', 'hamisrwesha', 'kwadanifordmgeni', 'kwalucaslubinga', 'kwakaleiyamvungi', 'kwamerusuli', 'kwamzeemandali', 'shuleyamsingituriani', 'johndamiamo', 'kwamzeeadrea', 'shuleyamsingimtonga', 'kwamwakasela', 'kwakatotela', 'kwamfezua', 'mwanyahinaprimary', 'sandvale', 'kwaaugustinomwakatimbo', 'elipokea', 'kwakilongosi', 'kwamikweni', 'shuleyamsingiitula', 'kwaismailissa', 'kwaktikati', 'kwakatibujoyce', 'chamva', 'kwamafterimacha', 'mwashidakwa', 'kwamwangigamwakimwonga', 'kwaamida', 'mashakakisimba', 'kwasiliakus', 'kwasimonkabungo', 'kwabw.mafungalosaida', 'kwamzeeshehekivuli', 'pezano1.a', 'kwalisongo', 'teleni', 'kwamzeekitetete', 'kwamzeembila', 'kwamzeedaudihemedi', 'kwadaniera', 'kwajosepsilvesta', 'ibrahimrichardchielo', 'kwacharlesweja', 'kwachulila', 'mkululu', 'ayou', 'kwakapipi', 'mukishanga', 'kwamzeemwakiposa', 'kwajadu', 'kwaismael', 'nyamkoa', 'kwatheopodimushi', 'lishaeliakyoo', 'kagando', 'ofisinijuu', 'shuleyamsingiundomo', 'kwathomass', 'kidundi', 'ashamchuka', 'mrefu', 'kwazuhurawinilo', 'kwamtanda', 'jagadi', 'manyamboc', 'kwalaurentmacha', 'mwakatima', 'kunkanda', 'kwaismailadam', 'kwakibagaza', 'kijave', 'manguruma', 'kwamicael', 'kwengu', 'kwamzeeburudani', 'kwaannapmuro', 'kwamzeekayumbe', 'kwamzeelihuhu', 'ebeneza', 'mtezi', 'kwabintikitabu', 'toborab', 'omukahanga', 'rarapaghayo', 'kimuli', 'majid', 'kwacheskomdetere', 'secondary2', 'kusich', 'barabarayarungwa', 'kwalioyoismail', 'kasumulusecondary', 'kwahusseinmsemwa', 'kwapada', 'marigwesiy', 'kwapiusnyambele', 'kwarehemaiddi', 'centergatikubwa', 'kwamishosho', 'kwamasudyrajabu', 'kwageorgeduru', 'kwamzeekapongo', 'gomaprimary', 'kwasalehekibwana', 'tondwa', 'kwacdt', 'kwanzegenuka', 'shuleyamsingiipole', 'kwamonoti', 'kwamiti', 'kwawistonisadatale', 'nzogidulye', 'shuleyamsingimsonga', 'kwamzeehurumamponzi', 'shuleyamsingibyeya', 'msagaraa', 'kwamzeemsula', 'kwamzeejafeti', 'kwamzeemwangulukulu', 'kwamusasuleiman', 'kwambazi', 'kwaselemanilehenda', 'kwamzeealenalfonce', 'kwendakalaba', 'kwamasholo', 'njarab', 'namundaprimaryschool', 'kwamanaindi', 'kwamzeegowere', 'kwamwajumambeya', 'kwalungwa', 'kwaswedimasoud', 'kwamasongi', 'kwamzeemajunl', 'kwalukumbuja', 'kibitihighschool3', 'kwamaswila', 'kwakayare', 'kyeiko', 'kwasifamwakalinga', 'zugwitukile', 'manyinya', 'edita', 'kwanyangafumwekipesile', 'kwamachokamrema', 'kwamanenokyando', 'mamawitnesstareto', 'kwamaki', 'mwabayands', 'kwanicomwakisimba', 'mbawaprimaryschool', 'kwaeliamwantiku', 'massasecondaryschool', 'san`gana', 'kwatumsifulema', 'pohama', 'kwaerinakaduma', 'kwashabanomary', 'kwaephrahim', 'sastonmwashamba', 'kwahajikuseta', 'buzunza', 'kwabintizaidi', 'magidagroups', 'kwanaforoshayo', 'mukasaze', 'kwamkuuwamagereza', 'kwachingongo', 'kwanyankoso', 'kwamzeemwaijusi', 'thimoteo', 'kwakiyuga', 'kwaladi', 'kwamenyembwene', 'issan', 'kwamzeehalaji', 'nyarama', 'kwaalipio', 'kwamwitaginyati', 'kwamzeefrankmwakatajile', 'gideoni', 'kwaongezi', 'mhuvi', 'kwamajutoayubu', 'kwamazali', 'kwamaningiswai', 'kwapilipaul', 'kwaexoudkileo', 'kapeleshuleni', 'mazimya', 'mzeesinemba', 'kwajosephmosha', 'kwamathayomeru', 'daudimalegi', 'kidiastand', 'bahatikagera', 'kwalevilao', 'nheleshuleni', 'mwanghalanga', 'chiwagaa', 'kwalupenza', 'kwamzeesaria', 'kwabarakaelimereru', 'kwamzeenzobonaliba', 'upendodaima', 'shuleyamsingih/bwawani', 'madingera', 'springbox', 'kwamfundili', 'kwagalusi', 'kwamanyabulima', 'kwandade', 'kwabrysonnkini', 'omarydodo', 'nyaruwato', 'kwaisaru', 'shuleyasekondarindevelwa', 'shuleyamsingimlandaa', 'mzeemtweve', 'kwadonathus', 'kwashabanidotto', 'ndenjela', 'villa', 'akyoophilipo', 'mungonya', 'nyamilama', 'kwaishikaelsawe', 'nyamtete', 'nyanhaya', 'nzanza', 'olorienimazizini', 'nyerer', 'kwabernadovictory', 'kwamzeekitenge', 'kwaegidiabdala', 'msago', 'kwampulu', 'kwasanimo', 'shulenibusekwa', 'kwalaswai', 'kwaadolfkimonge', 'shuleyamsingikisima', 'mirajihussein', 'kwamzeekurusi', 'shuleyamsingikiteiyagwa', 'kwamzeemdamu', 'kwahamzabaraka', 'kwamzeekaboma', 'kwamistachaula', 'kwasemen', 'kwashedafa', 'kwaromanacletusi', 'kubiha', 'shuleyamsingiilambila', 'kwafloramnisi', 'kwenyetransformer', 'kwanilo', 'kwamario', 'kwakazimoto', 'keburure', 'brightangles', 'chachatumbo', 'kwabintimusa', 'kwasevelini', 'mnianda', 'kwamzeemwalioto', 'madibilahighschool', 'kwahilario', 'shulenimikonko', 'babasiku', 'kwajumazuberi', 'kwaeliezelemlawa', 'itumbi', 'rehemaiddi', 'kwamchuya', 'kwajohnmtimbo', 'mwakibika', 'kwampwepwe', 'kashasha/kwahe', 'kwisunda', 'chivumbi', 'hamisimkuki', 'muunganogroups', 'kwabalawa', 'engwikiprimaryschool', 'gracemesiacksecondarytank2', 'busondole', 'nzokayigenge', 'kwaasei', 'mpamba', 'kwamasegese', 'shuleyasecondarikiteo', 'makuuzi', 'kwamtafia', 'mjachubwa', 'mankoo', 'mamamkarami', 'shuleyasekondaripangale', 'kagenyibstati', 'mwengo', 'kwafredi', 'kivinjabprimaryschool', 'iddmsuya', 'kwamzeedaudimwailafu', 'kwatheresianapaya', 'kwaawidimwakatimbo', 'kwamzeenassoralfan', 'kwabohai', 'kwasamsonmgoda', 'kashilimu', 'fukayosizahanati', 'mimasecondaryschool', 'kwangereluwa', 'kwamzeelioka', 'kwamachongo', 'kainoni', 'kwamamaamani', 'kwaantonisanga', 'endelah', 'nyezako', 'tunaendanawakati', 'eliyamsukwa', 'kwagodwinnibuko', 'kwamadabulo', 'dominical', 'kwatopi', 'kwamakatamwaisipule', 'kiyamu', 'pachoto', 'mnhola', 'kwamagali', 'isuku', 'chachamkami', 'kwasimbopmasawe', 'area17namba53', 'nyangyendo', 'kwapilepa', 'kwatutuma', 'madadamtoni', 'kaakitako', 'mbande', 'kwamswa', 'kwadobosa', 'kwamzeemwakalambile', 'kwagalusmbawala', 'kwajohnmhala', 'mbilu', 'saidpotete', 'karantini', 'kwamloeaugustino', 'kwakasambala', 'nyashimoshulenip/s', 'mbugayabanghyadispensarytank', 'kwatela', 'kivukochamsese', 'busongo', 'shambalashulelegezamwendo', 'mzava', 'kwapatisonmwelange', 'mifugohouse', 'mikoroshini1', 'gwabazaile', 'mwandoyaprimary', 'kwangamanga', 'iluja', 'kwakipindu', 'sendary', 'kwamzeekibuku', 'kwabakarimwambanga', 'gakini', 'kwahammidu', 'shuleyasekondarimisumbwe', 'kwamasiyai', 'kwamnakatu', 'shangilila', 'kwalazaromwasekaga', 'kwaathumansaambili', 'kwalunyilija', 'kwaguduluck', 'kwamirumiru', 'kwagara', 'abdumkhondya', 'kisimachaemao', 'kwasilakus', 'kwabwiretengule', 'kwabeatakiwia', 'kubomba', 'kwajohnulolo', 'kwalipili', 'kwamzeenyantahemwa', 'jumakipenge', 'misituni', 'kwahakimumwalasa', 'kwatadeimunishi', 'karibunasekondari', 'kwarebe', 'kwamartinbarie', 'dobele', 'kwafungameza', 'mzeeseuta', 'kwateklaassey', 'kituochaafyabungu', 'kwabichau', 'kwapetromatiko', 'kwakabendera', 'kwamwanadongo', 'shulenilubugusekondari', 'kwajefasoni', 'kwasovela', 'demub', 'kwahamadikapinga', 'maglasi', 'kwahasanndembo', 'ntandu', 'ditima', 'kwamzeeleonadimwapima', 'kwamzeekambanga', 'kwamusakafarasa', 'kwaaderigoti', 'kulugoma', 'kwapatrikikilatu', 'mlangumbulu', 'kwagoroba', 'kwaabelimwambungu', 'kwaaronmachange', 'johas', 'kwaventura', 'kwamsokola', 'diovuva', 'ihoyelo', 'kwaakhanikidenya', 'kwasumka', 'kwarabani', 'ngarameno', 'kajiungenishule', 'kwamdia', 'kwakisiwani', 'kwapolisi', 'kwamzeechora', 'kwamzeembilikimo', 'kongoweprimaryschool', 'bulugalaa', 'kwamzeemwandete', 'misweprimaryschool1', 'siimonikapama', 'komtindi', 'gisesa', 'kwandeze', 'ilegeja', 'sadashabanimsombe', 'michaelnjati', 'saidpasi', 'kwamzeemwatende', 'kwaisayapaul', 'mchamala', 'sinodi', 'rusemadpno2', 'mumuzila', 'bibianna', 'kwaaloycemwaitanda', 'kwamzeebernard', 'gatino8', 'kwamzeempini', 'kwamzeewaziringoda', 'donatus', 'kwamchungajimbaziel', 'kwandama', 'shuleyakewambogo', 'segashuleni', 'kwacloudmzaga', 'kwamzeearonjumapili', 'kwaathumaniswaleh', 'kwakibende', 'bubango', 'rukoyoyob', 'kwamzeeyoeza', 'kwabintimshiri', 'idrisa', 'majiwilaya', 'kwabakaribedera', 'shuleyamsingirutimbira', 'manchirasecondaryschool', 'milumbalamboni', 'kwakiparu', 'malikosi', 'kwamashimbala', 'kwamzeempondomoka', 'nyakatome', 'kwakasabila', 'msangazalala', 'kwamizengo', 'kwamathiaskibiriti', 'kwaigembe', 'kwanaminazi', 'vikwanga', 'kwagiliadmoye', 'bwanduluko', 'herekita', 'kwalamekideda', 'shuleyamsingiwazohill', 'kwamarykiluma', 'kashangali', 'mwanalugalisecondaryschool3', 'bukamsikitini', 'buchelabuginghima', 'jafarichambi', 'kwaflex', 'kwamzeekiwanga', 'kwaojanipangani', 'kwaaloycengimba', 'kwamzeekaukuya', 'fikiria', 'mashinea', 'kwamzeekajambala', 'revelianpius', 'kwasebitama', 'kwamichaelmausa', 'kwakachumbi', 'kwamsasa', 'kwediwandili', 'kwalesendi', 'kwanton', 'shuleyamsingiotaruni', 'kwaallysalehe', 'mtomuheza', 'kwamhindilo', 'kwawinchislaus', 'tupendanegroup', 'kwamaktoki', 'wilsonmwakyambo', 'kwajonasmnubi', 'kwaedinanassary', 'mwabalele', 'kwamzeelymo', 'kwastephinomasawe', 'butamire', 'fitina', 'kwakingota', 'kwamzeemaurus', 'engutukoit', 'kwamchoma', 'chikukwa', 'kwasachatila', 'dumaprimary', 'kwanyari', 'mwanyashuleniyamsingi', 'nyakavilu', 'kwamzeekitenga', 'kwaismailibrahim', 'kwachewiliye', 'shijaswagili', 'chulwa', 'zahaki', 'kwamaritabu', 'ilungub', 'kwamzeechiwia', 'mwantiba', 'makole', 'mzeemwaskage', 'kwamsowoya', 'kyanyarutaba', 'kwalikwaya', 'mwanhalaa', 'kwarogolo', 'kwaboya', 'mwatulole', 'kwamkengeno', 'kwamzeemsabila', 'mkameme', 'kwahalimaperege', 'kisanyab', 'kwamzeemgowole', 'kwamartinesimon', 'kwamzeesweve', 'kwanchilu', 'jonasmawalo', 'shulenikonjula', 'kwamzeekatyare', 'kwaiza', 'bado', 'kwarahmaswedi', 'kwamatsera', 'dimbwa', 'kwaaminasaleh', 'kasanisani', 'kwaeverigist', 'zahanatibunyambo', 'nyondo', 'kwamzeenyoni', 'kwamzeeharmeni', 'mwanzugi', 'nyamandeprimaryschool', 'abdalahjumanne', 'shuleyasekondalirungwe', 'kwanua', 'kwamasukuzi', 'kwamzeedidasi', 'kwamsumarimatofali', 'imalamakoyewenge', 'mwasingia', 'kwabarome', 'yondu', 'igego', 'kwajibacha', 'kwamzeecheina', 'sanje', 'kwamenasimuhanjo', 'kwasalomelugobeka', 'mnazimmojamsikitini', 'mtibwa', 'sembe', 'kwastan', 'kwalusonola', 'mzambarao', 'ferisianmahiti', 'kwamagasi', 'clephacemwaigomole', 'kefa', 'kwadaudmsende', 'kbingwa', 'kwamkonishule', 'kwakinyogori', 'kwanasorhamis', 'kwamzeesalene', 'kwasonda', 'kanywangili', 'kitaika', 'kwamahonda', 'dum', 'kwaanderea', 'kwaelvinusnjovu', 'kwaernestojode', 'kwaelikundamremi', 'kwamzeeiblahim', 'alongthecoloniesoffice', 'kwamsagule', 'smionngowi', 'kwamzeetayafya', 'kwaidrisarajabu', 'mwashembe', 'mzeedick', 'kwamzeemikoma', 'kwamjahasi', 'kwamzeestailo', 'kwaphilipojuma', 'mwamiso', 'limbanjile', 'kwadanilimjomba', 'kwajustusimutembei', 'kwakimola', 'kwawilisongobe', 'leshabala', 'mwamanengebprimaryschool', 'kwahemba', 'area6namba13', 'kwaelishekiadatsta', 'kwamzeekibuhile', 'kwamnyakasi', 'ntimbagodfrey', 'ihugishuleni', 'kwakasaya', 'narumo', 'kiandeni', 'bilalama', 'lukasichagiye', 'mashinea2', 'newvijana', 'mwashashi', 'nkilo', 'kwambeleselo', 'kwaatiliokatunduru', 'kwatagitakubilua', 'kwamzeeangelo', 'generaltyre', 'kwanyaululi', 'arkatanprimaryschool1', 'kwaakim', 'kwajumamtipula', 'mamamkongelwa', 'mwengeprimaryschool', 'kwalimuli', 'kwaibrahimujulius', 'kalumwaa', 'kwarafaelmsaki', 'kwamkulya', 'kwawitnessongwe', 'magulya', 'kigambonimjimpya', 'kwalucasichongolo', 'ngateuli', 'kwakasebele', 'kwawamburahonga', 'kwahamisiomari', 'yohananyitanga', 'bombalakabujaja', 'mukachekere', 'kwamaresi', 'dukakubwa', 'maji', 'kwatasi', 'kwajacobkyakwe', 'kwaalbertmwaikombe', 'tundu', 'kwamaulidmbala', 'kwasamata', 'kwamzeembagalo', 'shuleyasekondarindolwa', 'hogoroshuleni', 'isakamaw', 'pilim', 'kwamanugwa', 'wigelekelo', 'kwapancrasjoseph', 'magerezaoffice', 'kwakiletunu', 'iddmbode', 'kwagidionmtimbuka', 'kwakanisanikondiki', 'kwaafro', 'kwarodricktemu', 'kwachangura', 'mwanamponda', 'kwanhungogege', 'kwahonoriusi', 'bomaroad', 'bahatisimkamba', 'kwabraitonkilamulya', 'kwakikuyu', 'mbailwa', 'shuleyasekondaripugustatio', 'kwajaseye', 'kwawile', 'kwawilliammbura', 'kwakasumbaiiwato', 'zamoyoni', 'mwilambashuleni', 'msalabanic', 'tarafa', 'kayanga', 'kwamosesmchuma', 'hongeramaji', 'kabashabma', 'magopola', 'kalizozo', 'kwasemgohele', 'kwagaspa', 'malegilegi', 'mamakajila', 'kwaashaissa(mkolani)', 'kwaayubujuma', 'kwarenathamgimwa', 'kwabalongo', 'kwaelizabeti', 'kwafabiancharles', 'engasiti', 'kijijidomestic', 'kwasofiamlawa', 'kwaspilianocrispin', 'remmy', 'chuki', 'kwamagdalenajohn', 'kwamzeepange', 'matavista', 'ndimi', 'hangombashuleni', 'kwamgute', 'amanicenter', 'kwamzeemwaikofu', 'ushetuno1', 'kwaelizabethmathia', 'shulenimarieni', 'shuleyamsingiilolangulu', 'kwatirito', 'kwamaliboro', 'kwamzeemwanyombole', 'mwalimumnosi', 'kwammandulia', 'kwamagadlenamaganga', 'uyoleshuleni', 'kwarichardmlewa', 'kwayuli', 'kwasipitek', 'kwanjivai', 'kwandulumbe', 'kwamembe', 'murukurazo', 'mzeesamike', 'ngongoro', 'kwasaidnyambele', 'kwamzeebulige', 'kwaumila', 'kwakisawaga', 'kwaandarsonmashenene', 'kwajohnkowero', 'kwasolilebundala', 'mwabuzodispensarytank', 'kwasaambili', 'kwalasekondary', 'kwampandi', 'kwalazaroparament', 'kwantobangitemba', 'kwagerardisaka', 'kwamzeefrank', 'kwamzeemangala', 'kinyangwe', 'kwamabonde', 'kwamahema', 'juuyacentre', 'mbambizya', 'kwamasakila', 'kwarhoidambuva', 'rwebichunchu', 'kwajenniferwistoni', 'kwahenelikomaibe', 'kwachila', 'badi', 'shuleyasekondaliluteba', 'kwamzeekagangiro', 'kwahassanbakili', 'issajuma', 'shuleyamsingisanungu', 'kwabatonposta', 'namwinyo', 'kwamnyogwa', 'kwamzeedunia', 'ikubungu', 'kwamzeesaidiabdala', 'kwamkenya', 'kwacristian', 'zhanati', 'mgane', 'kwamnindindi', 'wankachacha', 'kwandolose', 'mwandutushuleni', 'nhakamlenga', 'kinyasi', 'kwaburungi', 'kibutaprimaryschool2', 'area6namba8', 'areafivenamba8', 'kwamahamudumwanga', 'rashidisaid', 'kononi', 'ugali', 'mwangu', 'kwasimamikomangwa', 'kwamayula', 'kwamatungo', 'majiyakunywa', 'kisanadispensary', 'kwafestochekwe', 'mwanansia', 'lb9', 'kwawilfredkristoph', 'mteguprimaryschool', 'nyotabahati', 'kwamzeeisackkanyawane', 'shuleyamsingimengeni', 'kwasamola', 'marko', 'sibuka', 'athumanhaji', 's/mmwabagalu', 'kwajosiamwaiswelo', 'rusama', 'mkolangoassemblychurch', 'buyangeb', 'mwikwabinyeisa', 'chakuburya', 'chaina', 'kwamzeesalimrihani', 'mlanyanga', 'shuleyasekondarir', 'kwareginapaul', 'kwaemanoelnyoni', 'jalalasamata', 'uwanjashuleni', 'sangilwa', 'gipson', 'kwamethodmosozi', 'kwamwivimba', 'kwaherikalau', 'kwazablonimwalungu', 'nziba', 'kwamsungwa', 'bondelamkondoa', 'sh9416', 'hatibu', 'johnziminza', 'kwarahelabuu', 'shidutu', 'kwamanikana', 'kwamgendanyi', 'kwaadolfkatema', 'kwakalashi', 'kainimbilinyi', 'kwamwasika', 'kwawilsonijames', 'kioskinamba1', 'kwarashidmipaji', 'turashimye', 'kwamzeemwakilundi', 'seremara', 'asiadola', 'kwamzeegerson', 'area9namba7', 'kwamwisa', 'kwajacobnyagawa', 'chaume', 'kwacarlos', 'kwangeye', 'kwamzeengoza', 'chabusungwe', 'kwamivuti', 'kwabibiripili', 'bushini', 'bintichilala', 'irondomagharibi', 'shuleyamsingisango', 'kibafu', 'kakibale', 'kwambize', 'mh.mansouri', 'atanasi', 'shuleyamsingimasanze', 'kwarobiumlema', 'igunyab', 'crement', 'mwanzisekondari', 'kwahoseaguza', 'mtapendasecondary', 'butulwambula', 'kwaraule', 'kwavenosammary', 'kwakajembe', 'ismai', 'chango', 'mdumburi', 'mtonisekondari', 'mohamedsimba', 'maembeni', 'nyambo', 'kkkkimandolu', 'kwasamwelidaudi', 'siuyusecondary', 'kwajamesmwita', 'aidamwepera', 'kwamachwiko', 'kwamamalatifa', 'kwakasiani', 'kwakalelwa', 'kwasimonilomo', 'centralpapa', 'kwambeya', 'jacksonndelule', 'kinandilidispensarytank', 'kwamwalimumajani', 'kwamzeeamaniluhimbo', 'loghwe', 'selukaprimaryschool', 'kwamwakidogolo', 'kwafelixmartinmunishi', 'kwamzeevies', 'kwajeradinyagawa', 'thawabu', 'kwamwalami', 'kabaka', 'kwayohaneshao', 'kwamniga', 'nyeginasekondari', 'bondelamgugu', 'saidijongo', 'kwamwaigegele', 'kwagerasi', 'mwabafula', 'kwameli', 'shonvi', 'mkadumbulu', 'nassa', 'kwaelishamtivike', 'jodge', 'kwatresphory', 'kwabugumbamihambo', 'kwamangole', 'kwaneemakiungizo', 'josephmambarera', 'kwatuatimbolii', 'kwaanyemike', 'zahanatiyawazazi', 'kulusi', 'gomedarajani', 'rovogatusmwanakatws', 'plot41', 'uzuri', 'kwamzeekahendi', 'kwac', 'zananati', 'kwamjore', 'kwagoodluckmmsry', 'ludelemla', 'malenga', 'kwamzeefrances', 'chachanyamaasa', 'kwakidefu', 'kwajoak', 'kwafejistachambile', 'kwajonasimbugi', 'mtakayoprimaryschool', 'kwaliseki', 'kwajonathani', 'kwagwankisalukui', 'liampapanundi', 'pugusungeni', 'kwakibamba', 'igayaza', 'yusufuwambura', 'kwasamugabe', 'kwawaitonimhema', 'yosephatimalongo', 'kwayobumwanza', 'mage', 'shulenikatumbasonga', 'kwamatindemaseke', 'vunjatembo', 'kwasariamshiu', 'majengohesawa', 'kwarobertisowe', 'kisegesei', 'kamakema', 'kwagerevas', 'kwamashaurimagorsnga', 'kwangaja', 'shuleyamsinginyakasaluma', 'kwaabdimosha', 'nestorymwinuka', 'kibayaprimary', 'sudithabiti', 'mwamsokoro', 'kwapaulmlai', 'kwemzuka', 'kwaivolwena', 'kwapendakimaro', 'kwaismailalli', 'monelea', 'josephmashilimo', 'kwaamirjoseph', 'kwamamayusufu', 'kwamgaisa', 'kwabenesmhenga', 'basinula', 'kwamoshimasunzu', 'kwakingubi', 'nobertntembagala', 'doromoni', 'mwashami', 'kwamapundaantony', 'kwadamiannyudike', 'itemelo', 'kwadahabiba', 'mwangaya', 'majibaridi', 'kwamzeejunge', 'ngaleni', 'kwamichaelfaustini', 'kwakeleleuka', 'bayo', 'kwaverani', 'kwabenjamwenga', 'kwabelio', 'zonola', 'shuleyamsingizimba', 'kinasi', 'kwastelakinyamagoha', 'kwagodwinmwakipasongwe', 'kwakihondo', 'mzeesimion', 'rwamatenyure', 'magoekod', 'mwaseniprimaryschool', 'kwanaftarikatende', 'kwabenjaminnyon', 'kwachumbu', 'kwamakambui', 'triplep', 'kwamzeenyungu', 'kwandagayi', 'mwambelo', 'chatimsomba', 'gwangwa', 'ahamaziba', 'pentecostakilinga', 'shuleyasekondarikitunda', 'kwamerikyorimsaki', 'magombeka', 'kasweswe', 'kilasilo', 'kobwele', 'lashuleyamsingikikonko', 'kiharata', 'kwasagile', 'kwamzeemwakapegele', 'agrikanichurch', 'mpongwa', 'kwahalisanaliwa', 'areafivenamba4', 'ndalo', 'shulenikiura', 'kwamzeesanzara', 'agness', 'suguta', 'mzeehamza', 'oludubwi', 'kwqandrew', 'kwaangovi', 'kwamatego', 'kibaha', 'kwagulufu', 'jumaseif', 'kwadc', 'kampu', 'kwakatwale', 'iddshabaan', 'kwamasalo', 'kalele', 'kwapolepole', 'kwaseba', 'kwasegalai', 'jasonmwakasita', 'costantino', 'kwajosephswale', 'kibole', 'kwaallygunda', 'kwanahela', 'kasimbomwisho', 'kwashiamba', 'kwawilsonmwandenuka', 'kwamzeemsaule', 'kwamohesanka', 'mshepani', 'kwagudruckkimaro', 'kwaseprian', 'kalikenya', 'kwamatambi', 'kwasaidmbokomboko', 'vujecenter', 'kwahezekiamwilete', 'kwamzeesiron', 'kwarobertkisanga', 'kwamkosa', 'mchukwiprimaryschool', 'kalala', 'kwadihimbwa', 'tilta', 'kwambisa', 'zakariagomo', 'kwampasa', 'nghobokodispensarytank', 'jackobkiaka', 'ishekeshe1', 'eagtchurch', 'kwashata', 'thomasnhabi', 'krash', 'upungumagharibi', 'kwamlimbila', 'liabaka', 'kwarobertmoshi', 'kwananyenje', 'joycenesi', 'kwaemanuelgaunji', 'kwajumajuma', 'kindiwiticamp11', 'sakai', 'kwamesijamwambene', 'kwamzeekombwewe', 'kwamhwadu', 'kwambwiro', 'kwasadru', 'akahebayebe', 'kwadanielmasawa', 'kwangaluli', 'shuleyamsingisangambeleazim', 'lwenge', 'kwadaniela', 'mkakangagac', 'kwakituta', 'bukundiprimary', 'kwawenge', 'mumakekea1', 'kwagraceswai', 'kwahela', 'kwamzeeadamkinda', 'malita', 'kwamzeehindila', 'estonialyala', 'kwahaulambi', 'kwakiselengo', 'lazaromafuruka', 'zahanatiyamwankoko', 'kwamselo', 'bulenganija', 'kwamavunje', 'kwaomariidd', 'kwabuji', 'juliasnyagorena', 'mambopoa', 'kizikub', 'kwamwingolu', 'kanotobelo', 'kwabampelemwalwembe', 'kwasangatii', 'kwasielewi', 'mlalo', 'kwaalisitides/', 'baptisti', 'kwamtarika', 'mtundani', 'choganibanywa', 'no.2', 'kwasofia', 'kwaelinisajeremia', 'kasomamakwangu', 'kwamedadithomasi', 'pandeleo', 'area7namba4', 'kwakupelwa', 'kwagalasiani', 'malata2', 'ubayari', 'kwawillngota', 'didi', 'machea', 'kwanurudintemba', 'ishingishabatogwe', 'shuleyamsingiimalanguzu', 'kwamavoma', 'kwacharleskamkwamba', 'kwachoka', 'kwamzeesaidisabuni', 'areatwonamba5', 'tunduru', 'kwahotel', 'gelegeza', 'fanueli', 'kilosa', 'staffhouse2', 'msyani', 'kwatungusadanda', 'gesase', 'administrationblock', 'kwakibala', 'kwamajemeni', 'kwamzeeosmundi', 'kwakinyamagoha', 'werero', 'husweinkasim', 'kwakapumbe', 'kwakiungu', 'wami', 'kwamwanangwedere', 'kumkataprimary', 'ukondamoyo', 'kimbai', 'sagengeb', 'ikongola', 'kwakandege', 'kwapaulkatumbili', 'kwamesiamhagala', 'kwandilibwelu', 'kwarotary', 'hassanmzee', 'kwaramla', 'mwasitisenta', 'kwarwabukoba', 'shuleniyamsinginsongwa', 'kwafataki', 'kwaagnesbryson', 'kwaraymondchata', 'hamisyusuf', 'makolakanga', 'kwajastonimbago', 'shuleyamsingikagongo', 'kwahamza2', 'nyabirere', 'kwaphilbert', 'kwaallyrandi', 'kwamzeesilvestaelias', 'makangalawe', 'kwakakubo', 'kwashahongwe', 'kkktngabobo', 'kwamzeejumakikonta', 'kwabitigudi', 'kwaswaikani', 'kwamzeelungole', 'sunukakati', 'bunda', 'ngumbula', 'kiludu', 'kwaphotunatusi', 'mchomoro', 'kwamzeekalokaza', 'gatino.3', 'peterntera', 'kwastanslausolomi', 'kwamerejombe', 'kwamzeeseme', 'kwagozbert', 'kwabishamba', 'kwamatiaslufunda', 'sofiashuja', 'kwamolondo', 'muleni', 'kwaromanthomas', 'yugava', 'mukulati', 'area1namba17', 'kwadilalila', 'luvaia', 'kwizeraprimaryschool', 'kwabufumbe', 'kwaludovickeliasmunishi', 'kuchenga', 'kwakadushi', 'kwamtiro', 'shuleyamsingingad', 'kwamhako', 'umojaninguvugroups', 'nzoga', 'kwamzeemlawa', 'kwamamataliki', 'mayokola', 'mashiku', 'kwaharunimasud', 'gatilasamora', 'raphael', 'mdudumo', 'kwamzeemahushi', 'mwalugulu', 'nyaguganwa', 'kwaaisea', 'kasugulu', 'kwaomariabdallah', 'kwajaneti', 'kwafyura', 'kinapa', 'muntambaprimarytank2', 'ishosha', 'kwaleswe', 'kwamwageni', 'areatwonamba7', 'pimbiguye', 'kwantini', 'kwakudomi', 'kwakabobo', 'bulelacenter', 'shuleyamsingi_hamia', 'kwaeliteliusmbawala', 'chanzo', 'kwapetrisprosper', 'kwammakonde', 'kwarugalabama', 'kwasimonkisaie', 'kwamwinjiristi', 'kwabetricemwilongo', 'mhololo', 'kwamacariusi', 'kwanyakibusuko', 'kwamwl/ishengoma', 'yohanajames', 'kwasubi', 'kwalambaryo', 'kwabiley', 'kwamatikoroso', 'kwamsumbukambwiro', 'ngalito', 'shuleyamsingisapiwib', 'mbalapi', 'kwajivinalischacha', 'adreamaganga', 'nyamayogi', 'kwaeliasmlonda', 'difuko', 'kwandeshiusare', 'kwajohakim', 'kadewele', 'kidyamaprimary', 'sifaelnsaro', 'naomba', 'shulenikisabo', 'mtikila', 'chilembwe', 'kwamzeemwinyigoha', 'mwanjale', 'kwajonassimangwa', 'kwamandimba', 'kwamzeemahembura', 'makalabati', 'kwamarianguku', 'kwaevalameck', 'kwakulwalusoka', 'kwamandimu', 'gatilaselemi', 'kwaanandejibrat', 'kwaluzalibahati', 'kwasaidmwakabana', 'kwakarova', 'kwajoinesinyagawa', 'kwamzeederera', 'kwamwakimage', 'kwaevaristomsafiri', 'mpozo', 'kwamzeesaidalfan', 'kwanende', 'kwamabiii', 'gatib', 'kwalilianjuliusmb', 'kwamahangira', 'kwaruhwaga', 'eliamadukani', 'mabangakwa', 'katenga', 'isagenghea', 'kwamasewa', 'kwzemmanuel', 'ntakilohi', 'zaveriatichengula', 'shianza', 'salimkanji', 'kwaesaumosha', 'rugunga', 'kwakireti', 'kwabujiku', 'kwamzeebulebe', 'kwamwanjisi', 'ilambo', 'kateleleprimaryschool', 'abuujumaasecschool', 'kwachayowillium', 'kyabajumba', 'kwafrancesi', 'mwambapa', 'sijaona', 'kwababagirvas', 'kwajumakulwa', 'kwahusen', 'ng`ole', 'kwadaudifwila', 'kwamzeemstararungu', 'jacksonmianiko', 'kwasensa', 'yohanamlohe', 'kasubuya', 'msahaaa', 'kwapauloogenda', 'kiosknumber5(cb5)', 'areathreenamba31', 'umojashuleni', 'kwamwalimujane', 'igukukwafabiani', 'kwawalimu', 'kwamusakinyamagoha', 'ikungu', 'kwavalencelimo', 'kibondereli', 'kwamisisini', 'kwalugano', 'ufundilunguya', 'kwamkwayaponoke', 'dabasob', 'mbwarssecondaryschool', 'lili', 'kwaaikashaban', 'mwalimwemsi', 'kwamingatii', 'armakalikara', 'olubak', 'misughasprimary', 'kwanjigeilele', 'kwaalikatimbe', 'kwajonath', 'lubagamlimani', 'magiramba', 'zatu', 'kwailangamsengi', 'ntuzu', 'kwachakalike', 'kwachristinambwilo', 'chitanda', 'kwanyaisanga', 'kwafausta', 'izunya', 'kwameleniakadushi', 'hamgege', 'maretib', 'kwaolemutero', 'sifaelgeremia', 'solwashuleni', 'kwamakuru', 'kwamzeekonley', 'iyuli', 'kwamzeemandempu', 'kwamzeejohnshusha', 'kwahoseakihombo', 'kwaevenlightmlau', 'mwasayihealthcenter', 'area7namba6', 'kwareminiscakileo', 'olorienikwakimani', 'fanaelngitu', 'kwamzeepollice', 'kwachrispinkinabo', 'nyamatole', 'kwasusandickson', 'kwabrash', 'kwamzeesokoni', 'matare', 'kwamalya', 'fumolupio', 'kongoloshuleni', 'kwajalala', 'kwatuolele', 'rajabundugu', 'koruwa', 'no2', 'kachinga', 'lipemba', 'nyamkunika', 'kwayusufomar', 'halinga', 'kamanyola', 'jamesmakanga', 'kwabi.himaya', 'jamida', 'muuwa', 'kwaabdimusa', 'mamuya', 'kwaliliuntarimo', 'kwalehani', 'kwamzeeshayo', 'kwarobson', 'kwahaita', 'eliphance', 'bulukuweja', 'amosinangay', 'isunga', 'kwahamimhussein', 'kwakasimchoo', 'kwakanjunju', 'kanyinyi', 'kwamzeemwakagugu', 'iringa', 'bwawalantobo', 'kwakaneno', 'kwamagolyo', 'kwafumo', 'sorenyi', 'listonhaule', 'kwaradipa', 'kwamzeebangilinkanga', 'kwadimanunda', 'nyamalonda', 'kwamzeeaugostino', 'mwabalebi', 'kwamzeeokora', 'kwapekuamwinuka', 'kwachangupa', 'mwenemlewa', 'mamabeti', 'muguza', 'leprukoprimaryschool', 'kwamwanagenge', 'kiwawe', 'kwazachar', 'magharibi', 'kwasostenesi', 'kwarurese', 'fao', 'kwaanaelmariki', 'bombalaserikali', 'msombeli', 'emmanuelnyami', 'mikwajuni', 'kwangarazi', 'kwamacho', 'imalawzo', 'kubenya', 'kwamzeenyakarungu', 'gezasokoni', 'kwajafethmwandambo', 'mwabombab', 'kwajumbeshabab', 'kwaawiniaelimakupa', 'mboge', 'kwanyaubena', 'kwatinarambwaga', 'kwamtawani', 'kwantayombala', 'kwaghinga', 'districtcomissionerhouse', 'kwagowesi', 'kwamzeemalocho', 'mzaya', 'bitifundi', 'gatilakwawerema', 'kwamaleta', 'mgure', 'nyakalembela', 'kwakwangundoshi', 'kwakuzagwa', 'kwaobedmgaya', 'kwamzeerutta', 'shuleniivigoprimary', 'mungugo', 'kwanjinanyani', 'kipumwa', 'kwamagagachacha', 'kwasangidanelodi', 'kwamamamasatu', 'vituea', 'kawawabwenikayukisec', 'kwamchnga', 'kwahusseinmchana', 'kwamamamahiopo', 'kwasaidmasudi', 'mamadeba', 'kwamzeeodinga', 'miyengweni', 'nyamanje', 'kwamangapi', 'mkomelo', 'warutu', 'medsonmsukwa', 'mkongeni', 'sahani', 'sindamenya', 'kwakabonae', 'malesela', 'masilila', 'qwaidesh', 'kwajoramvisima', 'kwacheche', 'bahariamgawe', 'sangamwampuyaprimaryschool', 'kwamzeelutemanhinje', 'kilimamojaa', 'mwaliobye', 'kwamwangabo', 'kwaabertmwambungu', 'kwamzeempenzi', 'kashelo', 'kwaandekisyemwaibako', 'kwasenkondo', 'urashi', 'jumanneabdala', 'luiga', 'kwajosephmwambukutu', 'kwaemmanuelkandonga', 'sansa', 'mdunku', 'kwaalfanikalungwe', 'kwapuya', 'kwanyamsumi', 'kwamelikiomkalala', 'chingwele', 'kwamzeechalo', 'kwaevodmanyika', 'kwamzeeliobite', 'zahanatibusunzua', 'wama/nakayamaseconadry3', 'kwamzeelukenzi', 'kwaothuman', 'kwamarrymmary', 'boya', 'kadagala', 'kwamzeethom', 'kwachristopherngilangwa', 'kwavenancekaburure', 'mzeemsafi', 'busurwab', 'kwajonhwilliummos', 'chikoin', 'kwajacksonsomi', 'kwadominikimushi', 'kwagomu', 'kwamuktari', 'kwajosephmdeke', 'shuleniigagala', 'mashambani/mchungaji', 'isamilo', 'nyakichuro', 'nyakeregeni', 'salumiramba', 'mwamedsaidi', 'mountmeruflowers', 'shuleyamsingimawenzusi', 'kwatarishi', 'hijamfaume', 'kwamzeemgowelaa', 'kanisalawalokole', 'kwastefanikibiki', 'kwasliti', 'kwamabefu', 'kapamisyashuleni', 'mjanyagambob', 'kwaeunicesumatia', 'innocentjoseph', 'kwafedrickipuge', 'msunuzi', 'jumamohamed', 'kwasonzogo', 'kwabatoninyamagoha', 'kwayassinndegea', 'kwamzeembaraka', 'kwambialu1', 'kwamkanula', 'kwaraymondkwayu', 'kwaamrikemwalukuta', 'kwamzeelitono', 'kwawilliummwangonda', 'kwajosephngonyani', 'elizabethnankamba', 'polandi', 'kwaannakitomary', 'papanie', 'kwaloisi', 'kwapamshi', 'kwadawiwelwel', 'shemsia', 'kwajosephalex', 'kwanestanguku', 'mguruka', 'ijowe', 'kwamzeeoscar', 'mbonera', 'moiposecondary', 'kwasagule', 'lombeta', 'kwamzeechiwinga', 'mwakaligroup', 'kiputi', 'mekere', 'kwamahongole', 'lulumba', 'kwaninita', 'chizamajebele', 'mariahilonga', 'mungumaji1', 'kwamzeemalera', 'kwajosee', 'tatum.sobo', 'parokianikabalenzi', 'mpakilwa', 'kwakandulu', 'ipito', 'mzeeomary', 'mzeemaisha', 'kwamariananikodemas', 'kwaramadhanimgaywa', 'kwamikano', 'igwatac', 'mbalaganeprimarytank', 'monoli', 'kwawilbroad', 'kwadonaldmongi', 'kwabitonimteleke', 'seti', 'kioskibayanamiembeni', 'chilabela', 'kwamustafadaudi', 'jingu', 'kwamzeenyakapunga', 'nkoanekoliprimaryschool', 'kkktboreholescheme', 'shulenikibindu', 'bandi', 'jabutwa', 'eneolakanisa', 'sikitiko', 'nyangwe', 'kigugwe', 'kwamzeemlonga', 'kangs', 'kwahasham', 'kwamzeefuruco', 'kwamasaikasake', 'fidelmwashela', 'mwabumaprimary', 'kwamzeebonifacekaemele', 'mwandami', 'sanyunda', 'kwamzeemkulusi', 'kwamaulidali', 'ikwiririsecondaryschool1', 'kwarajabuadam', 'kwajohnkitembea', 'kwajamesonnjogela', 'kwaisayamtemi', 'chanjare', 'kwaimani', 'kalivisimani', 'kwalonjoi', 'kwabintichinole', 'kwandetefyosetonga', 'shuleyamsingikitwe', 'galalavyakula', 'bonifacemwiko', 'kwamalyunga', 'kwalawaibura', 'kwamzeeevarantine', 'bumbutakati', 'fidel', 'mwanholo', 'kwakubomoa', 'kwabitkibwana', 'kwamzeemapigano', 'nelsonmandele', 'muya', 'sinyaone', 'diphorombo', 'kwanghungwi', 'fumatulonje', 'kwageorgenyagawa', 'kwasamwelilili', 'mpenjwa', 'kwalengeteni', 'kwakapanu', 'kwamzeepaulmadelu', 'ilangali', 'kwafilisi', 'malaloni', 'kwajacksonmsule', 'kwamohamednasor', 'kwaburchard', 'zahanatikasulo', 'kwaaidaniluboka', 'kituochaafyanyankungu', 'kwalyupa', 'kwakuhoa', 'kwabintimnyikondo', 'kinasa', 'mzeedaud', 'kwabibimwanaoa', 'kwaomarimwaikeke', 'kinkonge', 'kwapirinini', 'kwadonaldmasamu', 'kwathomassagaja', 'kwahopa', 'kwaedwardmaimu', 'makini', 'kwakwaahmadmbedo', 'kwalomunyak', 'kwarajabuponera', 'kwamhojamasweke', 'kitotoni', 'kwamzeemwalimbila', 'kagongwa', 'kwamatemba', 'vertinary', 'kisiwaniprimary', 'guchela', 'shuleyamsinginaliendele', 'kwaabbastabu', 'shulenibondwa', 'kwamzeemlope', 'kwaallymasarakulangwa', 'msikitinibondeni', 'kwasovu', 'kwafrankmotombaya', 'nkingwaa', 'shuleyamsinginyabushozi', 'kwagerladmfipa', 'misisi', 'kwamzeemwailonda', 'kwanathaelimizigiro', 'kwaemilpaulo', 'shomarimkude', 'fundimwanguzi', 'kwamzeenigusi', 'kisozidpno2', 'kwatrifonngonyani', 'kwamnyakakunde', 'laghanida', 'chachakebwe', 'kwakarango', 'kiguruka', 'kwanoeshanga', 'kwahakiimu', 'kwathomasibarundi', 'kwamzeeswahibu', 'kwashemsengi', 'udutu', 'kwaleonardchimagu', 'ushirikianod', 'nkindadaima', 'kwayahyarashid', 'josephslaa', 'palioni', 'shuleyamsingimoningori', 'kwajailosnyaranga', 'nyabulongo', 'kidetea', 'mtaawakati', 'kwamseka', 'kwasaluwati', 'kwanicodemumkumbwa', 'kwawilbroadilafaeli', 'kwamzeenahosi', 'nyalusak', 'kessymwajaanga', 'kwamzeeabubakari', 'phelipiuninternationchurch', 'kwadonadi', 'kwajosephkasiana', 'bukiriro', 'mijei', 'kwastalenimakao', 'kwaadabumassawe', 'kwababafedi', 'wamata', 'kwamzeemandua', 'kwamlongela', 'edwinmsongole', 'shauliako', 'kwathabiti', 'gideon', 'kwafocusmkenda', 'kwaabdalaali', 'bakariyusuphu', 'leonald', 'dp1(kwamwakanyamale)', 'kwayena', 'nyamigamba', 'kwanzingulashija', 'shuleyamsingikalebezo', 'kwayunuthathman', 'makorinyitange', 'kwayubert', 'kazunguti', 'kwamwlmwalala', 'kiosknumber9', 'kwakiza', 'kwasix', 'nyarwahe', 'kwadaktari', 'kwasimbo', 'kwachurila', 'kwavintanikirokoti', 'kwamzeemahali', 'rushangub', 'kwapartsonlubembe', 'kwawilliada', 'kwahajatimaimuna', 'shaki', 'makuyuniprimaryschool1', 'kwamsando', 'selotoshuleni', 'laurentmdoro', 'kwachristopherkavishe', 'baraasecondaryschool', 'unyahatisecondar', 'kwasaimonmatto', 'bachoji', 'areathreenamba42', 'sarikiael', 'kwaroki', 'kwaepolenia', 'kwanyahinga', 'lusenga', 'kwachija', 'ntumbukiae', 'itoha', 'molawa', 'njunjugala', 'mtungulu', 'kwamzeejohnkanganga', 'kwajojimadunda', 'kwaadichi', 's/mkwikuba', 'kilimatindeprimaryschool', 'kwagadau', 'kwabikonyolo', 'gwantu', 'highness', 'kwagiera', 'valerian', 'ugwesa', 'kwaledigapili', 'kwalongnus', 'kwaallynamata', 'mipata', 'kwasesiluafransis', 'kwakumbulu', 'kwatachkomo', 'kwamatabu', 'kisokwe', 'kwamwandoomari', 'kwaelinipendwa', 'kiseushuleni', 'singisha', 'ngayama', 'kwamzeefikiri', 'mbaashiprimaryschool', 'kwafatumathomas', 'kwagilbertmaimu', 'meilanga', 'kwabensonmatatala', 'kwaabbasi', 'lutenga', 'shuleyamsingisimbo', 'ngiga', 'mwansengo', 'kwaabdalahnamtoya', 'kwakauti', 'kwambatiani', 'jeremialawalah', 'kwafilimonimwaseba', 'shulenichanguge', 'kwalucaskaswalala', 'mwakusemwa', 'kwamzeeevelianthomas', 'kwamandolya', 'seedfarm2', 'kwageorgemwasabage', 'modestamgaya', 'kwakiiza', 'kwaernestmalya', 'kwamosesjeremiah', 'worldvisuon', 'sakasakaaprimarytank', 'iyunguyungub', 'kunyezino.2', 'kwamuhammadharuna', 'mariakala', 'kwamzeelolanda', 'mikocheni', 'kwafrankmgaya', 'mikiroshoni', 'jiwelamsingi', 'toyekukoyagroups', 'range', 'kwakisarika', 'shuleyamsingi_kidoka', 'kwafelixmayuya', 'kwaemanuelmmasi', 'kwamiseyeki', 'kwakafelo', 'kwamakisio', 'kwadiwaniselemani', 'kwamzeeadamkusaga', 'mhamedinasibungozi', 'kaunda', 'kwajummakalangula', 'sokonikivule', 'marwanyikongoro', 'shuleyasekondarikyamuraile', 'kwamauki', 'kwacosmaskabile', 'muningori', 'kwajosephdamiano', 'kwafundimtimbe', 'lunguzaprimaryschool', 'ishola', 'mwadanga', 'shuleyamsingimuun', 'ccctawi', 'kwajohnmwambinga', 'schooldp', 'nganyange', 'lisulu', 'kwapole', 'kwamzeemwampulule', 'kwahassanmgunda', 'kwaashahamdani', 'kwaanodi', 'butengub', 'kwamayo', 'shuleyamsingibuzigula', 'kwaclementsafari', 'kwamzeeisa', 'mikaga', 'kwawilfredkimaro', 'kwamzeeshemtete', 'kwabahatitarmo', 'kwabwege', 'paulosinyenga', 'kwaemiriana', 'kwamitungu', 'kwacosmamatolo', 'kwakwala', 'answari', 'kwabisoma', 'mkombezi', 'kwamzeemadingilisi', 'kwagervasmkanura', 'kwahusseinkalunga', 'napanjo', 'patrickmarwa', 'kwampendakula', 'bihanga', 'mkongwe', 'matimosangi', 'ntimaro', 'kwaelikaliamende', 'kwajacksonloningo', 'kisimachasule', 'rukiotulule', 'kwamkamambogola', 'marondegabriel', 'richardkisamnobo', 'bungwe', 'nyamanono', 'kwairande', 'kwamashakatwalibu', 'geofreyileta', 'shuleyamsingimabadaga', 'kwabintselemani', 'kwasengerema', 'nyamusagala', 'jacksonkaminyoge', 'kwaaboko', 'kwajohnlusulo', 'kwampoto2', 'boazimsigwa', 'areathreenamba21', 'gidiba', 'kwamzeehozakaratasi', 'mwandimi', 'combineb', 'kwajuliusmbalai', 'songambelea', 'kwamburasita', 'kwamzeebalagulapetet', 'dawamsanfwa', 'kwakamacha', 'kwafilimonmasambo', 'kwamoreleli', 'imalesekoprimary', 'kwamahamba', 'kwalevina', 'finiwaterpachani', 'singaile', 'rahelsenkonde', 'kwayohanambwilo', 'mbangani', 'mnondwa', 'lugobaprimaryschool', 'kwajomito', 'kwaflavianalocye', 'bintimarambo', 'bashetsamaria', 'kwamaniki', 'shuleyamsingimpombo', 'kwamzeehamzamakala', 'kwamuhugo', 'kwamwansakamile', 'kwamzeenjuwaga', 'kwaetami', 'hangagaa', 'kwamzeealmasi', 'kwamjenga', 'kwawatsonmbembati', 'kwajacksonkadaga', 'kwafrazia', 'bwendanseko', 'kwaselemba', 'kwabenjaminmatota', 'venance', 'malampakaprimaryschool', 'kwafelixpayovela', 'mgunda', 'kwamengo', 'nyamgongo', 'kwanyangu', 'kwamzeevelege', 'murugumbi', 'kwashadrackkweka', 'kwabidielluka', 'kwamcheru', 'kwabulashi', 'kwachamresele', 'kwamatikila', 'sigi', 'bulahu', 'kwataresiradidas', 'ezereda', 'kwageorgemwamngambilwa', 'jumannemsengi', 'kwakishili', 'twelehulo', 'lakimoyoni', 'shuleyamsingiikuzi', 'wannandi', 'mwakushiga', 'kwashgaya', 'kwahawahassan', 'kwalamekibadiri', 'sambagule', 'mzeeikoyo', 'kwakagaruki', 'kwaantanamusulyatuu', 'kwamzeehimamu', 'mzeeerrycharles', 'mtiba', 'area18namba4', 'nyangwabarabarani', 'kwakwegeye', 'evodimosha', 'shetundui', 'kagunga', 'kwabeterammasawe', 'shangiraihardware', 'bwampa', 'mageuzigroup', 'shulenisecondary', 'kwasululuka', 'nyayo', 'musabakari', 'shuleyamsingichelenganya', 'manyisokilawa', 'chamagambasecondaryschool', 'kwaedwardbatoromayo', 'samusinyinza', 'nyashimbab', 'kwamzeejumasekiboko', 'kwachihua', 'kwashijamaziku', 'ilelangata', 'kwashabaan', 'kwachangondo', 'kwamzeesikujua', 'elibarikiesoya', 'kwakashingo', 'masoudmwarabu', 'kwaatumanjuma', 'kwangwanangwaya', 'kwacasiansanga', 'muhangwa', 'majalubani', 'kwahansathumani', 'kwafroriani', 'kwahakimually', 'kwastefanokessy', 'kwabugerere', 'mkhondi', 'kwahillarymuhamed', 'kwaulemela', 'bombalakitongoji', 'yusuphuathum', 'kwakolebumatandala', 'mangeka', 'kwarhodambumi', 'kwanyonya', 'kwamamabenn', 'kwaherio', 'kwajuliasdaud', 'kwamrsmosha', 'sino', 'kwamasatumusiba', 'kadundula', 'kwaolenenjoromba', 'kwahagaze', 'kwakajulamwakyembe', 'mariafiderisi', 'jagubika', 'kwaamiromar', 'msangeprimary', 'julitasiame', 'dinyeli', 'kwasabco', 'kwajosephsuluba', 'serenabowholeno.3', 'amaniimnyimwa', 'rabani', 'mongo', 'kwaalimbaya', 'kwawaliadingukweka', 'kwajoina', 'seedfarm4', 'mwabagaluprimarytank', 'kwakuku', 'kwabasheganyi', 'kwamalimachristipher', 'kwamurishi', 'marumbosecondaryschool2', 'kwamasuhuko', 'kwabugo', 'kwanjegedu', 'kwamajimengi2', 'kwamzeebaramandu', 'kituochaafyamjimw', 'kenonzob', 'kwamlimbo', 'guhuma', 'kwaleonardmpima', 'ndaliloa', 'kwabibikundenda', 'kwamkumbwa', 'kwamzeeaboudelmsami', 'kwasamsonmusanga', 'kwamamanoki', 'area9namba24', 'kwababuk', 'kwashinganansiamun', 'mzeesadi', 'danifordjumanne', 'kisimanitasaf', 'kwamzeengongotage', 'alexkipea', 'kwamonzole', 'kwakade', 'kwandesaulo', 'mkuyunibondeni', 'kwaemiliomwelange', 'baguani', 'kwamzeesulugani', 'kwalengwasi', 'kwamakesi', 'kwasabaya', 'msikitinikwamtaenea', 'mizinga', 'zahanatikinyerezi', 'kwadainakyejo', 'kudigali', 'anthonymteni', 'pagaga', 'kisiga', 'kwakilangi', 'kibati', 'kwadomikusnyanguru', 'mabwelebwele', 'muhorosecondaryschool4', 'kwaromanusmlavila', 'nyugwasecondary', 'kwandondi', 'kwagadii', 'kwasimforosa', 'kwaptro', 'naitoliaprimaryschool2', 'kwabibisofia', 'kwaipyanamwampondele', 'changia', 'bithossen', 'kwamzeeenasi', 'kwapinni', 'kwapatrickmasenga', 'shuleyamsingiunyamwanga', 'kisimachamahe', 'kwawilsonmwasuka', 'kwalinganyima', 'kwabi.kuwini', 'fongasokoni', 'kwaponeja', 'kwamohamedshio', 'kwarubibi', 'lutozoprimary', 'mbewe1', 'kwawazazi', 'kwaabdulazegea', 'mbasini', 'kwashort', 'muchuya', 'kwabrownmwasekoba', 'kwamatembele', 'kwadominikimgoba', 'kwajohnmilinga', 'kwababalabani', 'mzeempili', 'shuleyamsingimikamba', 'kwaathumanizuber', 'kwal', 'kwabakarijames', 'sabage', 'kwafelisekawalaza', 'kasago', 'igagatib', 'barazalawazee', 'bojagi', 'shuleyamsingiibambula', 'kwakamchapengalaki', 'kwandonga', 'kwakasonga', 'kwasayenda', 'israelmsigara', 'kwalekimakweta', 'kwafurandosa', 'kwadanielngonyani', 'playground', 'kwandabila', 'masanjamkai', 'kwamzeendinuntwa', 'kwamsongole', 'paulsimon', 'kwamajewele', 'kwaraymondshio', 'mtunda', 'kwatoi', 'kwadaudakateme', 'kwamzeecosmassadara', 'kwarones', 'jikonis', 'kwakifaa', 'kwamamakiroboto', 'kwamzeematupa', 'msunginabuyu', 'mnyamani', 'kwarwimo', 'mzeehoja', 'mwagatani', 'mwlabdalahchameni', 'area6namba3', 'kwamzeemura', 'mwlselemeni', 'kwanavaya', 'ogayi', 'kafunzudpno2', 'kwataddey', 'kwaemilian', 'kwalenginadodi', 'bujiku', 'kwamzeesamwelsimae', 'mugumusecondaryschool', 'zahanatibukirilo', 'msasatib', 'kwamzeedenisi', 'kwamzeedengela', 'kwanaelu', 'kwalinusabdalah', 'mq4', 'mzeeamandus', 'maili35primaryschool', 'jacksonkamwela', 'raurancekyariga', 'kwamkumbanya', 'kisimachabuzilima', 'pakunywesheamifugo', 'hakimusichenje', 'kwamuku', 'kwamitumba2', 'kwatedorywilium', 'kwaalijamali', 'kwanurumsigwa', 'kwamagomaswahili', 'muhibu', 'kwamalikimshsns', 'mafuleta', 'kwapetermlya', 'kwakamara', 'selemanisaid', 'kwagodenmfugale', 'sume', 'kwalawanimbwuro', 'bismillah', 'manyonichini', 'kwabahatiminga', 'kwamzeenduturi', 'shuleyamsingisalunda', 'majulesi', 'rulengesecschool', 'kwamatokeolulandala', 'mbugaselous', 'pascalabdala', 'kwavailethmunis', 'tankshule', 'chamelaa', 'kwatulinumpokimwangalab', 'kwamichaelkayungilo', 'munguzib', 'kwamsemakweli2', 'maliseni', 'kukasosa', 'eliyaannaeli', 'abdaladewji', 'kiungu', 'karibunashambalajohn', 'shabaanmatingisa', 'kwamzeewilfred', 'kwanyakasonga', 'chambasi', 'kwamasakashule', 'areafivenamba16', 'kwalongunusiyoga', 'kwajordan', 'jstinesanga', 'shosha', 'hyedesh', 'sekondariyakimwani', 'kwavictoriakisambula', 'kwamzeekazibure', 'kwamasulube', 'kwamgomeri', 'kwamalisiana', 'kinamweri', 'kwatirugarugwa', 'kwamzeeluponya', 'matinja', 'kwatwilumba', 'kwakimito', 'kwamenasi', 'kwamsanganzila', 'kwasayuni', 'kwarubegesa', 'shuleyamsingiidubula', 'kwasalmonmasogi', 'kwahusenikajura', 'kwanuruamri', 'kwawatsonimkolo', 'kwajosephburu', 'muyamasecondary', 'kwaferixfilipe', 'mumakekeb', 'kwamzeesedaudi', 'kalobola', 'masjidtaqwa2', 'kwayohanesuyadzile', 'kwamzeekinombo', 'wilsonmwambona', 'kwalllonde2', 'jumannekasongi', 'pandakichiza', 'mirika', 'kwamichaelmwaiso', 'mwandegebondeni', 'kwazigwa', 'kabuli', 'kachonge', 'kwakigeso', 'mzeeathumanimusa', 'bakarihamisi', 'chachakerende', 'kwarymondmaimu', 'obadiakasanga', 'mnana', 'raphaelibeni', 'ifungoshuleni', 'kwarichardkasamya', 'kwamwidete', 'bombalakiseu', 'kwahonorikasiani', 'area17namba46', 'jaica2', 'mwatumbeprimaryschool', 'shuleyamsingiikengwa', 'kwamsigwaelly', 'kwamhinakigogo', 's/mseka', 'kwamzeemaliboti', 'mwashigib', 'nyarugususecondary', 'kwaarbertoingi', 'kwamzeeredmam', 'kwaonrsmogunze', 'kwamaureri', 'kwamrere', 'kwamzeeaugustino', 'kauzeniprimaryschool1', 'kwandongwi', 'kwamzeendumpo', 'asayelimwiriya', 'kwamerkyorikessi', 'kijaji', 'kwamzeekyawi', 'karega', 'ufunguo', 'kwasaidmalongo', 'kwamasalikachenche', 'kakuru', 'kwasadickmbwilo', 'kwamagase', 'manywaga', 'kwasunga', 'kwaboayhotai', 'kwamzeeleonardmajura', 'mwechembe', 'kwasadikikait', 'serengetib', 'buswelu', 'kwachalachimu', 'kwasichitupi', 'shuleyamsingibumai', 'nyahomele', 'kwaashasingano', 'ngoya', 'kintamba', 'kwakarubwa', 'dipmlanga', 'kwaemmanuelelineem', 'kwamzeedani', 'area16namba13', 'kwamakene', 'kwamzeeadebo', 'azalia', 'kwakitogo', 'ruben', 'kwadash', 'kwamzeemangi', 'kwakiabo', 'kwamohammedsale', 'kwamasumbukokwabuka', 'mafinji1', 'mwamhuge', 'kwafrankshoo', 'kwachove', 'pamphouse2', 'lyungilo1', 'kwamosesurio', 'kwadavidmlagala', 'shuleyamsingiuhamila', 'mhumunuprimarytank', 'kwafabiankileo', 'bushomashuleni', 'mruhai', 'kwamhore', 'kwamzeereberatusmabuga', 'mwasaku', 'kwamtongani', 'kwanjelu', 'zahanatiyagumbilo', 'mwanandila', 'samuda', 'kwabatwelifute', 'kwajanksonmwangosi', 'pumphouse1', 'kwakaulawa', 'kwanjugumtendaji', 'igange', 'kwamanu', 'kwandetembia', 'ijegenya', 'mzungu', 'kwajonhmabili', 'isingirostatio', 'uhamiaji', 'kwaeliwaha', 'kwamadembwe', 'kibandara2', 'mlangommola', 'ayagendaprimaryschool', 'kwamaziku', 'zandu', 'kwabarthalomeojoseph', 'kwandagabisa', 'area4namba11', 'kwamwadoda', 'kwamzeengakila', 'kwakinusmkweka', 'kwanickson', 'kamilabishegu', 'kwashambaathuman', 'mguruku', 'fransiscalmuyobela', 'ibulwa', 'ezekielmalala', 'duduhone', 'mieka', 'mkwaya', 'aminielsiriyatu', 'goloma', 'kwajosefumwepelwa', 'kindwiticamp6', 'kwajosephmassawe', 'kinswagi', 'kwaahmadmdeve', 'kwamakilinimwakatuma', 'kwarogasiani', 'kwamzeekalango', 'kwakimbwereza', 'mogimo', 'kwamasanjajepelo', 'sarugunzu', 'vyerumsikitiini', 'mabambahealthcenter', 'kwamagubi', 'kwasimonsiasi', 'kwageba', 'kinyangawai', 'izyiraprimaryschool', 'kwambura', 'sharifusharkspub', 'kwaleopoldminja', 'nanjasecondaryschool4', 'chimatwa', 'taskani', 'kwamzeekiango', 'kwakaflanomsirikasi', 'alikibona', 'mwaruhale', 'kwamchenga', 'kwaaugustinedaud', 'kwalukundula', 'kwamzeeassani', 'kwaluganokagange', 'kwamabeho', 'johnsindegilila', 'kwachambuga', 'msikitinimkese', 'kwasentalamwambungu', 'kasonso', 'majiyabluu', 'kwakaliikoti', 'mamanoelia', 'kwayonasimbailowike', 'kwakitulimosha', 'kwabitisued', 'mzeemaura', 'mlembula', 'zawiyani', 'hetanga', 'mbiayo', 'kwakigambo', 'omariali', 'samwelinyansu', 'kwabibidamas', 'kwamwanajeshi', 'kwazawadifute', 'mazaedispensary', 'zakarialukumai', 'kwamkunda', 'kwamohamedsonna', 'kwapatrickmasawe', 'kwamtambike', 'maisha', 'nganiki', 'mskitinisuni', 'kwamzeemchola', 'kwaomarymilanzi', 'amoni', 'kwasaan', 'kwang`amba', 'ngaranumbe', 'kwameshakimazuguni', 'kwaboscomwasyola', 'kwamamaodilie', 'nyasambi', 'kwabuha', 'kabutura', 'kwaswitbert', 'kwamzeekiambaa', 'mlangalanga', 'mkoko', 'kwanawadia', 'kwamwalimugogi', 'kwamzeembungo', 'bumbaprimaryschool', 'kibige', 'kwapenuel', 'kibindu', 'lamagomeni', 'kwaufutendoje', 'shabanibaraka', 'mateus', 'kwamzeehatibusaifu', 'gulamission', 'kwanakalika', 'kisangi', 'chashuleyamsingiusevya', 'kwacholla', 'kwamzeetewele', 'mahagashi', 'kwakidaga', 'amrimavala', 'kwaedinamlosa', 'mhina', 'kinankambaprimarytank', 'mtaawakaritu', 'watumiamaji(tumainia)', 'ipeja', 'kwafortnatanangawe', 'kwababashira', 'nyaburegi', 'kwasaidimpunda', 'kwangulembe', 'kwahusseinchambala', 'kwamzeehasanihoza', 'yonaelindekilokaaya', 'mwenyekalolo', 'adelardapolinary', 'pumphouse3', 'kyala', 'samirizi', 'kwamzeemdaka', 'kwandarambe', 'kwamadolemsunguti', 'njonimwone', 'kwamwafrika', 'kwarehemalulandala', 'mwanjutulwa', 'mwahinda', 'kwaabsonimsokwa', 'kwasheshe', 'kwamzeeshekhe', 'kwakahondo', 'mzeepetro', 'tubadiliketabia', 'makokaneprimary', 'mgobole', 'shuleyasekondarimwemage', 'kwakhaidbiguza', 'kwakalisti', 'litonga', 'kwajuakali', 'kingondi', 'mamakitenge', 'kwamzeemchemia', 'tabata', 'kwamzeegradembonea', 'chamaneno', 'kwamzeeshenyangeshemzig', 'kituochamtwangiri', 'upogoloni', 'shuleyasekondarinsuva', 'kwakabanda', 'mamamisanya', 'kwamtemu', 'shingitasecondary', 'nsimbosecondary', 'kwaluhemeja', 'kwaelmerekswai', 'ashadaudi', 'kwamzeeausimohamed', 'kwaeliamacha', 'kwawamburamgono', 'kwajoniceregard', 'kwayoridambata', 'kwalwiza', 'mkondeshughuli', 'tumabua', 'msaidizi', 'kwatitomagoga', 'kwasabina', 'wama/nakayamaseconadry1', 'kwamzeeanthon', 'kwansoromwanangwa', 'kwamanywelle', 'kwarhodashirima', 'matalabili', 'kwamzeemasiki', 'kwamzeemlekwa', 'mfingaa', 'kwachristianichongolo', 'shuleyamsingimaringeni', 'kwamajengo', 'kwachipetakelvin', 'kwamzeekuguru', 'magnosite', 'bintmchunga', 'kwamwangambo', 'ipyana', 'kwayassinmatola', 'ujenzisecschool', 'kwamzeevobeck', 'kipandisho', 'haisiweisian', 'gatilataboraroad', 'bunigonzin4', 'kwamzeemaleke', 'shuleyasekondarinanyumbu', 'kwamkambati', 'kwanigenjijwe', 'kivumi', 'kwawilfredsariamu', 'kwamzeekabotola', 'kwajanatu', 'kwamsajidina', 'msagulaprimaryschool', 'kwalucresiabaltazary', 'kiburemurema', 'kwansembamasanga', 'kwaeliudnyato', 'kwakusupa', 'kwapetermtei', 'mjigija', 'kwaurungihenry', 'mzogolo', 'kwadick', 'kasomela', 'matinje', 'kasato', 'kwamzeemajani', 'kisimachakifulu', 'kwamohamedmkwanda', 'kipetasekondari', 'shuleyamsingiudongo', 'kiimbwala', 'chikono', 'shuleyamsingikilasi', 'mwabadimidispensary', 'mkondiya', 'saitimkondya', 'kasera', 'kwamzeealoisi', 'ngangari', 'tuishinae', 'stevenmuya', 'endanachanprimaryschool', 'kwamzeeezekia', 'johnkibwana', 'mzeematitiedwin', 'kisimachamajingusero', 'kwamzeeteo', 'shulenimwanangip/s', 'kwabaguma', 'kwenyeboza', 'mogweprimaryschool', 'chinyikasecondaryschool', 'mwangwale', 'kasumoprimary', 'kwaahmadi', 'fireoffice', 'mate', 'kwankenda', 'mbwego', 'bikonge', 'kwakweleu', 'kwaisacklaini', 'ndibanji', 'kwabibimastelia', 'kwamwananhondo', 'mwamakaranga', 'kyerungab', 'msetoprimary', 'japhetndukwa', 'area14namba13', 'kwachipa', 'makenimakanya', 'kwarenaldmasungwa', 'masjidmunawar', 'matofaliningoya', 'kwarosina', 'kwamzeedanielkira', 'mlolaprimaryschool', 'kwakageta', 'kwasusan', 'kwaramandilamsikiti', 'kachumu', 'gastondutilwa', 'kwagerogoli', 'kwabalelekasombi', 'kwamahindoo', 'kwanjozi', 'saidramadhan', 'kwaedasaligwe', 'kwadicksonmzangwa', 'kwafransshayo', 'kwanyamisusa', 'kwaolikambwiro', 'kwaeliabu', 'isenibarabarani', 'kwajoachimaloyce', 'kwasulubeston', 'ntakangwaindaha', 'kwambwembwe', 'kwamarrymichael', 'kwavenerandamushi', 'munankanyankomo', 'kariwachinikiosk', 'zakariamligo', 'allymlipani', 'kwazawiiqarimo', 'mayege', 'parokia', 'kwajuliuskalunga', 'ipondelo', 'marwamaginga', 'kanisalaanglikan', 'kwakaswa', 'mtamba', 'majassy', 'kwarevocatusmassawe', 'iyukia', 'kwaisariamalisa', 'kwaabrahammwangomo', 'kwamzeemakungu', 'kwascola', 'kwapalaleti', 'badommoja', 'yombwe', 'nyamtondolo', 'kwamzeesaidijamvia', 'kwagikaro', 'kakomaa', 'makileo', 'kwaelioukomatoo', 'kwashehenulu', 'ilembosecondaryschool', 'jumamwikabe', 'kwabhatule', 'kwaidarayamaji2', 'kwatadeowillam', 'nyakasulo', 'mitanganino2', 'hamisshaban', 'tuguro', 'kdc', 'kwamzeetulo', 'sudikassim', 'mamaalfa', 'parangakati', 'augustinogodfred', 'kwaadijamzee', 'nyumbweshuleni', 'areathreenamba35', 'kwamhe.mizengopinda', 'kwacastoni', 'nkimanzudi', 'bariadi', 'mtiriri', 'kwaaspolomzee', 'kwaclaudiani', 'kwakimbwage', 'rufuka', 'kwalugwecha', 'kwamzeemtinamaganga', 'maelewanomvena', 'kwamakaro', 'kwaremomo', 'kwaandersonkabenga', 'tala', 'wangeye', 'kwamzeelukeengelu', 'kwaashanangumbi', 'kwarpgatkinabo', 'kashishiuwanjani', 'kwauchora', 'kwamzeemwantembe', 'kwalusianokatembo', 'ikuyuprimaryschool', 'kwamzeekinyamugela', 'kwapancrasi', 'mfumbu', 'wisekeleja', 'kwabillali', 'kwarafaelmsoka', 'mgengele', 'kwadaudiabdalah', 'kwamzeesaidshaaban', 'kwacaristasigifrid', 'kwanankonko', 'kwabampunjile', 'kwachusamarkusi', 'kwabonny', 'kwandebakazi', 'kwamziraosi', 'mwashilanga', 'kwamzeehansi', 'kwacholicholi', 'kwakipanga', 'mwageniprimary', 'minogoro', 'nakibondo', 'kwangweta', 'kwawilliummushi', 'sayanga', 'kwamwalimugeofrey', 'chipwaza', 'mwananga', 'kituoni', 'kwamgati', 'kwagwatemajohn', 'kwamzeejojo', 'msuluzya', 'kwamatiyanzilano', 'utwalemzambarauni', 'kokiti', 'kwamzeemwanganyanga', 'kwamtwelve', 'karatusui', 'dosidosi', 'mtuasecondaryschool', 'kwafundungoma', 'maulisamtokoma', 'shambalavijana1', 'kwakizostomwakehe', 'kwageorgerafaeli', 'kwabarthalomeo', 'mbalu', 'korongonimajibarid', 'mkambaa', 'nanyuki', 'kwaalimamayuta', 'kwaemakulata', 'hewa', 'nchagwakhorongo', 'magubu', 'kwalawrence', 'kwandaukakasim', 'zahanatiyailolangulu', 'kwagarusi', 'nadundo', 'gidamafunya', 'mwengeb', 'mshilanga', 'kwasadickimsabato', 'kwandinketimwakipele', 'kwaasheliandrea', 'gilbertmsiani', 'kwataremwa', 'bombalamkonga', 'mnyughe', 'zahanatiyampiji', 'kwaaminaramadhanitarim', 'kwamzeelewandokyoriki', 'kwayongwe', 'kwajacksonlema', 'kwarukola', 'kwamateobashango', 'kwayahayamango', 'mbugunii', 'imalampaka', 'sandinajohnlamba', 'kwahamismohamed', 'rubilizi', 'shuleyamsinginyamirembeb', 'kwabmanyele', 'ibrahimntela', 'shuleyamsingibwenda', 'ringwell', 'kwangangamashaka', 'heiduri', 'mkwakwa', 'mmakosi', 'kwakimbendera', 'kwamichaelsimoasa', 'kapelasudi', 'kwatutamwakatimbe', 'kagaba', 'kwakawero', 'kwakimanyo', 'kwamsimumagasta', 'busangu', 'kwamlenje', 'kwafaustinemartin', 'kwaselemanichahonza', 'matembe', 'miwagaprimaryschool', 'geremaya', 'kwabroo', 'ronecasecondaryschool', 'kwamilembeshighula', 'mzeesopu', 'kabulema', 'zahanatimajiyachai', 'kanselompamba', 'mkundinimsikitini', 'kwamzeeluhende', 'kwamzeengwananhomi', 'kwakuchungula', 'kwakalundi', 'areatwonamba21', 'kwanapulu', 'kwajoshwa', 'kwachristinaleonard', 'kwanoverttila', 'kwamichaeluyachile', 'mokirimwita', 'kwamjaba', 'dikwakwa', 'magadinia', 'kwaelema', 'shuleyamsingimpui', 'njiapandakilimo', 'mwakabeta', 'kwauberti', 'tuhurumie', 'daniswiluimba', 'barogichesa', 'kwamzeesaidikazeni', 'kwabizainabu', 'kwamelkiorpaul', 'nyamarera', 'kwahabib', 'kwasemtemela', 'sudingota', 'jumaadam', 'gongeprimaryschool', 'kwajenitamahwata', 'ndakwera', 'kwafilbetasanga', 'kwasaliuroki', 'kwabatistasanga', 'kwadaudp.nyansio', 'kwamakungu', 'kwarosemarywatsoni', 'zinga1', 'kwaasupunimwandabo', 'kwakwahassan', 'kwajohnmaige', 'kwaenezaelisaya', 'kwaangindikemwamakula', 'daudyoram', 'kwabazoka', 'kwabedaaugenia', 'paulmwamoshi', 'kwaayubukihiyo', 'shuleyamsingimawiti', 'busandasecondary', 'kwakobra', 'mlegele', 'babakapongo', 'mpakaninagwarama', 'duchi', 'mwaunja', 'kwapiscus', 'mkulwa', 'nickilau', 'kwamous', 'kwamamarea', 'shuleyamsingimwaswale', 'kwachede', 'kwaswisi', 'majaribio', 'makizeze', 'itambala', 'kwebomba', 'kwamkecha', 'kwamzeenahama', 'kwasilvanusi', 'mashado', 'kwamagenge', 'ryisogosa', 'mambiso', 'kwakenedygondo', 'kwaqafolimoshi', 'kwajumaissah', 'kwaiddborakupata', 'welaofisiyakijiji', 'kwalutaha', 'kilaberashuleyamsingi', '<kwamaluku', 'kwarichardfupi', 'makora', 'mohamedmwalingo', 'kwaevaristamunuo', 'kwamzeenyakyoma', 'nyamabuye', 'kwalugaganya', 'kwaelimelikimkisi', 'ndilinge', 'nyamburiprimaryschool', 'kwamkoho', 'kwamzeekitupu', 'arwazi', 'kiosknumber1(cb1)', 'manginwab', 'mwenyehinga', 'kwavala', 'kahaga', 'mtundua', 'kwashabanikulegalega', 'shijada', 'modestamwanja', 'kwareginacosta', 'shuleyamsingimayaka', 'idubulac', 'bukigia', 'sekindari', 'fransic', 'kwamwadisa', 'daudisecondarympya', 'kisozidpno1', 'kongei', 'kwajacobboyi', 'masana', 'kwamzeeyusufu', 'jeterusimuhulira', 'kwanamkangania', 'kwqngalulamwaitembe', 'kwaibrahimjuma', 'kwaanyigulilemwakatage', 'kwamzeechingwalu', 'dorica', 'kwamakau', 'mzeehalua', 'liponda', 'kwabakia', 'kwawilliammatwi', 'dp8(kwabrownmwangungulu)', 'kwaefraimjoseph', 'kwamzeeangachaika', 'kuchupa', 'area7namba11', 'kwajonaskileo', 'kihuemashineni', 'kwanadeesurumbu', 'kwathimosswai', 'shuleyamsingigwandi', 'taiaye', 'kwamzeealexndede', 'masingisa', 'kwalomboseni', 'kambwana', 'nasa', 'kwamifuko', 'jembe', 'bokii', 'kwekivungwe', 'kwermusprimaryschool', 'kumsaleb', 'shulenimwabasabi', 'msua', 'kwandami', 'nyamahwa', 'kkktndoombokati', 'kwatiophulo', 'msufinikiosk', 'ndegechacha', 'hassanmjimwema', 'mwakayango', 'kwabusiga', 'igogokaskazini', 'kwajosephkichila', 'kwakapati', 'ussongo', 'kwaziwachemka', 'elirehemanasari', 'kwakafuita', 'unyankhanyaprima', 'kwamwanahingi', 'matunguru', 'kwayahayalushemeza', 'manyanya', 'kizungushuleni', 'zelezetashuleni', 'kwahalanya', 'kwametroninyilenga', 'kwamussamchalama', 'kwakizee', 'kwamzeekazinyolo', 'maleji', 'kemachage', 'kitima', 'kwachristinamsolwa', 'nyenje', 'tyanundib', 'kityega', 'kwapolisi2', 'kwalwitikomwambyunu', 'kitogweli', 'mbuyyni', 'mnungunaprimary', 'kwamachunde', 'kwakilosa', 'happywatoto', 'silemwayera', 'ekonde', 'kwamarema', 'kwanhoyamalunguja', 'fungakamba', 'kwefalu', 'kwajosephbaltazari', 'kanyamwonyo', 'gumha', 'kwatikimwamaso', 'sacos', 'mamafatuma', 'mlekwa', 'kwamzeemaninja', 'chazimamoto', 'kwacolonelrugayamu', 'hitsonsiwaji', 'kwandabahawe', 'kazangamarwa', 'josephmalechela', 'kwamdigo', 'kwadanielkatumpwa', 'mrisho', 'mtambujange', 'fokasi', 'kwaumbaidamanimo', 'raytonmkopeka', 'kimnyak', 'kwamzeeayuka', 'kwamayombi', 'kwamichaelchinanigwa', 'mshewajuu', 'shuleyamsingiruv', 'balozihamisi', 'mtanzaprimaryschool', 'kwagidale', 'kwamwangalamu', 'kwaleah', 'ulemsukuma', 'marwzjarubi', 'kwabuchani', 'nzebagamba', 'kwaalbertmwamukoge', 'kwaritamboya', 'uavii', 'kwaandendemwandindi', 'kwamamatamali', 'lubao', 'fedrickmwalyamungu', 'kalebipalanjo', 'kwapiusmbembati', 'kwachristielidaniel', 'kwayohanaleo', 'kudigenge', 'kwamzeekabujile', 'temekeb', 'stevenmakacha', 'kwajohndawi', 'jiini', 'kwahamisnurdin', 'kwamatindemwita', 'safariodena', 'kwantonele', 'kishilib', 'kanalinko', 'sukita', 'kwamugisa', 'kwaelieza', 'kwaupendomwani', 'kwaoscarseif', 'kwamlundeedward', 'mzeeallymlawa', 'kwakish', 'mtaroni', 'kwamo', 'mwamihanzaprimaryschool', 'tabia', 'kwakatalinamakingo', 'kwamalima', 'kwandemboulanga', 'kwamchawa', 'mdundanikwadiwani', 'majogo', 'mihindi', 'kwazera', 'kwaadammtulo', 'zahanati4', 'kwagoodluckmakundi', 'kwasoginusi', 'mwaulambo', 'kwaclaverymakalu', 'chamle', 'kwafilipo/kamu', 'bombalamsikitini', 'mzeesamboja', 'kosata', 'kwabalwehele', 'mwajabuborasalama', 'madukaniboholeno.3', 'selwe', 'kwapiusmosses', 'kwanathanael', 'serenalodge', 'ngeye', 'chelabuloprimaryschool', 'kwaameldashirima', 'shuleyamsingiwailanga', 'kwaushafu', 'kwabufikiri', 'sangilwawatergroup', 'kwascolamahushi', 'kwakadotoc', 'lambolakikwete', 'mchelele', 'kwadonathmkenda', 'kwaboscomgaya', 'sabinusinziku', 'mabati', 'kwamzeegogo', 'uwolowolo', 'kidinku2', 'kwaelizabethkileo', 'kalemasha', 'kapunda', 'kwaalfoncemuhenudzi', 'kwapuyaga', 'secondarikibirizi', 'kwangoroma', 'shuleyamsingilutengano', 'shuleyasekondalikilungu', 'mwanindo', 'kwamariapatris', 'kwakiganga', 'shangweni', 'njimya', 'kwamangola', 'kwakalisa', 'kwabonomali', 'kwaalbini', 'mwaseba', 'nakalungula', 'kwabiekwasu', 'kwajosephkomba', 'majengoprimary', 'kwajacksonburugwa', 'mwakyambiki', 'kwayangison', 'kwahamisamwamini', 'kwamuhunya', 'kwajumpepe', 'kwamdashiru', 'kwahamismasudi', 'kwamhidere', 'kwanyongonyo', 'kwakikulo', 'kisamuni', 'kwamzeealli', 'kwambago', 'kwaanaserimlae', 'chuma', 'shuleyamsingizingiziwa', 'kwakhasim', 'lasimonisalalila', 'kwamwllyuka', 'kwamzeetutu', 'kalundehassan', 'kwaforo', 'kwamichaellyaumi', 'kwaissakasoma', 'kwandekwasalu', 'lusanula', 'isihaka', 'kwamzeechiwinda', 'kaziranyama', 'komkurumo', 'kwadidasmwananjela', 'mtembela', 'mnkokotena', 'wawa', 'kwanghodia', 'igonya', 'kwamagesapole', 'kwafaiton', 'buzuka', 'kwaemilycasian', 'bombalamakolejuu', 'kwahadijangonyani', 'itumbika', 'mashakakaombwe', 'imwelo', 'samsonmongule', 'mahebugwachristopher', 'kwalikwete', 'kitomangasecondaryschool1', 'ondoakiu', 'areathreenamba40', 'gatulishuleni', 'kwamzeenassor', 'bombalamsenga', 'kwaomarysaid', 'kwashadraki', 'lashuleyamsingisitalike', 'kwaevenlightrodeck', 'kwafrida', 'banguu', 'kwaruboha', 'amuhama', 'kwafransnyalusi', 'kwaedmafyosemoshi', 'kwachipiyagi', 'shuleyamsinginyerere', 'kwasesejamabula', 'nyachijima', 'kwajoachimmasawe', 'kliniki', 'kambiyavififi', 'zuhurammole', 'kwakadogo', 'bombanambanne', 'kwamayuyamaungo', 'kwamamasimba', 'chaweromdoro', 'kwahajijafari', 'kwamzeeinocent', 'kwatobias', 'kwakiteu', 'kwafauziabakari', 'mligwa', 'kwandengakibuti', 'kwabononi', 'nyamwala2', 'kinandilia', 'kwafaki', 'kwajasminmnisi', 'kwamzeemwakisiala', 'kwaruvumba', 'nyamholo', 'atanas', 'kwakiziwi', 'kwamundi', 'kwamasimindu', 'mariki', 'kwarobertmaka', 'kwakasungura', 'chuonidispensary', 'tank1', 'usagarashule', 'kayagiro', 'kawili', 'kwacharlesshilu', 'orkungu', 'assemblyofgod', 'kwamahina', 'kituoc', 'kwaanclemtei', 'akilezia', 'kwafastonimwaipinga', 'kwangumu', 'nyenjeleshleni', 'kwadizele', 'kwafarijali', 'kurwa', 'kwatayarimtawa', 'kwaevaristjohn', 'msimihi', 'kwawilsonkisanga', 'northsasakwa', 'kwabufuna', 'bitkassim', 'sanka', 'kwamzola', 'kwamzeemakanjila', 'uwanjawaserikali', 'kwalodrickmwangala', 'kwamzeeambekile', 'kwastephenasangai', 'msando', 'masururadispensari', 'kwachitua', 'kwamwakajongolo', 'ngaranib', 'kwamtaita', 'kwalugesha', 'ilongaresearch', 'kwamzeendangula', 'ofyo', 'kwamtewa', 'kwakayumba', 'balekebahaye', 'kwanung', 'komesecondaryschool', 'kachiri', 'kwamamamihambo', 'kwatwazi', 'chuo/kizumbe', 'mgharaghara', 'kwadaudimwakinyuke', 'kwambiligenda', 'kwaeliakimtomas', 'shuleyamsingikikomero', 'kwasalimaliamari', 'mahiwasecondaryschool', 'kwaedasivila', 'kwamamamadaraka', 'kwafathermbena', 'jumla', 'kwaomarimlai', 'kwamzeembopela', 'kwamzeedomba', 'kwaalbina', 'kondagai', 'kwaabelimlayi', 'hussen', 'magunguprimaryschool', 'shuleyamsingimkonjela', 'mibuni', 'kwasaga', 'kwajofreymshana', 'bensonmgode', 'kwajumalumbika', 'hosteli', 'kemuhere', 'kwamzeeselemanitandiko', 'sikuyakwenda', 'kwamwime', 'kwamwanamwenge', 'kwajohntadae', 'kwasaria', 'shuleyamsinginyakigando', 'kwamzeejaa', 'lyantimbo', 'kwakigangoni', 'zahahanati', 'kwakasulu', 'kwaruitakubi', 'mpuma', 'kwahiti', 'areafivenamba9', 'kwaiddyusuph', 'ndituprimaryschool', 'ching`oi', 'mpome', 'shuleyamsingimnazimmoja', 'munisi', 'jabili', 'kwamhalule', 'missionbariadi', 'mnarawasimu', 'fpctkyuta', 'kwawandwi', 'nyamakogoto', 'mpya', 'kwamalumbi', 'kwamzeemarlow', 'bayaga', 'kwasaad', 'kwautienaseno', 'sema', 'shuleniilovi', 'kwabrown', 'kwamzeenia', 'kitari', 'kwakitambazi', 'kwasuhi', 'exsaversalamba', 'mimaprimaryschool', 'ndugulilo', 'kipela', 'kwakalumba', 'bushinib', 'shuleyasekondarirutunga', 'kilopola', 'kageyo', 'streetland1', 'kwabasilio', 'nyamasovuprimary', 'lukubanija', 'kwamwambungu', 'kwasangha', 'masalu', 'kwasuleiman', 'kwawilliamchondo', 'kwaadonkamngowi', 'kwamzeeidemu', 'kwatanu', 'kwankwata', 'tanklameereni', 'kwaemmanuelkavishe', 'kwajumakidevu', 'ikuju', 'kwaissanyumile', 'kwasereva', 'kwafineus', 'kwamzeengalemba', 'pendaelimasawe', 'kwachivunja', 'kwasaidsadala', 'kwagodwinimoleli', 'kwajuliusmtumbu', 'kwadislangon', 'mtoguzio', 'kwajoycemwidofe', 'kwamangulai', 'mwabasazi', 'kwamuaka', 'yombe', 'kake', 'kwamzeerajabumakono', 'kinawiro', 'kigangasamu', 'iponyamageuzi', 'mwamanonguprimarytank', 'zakarianduru', 'shuleyamsingisongamble', 'kwamambooni', 'shuleyamsingikamuli', 'kwamamalecho', 'kwamamagetu', 'shuleyamsingishingida', 'nkindwa', 'kwamzeekibanga', 'kwanjimba', 'kwakasamwawasha', 'kwababamather', 'kwamzeendelle', 'charahani', 'boys', 'sagihobe', 'kwamzeekitombe', 'restamanyi', 'kwatomamasamu', 'kwasemwilongo', 'ishinsiprimarytank', 'sereni', 'kwamzeemakambonje', 'kwamzeemakumbanya', 'kwashatumai', 'maoreprimary', 'mikugo', 'kwasembe', 'kwahhabieallago', 'kwamtani', 'kwamariethapeter', 'bombanambamoja', 'kwafilmatus', 'kwapiussoka', 'kwamangani', 'kwahusseinmbesi', 'kwaileta', 'matoto', 'kwaallymagobole', 'mtimbwesecschoolhoste', 'kwajohnasenga', 'area6namba24', 'kwandogolo', 'selemanmpini', 'mwae', 'kwajosephatjoseph', 'kwajangala', 'kwaamanohalifu', 'siamelucas', 'mchiri', 'sisiruguru', 'mathewmsabaha', 'ugwimagwinda', 'makangaka', 'kwarizikimrema', 'kwakapinya', 'kwakuwaka', 'kwanoahsebakwe', 'mklmbozi', 'kwajoshuamangula', 'bababea', 'lainindolezi', 'kwamaigesai', 'shulesekondarymatai', 'jesaya', 'kwayoswa', 'kwandelelegwa', 'chia', 'kwamcheka', 'kwawilfridajoseph', 'kibongwa', 'kwakayegele', 'kwanendeni', 'kwamzeemkokwa', 'kwaakiliselemani', 'kwarichardlutonja', 'kwamagaya', 'makobeni', 'mshima', 'mbingobingo', 'kwaanzigali', 'kwascarioni', 'msikitiwasanzale', 'london', 'kwanghati', 'mbisumizi', 'kwaayubuperamiho', 'kwajosephrichardm', 'kwalucksonmwakabejela', 'kwamamasuzana', 'saimonmpili', 'kwanaftalisahwi', 'kwamwajumarajabu', 'kwasilili', 'kwachristomijohn', 'kwaernestamunish', 'kwajeremiya', 'buhuhi', 'kwaenyange', 'kwawilfredmlugu', 'kwasaleh', 'tukutane', 'eribaraka', 'kwakachenjele', 'ponyamiri', 'kwamshiri', 'kwatoro', 'kaboboye', 'othodoxchurch', 'nyamtile', 'kwajacksonmakandi', 'kwamamraalengesia', 'shulemwamalasa', 'kisaleshuleni', 'kwashabanmwanga', 'kwangabage', 'kwasikulasamwapagata', 'kilimoogiste', 'papaa', 'kwarajabulubilili', 'kwamakomba', 'yungu', 'kwaabdalanganilevani', 'kwawamarwa', 'kwadua', 'kwaigoko', 'kwalenardlekei', 'kwaeli', 'mararoprimary', 'kwamzeeonyango', 'migration', 'plot60', 'mzeecosan', 'kwamzeemwaisova', 'kwakidundu', 'lububub', 'omukitojo', 'bodaprimaryschool', 'mwanzomgumu2', 'pilisuleiman', 'mwanva', 'kwalibuda', 'kaselagroup', 'kwabintingaga', 'kwamzeelutungu', 'pentecostalcoreth', 'kisenyawaterusergroup', 'chanyakatembwa', 'mwamitilwa', 'kabwazi', 'kwamalapa', 'shitwe', 'dinamusecondaryschool', 'nkintodispensarytank', 'lugoma', 'rashidmparo', 'kwanampanga', 'madudu', 'charuzungana', 'kwaandrewsimwinga', 'nyumbazazawalimu', 'matyenyenyakanya', 'nasibumrisho', 'kwapatsoninyagawa', 'murumba', 'kwavitusngonyani', 'anande', 'shuleyamsingiikondo', 'marineparkgetini', 'kwadaniellaiza', 'kwasaimonimolleli', 'kwamzeechikago', 'mgatoke', 'kisololishuleyamsingi', 'kitenga', 'kwakalenga', 'kwarehemaramadhan', 'kwamzeemakenda', 'mchwechwe', 'kichoteo1', 'nationhousing(nhc)', 'kisanze', 'emmanuelulirki', 'areafivenamba18', 'upungumashariki', 'muhintiriprimary', 'machanga', 'lolovono', 'kwashilunga', 'zahanatizingiziwa', 'kwamwanakaromo', 'kishurodispens', 'mabungo', 'kwastevenlaizer', 'kwalusangija', 'kwamzungumweusi', 'nambana', 'kwajumm', 'kwamzeetanu', 'mzeeroidy', 'mapind', 'kakobekalinga', 'kwawahabi', 'kwambalamula', 'kwamzeemkwanda', 'tuvumiliane', 'kwabitisaidi', 'igataja', 'kwashinje', 'kabusa', 'ahmedokashi', 'kwaatnus', 'kwapaulkivatamalya', 'kwandalo', 'kwalekundayo', 'wariyaeli', 'yongoma', 'kwambaryo', 'kwakaura', 'leonardmgae', 'kwachachachomete', 'kwafrancesmhesa', 'kwanataliaserafini', 'kwamsikitini', 'kwakapeter', 'areathreenamba4', 'kimbazi', 'asantemachere', 'kwakihwayi', 'kwamima', 'kirongoma', 'kwaagnesimwisho', 'magagaihospital', 'kwaanyitikemwaflulila', 'mungaa', 'ikumbi', 'kwamakunje', 'kwahamissaidi', 'mzeemjakamtumwa', 'kazaniaprimaryschool', 'kwangwala', 'kanangira', 'bombalakinamama', 'kwarichardhana', 'msufinihighschool', 'kwaalfredisiliba', 'is', 'kwapaulomlai', 'philipomakondo', 'kwabundi', 'kwakapembe', 'nyarikungu', 'kwaiji', 'mwalelena', 'mwazanimzee', 'gwandikati', 'ndindamagambo', 'kwawizana', 'maloloshuleni', 'lajinga', 'kwasangile', 'kirinjikochini', 'iwijiprimaryschool', 'rubemba', 'diagwasemina', 'kwagarimoshi', 'kwamzeewiliamubikwakuza', 'kwamtalisi', 'kwakaugolo', 'shuleyamsingikankwale', 'faidikab', 'kwamwamba', 'msisisecondary', 'igenguprimary', 'kwapigula', 'kwakadulu', 'kwaliazahamis', 'kwamaza', 'simbili', 'kwanamsifu', 'kwaraheljacobswai', 'kwajohnnyika', 'kwarwamigo', 'kwasonga', 'kwaalfredkilawe', 'kwakidesemi', 'kwapilati', 'igobebondeni', 'mtongoza', 'kwamakua', 'kwaibra', 'bukwimbaprimary', 'kwahatari', 'mwendamakono', 'kwamlyangamadikenya', 'kwasanganino', 'rukasomisumari', 'kwamzeemwinge', 'kwabathazari', 'kwarogatinyora', 'dilangale', 'kwamagoa', 'kwasoika', 'kwajustinepaul', 'kwawerandumijoseph', 'kwajaphetlukumay', 'kkktsingisi', 'kwambapu', 'kwaezekiakiwovele', 'kwatrofumas', 'area17namba8', 'mpanza', 'kwamzeechichaga', 'ngamia', 'kwasaningu', 'mumugamba', 'kwaeliaichiurassa', 'kwakapona', 'kwanicodemulomi', 'kabwiga', 'shuleyamsingimwalal', 'kwabudida', 'kwemkunde', 'kwamwalimuherman', 'kabunyata', 'kwanyer', 'mwamajigwa', 'adammwasha', 'petrobara', 'towngroup', 'kwamzeeteonasi', 'kwarajabupanga', 'likapyaga', 'shulekapela', 'naoda', 'kwaheribeth', 'kwamzeekasebwa', 'namba10', 'nyenze', 'kwamzeempikawi', 'makoyembao', 'kwaondondo', 'kwamzeemawazo', 'kwaenokimakingi', 'gladchuki', 'kwamulisamtui', 'kwakamilioni', 'ulyangombe', 'kwakalasi', 'lyawizwa', 'kainamprimaryschool', 'iambisecondarytank1', 'kwamzeeabiud', 'shulemangisina', 'kwamzengo', 'kwazawadielinadee', 'mabweyanyoka', 'bintushauri', 'isene', 'kwamzeewendelini', 'mdundikoni', 'kwamzeenkulie', 'kwastaford', 'kwajosephchionga', 'kwapaulonimes', 'kwadikson', 'ramadhanshaban', 'shuleyasekondarimatai', 'idindaumba', 'michaeliddi', 'mgale', 'ngayunda', 'shuleyamsingiipanda', 'mafugusa', 'kwajestonkifikilo', 'italajuu', 'umburkijiweni', 'ilangaa', 'msagaraprimary', 'mwanaghombo', 'nkubanija', 'ilemelakati', 'kwabiatusimhagama', 'kwamzeemgudu', 'kwaelizabethckile', 'kwaabdallahhassan', 'folaca', 'sole2', 'ishima', 'makulilo', 'mibangani', 'salalaprimary', 'kwambwali', 'kwamzeechanzi', 'nkopi', 'kwamzeegerdwirn', 'kwaabdallahmofi', 'kwacharleskimatile', 'chambone', 'kwatolya', 'kwasiprian', 'lugolofu', 'mamaroza', 'kanda', 'kwansubisiasulwisyemwa', 'mwamanals', 'kwavalerianjoseph', 'kwajosiamdugo', 'nzugwimlolehangi', 'kwanyaluise', 'kayege', 'igukub', 'laizachini', 'chashuleyamsingimkwajuni', 'kwagabrielshikie', 'kulutale', 'ngusero', 'areathreenamba8', 'kwanassoroalfani', 'kwamkirima', 'mwamashenene', 'pendogroups', 'mzeejames', 'sikamboka', 'ufadhili', 'kibabadi', 'kwajackmwakalasi', 'kwahomo', 'nganje', 'maramsha', 'kwagerfasimasawe', 'kwamabela', 'kadida', 'changasi', 'kwamwalimuhussein', 'isalalokusini', 'kwakulwabaraka', 'kwamgongola', 'miaka', 'makumbushomwinuka', 'mgongwa', 'shaweji', 'rutunga', 'niko', 'kidogwi', 'udurusekondari', 'matalambiti', 'kwaabelkimaro', 'mukabuyaprimaryschool', 'kwandalubha', 'mbalamoprimaryschool', 'kemsomi', 'kwalismasikipanyula', 'kibiboni', 'kwamzeepauli', 'zimbilikwakitambo', 'kwamwanoni', 'kewasubugu', 'kwamchachane', 'kwapasikal', 'kwamatunda', 'kwasulum', 'gatilakilabili', 'silamilab', 'kwantumbashimbi', 'kwamzeechinyeleche', 'mwakikonge', 'nshambaextende', 'kwashilelingokwai', 'rama', 'masoroha', 'ndagoniofisiyakata', 'kivoga', 'kwajoakimmsanya', 'mosi', 'mafinji', 'kwaelfaa', 'kwapatrickmabala', 'kwaandrewmwamasange', 'kwaambangilebaharia', 'kwamzeejana', 'kwahusseintita', 'kwamzeemaningi', 'areafivenamba17', 'kwamzeekanyambala', 'kwaedwardbona', 'bugala', 'kwabehegwa', 'nghambiprimaryschool', 'hondohondo', 'bugwemasekondari', 'kwamwambu', 'kwachristopherkundilo', 'senzigwa', 'kwajumawadhifa', 'kwashindamoshi', 'kwakomhingo', 'uhambuledispensary', 'mtamaprimaryschool2', 'kwascoti', 'kwamzeeesdoli', 'zahanatingyeku', 'bombakisimakikuu', 'chimete', 'kwamloe', 'kwatephele', 'itumbikoprimaryschool', 'kwaubuya', 'kwayasinthafaustine', 'kwabenedictbernard', 'mdenga', 'kwathomasngawaiya', 'mzeejoram', 'kwasimon1', 'kwaanulaabiel', 'bonde', 'iadoofisi', 'kwatobiaslessyi', 'kwamzeekaruba', 'kifo', 'kwaaminadabumasewe', 'kwajumakayanda', 'kwangoyange', 'kwaibrahimselemani', 'kulwa', 'mkanyage', 'kwachileo', 'kwachanimbaga', 'shiboka', 'kwamzeemwidumile', 'kwanyamukechenguruma', 'kwaogola', 'shambalatag', 'rcchurchitipingi', 'karingia', 'kwajojikisogo', 'kwamzeesanyiwa', 'makungu', 'kwachipangapole', 'kwachinyenya', 'kwayusufkayuwi', 'kwaerastoswai', 'kwajavasonmmbando', 'charukara', 'kwababalai', 'kwamogelasopo', 'kwaantonifute', 'imalamiayo', 'ngwamanota', 'kwamzeerashidishemtandu', 'kwaevalinekileo', 'dipmsudu', 'kwamzeemsiani', 'nyabikenke', 'adpngerengere', 'swalat', 'kwakapeleoscar', 'shulenimwalinhap/s', 'rutungavalushi', 'kwaalexanda', 'kwawilisonmhembe', 'tassaf', 'olendukula', 'kwamwinyimgeni', 'eneolastend', 'seuridukani', 'kwamfunya', 'kwakiningu', 'kinoge', 'kwamalago', 'kwatlehema', 'kwachibaya', 'magibe', 'kwambeho', 'upila', 'kamilabatende', 'kwakititi', 'nyanekejuu', 'milumbani', 'marumboprimaryschoool', 'vwc', 'kwaefraimmwamasaga', 'mwanabwito', 'lotinko', 'kitagata', 'kwamichaelkayombo', 'kwadevotamuyunzi', 'kwamakilika', 'kwamzeeagelekwa', 'matongoni', 'kwamwakolo', 'kwakingonga', 'kwamagereza', 'mshamindimtegwa', 'kabarundu', 'kwakasinde', 'kwapokwe', 'kwagombe', 'kwamgenimwalimu', 'kwamtambuke', 'nolelagi', 'kwapaulomahagula', 'monele', 'burogonyakibari', 'chilom', 'kwakingalu', 'kwamchawu', 'kwamalakikaduma', 'kwaasubngwa', 'kwamzeeshuhuli', 'kwamzeevililo', 'kwahaikadejaphetk', 'mtuchi', 'kwasosele', 'mwajilungu', 'shomaringulumu', 'shuleyamsingikanyegele', 'dipkwamwangari', 'kwalangaa', 'kwamayamba', 'kwasolomonmunuo', 'ugewa', 'kwaliberio', 'area7namba7', 'aweledo', 'sembetipark', 'sichizia', 'selemangoga', 'kwaidishungu', 'kwaluifataki', 'kwamasoudngosa', 'kwabalikuhu', 'kwamzeekudumunda', 'sukumeni', 'kwamzeeisaally', 'likobokwike2', 'kisuku', 'kwamnyepempe', 'dpmanyara', 'pumphousesanungu', 'kwamazingo', 'sabina', 'simboowe', 'machimbostand', 'shuleyamsingivik', 'kwamanjar', 'kwakasikana', 'kwaminyako', 'ngongolimbo', 'philipotoya', 'kwamzeemwasanjala', 'kwarashidhamis', 'namwembe', 'kwaboy', 'kwasimbondosi', 'kwaanaelngunda', 'johnmarijani', 'ngalayaya', 'christopherkilawa', 'kwawiliumkuyokwa', 'kwaaldolulandala', 'ngula', 'kwamzeekichilili', 'kwaexaudkimaro', 'kwamsusabilahi', 'kwamlaganga', 'dabaso', 'kikungwe', 'markongulo', 'mbezib', 'kwayusufungulo', 'ndeu', 'kwamzeemwakasaga', 'jumamwangalandanga', 'kwamzeejileka', 'kipingwimsikitini', 'nahau', 'kwaluyagaza', 'benja', 'bogoa', 'sorib', 'kwankuni', 'shuleyasekondariihumwa', 'noelkibona', 'malaki', 'chimbukono1', 'kwadavidkasonnjo', 'mtembeni', 'nyarasi', 'kwajaffaryjahunga', 'kilidu', 'marwamasubwa', 'kwamrangi', 'kwaleserwa', 'matetzamgaya', 'laurentluhamba', 'kalani', 'kwaaronkilawa', 'kwapeta', 'shibam', 'kwanakuya', 'mwabuzoprimarytank', 'kwafestogozbert', 'kwamzeeikera', 'kwashama', 'kwakhatibkyekidiye', 'kwasaduru', 'kwachagwa', 'kwasamszelalima', 'kwamzeegema', 'mbuyukati', 'njombo', 'kwaabunuasi', 'kwamzeeramadhaniathuman', 'sanganga', 'kwadeputymwansasu', 'kwahalo', 'mavuno1', 'kwamakao', 'kanga', 'tarakeabusstop', 'kwamchungambande', 'jumantora', 'kwamsangi', 'kwamichaelmboya', 'mkenda', 'mwandeleka', 'kwabernadmashingija', 'humekwakati', 'mdebelebe', 'mjimpyab', 'kwajoycemsenga', 'kwamzeemeshiki', 'kwamchapeni', 'kwasibola', 'kilinokwamasanjamapalala', 'nkonze', 'ndetalioakyoo', 'kwakagoma', 'kadoke', 'gabaniro', 'kwaelnisauromi', 'kwazikiri', 'mtutumu', 'kasesekati', 'kwalevinajoseph', 'kwasilviasoholi', 'skinde', 'kwaalifredi', 'kwapatsonchengula', 'kwaonesmosaid', 'kwakilama', 'regisiri', 'kwaelinsariemmari', 'kisimachaserikaliyakijiji', 'chaitimwashibozya', 'charlesharuna', 'kwamstafakinduli', 'nghonoli', 'kwadanielnjegea', 'kwaprobivenance', 'kwaaromogasti', 'kwangwegwe', 'miarobainini', 'kwanabiieliya', 'kaisherukindo', 'kwaedinaeliramson', 'mtaani', 'kwasweveta', 'kwamkoroma', 'kwalomajanlaba', 'kwamzeeoganda', 'kwajojikiwelu', 'kankima', 'kwachedi', 'kwajaribukondo', 'muhonogo', 'kwafedrickfrednandlimo', 'kwalupamanilili', 'hositalini', 'kwakinambaliani', 'kwamzeeaweso', 'assembliesofgod', 'kwaelisantegaluwayi', 'kwamarandunyandu', 'masindi', 'kwaturwaygobre', 'kwabili', 'shuleyamsingikerefure', 'isla', 'kwalibuma', 'abel', 'chimal', 'kipuka', 'kwamzeebakali', 'kwalaurentsarukoki', 'shuleyasekondalimwakaleli', 'kwakarosa', 'kwalukaga', 'mountararatprimaryschool2', 'kwajumasadick', 'mumuonogo', 'mwawaro', 'kwamajira', 'mkyamo', 'kwaupep', 'bombambugani', 'kigesho2', 'iyulashuleni', 'kwantondo', 'kwamanyesa', 'isomba', 'kwasheikhramadhani', 'basodagwaru', 'funuguru', 'mwakawenga', 'mwamagili', 'kwamzeekayoka', 'kwamzeelukenge', 'kwahedimulembe', 'kajigale', 'mwajilili', 'igambashuleni', 'wilbertkitima', 'kiwengwa', 'kwalocasangelangela', 'kwamzeelasidaudmwinuka', 'ntendeli', 'lubangabanga', 'shabanimnyunya', 'asantemama', 'omulwoga', 'ikayo', 'mzinzi', 'kwagalamanga', 'abelnkini', 'kwamzeemayewala', 'kwachanika', 'chabakanga', 'kwaruimba', 'ofisiyambunge', 'kitope', 'kwakakanyololomwakabeba', 'baha', 'kwadeogeorge', 'mpwayunguprimary', 'mangidaprimary', 'kwaavelinpmramba', 'kwaflavian', 'nyakiraryokyagoka', 'kwaerastogodiwe', 'kwalimndele', 'kwanjile', 'kwamamamudi', 'mwayovele', 'kwaelipenda', 'kwamzeelungokwa', 'omarrynyambureti', 'kwaliganga', 'kimangeprimaryschool', 'kwageraldswai', 'kwamzeekatapulo', 'neziro', 'kwaomarrymtapa', 'makasara', 'bakunda', 'kwakinaga', 'kwakapela', 'kwarubaba', 'mwabumasecondarytank2', 'kengombe', 'kwamzeembuja', 'kayunidaniel', 'nakabenganamengwa', 'kilulu', 'kwavitenimasaka', 'mahaluleprimaryschool', 'area9namba17', 'munyachoko', 'iyuki', 'kwanyakwesi', 'barabarayangombe', 'kwaatiliomwinuka', 'kwawengu', 'kwacosmauttou', 'kwamohamedmussa', 'kwaannacharles', 'silipomgara', 'kwamaseremala', 'kwabesti', 'japan', 'luchingu', 'kwaluduki', 'kwadago', 'sawira', 'kwamzeekatepa', 'kwamatembe', 'kwamnyema', 'kwabernadmpepo', 'kwabony', 'teachershouseno.5', 'shuleyamsingileakumbila', 'kwagilasi', 'twaha', 'kwamjedi', 'mwambaha', 'kwamatron', 'kwayohanesslukumay', 'kwasanarekambaini', 'mubigarura', 'kwaamil', 'lukele', 'kwamzeekandidusi', 'mbugwesecondary', 'frank', 'nkwamwasisekondari', 'kwazigwahi', 'kwanasorodaud', 'nyani', 'mkaritusi', 'hebronmbeleye', 'kwaagreymwangake', 'kwakoimakihombo', 'mwantinisecondary', 'mwirasege', 'itana', 'endaduhu', 'kihori', 'mtangwa', 'kwamzeesuba', 'kwastellaonesiphori', 'shulenibujashisec', 'kwalinusathumani', 'imalupina', 'kwahamismkomola', 'kwageargemcheto', 'kwanjui', 'kwarajabunamlia', 'kwajumanyauri', 'msasatia', 'stanne', 'kadata', 'mapinduziprimaryschool', 'kwainoki', 'kwagidioninyachi', 'kwakadala', 'bahalakasindage', 'kwajoronimu', 'kwakyende', 'kwamzeejaphet', 'mpinda', 'punamagengeni', 'kwaprotasiaassey', 'tumainijema', 'kwahenrikimalekela', 'nkwasabayachurch', 'kwandumaelmasawe', 'kwamzeemwinyijuma', 'kwahuruma', 'kwambwile', 'kwajamhuri', 'mzeeboga', 'kwaakinyi', 'kwamzeemalagila', 'kwamzeehosewa', 'stephanomkisi', 'kwamzeemtonage', 'ngoto', 'kwamzeematipa', 'kwamdaramani', 'manoku', 'kwamzeechilwa', 'rwebihuna', 'kwafedikapanga', 'reoben', 'kwashirika', 'timsonjalis', 'kwamzeerashidabdallah', 'buduhe', 'dipmagreth', 'kwachobu', 'kwamhunga', 'kwamwanambogo', 'melinyokolimanya', 'kwaferista', 'fredmwambenja', 'kwatitusudumbe', 'kwaeliaikaandrea', 'forestb', 'kwabrownmwampale', 'nyirabirentobe', 'shatimbashuleni', 'kwatwiga', 'zahanatikigendeka', 'mkadahoka', 'kita', 'kituochamsikitini', 'kwagodfreymrema', 'shidachaula', 'kwamzeemafele', 'mulunyinya', 'kwakamsipi', 'murugalama', 'kwabajobege', 'kwamzeekathomali', 'namakolo', 'kwantimbe', 'kwamzeemayala', 'mapumziko', 'kwadaramamukama', 'kastonsichale', 'chachamnyama', 'mhingili', 'nkupita', 'kwamzeembilinji', 'issasef', 'kwaaleksanda', 'kwalekshonilemein', 'kwakuminda', 'manyonijuu', 'kwamakutamba', 'antonialaini', 'kwediteri', 'madugikeprimaryschool', 'hamaga', 'kwambarage', 'kwakulwamaganga', 'kwatimoni', 'kavazunguprimaryschool', 'byakalemela', 'dimule', 'kwaromwadisanga', 'imaramak', 'bujingwaa', 'kwamihambokuyonza', 'kwamzeegodshemweta', 'kwanyamayingwe', 'dyakateba', 'shuleyamsingibumbuta', 'kwaandondilenjabala', 'kwakatano', 'tueneshe', 'bombanibusonge', 'kwefingo', 'joshomifugo', 'bushimani', 'itandu', 'kituochakwemshai', 'kwabalozimatesano', 'buyegu', 'onesha', 'kwaembsimahahira', 'kwangola', 'kwafirdasmsome', 'sayari', 'ngubalo', 'kwageorgeamrike', 'mtunguruzi0', 'moturimambe', 'kwanuhudaud', 'tazameni', 'hamisdude', 'kwarupia', 'filao', 'mkalambati', 'peterjonh', 'kwawatsonmwaisagwa', 'erymustapher', 'kwagebo', 'mrahima', 'kisiwania', 'kkktolkungwado', 'kwayabe', 'ushingo1', 'nyabuterere', 'kwadobe', 'nyakabangaa', 'kwaallympunugi', 'kwanihuka', 'kwamtuya', 'moyowosi', 'kwachembagula', 'masjidabubakari', 'kwahamisrajab', 'wazosecondaryschool', 'kashurante', 'bukubaprimary', 'muspal', 'kwichobela', 'kwawhiteahombokile', 'kwabambalau', 'kwajafaringimbusi', 'maghomangho', 'maidiasimgaya', 'fredjohn', 'kwasebi', 'area17namba17', 'tausingoma', 'masalago', 'kwakifushi', 'kwalikondemi', 'budeba', 'nantintili', 'kwazenet', 'kwaneemaleitayo', 'kwandetura', 'kwapanglasingande', 'kwasaireni', 'kwawaraka', 'hatsonngombera', 'kwajafetimdoe', 'kwamamalela', 'jonathanmoses', 'kwamausially', 'kwalundenga', 'kwaenokmelaashi', 'kwapetermachame', 'kwakivambiro', 'muembe', 'kwasawmeli', 'kyamuraileb', 'kwalofeni', 'kwamnyeti', 'kwachwaa', 'kwajosephisrael', 'ndosite', 'kebange', 'mikoshoni', 'lufondoli', 'kibira', 'kwamzeejumamchage', 'masagiprimary', 'kwamzeemkalangudzi', 'mahonakayila', 'shuleyamsingimkombo', 'area8namba12', 'kwavero', 'sawewe', 'masengenya', 'ifupaprimaryschool', 'kwamzeemakane', 'ansi', 'gasadu', 'kwashalifasuleiman', 'kwamikako', 'shuleyamsingikamchele', 'kwamkwaa', 'kwamzeemayi', 'kwakinamba', 'mwasapaniafausta', 'kwalutaroiruki', 'hongera', 'kwamtae', 'kwamzeechagala', 'ofisiniccm', 'kwamzeendaro', 'kwabibikatelina', 'kongab', 'kwakajala', 'kwakapele', 'kwalandula', 'nakafuru', 'maximiliunmakenga', 'omukagera', 'ganga', 'sinda', 'kimmso', 'lugungab', 'kwayuhana', 'nyasembe', 'kwawankulu', 'kwateaprotusmassawe', 'bhokemombia', 'kwamzeechongo', 'kwajamesm', 'namatungutungu', 'namboni', 'kwameshakimlowe', 'kwamamsidima', 'oldonyolengaisecondaryschool', 'kwamihira', 'nguyu', 'kwakazipombe', 'mamahalima', 'kwaachinula', 'kiniani', 'kibaochamuhe', 'kwashingundeshi', 'kundungu', 'mligo', 'kalemela', 'isumba', 'mwanalugalisecondaryschool1', 'kisimachadakaumo', 'kwadanielaugustino', 'salagesecschool', 'kwamichaelsanga', 'johari', 'davidmungure', 'kwamtango', 'kwayasinmalongo', 'kwapatricesangae', 'alingoe', 'mzeeellius', 'nyampengelemtoni', 'ndushi', 'kwarojaslyawene', 'ngajoga', 'ramsizunda', 'mafichonichini', 'kwageorgecharles', 'kandale', 'kwageorgetesha', 'mlowezizumba', 'kwasandalemajini', 'kwabaukilosdsc', 'sokolanguo', 'kwadoktalaivaa', 'kwalinusinyagawa', 'kwagrasswellmwakaluku', 'kwasaqwelgwarerhh', 'kwabinwa', 'labao', 'kwapafikimwakasungu', 'minara', 'mtotasa', 'kwalusungumgoye', 'miangika', 'kwamateo', 'kwekibanda', 'shuleyamsingimhunze', 'musihili', 'kwafabiana', 'kwamilau', 'kwashulenimaringa', 'gumba', 'muhatwa', 'kwajohnmkomu', 'kwalucycharles', 'migombanikwamuhangilwa', 'kwamzeeodomwisho', 'kwaathumantoi', 'kwamzeemwaseba', 'kwakioga', 'kwabenjamwiningilangwa', 'kinshwi', 'kwamzeebodemsinkala', 'shuleyasekondarikikomero', 'mwisoko', 'kwalukasihamisi', 'kwaalbetokesi', 'kwasesitu', 'muleezi', 'kumnyembe', 'kwamkodongo', 'kwabundalasamanda', 'kwaushirika', 'johnyaradi', 'kwambenwa', 'azizaminchande', 'kwaalfredmakombo', 'njogolo', 'areathreenamba12', 'oloorngnayo', 'kwajoshuagie', 'kwatitusichaula', 'tenkilabati', 'ginell', 'kadotosecschool', 'mangombe', 'kwamtoka', 'kwamwanjalila', 'kwabobewe', 'chawisi', 'kwayaame', 'polesi', 'kwamzeechalresi', 'komtu', 'giliadstephano', 'kwajacksonmlonganile', 'kwamzeeshekile', 'kwamkange', 'kwalimwela', 'gozibetalfred', 'kishongolela', 'sangitifarm', 'kwawilliumhongoli', 'kwamamabella', 'kwanzega', 'kwahusseni', 'mashakamtangwa', 'kwakihoko', 'kwamamasophia', 'kwabutemi', 'kwakatibutara', 'kwamzeesekitambe', 'kwayanasingwa', 'mwanji', 'kwaanyigulilemwawulilo', 'mubugongo', 'kwamsole', 'sokoni1', 'ashakiswaga', 'kwaeliasgwanchele', 'usuleshuleni', 'kwakebile', 'nkingwab', 'bwama', 'kwaantonmoris', 'marwasijiria', 'kwamzeekajima', 'kwamzeeshirikale', 'kwamzeemlapondi', 'kwamzeelima', 'kwaramadhanmwamed', 'kwawazirimtamila', 'kwaripasoni', 'swaijoseph', 'kwasamaria', 'mwanakitungo', 'kwamboyaga', 'shulle', 'kwaayubufumu', 'kanywangiri', 'nyamulenge', 'kwapascary', 'kwaminamwila', 'kwabitthomas', 'msengoni', 'kwamzeejohnsimoni', 'marugala', 'shuleyamsingiwino', 'kwamwanasukari', 'kyogitahe', 'njiroprimary', 'kwaabdallahkome', 'doyo', 'kwamusampunugi', 'kwahamistulale', 'kwanyeluye', 'kwakamela', 'kidoto', 'kibandahasara', 'igugunosecondary', 'kwababiha', 'kwayengerojangu', 'kwajosefukyando', 'kwasade', 'mshikamani', 'lambojipya', 'p.mosha', 'teachershouseno.2', 'kwaedilitrudamasawe', 'sindano', 'kwajustosanga', 'kwabitally', 'sasub', 'kwamzeelegeza', 'kwaeliakimu', 'kwahaille', 'mantasuka', 'mzeemajanga', 'kituono3uwanjani', 'kombo', 'kwanamanji', 'ikemefuna', 'kyamkuma', 'kwamzawandeti', 'mlingoma', 'kwaeddymosha', 'nabagayana', 'kwamzeejumasefu', 'kwalacksonikandonga', 'kwamzeejumamlongeisanga', 'marwabenjamin', 'kwafransimapendano', 'makuruvira', 'kwaalaatati', 'nsenea', 'kwapaulinasindiu', 'kwankei', 'kwaalinyere', 'chikago', 'kwamsrijani', 'mwamanenge', 'kwamalimumere', 'kwabernardsimtoe', 'kwatwarira', 'kwasteringi', 'kwakalike', 'kwanelisonikitahenga', 'kwashanidunia', 'kwakiyunda', 'kwasalimu', 'kwakanyalilr', 'kwaaddo', 'ngwambaa', 'kamamaofisini', 'kwabakamanyika', 'kindiwiti9', 'igula', 'kwamaajabuabdallah', 'shuleyamsingimalagano', 'kwawasiwasi', 'hurumashuleni', 'kwadefao', 'kwamzeemwakyusa', 'kwamwitopilemwambisya', 'kwakasumbamalembele', 'mambad', 'kwakajuni', 'johnsamweli', 'safarigari', 'kivituprimaryschool', 'kwaabrahamnkoo', 'mtombeni', 'kwamzeekimpo', 'kwajanet', 'irindimula', 'tausi', 'kwawalburgajuma', 'kwamamajimy', 'kwamgingiyina', 'mk7', 'kwakawinga', 'dabiri', 'nyakasan', 'karibunatank', 'shuleyasecondarynala', 'kwamwangubemgsys', 'kwamzeekoloneri', 'magodawnyachai', 'buyogo', 'salamiti', 'kwamzeenasorodanga', 'mtego', 'paulseme', 'mwashipindi', 'ofisiyaolumulo', 'tumabub', 'kwamnyika', 'kwabenedictokilemile', 'kwamangongome', 'msikitimkuumataya', 'kwalulagumye', 'mswahili', 'ama', 'nyeye', 'kwadarabe', 'nyachonganakatunga', 'kwachimagholo', 'kwabrashi', 'kwamilajimsumari', 'kwarafaa', 'kisimachamtakuja', 'kwazulfaally', 'kwamaulidsanga', 'hadija', 'kwamzeecheche', 'kwamsawila', 'ashatiraj', 'selemi', 'bikuli', 'mzeekomba', 'kwamgiriri', 'nosiwemwafongo', 'kwakatyetye', 'kikali', 'namelabera', 'kwapascalsafari', 'ubiti', 'kwakamena', 'kwamzeevidogaabson', 'kwaanoldkivuyo', 'kwamhawa', 'kwasaumjuma', 'ihongwe', 'shuleyasekondarimandewa', 'kwamzeemwakyembe', 'majebele', 'kwaeliashamba', 'mkunguru', 'kwamadibila', 'kwalwafisanga', 'kwamzeekamtupeni', 'adamabachu', 'kwamzeezululuka', 'kaoza', 'kwadanielakioo', 'juliusngasa', 'mkifunzo', 'kwaannaboniphace', 'segerea', 'kwamkolokoti', 'shanwa', 'mr.mwalelema', 'chalaosecondary', 'solarvillagei', 'nyamwala1', 'kwamagola', 'lisimalike2', 'lazarowalinda', 'kwamamabula', 'machera', 'shuleyamurufiti', 'kwamzeeraburu', 'kwashaabannassor', 'mikaratusi', 'kwanganano', 'ngudu', 'kwaowen', 'kwaselell', 'kwamungayamoleli', 'kwaaureaassei', 'kwasabai', 'kwanyamzezele', 'josephmgala', 'shuleyamsingintokela', 'abdallarseif', 'kwaathmanally', 'kanisani/rc', 'kwaagnessmtunda', 'kwamzeeliponda', 'mgembe', 'kwagaspermlingi', 'kwaanselim', 'kwamzeemanyasi', 'bintimkalumaga', 'kwajorowa', 'kwalaloyananga', 'furtia', 'kwakayoga', 'kwamzeekandukugu', 'kwageorgeotieno', 'kwaaloycemgindo', 'kwasomolejumbe', 'jilabela', 'imalamanota', 'kwamzeeabdalahnkijekitile', 'fgbfchrch', 'venancemelingot', 'zahanatikyamarange', 'mbuyuni2', 'kwastanslauspascal', 'mazokasekondari', 'ishokelamadumu', 'isangaprimary', 'mazangiliprimarytank', 'kizoa', 'kwakumpete', 'mbatamilaprimaryschool', 'kwadebumkamba', 'kwamwisungwa', 'kwamzeeshabanngulumo', 'kwaaudaxbwana', 'ramadhanmpazi', 'mpokuprimary', 'kwababajuli', 'kilamigunga', 'kwatrai', 'kwakafalasa', 'mwagembeb', 'kwajamesmhesi', 'esianziko', 'kwaedifonce', 'kambiyafisijuu', 'shuleyamsingikilungu', 'naiti', 'kwakitole', 'santussiwingwa', 'zengavasumbab', 'kwaromanusi', 'hajiyusuph', 'majanga', 'kwaatuwonisenyato', 'tulimanyi', 'kwalaurentchoma', 'kwannada', 'ningojeni', 'chuonistaffroom', 'ruochoa', 'kwakabasheki', 'masukilasecondary', 'afraelnaimani', 'mwakisandubprimarytank', 'kwaebesiusi', 'kituochaafyanguliati', 'kwaallymapepe', 'ustawiw', 'kwaanjshangani', 'sakei', 'sahiti', 'kwamzeemgema', 'ngwababili', 'kwambogambi', 'emanuelvicent', 'kwalideki', 'kwajumampunugu', 'kwabintdeo', 'mwanoha', 'msikitinishungua', 'kwaginyori', 'mwadundu', 'kitonyohu', 'kwamiagemolel', 'kwayohanaelia', 'mlowaprimaryschool', 'nkwasangareshuleyamsin', 'kwamazemle', 'kwavicentrelini', 'kwangowa', 'kwabaltazarysamuki', 'kituochakijiji', 'mbalanganyi', 'kwaereseniusi', 'kwaeliza', 'kwayorodan', 'kwatikisaelimoleli', 'kwabandya', 'kwamzeeomalisalinyongo', 'kwachirokikube', 'msisaib', 'kawayala', 'kwamzeeluhangai', 'mogwa', 'kwajumamsafiri', 'stoo1', 'kwaorgenesimoshi', 'malulamilu', 'mwanale', 'mzeekambi', 'miyegacenter', 'georgepaulo', 'mapeaprimary', 'kwamhulielias', 'kwanyangasa', 'kwalinusimchina', 'kwaveronicanguka', 'islaelmagulu', 'kwajabu', 'robattsiru', 'nyamwikondo', 'kwamtuveta', 'kwakipeleka', 'hechemarwa', 'kwajuackimmakundi', 'bugegelema', 'kwapupuya', 'hamiskodi', 'sotelea', 'mabumo', 'kwamatesomoja', 'kwachiefmwakasape', 'rutambasecondaryschool', 'kwamzeetunko', 'josephrashidi', 'napanji', '21', 'ushora', 'andembwisyekalinga', 'kwasimbamkuti', 'imalanots', 'kiwangwa', 'oltukayprimaryschool2', 's/mmukapa', 'kwamzeeswalo', 'jumannenguno', 'matugutusecondaryschool', 'kwabatwelinyato', 'kidundai', 'kwamzeekandukuli', 'kituochapolisiuwanjani', 'kwakasuta', 'ndangwa', 'kwaeliasikilamulya', 'kwabava', 'ayubudominic', 'kswajuliasmsofe', 'robertmwanji', 'rehemamtira', 'kwanataliakesi', 'bukalilabugomba', 'kwamzeengaunje', 'tatuabdalah', 'kwamwihidini', 'kwanasonlekuona', 'kwageorgekyamba', 'tunerspring', 'tipokati', 'kwaherumaniaweda', 'kwabeatriceanton', 'chedieli', 'nyamule', 'nadende', 'kwajongo2', 'kwawamanga', 'kwamzeeamulike', 'kwachenga', 'chamata', 'kuluwa', 'kwadaudimtimomakoyi', 'indiaeli', 'mzeeallymkwavila', 'mswakinijuuprimaryschool1', 'kwamzeemwanjila', 'kwajilinde', 'kwamzeerashidizayumba', 'shulenimwenge', 'kisimachaasili', 'sarayimwita', 'mzeemusa', 'regezamwendo', 'kwamnyohe', 'kwakisaku', 'kwamzeeasesisye', 'kwapascalimwani', 'hermansikombe', 'kwaticha', 'kindwiticamp5', 'kwamkauja', 'kwaemmamauki', 'shuleyamsingiluso', 'georgemwansenjele', 'matemashuleni', 'kwadonaldsalaganda', 'ngenamibalama', 'kwagatema', 'mwamazone', 'kwakenethikahongole', 'andululilembeyo', 'mzeekipangani', 'kamsekwa', 'maruma', 'mjinic', 'kwasethmwambandili', 'nyamegikwiboni', 'kwamathiasmbogi', 'nenge', 'kwagomangilo', 'kwahawaaldi', 'rizikimtuluwa', 'ikwiririsecondaryschool4', 'kwamzeesiwapanga', 'mikocheninyanzila', 'kwamshigisha', 'kwamzeeanthonymtairuka', 'frances', 'jaica1', 'kwamsambia', 'kwaeneamakako', 'kwakassimmabuluki', 'kwaluta', 'narangtomunprimary', 'kwamkude', 'kwamzeenyasebwa', 'kwasaliviusi', 'kwathemu', 'kwangwamo', 'shuleyamsingilaelaa', 'kwajumakomanyji', 'kwakingumba', 'mwanakatalambula', 'mamapuli', 'toboraa', 'kwamwanakulwa', 'midelemo', 'fico', 'zahsnati', 'mzeeugali', 'mahaja', 'kwadonardmarwa', 'kwankundankilangowi', 'kwamgelegoli', 'josephmafiye', 'sumbi', 'kwalwiyisokijumbe', 'areafivenamba7', 'kwarichardchagavali', 'kwabernadojumanne', 'muhameidkhatibu', 'plot33', 'kwalenoi', 'mwalimugeorge', 'kwakamazima', 'ilalangurumbugani', 'kwamajaliakiangaji', 'kwaanastaziachausiku', 'kwakijimyakubilua', 'makaraib', 'kwaromansbilo', 'ubingaa', 'kwajaphetmunuo', 'mwaositwa', 'kwapeterngole', 'kwaamranimkwende', 'kwakakoti', 'kwajosephnguo', 'muruhogoma', 'kwaclemencyluyungu', 'kwasimonnyoka', 'kitwanga', 'igunabangokolo', 'kwahamadikichwa', 'nyangambaprimary', 'kwamarrydaniel', 'kwaferexpapi', 'kwamzeeelikana', 'kwasalamapile', 'chimwagila', 'nyamuhura', 'kwaburuannjogopa', 'kwamamamwamhando', 'kwaaliananyaki', 'kwaamiriabed', 'kwayohan', 'kwamawayamwambalaswa', 'kwapaulomayunda', 'utuja', 'bahariyahindi', 'kwamatoli', 'milamboc', 'kumulinzi', 'mpinchi', 'muyenziprimaryschool', 'kwambunji', 'mlungundeka', 'lakatikati', 'kwapiago', 'kwanikodemedwardmacha', 'kwankindiko', 'kwaputo', 'kaniisani', 'msetia', 'japhetmwaluemba', 'kwaezekielkikumu', 'seriani', 'bukiriroa', 'kwamatinde', 'shuleniutewee', 'kwamzeemickidad', 'missiondp', 'kwamzeengayonga', 'mwinchum', 'lameckjuma', 'fanyejeleonard', 'kwakabelege', 'kwamusaluchile', 'kwamweleza', 'kwamzeemdonda', 'kwamsuri', 'kwavederius', 'majelekoprimary', 'kwajafarichaula', 'meja', 'mwembenikati', 'kwaissamwakalilitolo', 'kwajohnruben', 'bukombecentre', 'tiobadi', 'shuleyamsingimtya', 'mnoge', 'somea', 'kwaprotazishengoma', 'naitiprimaryschool', 'kwamaghaakunaai', 'kwamamasada', 'kwaelisifa', 'nanjaprimaryschool2', 'igumwa', 'mjamvuneamaboko', 'mbonea', 'mayala', 'tanpesce', 'febrinaminja', 'mlunduzi', 'kwangula', 'kwajasson', 'kwamzeemahendeka', 'kwajafeth', 'kwamzeemwambuvila', 'silali', 'kwamsammba', 'migelegele2', 'nyamarasa', 'kwamzeekipala', 'karasingab', 'kwasinogabahakyakwe', 'kwafrankkawisha', 'kwakihungwi', 'kwazahabu', 'kwabitiseif', 'ruchagula', 'isangaryabyege', 'michaeltito', 'kwajustasa', 'kwakyelula', 'kwamakidere', 'malata1', 'kwamtembonib', 'kwaramadhaninjecher', 'kwawizasi', 'kwakambale', 'sowedo', 'mayetojuu', 'kwamsahala', 'kwaselvestertumbi', 'shongolo', 'kwashel', 'kwadativaemanuel', 'shuleyamsingimchangani', 'ikanayugu', 'kwaherieabelkileo', 'kwaluckysonlot', 'kwaeliezerimyamba', 'tongiaumoja', 'mtendenib', 'mwananshoka', 'kwasaofasho', 'bondenimbugani', 'mwantiniko', 'etsonmkondya', 'kwamzeesarumbu', 'kwalucia', 'shuleyabandasi', 'kwamalapulapu', 'kwabwedo', 'lyambo', 'kwakalenzi', 'bungukilaprimaryschool', 'luyange', 'bakariuesu', 'kwakadali', 'kwastevenmbenza', 'kiwike', 'kwamoilo', 'jindibu', 'petermrio', 'kwarashidismail', 'kwakileja', 'kwavaleriantemba', 'nzuhe', 'kwaclaudiomweupe', 'kwasadamchungu', 'morongashuleni', 'orumongolo', 'kwamzeechimtembo', 'mitedjohn', 'kwaabdallauromi', 'kwamzeemkopi', 'mwasingi', 'juliusmzuri', 'kwambata', 'tedmalundila', 'pelesi', 'kwamasjidikulimambo', 'kisimiriprimaryschool', 'jigale', 'kwamzeeshedenha', 'kwamwegoe', 'omukishanda', 'kwamzeekachwamba', 'nangakaprimaryschool', 'kituochakati', 'saidiighembe', 'kwasamwelmichael', 'kwaaminielmungure', 'kwamajalineambwene', 'kwaomary2', 'kwakissa', 'kwaelivinusmmary', 'mitini', 'kwampare', 'kwakamdato', 'kwamwangeta', 'kwaallyismailnambala', 'mzeemahembo', 'mwanyashuleni', 'franaelnderekwa', 'kwakabamba', 'area18namba6', 'mgenikage', 'kwamwangosi', 'mwahindab', 'isingushuleni', 'kitoniprimaryschool', 'mafulu', 'obwelesenta', 'nyanghona', 'amadoli', 'kwangurura', 'mwaluhe', 'kwawazir', 'kwajosephmasama', 'kwachiwanga', 'kapui', 'kwaaiseneniringo', 'wuilfred', 'idudu', 'bilo', 'kwajenesiaseyi', 'kwaerasstomnubi', 'robertmwaisoloka', 'jamhiria', 'langtomon', 'kwamrani', 'nuruprimaryschool', 'kingwande', 'kaferedinali', 'shulenikatumbasongwe', 'kwapiscaemmanuel', 'sesele', 'montesori', 'kwajulianialbert', 'muhangesecschool', 'shuleyamsingivikonje', 'pupilsdp', 'kwaaugenimgwala', 'kwakalebimushi', 'kwayustinikafyulilo', 'kwamzeeshafii', 'kwamawala', 'kwamzeeramadhanimubarouk', 'kwaadrea', 'thevickreywell', 'ushoro', 'kwadavismwamunyange', 'kwachonza', 'kwasamweliloishije', 'muhusini', 'kwakiloloma', 'shambalamiwa', 'kwafrankmsigwa', 'kwalucianomtuwakasi', 'lukingi', 'kwafederikochilezi', 'malugumba', 'kwasongambele', 'nyabuliga', 'kwaphilimbi', 'kalongolozi', 'kwamamashabani', 'kwalukanya', 'kwachatu', 'kwagerion', 'kwamzeemdoeathumani', 'kalumutanandolimana', 'shuleyamsingirahaleo', 'kwamzeekataga', 'kwasunzula', 'kwaesterbaraka', 'hamad', 'kwakunda', 'kwamzeeelifayo', 'buguruni', 'mwambalazi', 'kwamzeeoweni', 'kwamzeegehenyana', 'kwadrbelele', 'kwamzeephilipoandrea', 'beno', 'muhitajijabirkibila', 'kwafloradaud', 'kwamzeemasaga', 'kwayamarwakitamarwa', 'bulyankulu', 'isagehecenter', 'buyezijuu', 'kanaringa', 'kwaomagalenungula', 'kwadittazakaria', 'kwalameckailo', 'nyamigumo', 'lendikinyaprimaryschool1', 'kwamzeesiukazi', 'kwaantonymsese', 'maziko', 'kwajumakhasim', 'muhazi', 'kwamagabilo', 'dungunyiprimary', 'shuleyamsinginyehunge', 'kwamashakasrkule', 'kwaalikomwankenja', 'mkonoo', 'kwaelizabethmustap', 'kwamzeemahena', 'kumugurukaa', 'kwachitoa', 'nandeda', 'kwalikali', 'machiasalula', 'mseremu', 'imanikonzo', 'murange', 'kwasayi', 'kwamkumbukwa', 'mwanalugalisecondaryschool2', 'kwamchakala', 'kwafatumarajabu', 'kabayango', 'vitusi', 'abdalahabdalah', 'kwamusakibhuku', 'nakisengaa', 'mianiko', 'kwanafilisa', 'kwamzeegaspamarimbocho', 'kwamzeegerardmgeni', 'kwakdinda', 'nyashike', 'kwasalunisandam', 'kinole', 'kwatem', 'kabazurilwe', 'bondeni3', 'christophernyabasamba', 'kwachikila12', 'kwahamada', 'kwamarwakichele', 'namchachamba', 'kwamasumbukokundi', 'kwakilema', 'gubigroup', 'mwankilila', 'kwakadoma', 'kwamzeemwakibinga', 'nganguli', 'dipmrau', 'kwarymondi', 'sumayesekondari', 'kwamichaelsubi', 'kwamzeechameta', 'petrowaitara', 'kwaeliudimmanga', 'kwalusinabmnishi', 'osoley', 'kwamwanjilo', 'kwamzeekabarua', 'nyambele', 'kwamzeeyusuphkapiligi', 'kwamasilili', 'kwamzeeluhombo', 'kwavicky', 'kwaleopodmwinyi', 'sikonde', 'seelaprimaryschool', 'luson', 'kwaernestmfugale', 'kukagamepost', 'kwasankala', 'kwadr.josephat', 'saidmohamedi', 'mjib', 'mrangi', 'chiwondo', 'turuni', 'kwasabasassenga', 'kwakunicha', 'kwarodrickmwazembe', 'mradininumber3', 'kwamzeesuni', 'kwambugilo', 'bukolo', 'kwabitchaduma', 'chechenza', 'kwanestorykitolo', 'hongwa', 'bahatimambele', 'kwamzeemasesa', 'helmankanua', 'kwaliniga', 'kwaemanuellusana/muungano', 'damasi', 'kwapelagirafael', 'kwaambetwilendelwa', 'kwakelula', 'kwandoleligumati', 'shuleyamsingimbweni', 'shuleyamsingimpan', 'kwalenguni', 'kwasaranjesoko', 'zahanatiyambola', 'kwasemlongwa', 'bujingwaps', 'kwatototomlelwa', 'shulenisayakap/s', 'kwamigwa', 'kwamzeejumamzungu', 'kosam', 'ramadhanyusuf', 'kwaphilimon', 'kibwanamaumba', 'chikunje', 'omarymwampegeso', 'kwandongira', 'kwaramadhanisemwambe', 'kwakawasaki', 'kwahalod', 'kwarosetemba', 'pambazuko', 'kwadangala', 'mwasaks', 'mbonileprimaryschool', 'kwabatoniroti', 'kwakalos', 'kiwalawala', 'bilali', 'kwamzeemlwalwe', 'andrealwesha', 'kwasikola', 'kwajosephinakaru', 'kwaitob', 'ezekiamwakipembe', 'bbumbulisecondaryschool', 'yaledinsimtala', 'kwalugada', 'kamale', 'kwamatomola', 'mwalukwi', 'shuleyasekondarikiwere', 'kwaelishafani', 'kwakipapi', 'kwanuhuhemedi', 'bashaysecondaryschool', 'mleka', 'kwamngereza', 'kwaleami', 'zamangombeprimaryschool', 'kwajumamkwada', 'mamkiwa', 'matolamax', 'kasaba', 'utwiguakwawaarabu', 'mzeejohn', 'busiys', 'mwagwilaprimarytank', 'chereta', 'kwafurahimu', 'nandoli', 'funyiji', 'kwaslangaa', 'kwaallyshilingi', 'chenezi', 'kwambachi', 'gervacemwasheuya', 'kwakiuwi', 'kwamwitakisirimanganga', 'kwaasterilyaumi', 'kwamlengela', 'namwangwashuleni', 'kanisni', 'ngalawa', 'kwadenisisonda', 'kwazana', 'nyamiselyab', 'mamakatibu', 'damianisigaro', 'kwastevenliandala', 'kwamayowa', 'mlengo', 'kwamaini', 'kwafundikhaji', 'kwameshacksagalai', 'ipililosecschool', 'kwarashidiyusuph', 'chamgeni', 'hezimtungu', 'tenisonhalinga', 'maooda', 'ngirib', 'kwauwonekomungongo', 'mviringo', 'aruna', 'kwaabdalamataba', 'kwabintinyundo', 'kwapimaki', 'kwanestorynyoni', 'kwakisazi', 'sabogabisemakori', 'dezo', 'ngalala', 'sinamakosa', 'dunehe', 'kwaalexsambala', 'kwamzeeali', 'kwakaimuhasan', 'tullingengazi', 'kwamsenga', 'kwaalexphilipo', 'moshisaid', 'kwamapeko', 'kwakotamwakijolo', 'mbezia', 'kwaselasimyamba', 'pepealashuleni', 'kilolrero1', 'mamapili', 'kwaverediana', 'kwajaona', 'igagab', 'kwamoshishauri', 'ukwaju', 'jahiya', 'siyalo', 'kwatumain', 'kwadeokala', 'waita', 'leopardmgeikwa', 'kwadeocaldamiano', 'ngareweta', 'kwacheo', 'darajani(jemsmandi)', 'kwabintikechi', 'nakundungu', 'shuleyamsingimatongo', 'salumhassan', 'kambinibaridi', 'kwamzeemwakipasula', 'nivako', 'kiduga', 'kwalucasjonathanswai', 'shuleyasecondariiduo', 'pugumwakanga', 'sengori', 'kwakazimiliiguti', 'kwarambau', 'kwaallynanjoka', 'kwanabigambo', 'kwamzeemchaka', 'mzeeuliza', 'kwapausoni', 'mesackmgala', 'ramadhanjuma', 'hekimagroup', 'babakalua', 'kwakatwiga', 'kwamzeendinze', 'milawi', 'ntahondinyandu', 'kwakondamila', 'jelasi', 'mlowa', 'mtimtupu', 'kitongoa', 'kwaerastomsigwa', 'kosmasmchungangombe', 'frankkagombe', 'kwafilipoemanueli', 'sofianzikwe', 'gidobati', 'kwamuhamedially', 'sheunei', 'kwamapadre', 'lufune', 'jamwenge', 'shuleyamsingibuzi', 'aziza', 'kwamamaamanda', 'gatilakiliwib', 'kwacastro', 'kwaanatorykamugusha', 'kwamzeenatosa', 'kitemeprimary', 'kwaterry', 'kwapetersaibalita', 'kwamzeefanuel', 'bwakilala', 'kwajoshuamfuru', 'kwahadijamakame', 'kwamatemamanyaru', 'kwasamweliloishie', 'shuleyamsingikwembe', 'upago', 'isabelarukondo', 'andembwisyemwamwenda', 'kwastephanomwanga', 'mafere', 'kambanzi', 'mfafi', 'nyarubona', 'fake', 'busondomashariki', 'kayankuu', 'hega', 'kwenyebreakpressure2', 'kwaabusoobel', 'victoriaiduka', 'kwamzeenyamita', 'kwanikolasikivambilo', 'gunduprimary', 'kwabintmkundema', 'punguja', 'shuleyamsingikaishaza', 'kwandundu', 'mlebeprimary', 'wajasiliamali', 'beatimwembe', 'kenyakalyoki', 'mwanakatanga', 'maendeleosingwanda', 'kwaambonisyemwamahusi', 'ikumbo', 'kwajustinolotu', 'kwaulemelamachongo', 'kwamnyaku', 'uyumba', 'kwanjeluye', 'kwamchina', 'kwadevothajohnmol', 'kwamorganmwakanyika', 'marishi', 'kwamzeemwamboya', 'kwaadelimaembe', 'kwasilasi', 'kwamagesamagani', 'njenabo', 'utewe', 'mongahaiprimaryschool', 'kwalebwey', 'kwazuber', 'kumbopu', 'kwakikoboga', 'jokala', 'kwakabelele', 'kwaoliverapolinary', 'wamwijarubi', 'kwamzeehodari', 'mbigimba', 'kwasesilialeonsi', 'kwajohnlyanzile', 'kitoro', 'njesha', 'mgoo', 'kwaarestopaunes', 'kwamangengule', 'kwalukubaneja', 'rukoyoyoa', 'thawijuu', 'bojoni', 'kwangaju', 'kwamchokore', 'kiriyamwano', 'mwaguyeya', 'kwachakanga', 'kwamichuzi', 'issunaasecondar', 'mchungajilinus', 'kwamfipa', 'kwaramamweusi', 'mwanzomgomuprimaryschool', 'makangara', 'udundya', 'elisasilanga', 'sansiroa', 'windmill', 'kwausule', 'mpumka', 'kwajumasijanywa', 'simanaprimaryschool', 'butangulu', 'bedson', 'kwamasalududui', 'kwafebroniadamas', 'kwasiwajui', 'kwagodkanyama', 'kwamasikuna', 'kwahamismashauri', 'marwajongora', 'kwajohnmasagare', 'kwasikaduma', 'ngemezahanati', 'mlewamwampasha', 'chuhigwa', 'kwamzeeignasmjinga', 'nkomadispensarytank', 'mbaragetibowhole', 'kwavaleriarino', 'kwakimbue', 'kwamzeemsasanga', 'kwaalipha', 'kwamzeeiringanzugu', 'kwamwenyenipoto', 'kwaegnoponera', 'kwamaongesi', 'kwamzeelubanusi', 'pangaboihealthcentre', 'kwamzeenkumbilwa', 'kwamzeemaulusi', 'stahili', 'shuleyamsingikubi', 'kwajacksonkihundwa', 'kwamwepelajames', 'shuleyasekondarikirugu', 'nambamlili', 'elimumaalumu', 'muhe', 'mwanangwa', 'kwamzeeulole', 'ramadhani', 'shimbilufega', 'kwaherodi', 'kwamadangala', 'kwatomzihiro', 'ikolosecondaryschool', 'bintisaidi', 'kwamakrina', 'lamnadani', 'kwamwalimukambole', 't', 'kwaramsu', 'kwaatupelemwakyendenge', 'kwamzeemkimbu', 'kwanangelea', 'kwamzeemsigara', 'kwabago', 'adammalima', 'kwajacksonolomy', 'kwamasene', 'lastchurch', 'sekabaragic', 'kimangashule', 'mpembe', 'azimiob', 'nyangwale', 'migangaprimary', 'mbuyub', 'lupimo', 'kkktkolila', 'kwanoah', 'kwalekaleka', 'kwamasudi2', 'kwandesika', 'kwamesivu', 'kidenda', 'kwamzeekumonge', 'kwamzeengaboli', 'hewali', 'kwamzeekajemba', 'kwampolee', 'kwaluara', 'kwaloishiyenjalo', 'senyaeliyona', 'doromoniprimarytank', 'migongwani', 'msimbusecondaryschool', 'kwateresiajohim', 'kwamstafatangwa', 'kwashabanimharami', 'mnambilu', 'kwamkalimatu', 'zilipendwa', 'kwamzeemoohe', 'kumuguga', 'teachershouseno.1', 'kwamzeeaseendauka', 'kwasebastianmalya', 'kwamzeemyenzi', 'kwashekheahmed', 'kwaleahmgeta', 'kwapetermagandu', 'kwantarura', 'kigonigoniprimaryschool', 'nassibnassor', 'kwabibisele', 'kwamatwanga', 'kwamamamweta', 'kwamzeeamosisemsi', 'kwalugaila', 'kwamzeebange', 'kwamzeekeumusa', 'shulrni', 'shuleyamsingisega', 'kwaitungwamalengela', 'kwakisumungole', 'kwandin', 'funuki', 'kwaklola', 'kwamzeehahmed', 'kurugongo', 'kwjohnmikael', 'jumarajab', 'mwamarisha', 'kwayolammsudai', 'shuleyamsinginzasa', 'kwahammad', 'lipondea', 'jormasecondarytank1', 'batakanwe', 'kwapatriceantony', 'kibwanda', 'mukisenga', 'mabasha', 'kwamanjawa', 'saidkasanzu', 'kwafilibert', 'kiosknumber2(cb2)', 'kwamasoudsaidkopongo', 'kwamzindakaya', 'kigodi', 'kwaalinanuswemwasiku', 'mwabumwanduc', 'kwapetermbiru', 'endonyoengijape', 'peterjulius', 'kwachalemsokwa', 'kwagingo', 'kwamzeekidari', 'kwamujege', 'mwakamilo', 'kwabintihasanmpalile', 'kwawasafa', 'simwentombi', 'kwakundaelmakyao', 'kwaosmani', 'kwabuhila', 'kwakengiya', 'kwajacobmunga', 'kwahamisimashaka', 'kwamzeewiliam', 'kwabashite', 'ismailhamisi', 'kwashahudi', 'simfukwe', 'kwajoh', 'tumai', 'bunga', 'msangahealthcenter', 'shigangama', 'kwamikwabe', 'kwamzeekimbunga', 'kwaenesimwaja', 'kwamakererketa', 'kwamadau', 'simbooye', 'kwaalukama', 'kwamzeechuwa', 'kwatemi', 'migunganib', 'mwabasabia', 'kwaomarramadhani', 'officeyacufwilaya', 'sikilizeni', 'daudinmwirenga', 'kwamzeedaimond', 'kwaaloisitimoyi', 'kwalawasahi', 'furahasekondari', 'kwamzeematama', 'mwembenikwagalu', 'kwabarabajamba', 'maximillianrobert', 'mamafadhili', 'kwasebastianmchile', 'pantaleositangombe', 'bubinzab', 'kwastelyo', 'shulemwataga', 'kwanambilanje', 'shuleyamsingiidoselo', 'kwamzeemkami', 'kwarubenmolel', 'kwakadeghenoleki', 'oscarmwashilindi', 'kwamzeeroman', 'kwasaliha', 'kwaleonsi', 'kwashukurumkopi', 'mkwesekoshuleyamsingi', 'kwasimonkihombo', 'kwamwaipaja', 'livoga', 'kwamasululu', 'baltazalikitazli', 'kwamzeemwandameja', 'zahanatiyangahokol', 'kwabintimgongo', 'kwakamwesigi', 'kwamzeelikwita', 'kwamzeeemmanuelabdala', 'kaahanga', 'kwamageuzi', 'kaikobe', 'kwabituragwaranda', 'kwatipis', 'kinyampembeeprim', 'kwakashono', 'pentecostal', 'kaine', 'kwlukandosi', 'kwawemba', 'simbakimuto', 'mgode', 'nyamangombe', 'mpanganya', 'kaaya', 'lugeye', 'kwawela', 'ulamboni', 'kwamanenomatius', 'kwiro', 'kwashijaishemela', 'budushimashariki', 'nafcoprimaryschool', 'kamioge', 'mbedeg', 'kwamzeelo', 'kwamathershirima', 'kwateresphory', 'bombanimakaburini', 'kwabibizena', 'alimadongo', 'kwamachege', 'kwaabubakarimtoro', 'kwaantonimarandu', 'rwakinonko', 'olderveseprimaryschool', 'kwamoshisadiki'}\n",
      "Test set has 2115 more values for column subvillage\n",
      "They are {'lisimalike', 'wigasijamatolo', 'bukurungira', 'magoeke', 'ndolobo', 'mwankobuna', 'mpejele', 'kitefure', 'mkonange', 'nahiyuhi', 'lwiva', 'komtindi', 'kipeta', 'zimanimoto', 'minyembe', 'ilegeja', 'lukane', 'munguzib', 'barabara4b', 'msikitinia', 'loyamlimani', 'mchamala', 'humekwakati', 'nansama', 'katembea', 'chambasi', 'nyabusonga', 'kadoke', 'nangaka', 'gabaniro', 'kangwashi', 'kaaro', 'mkurangab', 'centa', 'mfulowaga', 'ntili', 'kwamwiga', 'njipandab', 'nyamaitage', 'murwele', 'damsite', 'ndoba', 'bamob', 'mubambab', 'maundike', 'kinamweri', 'skinde', 'mpangalaa', 'mwntemi', 'tulale', 'ilangara', 'ndundutawa', 'baluli', 'kamwela', 'gonja', 'makorongo', 'likongowele', 'dodomakati', 'iguku', 'kinyandege', 'lushotob', 'ikongwea', 'mumakekeb', 'lugasa', 'mkondasi', 'ayalagayab', 'msindenia', 'mwagundu', 'rusheb', 'mpetoa', 'kikwama', 'nyamwadu', 'vikwanga', 'mrukukumbochini', 'ilundimembe', 'machimbo', 'kashangali', 'hapembe', 'myonge', 'gambaseni', 'gibasisi', 'kabuli', 'nyarumbugu', 'mwaligaa', 'mitendeni', 'mvongweni', 'mabukia', 'lichinyo', 'gwenzaza', 'utwigua', 'bukarangi', 'lima', 'sioni', 'mwasunguti', 'wiyogolo', 'kwediwandili', 'kibaonic', 'pilanga', 'kwedisasu', 'isambagula', 'sanungua', 'qatabradik', 'mnoha', 'kwamsala', 'ilanjiia', 'bumbaagaa', 'kyakafunjo', 'iboma', 'ruhengere', 'kisemu', 'kihata', 'mwenjema', 'bubinza', 'lialamu', 'pyululu', 'ketasuba', 'butamire', 'kalenje', 'ilogabutamo', 'lugunjiga', 'lukehea', 'magungab', 'ufunguo', 'thoma', 'manywaga', 'mkelakati', 'mwabananuki', 'shamaa', 'ikunguliaboba', 'ikongweb', 'nyamboko', 'lubangabanga', 'machin', 'mwechembe', 'mayega', 'mingaula', 'nakupamba', 'omulwoga', 'wigembe', 'ipogoloa', 'usingemashariki', 'nyahomele', 'mdala', 'ilungub', 'quash', 'kwemzue', 'kintamba', 'nghesha', 'kwanyali', 'mpamasaka/lyazumbi', 'kipingwi', 'njokamoni', 'kamashwa', 'nakilongos', 'chipukizi', 'temanghuku', 'chikunjab', 'lugonyo', 'mwamhuge', 'nkyooyo', 'chihihila', 'mwalunzinzi', 'kinyanya', 'utujacenter', 'murugaragara', 'masow', 'kontena', 'nyakadoni', 'mwigumba', 'labab', 'tambukarelimagharibi', 'd/magaribi', 'neziro', 'samuda', 'naipangakisimani', 'buhulila', 'kwere', 'namaholo', 'kilomeni', 'sambo', 'igange', 'matagini', 'nyamatanga', 'muwondob', 'kilulu', 'lwamdembwe', 'bujure', 'ilambwe', 'mpumbulisenta', 'mwivarokati', 'nyankalala', 'makemba', 'mshansha', 'endarat', 'uhemelikat', 'paramba', 'mwasingia', 'iyuki', '10c', 'mguruku', 'ibulwa', 'basonyega', 'kafundo', 'kawata', 'luchingu', 'igego', 'mieka', 'itakasa', 'mamagili', 'kingole', 'shilota', 'kilimbu', 'goloma', 'sembe', 'mabondekuinama', 'lukeheya', 'orkusimet', 'izava', 'msolokoto', 'ngukuru', 'mhanjo', 'lapalasek', 'centerndogo', 'ulalo', 'kirumuni', 'mlole', 'kibaokatiic', 'omokikurajo', 'mwakelemo', 'manyunyy', 'ngungungu', 'garilaya', 'endaduhu', 'kwarihala', 'masigila', 'mleche', 'mbobgiti', 'ntagala', 'mnkhola', 'rukombe', 'kweshangazi', 'kangemeno.5', 'parungu', 'uvanga', 'umwerani', 'utulivu2', 'kakindokati', 'mwakueda', 'nyamgulumab', 'bahini', 'ngelekela', 'nahoro', 'mwagijacha', 'mwagumata', 'shigombola', 'legezamendo', 'mlembula', 'buchegera', 'kikurungejuu', 'nyamihui', 'ikonola', 'rwanshenge', 'tabuamani', 'kukerege', 'chalangwachini', 'mjinikatia', 'matunungu', 'magirib', 'kwandilwa', 'gwau', 'ngoto', 'migunganic', 'chilanga', 'mwakinasa', 'msalabanichini', 'katumbati', 'ngaranumbe', 'manoku', 'magaramab', 'sagamaa', 'kalambi', 'ngolohano', 'nyasambi', 'gidagamowdi', 'ibapamashariki', 'magulya', 'kwambugu', 'nyakagege', 'mtambab', 'mtarawanda', 'nyabosongo', 'buduhe', 'isemengeja', 'mukachekere', 'kiendei', 'liulilosokoni', 'kiloshi', 'mwakonds', 'msituwatembo', 'mbwenga', 'kanyembaba', 'quarters', 'nghanje', 'talambo', 'degedi', 'ikongolakati', 'sangiri', 'magagulaa', 'mfutob', 'mujigojigo', 'mawichi', 'kisangurab', 'kizungucenter', 'mwagirir', 'chakaroso', 'nyakachele', 'mbondeniroad', 'idisa', 'kwengodi', 'ndutu', 'nshironi', 'kirwa', 'ussoke', 'namakolo', 'buguruka', 'vongo', 'nyenjelekati', 'nabuya', 'nyalusaka', 'isusi', 'nyamiagasokoni', 'mhingili', 'knownkasungamile', 'masasati', 'njonimwone', 'igereka', 'mwahinda', 'kazwabwamba', 'manyonijuu', 'ngongwe', 'nyangabokati', 'kingongo', 'nyasatoa', 'ingawali', 'malakunga', 'mkomboko', 'kokigerege', 'iloganzala', 'ndebelwab', 'ifungilo', 'mikulumoa', 'lukenzi', 'makunghuu', 'nyangokoa', 'dabiso', 'satandi', '14kambarage', 'bujingwaa', 'longidosecsc', 'igwamadete', 'ibalambasa', 'unyangogo', 'bedaa', 'dyakateba', 'ngomenimoja', 'makutuporakati', 'mnyalata', 'bujinge', 'makorereni', 'kwefingo', 'itandu', 'bushimani', 'kwadia', 'kiziwaa', 'kilino', 'n`gapa', 'mtisib', 'majengobarabarani', 'shindeni', 'kishengezia', 'ngochi', 'nyakasanga', 'isigi', 'kidondoni', 'kashawe', 'ngubalo', 'kipala', 'nongwa', 'karo', 'mamete', 'mbogwekusini', 'kwezilangu', 'endanachanisokoni', 'mwinsulu', 'mkumbini/mfule', 'segese', 'muzenga', 'ngongoro', 'njokakati', 'ngangira', 'kilowoko', 'kisiwania', 'mbusi', 'mirumbaa', 'katolwa', 'ukimokati', 'nyabesawa', 'kinyantungu', 'kabilla', 'kinyangwe', 'tibili', 'tutua', 'idindiga', 'inaro', 'libwazalo', 'cholopa', 'telamandangeni', 'badi', 'bunigonzin4', 'misale', 'kitumbikwela', 'msapa', 'mjimpyaa', 'mamongolo', 'kasemu', 'kivumi', 'kabibi', 'namwinyo', 'mwanzura', 'nkwankongu', 'nyamilamaei', 'usalamaa', 'mtepwezi', 'bodaboda', 'mugaziumoja', 'kamemo', 'olkereyankati', 'maseya', 'bhakikorokozi', 'kandwanshimbaa', 'tarime', 'mwanzaroad', 'mzogolo', 'malenda', 'ipilinga', 'kifunimadukani', 'maduara', 'nyandolwaa', 'charoni', 'ipiririmagharbi', 'kaniga', 'kasomela', 'pipitu', 'mwarubanga', 'nyatangab', 'vikeze', 'mpandeb', 'shuleyamsingiudongo', 'muchebe', 'italii', 'likwirojuu', 'luseni', 'lugungunzi', 'kileob', 'msonga', 'betheli', 'mwacheapotee', 'bushimangila', 'kipunguli', 'kiija', 'isubaliloa', 'lyeselo', 'zabaga', 'nsyamba', 'kkabula', 'mwashilindi', 'ndua', 'mtaawajasiliamali', 'mnywezi', 'nkalisi', 'mbagaa', 'mendusee', 'madukan', 'mwegero', 'legamwendo', 'ngurumani', 'kikugara', 'odukeni', 'kitopenia', 'fumvuhu', 'ilalanguru', 'kwekibaha', 'mwenzo', 'kanani', 'miresa', 'bitere', 'sawewe', 'buyangeb', 'mbwego', 'kwenyundo', 'njiapandayashomola', 'bunamarab', 'biasharasekondari', 'kongab', 'lingamila', 'stakidawa', 'kambeni', 'sofi', 'mbezi', 'sopa', 'kihalahala', 'moram', 'igaraa', 'twoa', 'mziaze', 'karamsing', 'jida', 'guduwi', 'nkobwe', 'tamkeri', 'makuja', 'mjinimagharibi', 'ngehe', 'nyamonge', 'mabanzini', 'bondeniroads', 'susunika', 'gisamjanga', 'mwaluji', 'chianga', 'shidutu', 'kisekibaha', 'ntobo', 'shirikishoni', 'namani', 'kibeyocenter', 'tdh', 'rugabo', 'oldshinyanga', 'namatungutungu', 'ichamoyo', 'langaa', 'chankeki', 'solovea', 'lombetastreet', 'teksaizi', 'chamatuli', 'buyozi', 'mughunga', 'ibindib', 'kavurugwa', 'chaume', 'makerojuu', 'kuliande', 'nyakashozi', 'mwaukwaya', 'bureiniilamba', 'maktale', 'kisungulea', 'unyikungu', 'irondomagharibi', 'nyampengelemtoni', 'umbur', 'buzegweshuleni', 'kitumbo', 'mtakiuja', 'kudibululu', 'shirikalaneema', 'kandale', 'iyukia', 'mwanghuni', 'mbwata', 'kigori', 'kijueni', 'mananyamala', 'muguruka', 'badommoja', 'butulwambula', 'engololoi', '57a', 'minara', 'mabaluni', 'chango', 'makazimapya', 'dumbetakati', 'esilalehi', 'shuma', 'marinyi', 'madundwe', 'kimungishuleni', 'ngugwini', 'dinilo', 'nzuitaka', 'kongea', 'ifampa', 'milupwa', 'muongezeko/nyankendo', 'khava', 'utuku', 'shagenge', 'nandala', 'mwmayala', 'bohora', 'mwamambiti', 'nyalubazi', 'kinila', 'ihushic', 'ualimu', 'nyabugori', 'kazilantemwa', 'bujongo', 'makigikati', 'bogaa', 'ulwahi', 'kandwanshimba', 'kitampa', 'dokta', 'bomai', 'narunyo', 'mugambo', 'mgutu', 'mwabafula', 'irundu', 'mwatenga', 'ulaya', 'kozi', 'nzwami', 'itumbilia', 'mujiti', 'umarin9', 'wisekeleja', 'sohha', 'mtwake', 'ropa', 'mwabazindi', 'kangemeno.3', 'sheleni', 'lulombochini', 'meresinia', 'bushindi', 'matera', 'kakuni', 'nanjumba', 'kizala', 'wendelemlimani', 'subirakati', 'malecelab', 'megab', 'buiinja', 'katwea', 'nkonko', 'misenyi/buchwa', 'kichamate', 'kiseu', 'kwaludege', 'kwamtwelve', 'shinyangaroad', 'qaymana', 'kimangawatersupply', 'mifugi', 'milalac', 'itobanilob', 'losikito', 'maka', 'makuka', 'kusinimashariki', 'mwamwombi', 'kanyetamu', 'chagwani', 'mzingwi', 'ilolangulucenter', 'kindumba', 'nguzule', 'mlenikati', 'tagotaa', 'lusania', 'nyakwigambira', 'kihesaa', 'izimbya', 'igayaza', 'mabilionib', 'kimbanda', 'bohari', 'kibirere', 'kambayo', 'twasimba', 'inyele', 'kitembo', 'dibuti', 'kinanundu', 'nyigoi', 'mkurangaa', 'nshimbaa', 'kanywangiri', 'mwengeb', 'maktaba', 'dungunyi', 'kipundu', 'mala', 'sagabayu', 'kwagalaboi', 'kyamabere', 'mnyughe', 'maluwi', 'doyo', 'mwaduya', 'buloma', 'monguo', 'kwamadirisha', 'nyakamanga', 'shendacentre', 'mnazimkinda', 'kizilamuyaga', 'chitopeni', 'busondikusini', 'sararat', 'isago', 'mwamabungo', 'matiu', 'kabandanambamoja', 'nkilifu', 'nakayuki', 'mkwakwa', 'ugaka', 'relwestreet', 'mafichoni', 'shele', 'ukingwamizia', 'doromoni', 'malowe', 'mshandwa', 'sasub', 'nyamribwa', 'olmatejo', 'matembe', 'kisumwa', 'kyahima', 'chaurembo', 'makanyagiosokoni', 'idumuka', 'mpwanila', 'rujoka', 'buhola', 'muhogo', 'sadukilo', 'bagoa', 'mwashiwiwib', 'makuruvira', 'magoekod', 'mbatamila', 'chole', 'sharaman', 'chikago', 'matandalani', 'chandulu', 'nkungwi', 'shamungili', 'kyamalange', 'kihade', 'uredi', 'kariba', 'rugenge', 'ukumbi', 'njiguji', 'kitongojic', 'majengosokoni', 'iwelmo', 'ishekese', 'kokobo', 'mankhau', 'ndongeb', 'yichobela', 'mambad', 'kwakweka', 'bekedi', 'busagarab', 'maringeni', 'mapyufya', 'butare', 'nginegi', 'bukoko', 'litundu', 'mashamba', 'ishinsikati', 'dabiri', 'lubale', 'mwanadilatu', 'kitukutu', 'mbuyunistreet', 'kibole', 'january', 'buyogo', 'salamiti', 'kimambila', 'kerekese', 'kwemzingazinga', 'itigwangholo', 'ipingili', 'igulaa', 'mkulwa', 'nyarusawa', 'kabaoni', 'cheuka', 'nandoba', 'mtego', 'mngonya', 'manamawa', 'kombero', 'mchungwani', 'itambala', 'igweso', 'mwamakanza', 'ndunguru', 'oldonyonado', 'mshamu', 'zara', 'mwansangs', 'lugeke', 'nkongole', 'nyabushororo', 'sangarika', 'mnindu', 'kituani', 'omukitenge', 'kabuyombo', 'lunguli', 'majole', 'bunghima', 'mcheni', 'mtawanyakati', 'muhangazib', 'mwenyehinga', 'mugihera', 'vugamgambo', 'kabuhondo', 'ubiti', 'mabila', 'bigunga', 'ugino', 'iguguma', 'mgwanga', 'mkalanga', 'godawn', 'waja', 'malala', 'msadyaa', 'ishoko', 'hhaki', 'kwanjaiti', 'hihalahala', 'luizi', 'huloani', 'risoa', 'makwei', 'kawia', 'mlimao', 'olmat', 'sakabai', 'nyamiswikusini', 'zumve', 'natwayinba', 'kitengenib', 'homola', 'laghandesh', 'malipu', 'imaramarusu', 'kilabili', 'nyamalangob', 'mpela', 'manawa', 'usubi', 'isambulaa', 'mtiumtupimtu', 'bitete', 'lakeko', 'kisarawe', 'zelezetakati', 'mtomkavu', 'mjombe', 'kenondo', 'chilulumojuu', 'mvugwechini', 'kikonkoa', 'sobola', 'chipya', 'mwamishimo', 'boheloi', 'vinolo', 'nyamunginya', 'kubuha', 'nkungungu', 'msengaa', 'ayaslansla', 'busulwangilicentre', 'majenga', 'kumbuga', 'tunduru', 'kifumbi', 'kihiga', 'aroya', 'chakame', 'tumabu', 'viikuga', 'nkahatu', 'likolombejuu', 'sadam', 'mnyawishuleni', 'olngwado', 'msokozi', 'mkona', 'kilamigunga', 'jolodomu', 'kigandu', 'mwabuhekea', 'kowaro', 'kigigida', 'kitima', 'misarakani', 'izombo', 'kulila', 'nhundulu', 'mgarab', 'nanyala', 'karuguyua', 'usongerani', 'buliashili', 'ningojeni', 'makangalawe', 'chabisheke', 'songwastesheni', 'centrea', 'sungakaya', 'busomekekati', 'mbizi', 'madisi', 'sahiti', 'ibelangat', 'shungua', 'majimakoho', 'mekia', 'nkwae', 'mdimli', 'hikata', 'tungutungu', 'kubisiki', 'mwadundu', 'mfenesini', 'iseche', 'tulizana', 'muhiga', 'kimnyak', 'muhuru', 'idawi', 'mshewajuu', 'mwahindac', 'mwakisenge', 'lozoi', 'mukulati', 'kisamo', 'muyenze', 'kilimbika', 'nabi', 'mantasuku', 'nzoga', 'mtukulamjini', 'msisaib', 'chipapaa', 'temekeb', 'kagoti', 'nyaguganwa', 'kasugulu', 'kinapa', 'mwanale', 'mbwila', 'mitungo', 'nyakunu', 'kishilib', 'newciity', 'ukarani', 'orpuwa', 'mifigini', 'kigina', 'maga', 'huhulia', 'bugegelema', 'nkalachi', '28a', 'birira', 'lindyati', 'mwibara', 'sotelea', 'mtambaswala', 'setutu', 'mayungu', 'njara', 'machinjionimbugaani', 'mwasalage', 'mpungula', 'kambuzi', 'bisya', 'ngalito', 'mkubu', 'njirokampimbi', 'bisheke', 'nyabarara', 'chamatola', 'nakasichi', 'nyamiti', 'makondea', '21', 'wangoni', 'saure', 'kingamoni', 'kadewele', 'selwe', 'kukinisi', 'toangomaa', 'naomba', 'mtikila', 'vigae', 'chilembwe', 'hitib', 'tangilamajia', 'mapirikoni', 'nyamilamasecondary', 'mwabasami', 'kimashale', 'nyabulakati', 'izumbacenter', 'buchima', 'kifura', 'kisekeb', 'kenyaitanka', 'kirau', 'mshikajembe', 'italekati', 'michengania', 'ikanumgunde', 'igonjaa', 'kisava', 'nambunje', 'nansinde', 'mabati', 'ukimbizi', 'gibasocenter', 'katengab', 'tipokati', 'nyamule', 'isagenghea', 'italaa', 'mboshokashini', 'kiselia', 'kihuluchapili', 'cherabuloa', 'kikondo', 'kyalosangi', 'nakalungula', 'kamfuba', 'iteteetemia', 'muungao', 'chamata', 'mwangimo', 'busendac', 'kalaura', 'shianza', 'kashoza', 'maraka', 'rugunga', 'namayanda', 'italikekaskazini', 'mwakaliobi', 'ludewamjini', 'mwanundi', 'usuwilo', 'nachindima', 'mlimakafu', 'mlanje', 'tanganyikaa', 'ndemanga', 'tagamendab', 'kashaa', 'mwahnuru', 'nsungukati', 'mnangari', 'mwakulwa', 'mbwara', 'mwangwika', 'makati', 'balagashi', 'komunyu', 'ivumwe', 'mwamazone', 'lolezakati', 'iyua', 'ululu', 'mnkokotena', 'nenge', 'makayo', 'oloodorkaria', 'mikolola', 'tbc', 'kwemtego', 'nyamande', 'itumbika', 'kumgarula', 'mwabaheno', 'msimamo', 'kabwelaa', 'danguloni', 'nzegere', 'utungulu', 'mlambwizi', 'ntibu', 'maferekati', 'kwasame', 'kyanshogu', 'armakalikara', 'olubak', 'ilookisiti', 'busulu', 'kirole', 'kitanduchini', 'ibonele', 'usasalani', 'igwatab', 'mperasi', 'mwabalaturu', 'utiga', 'manakab', 'nshekasheke', 'iponyanungu', 'omukatunga', 'kiegela', 'magwobolo', 'zamangombe', 'mwajilungua', 'mtule', 'kombwewe', 'masangacenter', 'jisesa', 'iduda', 'iyuli', 'darajambili', 'ilalambogo', 'nyasese', 'ubingaa', 'mwankols', 'tagamenda', 'suge', 'kinandilia', 'katengaa', 'nyamholo', 'madali', 'mpeta', 'halali', 'mashuini', 'ipulia', 'namwene', 'ungindonigaribovu', 'langandondojuu', 'nambungo', 'malumba', 'marimba', 'lilungu', 'mhepasi', 'mumigereka', 'bugororab', 'milamboc', 'mpinchi', 'jamida', 'pwania', 'kitimbirihuchini', 'bugogob', 'miembenib', 'itwangi', 'ukaguruni', 'nyambuliko', 'gamiusi', 'mwanyambweyi', 'ingoro', 'komdudu', 'masalalia', 'ambrushu', 'salundab', 'mtawani', 'mugoda', 'miluzi', 'mwabukuliwa', 'myambeni', 'sorenyi', 'ibwange', 'ilege', 'ikalangamagharibi', 'mahida', 'tabuyakona', 'ngaranib', 'kawajense1', 'nyaluwega', 'nyamalonda', 'mwabalebi', 'buke', 'ikukisyo', 'nsimbosecondaryschool', 'igumwa', 'kwemkame', 'kipangamlimani', 'hargushay', 'ludendeb', 'rwamanyonyi', 'boka', 'mlunduzi', 'mkunywaa', 'usongelania', 'mgogondeleb', 'nambaluta', 'chimala', 'lusiva', 'itemba', 'isuka', 'msiliembeshule', 'foinia', 'mweda', 'rwagabo', 'laelaa', 'kizumila', 'bulili', 'mburanib', 'masongwa', 'nyakararo', 'isunukaa', 'uskimu', 'songeaa', 'lusonge', 'ikulwe', 'katukanyenza', 'ruzibaa', 'namkongo', 'ngangaga', 'talatala', 'nyarwele', 'bwikarage', 'kinamyubab', 'uhananya', 'vituea', 'chakalatembo', 'merampya', 'chitoo', 'bariadikaskazini', 'lugojo', 'kidonkwe', 'welamasonga', 'chobweda', 'lundipu', 'kijenge', 'nyarutefya', 'kosoro', 'kibeto', 'mughumo', 'itebula', 'nsangamatale', 'aleni', 'luango', 'bulelaa', 'mikubezib', 'mwmangondi', 'kihongwemasagala', 'bashetjuu', 'kafufu', 'mngombe', 'orumongolo', 'kizino', 'mkugilo', 'ighuka', 'bumvanambamojac', 'nyulumba', 'chikaluli', 'rizabornmadu', 'mwasingi', 'karutambe', 'mulua', 'kififi', 'mwangoe', 'nyanguganwaa', 'muhanzi', 'mkume', 'buseresere', 'mwendapoleb', 'bushinib', 'igungumkiro', 'kamrebib', 'mbabwile', 'daisalama', 'bunazi', 'bukomera', 'ruhanyab', 'mchekena', 'mwaswale', 'karutambwe', 'kigomaroad', 'mnuyuni', 'mwigamila', 'bulunga', 'mwanyahena', 'sok0dogo', 'mingoi', 'misasi', 'mhogweb', 'sokolazamani', 'ilobelo', 'mwahindab', 'mwamanyilili', 'lukome', 'tingirime', 'nyanghona', 'bujulu', 'remirongo', 'liheko', 'ngugi', 'gemae', 'kamatenje', 'matura', 'ijolero', 'katwe3', 'bukiko', 'rwakiriti', 'kamsunde', 'nyashoshi', 'iyongoya', 'bubinzaa', 'nyikobokocenter', '32', 'kurui', 'kilimasera', 'ngurumi', 'ndwangab', 'kasandalala', 'langtomon', 'miswakini', 'mombasa', 'ibindia', 'mwagula', 'mchapeni', 'mwalumandwa', 'mkangilija', 'kwibusesenta', 'isigatiro', 'luinzi', 'kusa', 'pakaya', 'mavumi', 'paris', 'chereweni', 'mawawaia', 'bwambe', 'lwamitikomakoma', 'nandalu', 'paakuyo', 'stasheni', 'sekondar', 'shagihilumadukani', 'bugalagalab', 'twiga', 'chambezi', 'barabara2b', 'mugogob', 'luandeb', 'getebe', 'juanishule', 'kwasalinge', 'chinolola', 'murkuchida', 'madukanicenter', 'kaburuka', 'kinangari', 'igwatac', 'mishili', 'lupango', 'kishinda', 'nyegugu', 'makamijuu', 'seti', 'kwamanangu', 'mtesukac', 'likenangena', 'chipole', 'kona4misese', 'korintho', 'ng`hwene', 'munanila', 'kumlele', 'iragua', 'olomongolibo', 'nhele', 'mbatamira', 'muruvyagira', 'iponyacentre', 'chiondo', 'kempub', 'mchoteka', 'mwambalazi', 'nampungua', 'lopulin', 'milongwa', 'gwangiro', 'makangaka', 'ndandawala', 'nasetan', 'tukaewote', 'chaseni', 'kanuguli', 'kabakesa', 'tlahsa', 'dunguya', 'nalumbalila', 'mikunyu', 'mboshosinde', 'ushingisha', 'masalage', 'mnyangonzi', 'kibayamafichoni', 'dachenche', 'hondogo', 'luvaib', 'imalanzara', 'mataula', 'mugwanga', 'chijeje', 'ndwangwa', 'itembwen9', 'mbembuni', 'ngejakati', 'makobeni', 'busere', 'mwang`halanga', 'kyegolomola', 'mwemvuge', 'ivulul', 'mikangaga', 'mwanholo', 'isagal', 'magigweb', 'mwabumwandua', 'mangomela', 'chihokwi', 'chigugu', 'nandeda', 'morambo', 'milyungu', 'mpondac', 'kisalea', 'kasilandimwa', 'chibwachamama', 'ntwizi', 'nyamasenge', 'charuhuza', 'balankani', 'kiyango', 'mngugo', 'nyankole', 'isenzanyakati', 'nyasagaro', 'karuzamba', 'daati', 'mwaboza', '55a', 'nyashike', 'nyamtile', 'mwasile', 'mgamboia', 'davida', 'mlizab', 'mkasesere', 'mashinula', 'kadesi', 'shihumbi', 'lusane', 'qalalanda', 'mtunduma', 'mahamani', 'mikesi', 'mwakashu', 'mwankale', 'ungambani', 'gunga', 'kazilankandawatersuppl', 'kibilo', 'visalawe', 'ayayae', 'udagaji', 'osoley', 'mwalen', 'omukitojo', 'rukoyoyo', 'kumgogola', 'kisangali', 'chamhela', 'kigorw', 'nzegaroad', 'sokojipya', 'mukibasa', 'mjib', 'ifumbula1', 'loloboini', 'lushe', 'mnada', 'kalamakati', 'kilasi', 'lutimbe', 'bunyambo', 'machinkioni', 'nambole', 'usingwkati', 'hongwa', 'vituli', 'nyabulongo', 'igalagalilob', 'kigamba', 'tukamjini', 'mwasinasia', 'sebeloa', 'mwambuli', 'bukangiliga', 'kitondweb', 'banha', 'kitondwea', 'usulwi', 'ndandalo', 'maili35', 'chunguchantemi', '21a', 'nkomakwela', 'mahatano', 'kibangilejuu', 'upungumashariki', 'luhiza', 'kiloeni', 'lolovono', 'muherere', 'kumbamtoni', 'kumkobeb', 'ilianda', 'dugumoshi', 'rigda', 'tambalare', 'ngema', 'nholongo', 'mongolokati', 'kwachavu', 'maseda', 'kasuno', 'mbelekese', 'wisegere', 'melenyi', 'igalagaliloa', 'bumangi', 'kiwalawala', 'krutale', 'kabalenziyakati', 'mchebe', 'kikundufye', 'olesitidukani', 'mwekeraa', 'kilaguju', 'mkaliza', 'karafiya', 'igala', 'twendesote', 'mlingotib', 'lukamakati', 'naungo', 'omurweleb', 'mwalukwi', 'bulanga', 'mduka', 'ikuyu', 'ivungwe', 'hulia', 'itoha', 'gilabela', 'olududwi', 'bwendansekob', 'kwemgunga', 'matatizoa', 'kibohelo', 'kimbiji', 'itarekongu', 'ikumbi', 'ushokolakati', 'mkuchika', 'oldonyoilabi', 'mlandad', 'sentastoo', 'buyagucenter', 'matine', 'bombmzinga', 'endanachan', 'gamoka', 'kitesi', 'kiteshe', 'madansi', 'ugwesa', 'dagwisha', 'bupongo', 'tumbilini', 'ndahala', 'mbaemagharibi', 'daily', 'misimii', 'lipangalalaa', 'mwasomwa', 'kalatuma', 'qankari', 'mberereni', 'kimbale', 'kiungania', 'busecha', 'molemlimani', 'malingo', 'nyalangule', 'ibandiro', 'brenda', 'ibongoja', 'kaningub', 'bandasaba', 'mkundini', 'maseleki', 'igunguti', 'ngaambo', 'ibogoma', 'gwandikati', 'namwaya', 'masere', 'kagangoa', 'humiuka', 'uwungilo', 'nyansarari', 'galugila', 'ngirib', 'mumanaa', 'kirinjikochini', 'nyakafundikwab', 'mwakusemwa', 'mviringo', 'rubemba', 'kikomelo', 'kudigongo', 'kisangadachini', 'mwansonsela', 'mwahue', 'mwamale', 'kamulema', 'viwanjasita', 'muhefu', 'kisongochini', 'nywandwita', 'mhumunu', 'madegeb', 'dunehe', 'mkatastation', 'kisapa', 'haidesh', 'kaalilo', 'mangori', 'buhingo', 'ulangala', 'chamva', 'busulwangukue', 'karikachastreet', 'uyowa', 'kageze', 'sasenga', 'mwambeshi', 'busumabwi', 'ibisa', 'olesitiiati', 'kigomab', 'omkigando', 'vyombo', 'ungindonimagengeni', 'makapo', 'uvumba', 'chihanga', 'maranvya', 'brendaa', 'ishola', 'kwamdim', 'makata', 'mwendamakono', 'uchachikilea', 'ngwagingili', 'salongweb', 'mduli', 'kagando', 'mgela', 'mbaluka[miomboni]', 'kitengere', 'msanange', 'lwatu', 'zilamakazi', 'ndarakwa', 'kahundab', 'isimbo', 'nyamalunda', 'kipelege', 'nyamalapa', 'mtaawanne', 'kwemkunde', 'itefroni', 'mandeleo', 'nyangwab', 'nkulusicenter', 'kwarudeve', 'emaliti', 'manguruma', 'bushushiga', 'ikengele', 'gitarungwa', 'mtezi', 'ingutoti', 'mwanalugali', 'ntimaro', 'tonya', 'youre', 'kilembwe', 'kibilizi', 'nambari', 'ulyangombe', 'usimbitini', 'rwazi', 'bugombe', 'upago', 'kwadiwandu', 'itunyi', 'mkokotela', 'mlenikatib', 'msofini', 'mihambo', 'kwagongo', 'nyamsebeia', 'kiaegheni', 'mumatanga', 'nyamiobo', 'taru', 'tomasi', 'kibigiri', 'mugasha', 'ruhokob', 'maseleleko', 'lutemi', 'rabuorb', 'omukasimbe', 'katinde', 'lujewa', 'chamgugwe', 'mafugusa', 'shuleyasecondarimsakwal', 'bugyabuso', 'kabita', 'nkuatila', 'kichanginyi', 'ilemelakati', 'kidongo', 'msagaraa', 'ipandwanzove', 'napote', 'josho', 'ntobokaskszini', 'buhama', 'msorokelo', 'vingo', 'ulumba', 'bukanjiliga', 'rusakab', 'utewe', 'lugolofu', 'sadanb', 'nechiungo', 'changabe', 'kitungua', 'mifugonib', 'katwecenter', 'shilungule', 'lubigab', 'chanyaboro', 'igukub', 'lipombwe', 'mlelewa', 'kidodoyani', 'kanyamweza', 'kiyebe', 'nachiungwe', 'changomba', 'kanyamayenje', 'salamada', 'chaleprimaryschool', 'bugoge', 'mwakundia', 'sigidi', 'igalagala', 'ngusero', 'san`gana', 'thawijuu', 'bangwezahanati', 'mwamashenene', 'mdundani', 'kiburungutu', 'rombo', 'kibabadi', 'nekilongos', 'ndindii', 'lushotoa', 'nachilonje', 'nzitaka', 'migudeni', 'kizina', 'chumbwe', 'shimbob', 'shunga', 'blendab', 'njomole', 'sigi', 'udundya', 'mgongwa', 'bulahu', 'nyamisale', 'mongola', 'nyanguganwa', 'malima', 'matalambiti', 'kakolab', 'kalo', 'makose', 'mwakushiga', 'tindisi', 'kibiboni', 'kewasubugu', 'sambagule', 'siruka', 'gwada', 'mwakikonge', 'mhango', 'funzia', 'nakasasa', 'almaroroi', 'ngasani', 'chiwan', 'ikinabusho', 'lutara', 'nyamata', 'tawalani', 'karugendo', 'nampangwe', 'tiro', 'madukamawili', 'kabagara', 'mafinji', 'mtewere', 'nyabuhele', 'kigoyikati', 'igwasa', 'dugalo', 'ilelangata', 'itede', 'msuib', 'katabangab', 'kwekigao', 'nachilonji', 'haikaf', 'kimbogolo', 'komboko', 'kasana', 'nandukutukub', 'mandagati', 'madahocenter', 'mingombemjini', 'majengoyatavira', 'ililika', 'kilapula', 'sasesi', 'hezyakati', 'msngula', 'kamuzizi', 'maginameru', 'kitongwaa', 'azimiob', 'mijaleni', 'kwemnada', 'kiharagweka', 'kikafu', 'nyangwale', 'mmoja', 'mwasagela', 'mingwea', 'rwengiri', 'nyanhaya', 'minghaa', 'boti', 'pumakakazi', 'nankara', 'gumbilo', 'chapwachapwaa', 'kamajia', 'mailisita', 'chanzige', 'kipei', 'kimbaia', 'kashambi', 'muhaka', 'kwedisemi', 'nkhanuni', 'njiapandayashimoni', 'emality', 'runji', 'mbola', 'mkanyage', 'usagalani', 'chakaralama', 'nyakitonyo', 'mwigau', 'mbea', 'kidalinandab', 'ihanja', 'koaro', 'kwakura', 'kamata', 'salenijuu', 'kashenge', 'ndaliloa', 'bulega', 'iralwa', 'mnianda', 'nyanango', 'nkunguhu', 'chitonte', 'kiberuberu', 'mapampa', 'nambechaa', 'kibatula', 'itagwasa', 'kibuko', 'mwongo', 'luguru', 'nyankongo', 'uswahilinib', 'bulwani', 'mfundize', 'luluma', 'lumve', 'mbalwa', 'kwamatukuu', 'ngoikumeni', 'nakajwenge', 'kiswele', 'kwahammad', 'lipondea', 'hanari', 'mbuganii', 'karanja', 'nyabutegete', 'upila', 'ilao', 'mapwela', 'mwafuku', 'milyungub', 'milumbani', 'kanyomaizi', 'mwanabwito', 'msakwi', 'kumtukulad', 'mwakasema', 'hiyariyamoyo', 'mnele', 'kurinjaa', 'kimobwa', 'kyamuraile', 'moshonda', 'lukululukati', 'mshiwi', 'moikane', 'kitongojikati', 'mwabumwanduc', 'chijedu', 'nzegamila', 'litono', 'bondelamachozi', 'kifukulo', 'bugwana', 'endelah', 'usagata', 'ushirikab', 'malanguzu', 'ikunguliyangalanga', 'bonden', 'mitole', 'nsayu', 'bupandamawe', 'pachnne', 'vyemo', 'ihugya', 'ikurusi', 'sowetostreet', 'uwara', 'kipangakati', 'chabutwakati', 'agake', 'bahim', 'mjikati', 'ugewa', 'katelele', 'voyasuleni', 'namanja', 'kaskaziniruhobe', 'ipanzyakati', 'hekanelo', 'nambatano', 'murugarama', 'dunhu', 'mahadu', 'chasalawimadukani', 'nianzini', 'sabage', 'bulama', 'mwanogi', 'mletelekati', 'kawajense2', 'ikusb', 'ushokolarelini', 'itenki', 'ngurunga', 'ng`olong`olida', 'kabujaja', 'kwabuab', 'khailoto', 'kadotoa', '24a', 'kiemea', 'kwabalanga', 'mhuka', 'nyakahakocenter', 'kibulunge', 'bisarwikati', 'mkondani', 'kalumwa', 'kidugaru', 'mngetakafa', 'kihulukoc', 'mombassa', 'mbungundeka', 'imalakaseko', 'vitengwe', 'ngulawila', 'isoko', 'nyamililokati', 'kwamwege', 'cbc', 'sowto', 'iyogelocentre', 'mkumbo', 'butundu', 'itengeje', 'makolejuu', 'oldonyomasi', 'kelei', 'mwakinda', 'mamani', 'tr', 'nkuyunib', 'kimswaki', 'kalela', 'kchangania', 'izengwabaumba', 'kwalambuwa', 'mwamva', 'kahatu', 'bunasanicenter', 'kerefure', 'getenga', 'ndamuloi', 'akagulukile', 'mchafukuoga', 'lugeye', 'mikweni', 'nanondondo', 'sanali', 'mkitwe', 'ntaba', 'ntiba', 'ndibwa', 'kasirukagati', 'ngongoma', 'maponda', 'kwikubacentral', 'rugongo', 'jogaya', 'kishaba', 'lyulu', 'kilidu', 'kwiro', 'nkoaneema', 'migongo', 'kazanda', 'mesaemruwata', 'mwampaya', 'namitonga', 'mateka', 'letiro', 'salimani', 'buziba', 'chitoa', 'nyamori', 'lungeni', 'bulyanzobe', 'manaka', 'usongo', 'buchelab'}\n",
      "Test set has 6 more values for column ward\n",
      "They are {'mwamashimba', 'sange', 'kangata', 'mwalugulu', 'goronga', 'mdabulo'}\n",
      "Test set has 133 more values for column scheme_name\n",
      "They are {'ndolelejipipedscheme', 'aveda', 'kazilamihundasubgravitysourcewatersupply', 'blnkenku', 'imwa', 'ikunagravitywatersupply', 'kipalawatersupply', 'ngha', 'kwambawatersupply', 'chemchemmajimoto', 'lesngitawaterproject', 'blvetenary', 'kawa', 'mwarasi', 'uwamalu', 'borehoole', 'mradiwamajiwakag', 'mradiwamajikiliw', 'segs', 'mumigezispringsource', 'missionaryrcwatersupplying', 'ai', 'mwaboza', 'dotina', 'kwemshaiwatersuppl', 'lusa', 'hikata', 'serenaturalspring', 'mtepwezi', 'il', 'masuguruwate', 'uziziwatersupply', 'kibondogravitypointsource', 'bldonyoshuleni', 'kwamihayo', 'lionsclub', 'hoyoyowatersupply', 'msengoniawatersupply', 'kusahungapipedscheme', 'cartas', 'majiyakutegwa', 'mataiwatersupplysc', 'weleiwatersupply', 'kirumbeinewaterproject', 'kitendenwatersupply', 'tmnamwe', 'villagewatersupplying', 'blesilalehi', 'murutungurusecondarygravityschem', 'mpapawatersupply', 'nyampaa', 'isangavillagewaterpipescheme', 'kikondiwatersupply', 'mokalawatersupply', 'songambeleazimiowate', 'ngang', 'blkisiwani', 'maliwatersupply', 'engejuuondariwaterscheme', 'kituochakheri', 'bleligadbranchline', 'mwilamb', 'mwakikongedam', 'pumphousesanungu', 'benderawatersupply', 'lumuli', 'mpanyulawaterscheme', 'nyalusangispringsource', 'maliasili', 'izimbyapumpingscheme', 'kimanzichanawatersupply', 'magotopipedwaterssuplly', 'uhindiwatersupply', 'h', 'gong', 'fiwater', 'ikunagrwaterscheme', 'tala', 'blkinapa', 'nandagala', 'sawasawatersupoly', 'kumubilaandmkalinzispringsource', 'watersupplyinkalebejo', 'mradiwamajikintinku', 'riverzigi', 'naluwalemkwajuniwatersupply', 'blmajengob', 'kalangala', 'blofisini', 'thaw', 'katengaspringsource', 'kilimidam', 'pung', 'sinohydro', 'blsanya', 'ibil', 'blkileo', 'lerangwawatersaply', 'kasahungapipedscience', 'mamag', 'tlmp', 'mashatidispensarywatersuply', 'msikiti', 'vifafi', 'mradiwamisheni', 'nanganga', 'mita', 'magu', 'tewewatersupply', 'dacip', 'bsfwatersupplying', 'ndeb', 'kwasebalagravitywatersupply', 'naliendele', 'mambawatersupply', 'tanzaniaandegypt', 'capitaldevelopmentgrant', 'rungwawatersupply', 'nkalakalawatersupply', 'requiresgoodmanagement', 'mradiwamajiwamisufini', 'kesanguranamwagawatersuplly', 'kialilowatersupply', 'lilungu', 'male', 'mamuashawatersupply', 'gwaramapointsourcesourceswatersupply', 'ndolelejiwindmillpipedscheme', 'machinjioniline', 'mradiwamajiwamfalanyak', 'blsabuku', 'itefroniwatersupply', 'ikow'}\n"
     ]
    }
   ],
   "source": [
    "for col in non_num_cols:\n",
    "  a = set(test_data[col].unique())\n",
    "  b = set(X[col].unique())\n",
    "  c = a-b\n",
    "  if len(c) > 0:\n",
    "    print('Test set has {0} more values for column {1}'.format(len(c),col))\n",
    "    print('They are', c)"
   ]
  },
  {
   "cell_type": "code",
   "execution_count": 447,
   "metadata": {
    "colab": {
     "base_uri": "https://localhost:8080/"
    },
    "id": "mO8T_jPjaV19",
    "outputId": "38589aca-db90-4517-884d-7ab3c6859ae0"
   },
   "outputs": [
    {
     "data": {
      "text/plain": [
       "['basin',\n",
       " 'region',\n",
       " 'lga',\n",
       " 'scheme_management',\n",
       " 'extraction_type_group',\n",
       " 'extraction_type_class',\n",
       " 'management',\n",
       " 'management_group',\n",
       " 'payment_type',\n",
       " 'water_quality',\n",
       " 'quality_group',\n",
       " 'quantity',\n",
       " 'quantity_group',\n",
       " 'source',\n",
       " 'source_type',\n",
       " 'waterpoint_type',\n",
       " 'waterpoint_type_group']"
      ]
     },
     "execution_count": 447,
     "metadata": {},
     "output_type": "execute_result"
    }
   ],
   "source": [
    "small"
   ]
  },
  {
   "cell_type": "code",
   "execution_count": 448,
   "metadata": {
    "id": "uNmvPawKbFXv"
   },
   "outputs": [],
   "source": [
    "combined_copy = combined.copy(deep=True)"
   ]
  },
  {
   "cell_type": "code",
   "execution_count": 449,
   "metadata": {
    "id": "jHMzi6gBbJg1"
   },
   "outputs": [],
   "source": [
    "combined_copy = pd.concat([combined_copy, pd.get_dummies(combined_copy['status_group'])], axis =1 )"
   ]
  },
  {
   "cell_type": "code",
   "execution_count": 450,
   "metadata": {
    "colab": {
     "base_uri": "https://localhost:8080/"
    },
    "id": "rWm3cEuJJz1J",
    "outputId": "8485b53f-d3a3-4f76-90b1-212f6eed5c8a"
   },
   "outputs": [
    {
     "name": "stdout",
     "output_type": "stream",
     "text": [
      "Condition correlation by basin\n",
      "                         functional  functional needs repair  non functional\n",
      "basin                                                                       \n",
      "Internal                   0.575723                 0.071548        0.352730\n",
      "Lake Nyasa                 0.653687                 0.049164        0.297148\n",
      "Lake Rukwa                 0.407498                 0.110024        0.482478\n",
      "Lake Tanganyika            0.483053                 0.115361        0.401586\n",
      "Lake Victoria              0.497658                 0.096507        0.405835\n",
      "Pangani                    0.600895                 0.053356        0.345749\n",
      "Rufiji                     0.635406                 0.054789        0.309804\n",
      "Ruvuma / Southern Coast    0.371689                 0.072557        0.555753\n",
      "Wami / Ruvu                0.523802                 0.044931        0.431268\n",
      "--------\n",
      "Condition correlation by region\n",
      "               functional  functional needs repair  non functional\n",
      "region                                                            \n",
      "Arusha           0.684776                 0.052239        0.262985\n",
      "Dar es Salaam    0.572671                 0.003727        0.423602\n",
      "Dodoma           0.458428                 0.094957        0.446615\n",
      "Iringa           0.782206                 0.023234        0.194560\n",
      "Kagera           0.520808                 0.091677        0.387515\n",
      "Kigoma           0.484020                 0.214134        0.301847\n",
      "Kilimanjaro      0.602877                 0.073533        0.323590\n",
      "Lindi            0.297542                 0.060155        0.642303\n",
      "Manyara          0.623500                 0.060644        0.315856\n",
      "Mara             0.449975                 0.030472        0.519553\n",
      "Mbeya            0.499892                 0.108644        0.391464\n",
      "Morogoro         0.528957                 0.074888        0.396156\n",
      "Mtwara           0.302890                 0.072832        0.624277\n",
      "Mwanza           0.484204                 0.058994        0.456802\n",
      "Pwani            0.590512                 0.013662        0.395825\n",
      "Rukwa            0.391040                 0.074668        0.534292\n",
      "Ruvuma           0.560606                 0.062121        0.377273\n",
      "Shinyanga        0.559815                 0.127459        0.312726\n",
      "Singida          0.483039                 0.061156        0.455805\n",
      "Tabora           0.432874                 0.022971        0.544155\n",
      "Tanga            0.563801                 0.028661        0.407538\n",
      "--------\n",
      "Condition correlation by lga\n",
      "              functional  functional needs repair  non functional\n",
      "lga                                                              \n",
      "Arusha Rural    0.698882                 0.038339        0.262780\n",
      "Arusha Urban    0.666667                 0.111111        0.222222\n",
      "Babati          0.745597                 0.103718        0.150685\n",
      "Bagamoyo        0.732197                 0.002006        0.265797\n",
      "Bahi            0.705357                 0.000000        0.294643\n",
      "...                  ...                      ...             ...\n",
      "Tunduru         0.534279                 0.122931        0.342790\n",
      "Ukerewe         0.266862                 0.199413        0.533724\n",
      "Ulanga          0.657143                 0.049624        0.293233\n",
      "Urambo          0.405759                 0.036649        0.557592\n",
      "Uyui            0.433628                 0.020649        0.545723\n",
      "\n",
      "[125 rows x 3 columns]\n",
      "--------\n",
      "Condition correlation by scheme_management\n",
      "                   functional  functional needs repair  non functional\n",
      "scheme_management                                                     \n",
      "Company              0.503299                 0.034873        0.461828\n",
      "None                 1.000000                 0.000000        0.000000\n",
      "Other                0.597911                 0.028721        0.373368\n",
      "Parastatal           0.575000                 0.120238        0.304762\n",
      "Private operator     0.685795                 0.021637        0.292568\n",
      "SWC                  0.206186                 0.010309        0.783505\n",
      "Trust                0.638889                 0.069444        0.291667\n",
      "VWC                  0.515315                 0.063436        0.421249\n",
      "WUA                  0.691988                 0.082900        0.225113\n",
      "WUG                  0.577411                 0.129082        0.293507\n",
      "Water Board          0.747089                 0.040393        0.212518\n",
      "Water authority      0.513162                 0.142087        0.344751\n",
      "--------\n",
      "Condition correlation by extraction_type_group\n",
      "                       functional  functional needs repair  non functional\n",
      "extraction_type_group                                                     \n",
      "afridev                  0.677966                 0.023729        0.298305\n",
      "gravity                  0.599253                 0.100859        0.299888\n",
      "india mark ii            0.603333                 0.032917        0.363750\n",
      "india mark iii           0.448980                 0.010204        0.540816\n",
      "mono                     0.377661                 0.045026        0.577312\n",
      "nira/tanira              0.664827                 0.078612        0.256561\n",
      "other                    0.160031                 0.032037        0.807932\n",
      "other handpump           0.472527                 0.054945        0.472527\n",
      "other motorpump          0.434426                 0.073770        0.491803\n",
      "rope pump                0.649667                 0.037694        0.312639\n",
      "submersible              0.538760                 0.040945        0.420295\n",
      "swn 80                   0.569482                 0.057766        0.372752\n",
      "wind-powered             0.427350                 0.059829        0.512821\n",
      "--------\n",
      "Condition correlation by extraction_type_class\n",
      "                       functional  functional needs repair  non functional\n",
      "extraction_type_class                                                     \n",
      "gravity                  0.599253                 0.100859        0.299888\n",
      "handpump                 0.630469                 0.060464        0.309067\n",
      "motorpump                0.379980                 0.046200        0.573820\n",
      "other                    0.160031                 0.032037        0.807932\n",
      "rope pump                0.649667                 0.037694        0.312639\n",
      "submersible              0.538760                 0.040945        0.420295\n",
      "wind-powered             0.427350                 0.059829        0.512821\n",
      "--------\n",
      "Condition correlation by management\n",
      "                  functional  functional needs repair  non functional\n",
      "management                                                           \n",
      "company             0.389781                 0.021898        0.588321\n",
      "other               0.598341                 0.065166        0.336493\n",
      "other - school      0.232323                 0.010101        0.757576\n",
      "parastatal          0.576923                 0.119344        0.303733\n",
      "private operator    0.748858                 0.022324        0.228818\n",
      "trust               0.589744                 0.076923        0.333333\n",
      "unknown             0.399287                 0.048128        0.552585\n",
      "vwc                 0.504234                 0.068902        0.426864\n",
      "water authority     0.493363                 0.057522        0.449115\n",
      "water board         0.739857                 0.090351        0.169792\n",
      "wua                 0.690730                 0.080868        0.228402\n",
      "wug                 0.599540                 0.099002        0.301458\n",
      "--------\n",
      "Condition correlation by management_group\n",
      "                  functional  functional needs repair  non functional\n",
      "management_group                                                     \n",
      "commercial          0.614349                 0.032161        0.353491\n",
      "other               0.559915                 0.059385        0.380700\n",
      "parastatal          0.576923                 0.119344        0.303733\n",
      "unknown             0.399287                 0.048128        0.552585\n",
      "user-group          0.538236                 0.074414        0.387350\n",
      "--------\n",
      "Condition correlation by payment_type\n",
      "              functional  functional needs repair  non functional\n",
      "payment_type                                                     \n",
      "annually        0.752334                 0.067820        0.179846\n",
      "monthly         0.660482                 0.111687        0.227831\n",
      "never pay       0.448911                 0.075233        0.475856\n",
      "on failure      0.620593                 0.070772        0.308636\n",
      "other           0.579696                 0.111954        0.308349\n",
      "per bucket      0.677796                 0.045520        0.276683\n",
      "unknown         0.432512                 0.052961        0.514527\n",
      "--------\n",
      "Condition correlation by water_quality\n",
      "                    functional  functional needs repair  non functional\n",
      "water_quality                                                          \n",
      "coloured              0.502041                 0.110204        0.387755\n",
      "fluoride              0.755000                 0.065000        0.180000\n",
      "fluoride abandoned    0.352941                 0.000000        0.647059\n",
      "milky                 0.544776                 0.017413        0.437811\n",
      "salty                 0.457166                 0.046334        0.496499\n",
      "salty abandoned       0.513274                 0.212389        0.274336\n",
      "soft                  0.565941                 0.076823        0.357236\n",
      "unknown               0.140725                 0.018657        0.840618\n",
      "--------\n",
      "Condition correlation by quality_group\n"
     ]
    },
    {
     "name": "stdout",
     "output_type": "stream",
     "text": [
      "               functional  functional needs repair  non functional\n",
      "quality_group                                                     \n",
      "colored          0.502041                 0.110204        0.387755\n",
      "fluoride         0.723502                 0.059908        0.216590\n",
      "good             0.565941                 0.076823        0.357236\n",
      "milky            0.544776                 0.017413        0.437811\n",
      "salty            0.460828                 0.057170        0.482002\n",
      "unknown          0.140725                 0.018657        0.840618\n",
      "--------\n",
      "Condition correlation by quantity\n",
      "              functional  functional needs repair  non functional\n",
      "quantity                                                         \n",
      "dry             0.025136                 0.005924        0.968940\n",
      "enough          0.652323                 0.072320        0.275357\n",
      "insufficient    0.523234                 0.095842        0.380924\n",
      "seasonal        0.574074                 0.102716        0.323210\n",
      "unknown         0.269962                 0.017744        0.712294\n",
      "--------\n",
      "Condition correlation by quantity_group\n",
      "                functional  functional needs repair  non functional\n",
      "quantity_group                                                     \n",
      "dry               0.025136                 0.005924        0.968940\n",
      "enough            0.652323                 0.072320        0.275357\n",
      "insufficient      0.523234                 0.095842        0.380924\n",
      "seasonal          0.574074                 0.102716        0.323210\n",
      "unknown           0.269962                 0.017744        0.712294\n",
      "--------\n",
      "Condition correlation by source\n",
      "                      functional  functional needs repair  non functional\n",
      "source                                                                   \n",
      "dam                     0.385671                 0.036585        0.577744\n",
      "hand dtw                0.568650                 0.019451        0.411899\n",
      "lake                    0.211765                 0.015686        0.772549\n",
      "machine dbh             0.489571                 0.044334        0.466095\n",
      "other                   0.594340                 0.004717        0.400943\n",
      "rainwater harvesting    0.603922                 0.136819        0.259259\n",
      "river                   0.568560                 0.127029        0.304411\n",
      "shallow well            0.494769                 0.056883        0.448348\n",
      "spring                  0.622290                 0.074966        0.302744\n",
      "unknown                 0.484848                 0.060606        0.454545\n",
      "--------\n",
      "Condition correlation by source_type\n",
      "                      functional  functional needs repair  non functional\n",
      "source_type                                                              \n",
      "borehole                0.495355                 0.042514        0.462131\n",
      "dam                     0.385671                 0.036585        0.577744\n",
      "other                   0.568345                 0.017986        0.413669\n",
      "rainwater harvesting    0.603922                 0.136819        0.259259\n",
      "river/lake              0.542257                 0.118820        0.338923\n",
      "shallow well            0.494769                 0.056883        0.448348\n",
      "spring                  0.622290                 0.074966        0.302744\n",
      "--------\n",
      "Condition correlation by waterpoint_type\n",
      "                             functional  functional needs repair  \\\n",
      "waterpoint_type                                                    \n",
      "cattle trough                  0.724138                 0.017241   \n",
      "communal standpipe             0.621485                 0.079237   \n",
      "communal standpipe multiple    0.366213                 0.106177   \n",
      "dam                            0.857143                 0.000000   \n",
      "hand pump                      0.617852                 0.058840   \n",
      "improved spring                0.718112                 0.108418   \n",
      "other                          0.131661                 0.045925   \n",
      "\n",
      "                             non functional  \n",
      "waterpoint_type                              \n",
      "cattle trough                      0.258621  \n",
      "communal standpipe                 0.299278  \n",
      "communal standpipe multiple        0.527609  \n",
      "dam                                0.142857  \n",
      "hand pump                          0.323307  \n",
      "improved spring                    0.173469  \n",
      "other                              0.822414  \n",
      "--------\n",
      "Condition correlation by waterpoint_type_group\n",
      "                       functional  functional needs repair  non functional\n",
      "waterpoint_type_group                                                     \n",
      "cattle trough            0.724138                 0.017241        0.258621\n",
      "communal standpipe       0.576491                 0.083986        0.339523\n",
      "dam                      0.857143                 0.000000        0.142857\n",
      "hand pump                0.617852                 0.058840        0.323307\n",
      "improved spring          0.718112                 0.108418        0.173469\n",
      "other                    0.131661                 0.045925        0.822414\n",
      "--------\n"
     ]
    }
   ],
   "source": [
    "for x in small:\n",
    "  if X[x].dtype != 'float64':\n",
    "\n",
    "    print('Condition correlation by', x)\n",
    "    selected = combined_copy[[x, 'functional', 'functional needs repair',\t'non functional']]\n",
    "    print(selected.groupby(x).sum()/ selected.groupby(x).count())\n",
    "    print('--' * 4)"
   ]
  },
  {
   "cell_type": "code",
   "execution_count": 453,
   "metadata": {
    "id": "NhiwmNAgkvk9"
   },
   "outputs": [],
   "source": [
    "# This code snippet showed that no lga value belongs to two regions..Therfore there is a hierarchical relationship\n",
    "# between region and lga and lga can be used instead of region if dimensionality is not an issue.\n",
    "# for value in test_data['region'].unique():\n",
    "#   #print('Consider region :', value)\n",
    "#   x = test_data[test_data['region'] == value]['lga'].unique()\n",
    "#   for i in x:\n",
    "#     if  (len(test_data[(test_data['region'] != value) & (test_data['lga'] == i)]) > 0):\n",
    "#       print('For lga {0} is in another region except {1}'.format(value, i))\n",
    "\n",
    "# for value in X['region'].unique():\n",
    "#   #print('Consider region :', value)\n",
    "#   x = X[X['region'] == value]['lga'].unique()\n",
    "#   for i in x:\n",
    "#     if  (len(X[(X['region'] != value) & (X['lga'] == i)]) > 0):\n",
    "#       print('For lga {0} is in another region except {1}'.format(value, i))"
   ]
  },
  {
   "cell_type": "code",
   "execution_count": 454,
   "metadata": {
    "id": "FKNYvvdmn0n3"
   },
   "outputs": [],
   "source": [
    "large = [c for c in non_num_cols if X[c].nunique() >= 150]"
   ]
  },
  {
   "cell_type": "code",
   "execution_count": 455,
   "metadata": {
    "colab": {
     "base_uri": "https://localhost:8080/"
    },
    "id": "ncKsGbsCoOLD",
    "outputId": "1b2aa211-c868-46bf-eda0-e1e6767a8a3c"
   },
   "outputs": [
    {
     "name": "stdout",
     "output_type": "stream",
     "text": [
      "Condition correlation by funder\n",
      "                     functional  functional needs repair  non functional\n",
      "funder                                                                  \n",
      "0                      0.572716                 0.003861        0.423423\n",
      "A/co Germany           0.466667                 0.066667        0.466667\n",
      "Aar                    0.666667                 0.121212        0.212121\n",
      "Abas Ka                1.000000                 0.000000        0.000000\n",
      "Abasia                 0.837209                 0.046512        0.116279\n",
      "...                         ...                      ...             ...\n",
      "Zao                    0.000000                 0.000000        1.000000\n",
      "Zao Water Spring       1.000000                 0.000000        0.000000\n",
      "Zao Water Spring X     0.000000                 0.000000        1.000000\n",
      "Zinduka                1.000000                 0.000000        0.000000\n",
      "Zingibali Secondary    1.000000                 0.000000        0.000000\n",
      "\n",
      "[1897 rows x 3 columns]\n",
      "--------\n",
      "Condition correlation by installer\n",
      "                functional  functional needs repair  non functional\n",
      "installer                                                          \n",
      "-                 0.666667                 0.000000        0.333333\n",
      "0                 0.572716                 0.003861        0.423423\n",
      "A.D.B             0.000000                 1.000000        0.000000\n",
      "AAR               0.000000                 0.500000        0.500000\n",
      "ABASIA            0.793103                 0.068966        0.137931\n",
      "...                    ...                      ...             ...\n",
      "water board       0.000000                 0.000000        1.000000\n",
      "wizara ya maji    1.000000                 0.000000        0.000000\n",
      "world             0.000000                 0.250000        0.750000\n",
      "world banks       0.000000                 0.000000        1.000000\n",
      "world vision      1.000000                 0.000000        0.000000\n",
      "\n",
      "[2145 rows x 3 columns]\n",
      "--------\n",
      "Condition correlation by wpt_name\n",
      "                   functional  functional needs repair  non functional\n",
      "wpt_name                                                              \n",
      "24                   0.000000                  0.00000        1.000000\n",
      "A Kulwa              0.000000                  0.00000        1.000000\n",
      "A Saidi              1.000000                  0.00000        0.000000\n",
      "Abass                1.000000                  0.00000        0.000000\n",
      "Abbas                1.000000                  0.00000        0.000000\n",
      "...                       ...                      ...             ...\n",
      "Zungu                1.000000                  0.00000        0.000000\n",
      "Zunguni              0.000000                  0.00000        1.000000\n",
      "Zunzuli A Shuleni    0.000000                  0.00000        1.000000\n",
      "Zuwena Kindo         0.000000                  0.00000        1.000000\n",
      "none                 0.738142                  0.02133        0.240528\n",
      "\n",
      "[37400 rows x 3 columns]\n",
      "--------\n",
      "Condition correlation by subvillage\n",
      "                   functional  functional needs repair  non functional\n",
      "subvillage                                                            \n",
      "##                   1.000000                 0.000000        0.000000\n",
      "'A' Kati             0.000000                 0.000000        1.000000\n",
      "1                    0.393939                 0.060606        0.545455\n",
      "14Kambalage          1.000000                 0.000000        0.000000\n",
      "18                   0.000000                 0.000000        1.000000\n",
      "...                       ...                      ...             ...\n",
      "Zumbawanu Shuleni    1.000000                 0.000000        0.000000\n",
      "Zunga                1.000000                 0.000000        0.000000\n",
      "Zunguni              0.000000                 0.000000        1.000000\n",
      "Zunzuli              0.250000                 0.000000        0.750000\n",
      "Zuri                 0.000000                 0.000000        1.000000\n",
      "\n",
      "[19287 rows x 3 columns]\n",
      "--------\n",
      "Condition correlation by ward\n",
      "              functional  functional needs repair  non functional\n",
      "ward                                                             \n",
      "Aghondi         0.000000                 0.000000        1.000000\n",
      "Akheri          0.600000                 0.155556        0.244444\n",
      "Arash           0.583333                 0.000000        0.416667\n",
      "Arri            0.736842                 0.000000        0.263158\n",
      "Arusha Chini    0.526316                 0.000000        0.473684\n",
      "...                  ...                      ...             ...\n",
      "Ziwani          0.406250                 0.000000        0.593750\n",
      "Zoissa          0.312500                 0.000000        0.687500\n",
      "Zombo           0.120000                 0.000000        0.880000\n",
      "Zongomera       0.515152                 0.000000        0.484848\n",
      "Zuzu            0.562500                 0.062500        0.375000\n",
      "\n",
      "[2092 rows x 3 columns]\n",
      "--------\n",
      "Condition correlation by scheme_name\n",
      "                             functional  functional needs repair  \\\n",
      "scheme_name                                                        \n",
      "14 Kambarage                   1.000000                 0.000000   \n",
      "A                              0.547619                 0.047619   \n",
      "ADP                            0.666667                 0.000000   \n",
      "ADP Simbo                      0.600000                 0.000000   \n",
      "ADP Simbu                      0.000000                 0.000000   \n",
      "...                                 ...                      ...   \n",
      "water supply Katungulu         0.000000                 0.000000   \n",
      "water supply at Kalebejo       0.000000                 0.000000   \n",
      "water supply at Nyakasungwa    0.400000                 0.000000   \n",
      "water supply in Mwanza         1.000000                 0.000000   \n",
      "water supply in katungulu      0.222222                 0.000000   \n",
      "\n",
      "                             non functional  \n",
      "scheme_name                                  \n",
      "14 Kambarage                       0.000000  \n",
      "A                                  0.404762  \n",
      "ADP                                0.333333  \n",
      "ADP Simbo                          0.400000  \n",
      "ADP Simbu                          1.000000  \n",
      "...                                     ...  \n",
      "water supply Katungulu             1.000000  \n",
      "water supply at Kalebejo           1.000000  \n",
      "water supply at Nyakasungwa        0.600000  \n",
      "water supply in Mwanza             0.000000  \n",
      "water supply in katungulu          0.777778  \n",
      "\n",
      "[2696 rows x 3 columns]\n",
      "--------\n"
     ]
    }
   ],
   "source": [
    "for x in large:\n",
    "  if X[x].dtype != 'float64':\n",
    "\n",
    "    print('Condition correlation by', x)\n",
    "    selected = combined_copy[[x, 'functional', 'functional needs repair',\t'non functional']]\n",
    "    print(selected.groupby(x).sum()/ selected.groupby(x).count())\n",
    "    print('--' * 4)"
   ]
  },
  {
   "cell_type": "code",
   "execution_count": 456,
   "metadata": {
    "id": "EFPBQmI6qkp4"
   },
   "outputs": [],
   "source": [
    "num_cols = list(set(X.columns) - set(non_num_cols))"
   ]
  },
  {
   "cell_type": "code",
   "execution_count": 457,
   "metadata": {
    "colab": {
     "base_uri": "https://localhost:8080/"
    },
    "id": "aJjM23JSqyu_",
    "outputId": "69d3bfa9-97c1-4587-f302-e47d8eaed7fe"
   },
   "outputs": [
    {
     "data": {
      "text/plain": [
       "11"
      ]
     },
     "execution_count": 457,
     "metadata": {},
     "output_type": "execute_result"
    }
   ],
   "source": [
    "len(num_cols)"
   ]
  },
  {
   "cell_type": "code",
   "execution_count": 458,
   "metadata": {},
   "outputs": [],
   "source": [
    "##IQR Outlier removal - Added before boxplots\n",
    "# long_min = X['longitude'].quantile(0.25) - 1.5*(X['longitude'].quantile(0.75) - X['longitude'].quantile(0.25))\n",
    "# X.loc[X['longitude'] < long_min,'longitude'] = long_min"
   ]
  },
  {
   "cell_type": "code",
   "execution_count": 459,
   "metadata": {
    "colab": {
     "base_uri": "https://localhost:8080/",
     "height": 716
    },
    "id": "hWGMIpOlqwH6",
    "outputId": "4dc95ad1-66b7-4d60-a61a-a697c40ddf07"
   },
   "outputs": [
    {
     "name": "stdout",
     "output_type": "stream",
     "text": [
      "['latitude', 'amount_tsh', 'construction_year', 'population', 'gps_height', 'longitude', 'num_private', 'district_code', 'permit', 'date_recorded', 'public_meeting']\n"
     ]
    },
    {
     "name": "stderr",
     "output_type": "stream",
     "text": [
      "D:\\Users\\HP\\anaconda3\\lib\\site-packages\\matplotlib\\cbook\\__init__.py:1239: RuntimeWarning: invalid value encountered in less_equal\n",
      "  wiskhi = x[x <= hival]\n",
      "D:\\Users\\HP\\anaconda3\\lib\\site-packages\\matplotlib\\cbook\\__init__.py:1246: RuntimeWarning: invalid value encountered in greater_equal\n",
      "  wisklo = x[x >= loval]\n",
      "D:\\Users\\HP\\anaconda3\\lib\\site-packages\\matplotlib\\cbook\\__init__.py:1254: RuntimeWarning: invalid value encountered in less\n",
      "  x[x < stats['whislo']],\n",
      "D:\\Users\\HP\\anaconda3\\lib\\site-packages\\matplotlib\\cbook\\__init__.py:1255: RuntimeWarning: invalid value encountered in greater\n",
      "  x[x > stats['whishi']],\n",
      "D:\\Users\\HP\\anaconda3\\lib\\site-packages\\matplotlib\\cbook\\__init__.py:1239: RuntimeWarning: invalid value encountered in less_equal\n",
      "  wiskhi = x[x <= hival]\n",
      "D:\\Users\\HP\\anaconda3\\lib\\site-packages\\matplotlib\\cbook\\__init__.py:1246: RuntimeWarning: invalid value encountered in greater_equal\n",
      "  wisklo = x[x >= loval]\n",
      "D:\\Users\\HP\\anaconda3\\lib\\site-packages\\matplotlib\\cbook\\__init__.py:1254: RuntimeWarning: invalid value encountered in less\n",
      "  x[x < stats['whislo']],\n",
      "D:\\Users\\HP\\anaconda3\\lib\\site-packages\\matplotlib\\cbook\\__init__.py:1255: RuntimeWarning: invalid value encountered in greater\n",
      "  x[x > stats['whishi']],\n"
     ]
    },
    {
     "data": {
      "image/png": "[encoded data removed]",
      "text/plain": [
       "<Figure size 1152x864 with 11 Axes>"
      ]
     },
     "metadata": {
      "needs_background": "light"
     },
     "output_type": "display_data"
    }
   ],
   "source": [
    "\n",
    "plt.figure(figsize=[16,12])\n",
    "print(num_cols)\n",
    "for i in range(1, len(num_cols)+1):\n",
    "  plt.subplot(4,3, i)\n",
    "  col = num_cols[i-1]\n",
    "  plt.boxplot(x=X[col], showmeans = True, meanline = True)\n",
    "  plt.title('{0} Boxplot'.format(col))\n",
    "  plt.ylabel('{0}'.format(col))\n"
   ]
  },
  {
   "cell_type": "code",
   "execution_count": 460,
   "metadata": {
    "colab": {
     "base_uri": "https://localhost:8080/"
    },
    "id": "Ti7poz1qsgMg",
    "outputId": "ac8887f3-7ca8-4a84-e7c2-f1e1df292267"
   },
   "outputs": [
    {
     "data": {
      "text/plain": [
       "array(['functional', 'non functional', 'functional needs repair'],\n",
       "      dtype=object)"
      ]
     },
     "execution_count": 460,
     "metadata": {},
     "output_type": "execute_result"
    }
   ],
   "source": [
    "y['status_group'].unique()"
   ]
  },
  {
   "cell_type": "code",
   "execution_count": 461,
   "metadata": {
    "colab": {
     "base_uri": "https://localhost:8080/",
     "height": 1000
    },
    "id": "lbF5J21FsBW8",
    "outputId": "1a9009d4-d599-4c33-86b9-e5cc87054479"
   },
   "outputs": [
    {
     "data": {
      "image/png": "[encoded data removed]",
      "text/plain": [
       "<Figure size 1440x1152 with 11 Axes>"
      ]
     },
     "metadata": {
      "needs_background": "light"
     },
     "output_type": "display_data"
    }
   ],
   "source": [
    "plt.figure(figsize=[20,16])\n",
    "\n",
    "for i in range(1, len(num_cols)+1):\n",
    "  plt.subplot(4,3, i)\n",
    "  col = num_cols[i-1]\n",
    "  plt.hist(x = [combined_copy[combined_copy['status_group'] == j][col] for j in y['status_group'].unique()],  stacked=True, color = ['g','r', 'b'],label = y['status_group'].unique())\n",
    "  plt.title('{0} Histogram by Status'.format(col))\n",
    "  plt.xlabel('{0} (#)'.format(col))\n",
    "  plt.ylabel('# of WaterPoints')\n",
    "  plt.legend()"
   ]
  },
  {
   "cell_type": "code",
   "execution_count": 462,
   "metadata": {
    "colab": {
     "base_uri": "https://localhost:8080/"
    },
    "id": "b71rEMM9xB4n",
    "outputId": "d8f89d64-3f32-45cf-8062-68c856e31008"
   },
   "outputs": [
    {
     "data": {
      "text/plain": [
       "basin                      9\n",
       "region                    21\n",
       "lga                      125\n",
       "scheme_management         12\n",
       "extraction_type_group     13\n",
       "extraction_type_class      7\n",
       "management                12\n",
       "management_group           5\n",
       "payment_type               7\n",
       "water_quality              8\n",
       "quality_group              6\n",
       "quantity                   5\n",
       "quantity_group             5\n",
       "source                    10\n",
       "source_type                7\n",
       "waterpoint_type            7\n",
       "waterpoint_type_group      6\n",
       "dtype: int64"
      ]
     },
     "execution_count": 462,
     "metadata": {},
     "output_type": "execute_result"
    }
   ],
   "source": [
    "X[small].nunique(\n",
    "  \n",
    ")"
   ]
  },
  {
   "cell_type": "code",
   "execution_count": 496,
   "metadata": {
    "colab": {
     "base_uri": "https://localhost:8080/",
     "height": 1000
    },
    "id": "qSkRSZxSrcX6",
    "outputId": "a6e2861c-064d-4c24-b0fd-bd5545eb5cc7"
   },
   "outputs": [
    {
     "data": {
      "image/png": "[encoded data removed]",
      "text/plain": [
       "<Figure size 1440x2880 with 18 Axes>"
      ]
     },
     "metadata": {
      "needs_background": "light"
     },
     "output_type": "display_data"
    }
   ],
   "source": [
    "import math\n",
    "fig, saxis = plt.subplots(math.ceil(len(small)/2), 2,figsize=(20,40))\n",
    "\n",
    "for i in range(len(small)):\n",
    "  sns.countplot(x = small[i], hue = 'status_group', data=combined_copy, ax = saxis[i//2, i%2])\n"
   ]
  },
  {
   "cell_type": "markdown",
   "metadata": {
    "id": "zgNg7xpj0RpR"
   },
   "source": [
    "### Continuous Correlation"
   ]
  },
  {
   "cell_type": "code",
   "execution_count": 466,
   "metadata": {
    "id": "xvkXByEe0k6I"
   },
   "outputs": [],
   "source": [
    "def correlation_heatmap(df):\n",
    "    _ , ax = plt.subplots(figsize =(14, 12))\n",
    "    colormap = sns.diverging_palette(220, 10, as_cmap = True)\n",
    "    \n",
    "    _ = sns.heatmap(\n",
    "        df.corr(), \n",
    "        cmap = colormap,\n",
    "        square=True, \n",
    "        cbar_kws={'shrink':.9 }, \n",
    "        ax=ax,\n",
    "        annot=True, \n",
    "        linewidths=0.1,vmax=1.0, linecolor='white',\n",
    "        annot_kws={'fontsize':12 }\n",
    "    )\n",
    "    \n",
    "    plt.title('Pearson Correlation of Features', y=1.05, size=15)\n"
   ]
  },
  {
   "cell_type": "code",
   "execution_count": null,
   "metadata": {},
   "outputs": [],
   "source": [
    "correlation_heatmap(combined_copy)"
   ]
  },
  {
   "cell_type": "code",
   "execution_count": 467,
   "metadata": {},
   "outputs": [
    {
     "data": {
      "text/plain": [
       "8889"
      ]
     },
     "execution_count": 467,
     "metadata": {},
     "output_type": "execute_result"
    }
   ],
   "source": []
  },
  {
   "cell_type": "code",
   "execution_count": null,
   "metadata": {},
   "outputs": [],
   "source": []
  },
  {
   "cell_type": "markdown",
   "metadata": {
    "id": "uW2M29EZ02jj"
   },
   "source": [
    "### Categorical Correlation"
   ]
  },
  {
   "cell_type": "code",
   "execution_count": 469,
   "metadata": {
    "colab": {
     "base_uri": "https://localhost:8080/",
     "height": 797
    },
    "id": "oe7jqKFk079v",
    "outputId": "ec3679e7-0cd1-4b18-a729-2b764b6f93f5"
   },
   "outputs": [],
   "source": [
    "# missing_cats = [i for i in X.columns if X[i].isna().sum()>0]\n",
    "# import scipy.stats as ss\n",
    "# def cramers_v(x, y):\n",
    "#     confusion_matrix = pd.crosstab(x,y)\n",
    "#     chi2 = ss.chi2_contingency(confusion_matrix)[0]\n",
    "#     n = confusion_matrix.sum().sum()\n",
    "#     phi2 = chi2/n\n",
    "#     r,k = confusion_matrix.shape\n",
    "#     phi2corr = max(0, phi2-((k-1)*(r-1))/(n-1))\n",
    "#     rcorr = r-((r-1)**2)/(n-1)\n",
    "#     kcorr = k-((k-1)**2)/(n-1)\n",
    "#     return np.sqrt(phi2corr/min((kcorr-1),(rcorr-1)))"
   ]
  },
  {
   "cell_type": "code",
   "execution_count": null,
   "metadata": {},
   "outputs": [],
   "source": [
    "# for x in missing_cats:\n",
    "#   print('Correlations for {0}'.format(x))\n",
    "#   for i in list(set(non_num_cols) - set(x)):\n",
    "#     print('Correlation of {0} and {1} : {2}'.format(x, i, cramers_v(X_train[x],X_train[i])))\n",
    "#   print('-'*4)"
   ]
  },
  {
   "cell_type": "markdown",
   "metadata": {
    "id": "Jrm837EJ1OT4"
   },
   "source": [
    "###  Imputation, Training and Validation"
   ]
  },
  {
   "cell_type": "code",
   "execution_count": 471,
   "metadata": {
    "colab": {
     "base_uri": "https://localhost:8080/"
    },
    "id": "-JI9gIt1wqEj",
    "outputId": "04becd43-58a2-470d-dccc-21d7ac08a18b"
   },
   "outputs": [
    {
     "data": {
      "text/plain": [
       "[('funder', 3635),\n",
       " ('installer', 3655),\n",
       " ('subvillage', 371),\n",
       " ('public_meeting', 3334),\n",
       " ('scheme_management', 3877),\n",
       " ('scheme_name', 28166),\n",
       " ('permit', 3056)]"
      ]
     },
     "execution_count": 471,
     "metadata": {},
     "output_type": "execute_result"
    }
   ],
   "source": [
    "[(i,  X[i].isna().sum()) for i in X.columns if X[i].isna().sum()>0]"
   ]
  },
  {
   "cell_type": "code",
   "execution_count": 474,
   "metadata": {
    "id": "PyyIqJnxxWDT"
   },
   "outputs": [],
   "source": [
    "from catboost import Pool, CatBoostClassifier"
   ]
  },
  {
   "cell_type": "code",
   "execution_count": 475,
   "metadata": {
    "id": "rObxbduyxnHp"
   },
   "outputs": [],
   "source": [
    "catboost_model = CatBoostClassifier( loss_function='MultiClass',\n",
    "    eval_metric='AUC')"
   ]
  },
  {
   "cell_type": "code",
   "execution_count": 476,
   "metadata": {
    "id": "N-hmjgHryty3"
   },
   "outputs": [],
   "source": [
    "cat_ids = non_num_cols + ['permit', 'public_meeting']"
   ]
  },
  {
   "cell_type": "code",
   "execution_count": null,
   "metadata": {},
   "outputs": [],
   "source": [
    "# X['scheme_mgt_imputed'] = 0\n",
    "# X['scheme_name_imputed'] = 0\n",
    "# test_data['scheme_mgt_imputed'] = 0\n",
    "# test_data['scheme_name_imputed'] = 0\n",
    "\n",
    "# def replace_scheme_mgt_na(row):\n",
    "#   if row['scheme_management']:\n",
    "#     return row\n",
    "#   mode = X_train.loc[:,(X_train['management'] == row['management'])]['scheme_management'].mode()\n",
    "#   if mode.notna():\n",
    "#     row['scheme_management'] = mode\n",
    "#     row['scheme_mgt_imputed'] = 1\n",
    "#   return row\n",
    "# def replace_scheme_name_na(row):\n",
    "#   if row['scheme_name']:\n",
    "#     return row\n",
    "#   mode = X_train.loc[:,(X_train['basin'] == row['basin'])]['scheme_name'].mode()\n",
    "#   if mode.notna():\n",
    "#     row['scheme_name'] = mode\n",
    "#     row['scheme_name_imputed'] = 1\n",
    "#   return row"
   ]
  },
  {
   "cell_type": "code",
   "execution_count": 478,
   "metadata": {},
   "outputs": [
    {
     "name": "stderr",
     "output_type": "stream",
     "text": [
      "D:\\Users\\HP\\anaconda3\\lib\\site-packages\\pandas\\core\\generic.py:6245: SettingWithCopyWarning: \n",
      "A value is trying to be set on a copy of a slice from a DataFrame\n",
      "\n",
      "See the caveats in the documentation: https://pandas.pydata.org/pandas-docs/stable/user_guide/indexing.html#returning-a-view-versus-a-copy\n",
      "  self._update_inplace(new_data)\n",
      "D:\\Users\\HP\\anaconda3\\lib\\site-packages\\pandas\\core\\indexing.py:966: SettingWithCopyWarning: \n",
      "A value is trying to be set on a copy of a slice from a DataFrame.\n",
      "Try using .loc[row_indexer,col_indexer] = value instead\n",
      "\n",
      "See the caveats in the documentation: https://pandas.pydata.org/pandas-docs/stable/user_guide/indexing.html#returning-a-view-versus-a-copy\n",
      "  self.obj[item] = s\n"
     ]
    }
   ],
   "source": [
    "for x in [X_train,X_test, test_data]:\n",
    "    x.loc[:,'public_meeting'].fillna( X_train['public_meeting'].mode(), inplace=True)\n",
    "    x.loc[:,'permit'].fillna(X_train['permit'].mode(), inplace=True)\n",
    "\n",
    "\n",
    "# X_train = X_train.apply(replace_scheme_mgt_na, axis = 1)\n",
    "# X_test = X_test.apply(replace_scheme_mgt_na, axis = 1)\n",
    "# test_data = test_data.apply(replace_scheme_mgt_na,axis = 1)\n",
    "\n",
    "# X_train = X_train.apply(replace_scheme_name_na,axis = 1)\n",
    "# X_test = X_test.apply(replace_scheme_name_na,axis = 1)\n",
    "# test_data = test_data.apply(replace_scheme_name_na,axis = 1)\n",
    "    \n",
    "e = 'subvillage'\n",
    "c = X_train[e].value_counts()\n",
    "replaced_values = sorted(c.index[c <= 1])\n",
    "X_train.loc[X_train[e].isin(replaced_values),e] = 'low_freq'\n",
    "X_test.loc[X_test[e].isin(replaced_values),e] = 'low_freq'\n",
    "test_data.loc[test_data[e].isin(replaced_values),e] = 'low_freq'"
   ]
  },
  {
   "cell_type": "code",
   "execution_count": 479,
   "metadata": {
    "colab": {
     "base_uri": "https://localhost:8080/"
    },
    "id": "W5omYe353adw",
    "outputId": "e2e88a76-0b9b-40aa-a093-9ad8cc152981"
   },
   "outputs": [
    {
     "name": "stderr",
     "output_type": "stream",
     "text": [
      "D:\\Users\\HP\\anaconda3\\lib\\site-packages\\pandas\\core\\frame.py:4147: SettingWithCopyWarning: \n",
      "A value is trying to be set on a copy of a slice from a DataFrame\n",
      "\n",
      "See the caveats in the documentation: https://pandas.pydata.org/pandas-docs/stable/user_guide/indexing.html#returning-a-view-versus-a-copy\n",
      "  return super().fillna(\n"
     ]
    }
   ],
   "source": [
    "X_train.fillna('unknown', inplace=True)\n",
    "X_test.fillna('unknown', inplace=True)"
   ]
  },
  {
   "cell_type": "code",
   "execution_count": 480,
   "metadata": {
    "id": "jiCXLx-Px_iq"
   },
   "outputs": [],
   "source": [
    "train_pool = Pool(data=X_train, label=y_train, cat_features=cat_ids)\n",
    "train_pool = Pool(data=X_train, label=y_train, cat_features=cat_ids)\n",
    "X_t, X_eval, y_t, y_eval = train_test_split(X_test, y_test, test_size=0.5, stratify=y_test, random_state=RANDOM_SEED)\n",
    "eval_pool = Pool(data=X_eval, label=y_eval, cat_features=cat_ids) "
   ]
  },
  {
   "cell_type": "code",
   "execution_count": 481,
   "metadata": {
    "colab": {
     "base_uri": "https://localhost:8080/",
     "height": 1000,
     "referenced_widgets": [
      "b330c814b6a34dfb95d0794e54027060"
     ]
    },
    "id": "iuShBto-x7qi",
    "outputId": "e26dd7bd-7b09-410a-8f75-c4534f9f07a3",
    "scrolled": true
   },
   "outputs": [
    {
     "name": "stderr",
     "output_type": "stream",
     "text": [
      "Custom logger is already specified. Specify more than one logger at same time is not thread safe."
     ]
    },
    {
     "data": {
      "application/vnd.jupyter.widget-view+json": {
       "model_id": "d1081676dc3e4613af9d8ffe9c6a8cfe",
       "version_major": 2,
       "version_minor": 0
      },
      "text/plain": [
       "MetricVisualizer(layout=Layout(align_self='stretch', height='500px'))"
      ]
     },
     "metadata": {},
     "output_type": "display_data"
    },
    {
     "name": "stdout",
     "output_type": "stream",
     "text": [
      "Learning rate set to 0.116645\n",
      "0:\ttest: 0.7630341\tbest: 0.7630341 (0)\ttotal: 391ms\tremaining: 6m 30s\n",
      "1:\ttest: 0.7945104\tbest: 0.7945104 (1)\ttotal: 763ms\tremaining: 6m 20s\n",
      "2:\ttest: 0.8034965\tbest: 0.8034965 (2)\ttotal: 1.27s\tremaining: 7m 3s\n",
      "3:\ttest: 0.8096943\tbest: 0.8096943 (3)\ttotal: 1.78s\tremaining: 7m 24s\n",
      "4:\ttest: 0.8160659\tbest: 0.8160659 (4)\ttotal: 2.24s\tremaining: 7m 25s\n",
      "5:\ttest: 0.8318081\tbest: 0.8318081 (5)\ttotal: 2.7s\tremaining: 7m 27s\n",
      "6:\ttest: 0.8351566\tbest: 0.8351566 (6)\ttotal: 3.22s\tremaining: 7m 36s\n",
      "7:\ttest: 0.8382549\tbest: 0.8382549 (7)\ttotal: 3.73s\tremaining: 7m 42s\n",
      "8:\ttest: 0.8417395\tbest: 0.8417395 (8)\ttotal: 4.26s\tremaining: 7m 48s\n",
      "9:\ttest: 0.8465131\tbest: 0.8465131 (9)\ttotal: 4.86s\tremaining: 8m\n",
      "10:\ttest: 0.8502022\tbest: 0.8502022 (10)\ttotal: 5.42s\tremaining: 8m 7s\n",
      "11:\ttest: 0.8544081\tbest: 0.8544081 (11)\ttotal: 5.92s\tremaining: 8m 7s\n",
      "12:\ttest: 0.8565977\tbest: 0.8565977 (12)\ttotal: 6.4s\tremaining: 8m 5s\n",
      "13:\ttest: 0.8584346\tbest: 0.8584346 (13)\ttotal: 6.98s\tremaining: 8m 11s\n",
      "14:\ttest: 0.8607262\tbest: 0.8607262 (14)\ttotal: 7.53s\tremaining: 8m 14s\n",
      "15:\ttest: 0.8624230\tbest: 0.8624230 (15)\ttotal: 7.98s\tremaining: 8m 10s\n",
      "16:\ttest: 0.8634375\tbest: 0.8634375 (16)\ttotal: 8.56s\tremaining: 8m 14s\n",
      "17:\ttest: 0.8651636\tbest: 0.8651636 (17)\ttotal: 9.11s\tremaining: 8m 17s\n",
      "18:\ttest: 0.8655410\tbest: 0.8655410 (18)\ttotal: 9.61s\tremaining: 8m 16s\n",
      "19:\ttest: 0.8663122\tbest: 0.8663122 (19)\ttotal: 10.1s\tremaining: 8m 15s\n",
      "20:\ttest: 0.8689812\tbest: 0.8689812 (20)\ttotal: 10.6s\tremaining: 8m 12s\n",
      "21:\ttest: 0.8693028\tbest: 0.8693028 (21)\ttotal: 11.2s\tremaining: 8m 17s\n",
      "22:\ttest: 0.8717612\tbest: 0.8717612 (22)\ttotal: 11.7s\tremaining: 8m 17s\n",
      "23:\ttest: 0.8726252\tbest: 0.8726252 (23)\ttotal: 12.2s\tremaining: 8m 17s\n",
      "24:\ttest: 0.8736456\tbest: 0.8736456 (24)\ttotal: 12.8s\tremaining: 8m 17s\n",
      "25:\ttest: 0.8742202\tbest: 0.8742202 (25)\ttotal: 13.3s\tremaining: 8m 20s\n",
      "26:\ttest: 0.8753664\tbest: 0.8753664 (26)\ttotal: 13.9s\tremaining: 8m 20s\n",
      "27:\ttest: 0.8769807\tbest: 0.8769807 (27)\ttotal: 14.4s\tremaining: 8m 19s\n",
      "28:\ttest: 0.8776593\tbest: 0.8776593 (28)\ttotal: 14.9s\tremaining: 8m 18s\n",
      "29:\ttest: 0.8790620\tbest: 0.8790620 (29)\ttotal: 15.5s\tremaining: 8m 20s\n",
      "30:\ttest: 0.8799800\tbest: 0.8799800 (30)\ttotal: 16s\tremaining: 8m 19s\n",
      "31:\ttest: 0.8812486\tbest: 0.8812486 (31)\ttotal: 16.6s\tremaining: 8m 20s\n",
      "32:\ttest: 0.8815702\tbest: 0.8815702 (32)\ttotal: 17.1s\tremaining: 8m 22s\n",
      "33:\ttest: 0.8819565\tbest: 0.8819565 (33)\ttotal: 17.7s\tremaining: 8m 23s\n",
      "34:\ttest: 0.8820960\tbest: 0.8820960 (34)\ttotal: 18.2s\tremaining: 8m 22s\n",
      "35:\ttest: 0.8829259\tbest: 0.8829259 (35)\ttotal: 18.8s\tremaining: 8m 23s\n",
      "36:\ttest: 0.8831017\tbest: 0.8831017 (36)\ttotal: 19.4s\tremaining: 8m 25s\n",
      "37:\ttest: 0.8831910\tbest: 0.8831910 (37)\ttotal: 19.9s\tremaining: 8m 24s\n",
      "38:\ttest: 0.8834538\tbest: 0.8834538 (38)\ttotal: 20.5s\tremaining: 8m 24s\n",
      "39:\ttest: 0.8838919\tbest: 0.8838919 (39)\ttotal: 20.9s\tremaining: 8m 22s\n",
      "40:\ttest: 0.8841397\tbest: 0.8841397 (40)\ttotal: 21.4s\tremaining: 8m 21s\n",
      "41:\ttest: 0.8844908\tbest: 0.8844908 (41)\ttotal: 22s\tremaining: 8m 22s\n",
      "42:\ttest: 0.8850803\tbest: 0.8850803 (42)\ttotal: 22.4s\tremaining: 8m 19s\n",
      "43:\ttest: 0.8852860\tbest: 0.8852860 (43)\ttotal: 22.9s\tremaining: 8m 18s\n",
      "44:\ttest: 0.8858437\tbest: 0.8858437 (44)\ttotal: 23.6s\tremaining: 8m 20s\n",
      "45:\ttest: 0.8861785\tbest: 0.8861785 (45)\ttotal: 24.1s\tremaining: 8m 20s\n",
      "46:\ttest: 0.8865618\tbest: 0.8865618 (46)\ttotal: 24.6s\tremaining: 8m 19s\n",
      "47:\ttest: 0.8869652\tbest: 0.8869652 (47)\ttotal: 25.1s\tremaining: 8m 16s\n",
      "48:\ttest: 0.8872241\tbest: 0.8872241 (48)\ttotal: 25.5s\tremaining: 8m 14s\n",
      "49:\ttest: 0.8874935\tbest: 0.8874935 (49)\ttotal: 25.9s\tremaining: 8m 12s\n",
      "50:\ttest: 0.8877618\tbest: 0.8877618 (50)\ttotal: 26.4s\tremaining: 8m 11s\n",
      "51:\ttest: 0.8877588\tbest: 0.8877618 (50)\ttotal: 26.8s\tremaining: 8m 9s\n",
      "52:\ttest: 0.8879516\tbest: 0.8879516 (52)\ttotal: 27.3s\tremaining: 8m 7s\n",
      "53:\ttest: 0.8883971\tbest: 0.8883971 (53)\ttotal: 27.8s\tremaining: 8m 6s\n",
      "54:\ttest: 0.8885487\tbest: 0.8885487 (54)\ttotal: 28.2s\tremaining: 8m 4s\n",
      "55:\ttest: 0.8888106\tbest: 0.8888106 (55)\ttotal: 28.7s\tremaining: 8m 3s\n",
      "56:\ttest: 0.8888416\tbest: 0.8888416 (56)\ttotal: 29.1s\tremaining: 8m 2s\n",
      "57:\ttest: 0.8891021\tbest: 0.8891021 (57)\ttotal: 29.7s\tremaining: 8m 2s\n",
      "58:\ttest: 0.8891369\tbest: 0.8891369 (58)\ttotal: 30.2s\tremaining: 8m 1s\n",
      "59:\ttest: 0.8891668\tbest: 0.8891668 (59)\ttotal: 30.7s\tremaining: 8m\n",
      "60:\ttest: 0.8891759\tbest: 0.8891759 (60)\ttotal: 31.2s\tremaining: 8m\n",
      "61:\ttest: 0.8893075\tbest: 0.8893075 (61)\ttotal: 31.7s\tremaining: 7m 59s\n",
      "62:\ttest: 0.8898189\tbest: 0.8898189 (62)\ttotal: 32.2s\tremaining: 7m 59s\n",
      "63:\ttest: 0.8898456\tbest: 0.8898456 (63)\ttotal: 32.7s\tremaining: 7m 58s\n",
      "64:\ttest: 0.8903532\tbest: 0.8903532 (64)\ttotal: 33.2s\tremaining: 7m 57s\n",
      "65:\ttest: 0.8906397\tbest: 0.8906397 (65)\ttotal: 33.7s\tremaining: 7m 57s\n",
      "66:\ttest: 0.8908600\tbest: 0.8908600 (66)\ttotal: 34.3s\tremaining: 7m 57s\n",
      "67:\ttest: 0.8910289\tbest: 0.8910289 (67)\ttotal: 34.8s\tremaining: 7m 56s\n",
      "68:\ttest: 0.8913495\tbest: 0.8913495 (68)\ttotal: 35.4s\tremaining: 7m 56s\n",
      "69:\ttest: 0.8915377\tbest: 0.8915377 (69)\ttotal: 35.9s\tremaining: 7m 56s\n",
      "70:\ttest: 0.8916004\tbest: 0.8916004 (70)\ttotal: 36.5s\tremaining: 7m 57s\n",
      "71:\ttest: 0.8916030\tbest: 0.8916030 (71)\ttotal: 37s\tremaining: 7m 57s\n",
      "72:\ttest: 0.8917863\tbest: 0.8917863 (72)\ttotal: 37.5s\tremaining: 7m 56s\n",
      "73:\ttest: 0.8919828\tbest: 0.8919828 (73)\ttotal: 38.1s\tremaining: 7m 56s\n",
      "74:\ttest: 0.8923535\tbest: 0.8923535 (74)\ttotal: 38.6s\tremaining: 7m 56s\n",
      "75:\ttest: 0.8926377\tbest: 0.8926377 (75)\ttotal: 39.1s\tremaining: 7m 55s\n",
      "76:\ttest: 0.8925673\tbest: 0.8926377 (75)\ttotal: 39.5s\tremaining: 7m 54s\n",
      "77:\ttest: 0.8926122\tbest: 0.8926377 (75)\ttotal: 40s\tremaining: 7m 52s\n",
      "78:\ttest: 0.8926928\tbest: 0.8926928 (78)\ttotal: 40.4s\tremaining: 7m 51s\n",
      "79:\ttest: 0.8929104\tbest: 0.8929104 (79)\ttotal: 40.9s\tremaining: 7m 50s\n",
      "80:\ttest: 0.8930147\tbest: 0.8930147 (80)\ttotal: 41.4s\tremaining: 7m 49s\n",
      "81:\ttest: 0.8931931\tbest: 0.8931931 (81)\ttotal: 41.9s\tremaining: 7m 48s\n",
      "82:\ttest: 0.8932766\tbest: 0.8932766 (82)\ttotal: 42.4s\tremaining: 7m 48s\n",
      "83:\ttest: 0.8934624\tbest: 0.8934624 (83)\ttotal: 42.9s\tremaining: 7m 47s\n",
      "84:\ttest: 0.8935944\tbest: 0.8935944 (84)\ttotal: 43.5s\tremaining: 7m 47s\n",
      "85:\ttest: 0.8936373\tbest: 0.8936373 (85)\ttotal: 44s\tremaining: 7m 47s\n",
      "86:\ttest: 0.8940778\tbest: 0.8940778 (86)\ttotal: 44.4s\tremaining: 7m 46s\n",
      "87:\ttest: 0.8941033\tbest: 0.8941033 (87)\ttotal: 44.9s\tremaining: 7m 45s\n",
      "88:\ttest: 0.8942642\tbest: 0.8942642 (88)\ttotal: 45.5s\tremaining: 7m 45s\n",
      "89:\ttest: 0.8943408\tbest: 0.8943408 (89)\ttotal: 46s\tremaining: 7m 45s\n",
      "90:\ttest: 0.8944686\tbest: 0.8944686 (90)\ttotal: 46.5s\tremaining: 7m 44s\n",
      "91:\ttest: 0.8944783\tbest: 0.8944783 (91)\ttotal: 47s\tremaining: 7m 44s\n",
      "92:\ttest: 0.8945393\tbest: 0.8945393 (92)\ttotal: 47.5s\tremaining: 7m 43s\n",
      "93:\ttest: 0.8946993\tbest: 0.8946993 (93)\ttotal: 48.1s\tremaining: 7m 43s\n",
      "94:\ttest: 0.8947657\tbest: 0.8947657 (94)\ttotal: 48.5s\tremaining: 7m 42s\n",
      "95:\ttest: 0.8948353\tbest: 0.8948353 (95)\ttotal: 49.1s\tremaining: 7m 42s\n",
      "96:\ttest: 0.8949894\tbest: 0.8949894 (96)\ttotal: 49.6s\tremaining: 7m 41s\n",
      "97:\ttest: 0.8951484\tbest: 0.8951484 (97)\ttotal: 50.1s\tremaining: 7m 41s\n",
      "98:\ttest: 0.8953318\tbest: 0.8953318 (98)\ttotal: 50.7s\tremaining: 7m 41s\n",
      "99:\ttest: 0.8954397\tbest: 0.8954397 (99)\ttotal: 51.3s\tremaining: 7m 41s\n",
      "100:\ttest: 0.8956799\tbest: 0.8956799 (100)\ttotal: 51.9s\tremaining: 7m 42s\n",
      "101:\ttest: 0.8957082\tbest: 0.8957082 (101)\ttotal: 52.4s\tremaining: 7m 41s\n",
      "102:\ttest: 0.8957039\tbest: 0.8957082 (101)\ttotal: 53s\tremaining: 7m 41s\n",
      "103:\ttest: 0.8957200\tbest: 0.8957200 (103)\ttotal: 53.4s\tremaining: 7m 40s\n",
      "104:\ttest: 0.8958217\tbest: 0.8958217 (104)\ttotal: 53.9s\tremaining: 7m 39s\n",
      "105:\ttest: 0.8959050\tbest: 0.8959050 (105)\ttotal: 54.3s\tremaining: 7m 38s\n",
      "106:\ttest: 0.8959274\tbest: 0.8959274 (106)\ttotal: 54.9s\tremaining: 7m 37s\n",
      "107:\ttest: 0.8959833\tbest: 0.8959833 (107)\ttotal: 55.3s\tremaining: 7m 36s\n",
      "108:\ttest: 0.8962434\tbest: 0.8962434 (108)\ttotal: 55.8s\tremaining: 7m 36s\n",
      "109:\ttest: 0.8964178\tbest: 0.8964178 (109)\ttotal: 56.3s\tremaining: 7m 35s\n",
      "110:\ttest: 0.8964562\tbest: 0.8964562 (110)\ttotal: 56.8s\tremaining: 7m 34s\n",
      "111:\ttest: 0.8965622\tbest: 0.8965622 (111)\ttotal: 57.2s\tremaining: 7m 33s\n",
      "112:\ttest: 0.8965817\tbest: 0.8965817 (112)\ttotal: 57.7s\tremaining: 7m 32s\n",
      "113:\ttest: 0.8968381\tbest: 0.8968381 (113)\ttotal: 58.1s\tremaining: 7m 31s\n"
     ]
    },
    {
     "name": "stdout",
     "output_type": "stream",
     "text": [
      "114:\ttest: 0.8971862\tbest: 0.8971862 (114)\ttotal: 58.6s\tremaining: 7m 30s\n",
      "115:\ttest: 0.8972854\tbest: 0.8972854 (115)\ttotal: 59.1s\tremaining: 7m 30s\n",
      "116:\ttest: 0.8972247\tbest: 0.8972854 (115)\ttotal: 59.5s\tremaining: 7m 28s\n",
      "117:\ttest: 0.8974896\tbest: 0.8974896 (117)\ttotal: 60s\tremaining: 7m 28s\n",
      "118:\ttest: 0.8974587\tbest: 0.8974896 (117)\ttotal: 1m\tremaining: 7m 27s\n",
      "119:\ttest: 0.8975135\tbest: 0.8975135 (119)\ttotal: 1m\tremaining: 7m 26s\n",
      "120:\ttest: 0.8975318\tbest: 0.8975318 (120)\ttotal: 1m 1s\tremaining: 7m 25s\n",
      "121:\ttest: 0.8975349\tbest: 0.8975349 (121)\ttotal: 1m 1s\tremaining: 7m 24s\n",
      "122:\ttest: 0.8975120\tbest: 0.8975349 (121)\ttotal: 1m 2s\tremaining: 7m 23s\n",
      "123:\ttest: 0.8974957\tbest: 0.8975349 (121)\ttotal: 1m 2s\tremaining: 7m 23s\n",
      "124:\ttest: 0.8975134\tbest: 0.8975349 (121)\ttotal: 1m 3s\tremaining: 7m 22s\n",
      "125:\ttest: 0.8975238\tbest: 0.8975349 (121)\ttotal: 1m 3s\tremaining: 7m 21s\n",
      "126:\ttest: 0.8975282\tbest: 0.8975349 (121)\ttotal: 1m 4s\tremaining: 7m 20s\n",
      "127:\ttest: 0.8975600\tbest: 0.8975600 (127)\ttotal: 1m 4s\tremaining: 7m 19s\n",
      "128:\ttest: 0.8975822\tbest: 0.8975822 (128)\ttotal: 1m 5s\tremaining: 7m 19s\n",
      "129:\ttest: 0.8978794\tbest: 0.8978794 (129)\ttotal: 1m 5s\tremaining: 7m 18s\n",
      "130:\ttest: 0.8979583\tbest: 0.8979583 (130)\ttotal: 1m 6s\tremaining: 7m 18s\n",
      "131:\ttest: 0.8980552\tbest: 0.8980552 (131)\ttotal: 1m 6s\tremaining: 7m 17s\n",
      "132:\ttest: 0.8981021\tbest: 0.8981021 (132)\ttotal: 1m 6s\tremaining: 7m 16s\n",
      "133:\ttest: 0.8980863\tbest: 0.8981021 (132)\ttotal: 1m 7s\tremaining: 7m 16s\n",
      "134:\ttest: 0.8981003\tbest: 0.8981021 (132)\ttotal: 1m 7s\tremaining: 7m 15s\n",
      "135:\ttest: 0.8983458\tbest: 0.8983458 (135)\ttotal: 1m 8s\tremaining: 7m 15s\n",
      "136:\ttest: 0.8986086\tbest: 0.8986086 (136)\ttotal: 1m 9s\tremaining: 7m 15s\n",
      "137:\ttest: 0.8987242\tbest: 0.8987242 (137)\ttotal: 1m 9s\tremaining: 7m 15s\n",
      "138:\ttest: 0.8987695\tbest: 0.8987695 (138)\ttotal: 1m 10s\tremaining: 7m 14s\n",
      "139:\ttest: 0.8990651\tbest: 0.8990651 (139)\ttotal: 1m 10s\tremaining: 7m 13s\n",
      "140:\ttest: 0.8990113\tbest: 0.8990651 (139)\ttotal: 1m 11s\tremaining: 7m 13s\n",
      "141:\ttest: 0.8989661\tbest: 0.8990651 (139)\ttotal: 1m 11s\tremaining: 7m 13s\n",
      "142:\ttest: 0.8989866\tbest: 0.8990651 (139)\ttotal: 1m 12s\tremaining: 7m 13s\n",
      "143:\ttest: 0.8990833\tbest: 0.8990833 (143)\ttotal: 1m 12s\tremaining: 7m 12s\n",
      "144:\ttest: 0.8990795\tbest: 0.8990833 (143)\ttotal: 1m 13s\tremaining: 7m 12s\n",
      "145:\ttest: 0.8991121\tbest: 0.8991121 (145)\ttotal: 1m 13s\tremaining: 7m 11s\n",
      "146:\ttest: 0.8991574\tbest: 0.8991574 (146)\ttotal: 1m 14s\tremaining: 7m 11s\n",
      "147:\ttest: 0.8991858\tbest: 0.8991858 (147)\ttotal: 1m 14s\tremaining: 7m 10s\n",
      "148:\ttest: 0.8992175\tbest: 0.8992175 (148)\ttotal: 1m 15s\tremaining: 7m 9s\n",
      "149:\ttest: 0.8991968\tbest: 0.8992175 (148)\ttotal: 1m 15s\tremaining: 7m 9s\n",
      "150:\ttest: 0.8991806\tbest: 0.8992175 (148)\ttotal: 1m 16s\tremaining: 7m 8s\n",
      "151:\ttest: 0.8992001\tbest: 0.8992175 (148)\ttotal: 1m 16s\tremaining: 7m 7s\n",
      "152:\ttest: 0.8993691\tbest: 0.8993691 (152)\ttotal: 1m 17s\tremaining: 7m 7s\n",
      "153:\ttest: 0.8994160\tbest: 0.8994160 (153)\ttotal: 1m 17s\tremaining: 7m 6s\n",
      "154:\ttest: 0.8994277\tbest: 0.8994277 (154)\ttotal: 1m 18s\tremaining: 7m 6s\n",
      "155:\ttest: 0.8995440\tbest: 0.8995440 (155)\ttotal: 1m 18s\tremaining: 7m 5s\n",
      "156:\ttest: 0.8995729\tbest: 0.8995729 (156)\ttotal: 1m 19s\tremaining: 7m 4s\n",
      "157:\ttest: 0.8996112\tbest: 0.8996112 (157)\ttotal: 1m 19s\tremaining: 7m 3s\n",
      "158:\ttest: 0.8996648\tbest: 0.8996648 (158)\ttotal: 1m 20s\tremaining: 7m 3s\n",
      "159:\ttest: 0.8997352\tbest: 0.8997352 (159)\ttotal: 1m 20s\tremaining: 7m 3s\n",
      "160:\ttest: 0.8997703\tbest: 0.8997703 (160)\ttotal: 1m 21s\tremaining: 7m 2s\n",
      "161:\ttest: 0.8997171\tbest: 0.8997703 (160)\ttotal: 1m 21s\tremaining: 7m 2s\n",
      "162:\ttest: 0.8997259\tbest: 0.8997703 (160)\ttotal: 1m 22s\tremaining: 7m 1s\n",
      "163:\ttest: 0.8997410\tbest: 0.8997703 (160)\ttotal: 1m 22s\tremaining: 7m 1s\n",
      "164:\ttest: 0.8997826\tbest: 0.8997826 (164)\ttotal: 1m 23s\tremaining: 7m\n",
      "165:\ttest: 0.8997684\tbest: 0.8997826 (164)\ttotal: 1m 23s\tremaining: 6m 59s\n",
      "166:\ttest: 0.8998183\tbest: 0.8998183 (166)\ttotal: 1m 24s\tremaining: 6m 59s\n",
      "167:\ttest: 0.8998790\tbest: 0.8998790 (167)\ttotal: 1m 24s\tremaining: 6m 58s\n",
      "168:\ttest: 0.8999518\tbest: 0.8999518 (168)\ttotal: 1m 25s\tremaining: 6m 58s\n",
      "169:\ttest: 0.8999076\tbest: 0.8999518 (168)\ttotal: 1m 25s\tremaining: 6m 57s\n",
      "170:\ttest: 0.8999114\tbest: 0.8999518 (168)\ttotal: 1m 25s\tremaining: 6m 56s\n",
      "171:\ttest: 0.8999679\tbest: 0.8999679 (171)\ttotal: 1m 26s\tremaining: 6m 55s\n",
      "172:\ttest: 0.9001150\tbest: 0.9001150 (172)\ttotal: 1m 26s\tremaining: 6m 55s\n",
      "173:\ttest: 0.9001321\tbest: 0.9001321 (173)\ttotal: 1m 27s\tremaining: 6m 54s\n",
      "174:\ttest: 0.9001560\tbest: 0.9001560 (174)\ttotal: 1m 27s\tremaining: 6m 54s\n",
      "175:\ttest: 0.9001663\tbest: 0.9001663 (175)\ttotal: 1m 28s\tremaining: 6m 53s\n",
      "176:\ttest: 0.9002250\tbest: 0.9002250 (176)\ttotal: 1m 28s\tremaining: 6m 52s\n",
      "177:\ttest: 0.9002587\tbest: 0.9002587 (177)\ttotal: 1m 29s\tremaining: 6m 52s\n",
      "178:\ttest: 0.9003328\tbest: 0.9003328 (178)\ttotal: 1m 29s\tremaining: 6m 51s\n",
      "179:\ttest: 0.9004459\tbest: 0.9004459 (179)\ttotal: 1m 30s\tremaining: 6m 50s\n",
      "180:\ttest: 0.9004468\tbest: 0.9004468 (180)\ttotal: 1m 30s\tremaining: 6m 49s\n",
      "181:\ttest: 0.9005392\tbest: 0.9005392 (181)\ttotal: 1m 31s\tremaining: 6m 49s\n",
      "182:\ttest: 0.9005447\tbest: 0.9005447 (182)\ttotal: 1m 31s\tremaining: 6m 48s\n",
      "183:\ttest: 0.9005531\tbest: 0.9005531 (183)\ttotal: 1m 31s\tremaining: 6m 47s\n",
      "184:\ttest: 0.9006908\tbest: 0.9006908 (184)\ttotal: 1m 32s\tremaining: 6m 47s\n",
      "185:\ttest: 0.9006627\tbest: 0.9006908 (184)\ttotal: 1m 33s\tremaining: 6m 47s\n",
      "186:\ttest: 0.9006934\tbest: 0.9006934 (186)\ttotal: 1m 33s\tremaining: 6m 46s\n",
      "187:\ttest: 0.9006878\tbest: 0.9006934 (186)\ttotal: 1m 34s\tremaining: 6m 46s\n",
      "188:\ttest: 0.9008285\tbest: 0.9008285 (188)\ttotal: 1m 34s\tremaining: 6m 46s\n",
      "189:\ttest: 0.9008050\tbest: 0.9008285 (188)\ttotal: 1m 35s\tremaining: 6m 45s\n",
      "190:\ttest: 0.9008413\tbest: 0.9008413 (190)\ttotal: 1m 35s\tremaining: 6m 45s\n",
      "191:\ttest: 0.9008349\tbest: 0.9008413 (190)\ttotal: 1m 36s\tremaining: 6m 44s\n",
      "192:\ttest: 0.9008776\tbest: 0.9008776 (192)\ttotal: 1m 36s\tremaining: 6m 44s\n",
      "193:\ttest: 0.9009738\tbest: 0.9009738 (193)\ttotal: 1m 37s\tremaining: 6m 43s\n",
      "194:\ttest: 0.9010576\tbest: 0.9010576 (194)\ttotal: 1m 37s\tremaining: 6m 43s\n",
      "195:\ttest: 0.9010601\tbest: 0.9010601 (195)\ttotal: 1m 38s\tremaining: 6m 43s\n",
      "196:\ttest: 0.9010570\tbest: 0.9010601 (195)\ttotal: 1m 38s\tremaining: 6m 43s\n",
      "197:\ttest: 0.9010480\tbest: 0.9010601 (195)\ttotal: 1m 39s\tremaining: 6m 43s\n",
      "198:\ttest: 0.9012022\tbest: 0.9012022 (198)\ttotal: 1m 40s\tremaining: 6m 42s\n",
      "199:\ttest: 0.9012052\tbest: 0.9012052 (199)\ttotal: 1m 40s\tremaining: 6m 42s\n",
      "200:\ttest: 0.9012546\tbest: 0.9012546 (200)\ttotal: 1m 41s\tremaining: 6m 41s\n",
      "201:\ttest: 0.9013117\tbest: 0.9013117 (201)\ttotal: 1m 41s\tremaining: 6m 40s\n",
      "202:\ttest: 0.9013325\tbest: 0.9013325 (202)\ttotal: 1m 41s\tremaining: 6m 40s\n",
      "203:\ttest: 0.9013164\tbest: 0.9013325 (202)\ttotal: 1m 42s\tremaining: 6m 39s\n",
      "204:\ttest: 0.9013602\tbest: 0.9013602 (204)\ttotal: 1m 42s\tremaining: 6m 39s\n",
      "205:\ttest: 0.9013496\tbest: 0.9013602 (204)\ttotal: 1m 43s\tremaining: 6m 38s\n",
      "206:\ttest: 0.9013797\tbest: 0.9013797 (206)\ttotal: 1m 43s\tremaining: 6m 37s\n",
      "207:\ttest: 0.9014343\tbest: 0.9014343 (207)\ttotal: 1m 44s\tremaining: 6m 37s\n",
      "208:\ttest: 0.9014409\tbest: 0.9014409 (208)\ttotal: 1m 44s\tremaining: 6m 36s\n",
      "209:\ttest: 0.9015126\tbest: 0.9015126 (209)\ttotal: 1m 45s\tremaining: 6m 36s\n",
      "210:\ttest: 0.9014647\tbest: 0.9015126 (209)\ttotal: 1m 45s\tremaining: 6m 35s\n",
      "211:\ttest: 0.9014486\tbest: 0.9015126 (209)\ttotal: 1m 46s\tremaining: 6m 35s\n",
      "212:\ttest: 0.9014008\tbest: 0.9015126 (209)\ttotal: 1m 46s\tremaining: 6m 34s\n",
      "213:\ttest: 0.9014064\tbest: 0.9015126 (209)\ttotal: 1m 47s\tremaining: 6m 33s\n",
      "214:\ttest: 0.9013975\tbest: 0.9015126 (209)\ttotal: 1m 47s\tremaining: 6m 33s\n",
      "215:\ttest: 0.9014790\tbest: 0.9015126 (209)\ttotal: 1m 48s\tremaining: 6m 32s\n",
      "216:\ttest: 0.9014349\tbest: 0.9015126 (209)\ttotal: 1m 48s\tremaining: 6m 32s\n",
      "217:\ttest: 0.9014439\tbest: 0.9015126 (209)\ttotal: 1m 49s\tremaining: 6m 31s\n",
      "218:\ttest: 0.9015218\tbest: 0.9015218 (218)\ttotal: 1m 49s\tremaining: 6m 31s\n",
      "219:\ttest: 0.9015403\tbest: 0.9015403 (219)\ttotal: 1m 50s\tremaining: 6m 30s\n",
      "220:\ttest: 0.9016077\tbest: 0.9016077 (220)\ttotal: 1m 50s\tremaining: 6m 30s\n",
      "221:\ttest: 0.9016513\tbest: 0.9016513 (221)\ttotal: 1m 51s\tremaining: 6m 29s\n",
      "222:\ttest: 0.9016325\tbest: 0.9016513 (221)\ttotal: 1m 51s\tremaining: 6m 29s\n",
      "223:\ttest: 0.9016562\tbest: 0.9016562 (223)\ttotal: 1m 52s\tremaining: 6m 28s\n"
     ]
    },
    {
     "name": "stdout",
     "output_type": "stream",
     "text": [
      "224:\ttest: 0.9016912\tbest: 0.9016912 (224)\ttotal: 1m 52s\tremaining: 6m 28s\n",
      "225:\ttest: 0.9017509\tbest: 0.9017509 (225)\ttotal: 1m 53s\tremaining: 6m 27s\n",
      "226:\ttest: 0.9017755\tbest: 0.9017755 (226)\ttotal: 1m 53s\tremaining: 6m 27s\n",
      "227:\ttest: 0.9020222\tbest: 0.9020222 (227)\ttotal: 1m 54s\tremaining: 6m 26s\n",
      "228:\ttest: 0.9020228\tbest: 0.9020228 (228)\ttotal: 1m 54s\tremaining: 6m 26s\n",
      "229:\ttest: 0.9020079\tbest: 0.9020228 (228)\ttotal: 1m 55s\tremaining: 6m 26s\n",
      "230:\ttest: 0.9020425\tbest: 0.9020425 (230)\ttotal: 1m 55s\tremaining: 6m 25s\n",
      "231:\ttest: 0.9020899\tbest: 0.9020899 (231)\ttotal: 1m 56s\tremaining: 6m 25s\n",
      "232:\ttest: 0.9021030\tbest: 0.9021030 (232)\ttotal: 1m 57s\tremaining: 6m 25s\n",
      "233:\ttest: 0.9021789\tbest: 0.9021789 (233)\ttotal: 1m 57s\tremaining: 6m 24s\n",
      "234:\ttest: 0.9021583\tbest: 0.9021789 (233)\ttotal: 1m 58s\tremaining: 6m 24s\n",
      "235:\ttest: 0.9021825\tbest: 0.9021825 (235)\ttotal: 1m 58s\tremaining: 6m 24s\n",
      "236:\ttest: 0.9022353\tbest: 0.9022353 (236)\ttotal: 1m 59s\tremaining: 6m 23s\n",
      "237:\ttest: 0.9023281\tbest: 0.9023281 (237)\ttotal: 1m 59s\tremaining: 6m 23s\n",
      "238:\ttest: 0.9023118\tbest: 0.9023281 (237)\ttotal: 2m\tremaining: 6m 22s\n",
      "239:\ttest: 0.9024756\tbest: 0.9024756 (239)\ttotal: 2m\tremaining: 6m 22s\n",
      "240:\ttest: 0.9025323\tbest: 0.9025323 (240)\ttotal: 2m 1s\tremaining: 6m 22s\n",
      "241:\ttest: 0.9025351\tbest: 0.9025351 (241)\ttotal: 2m 2s\tremaining: 6m 22s\n",
      "242:\ttest: 0.9025785\tbest: 0.9025785 (242)\ttotal: 2m 2s\tremaining: 6m 22s\n",
      "243:\ttest: 0.9025142\tbest: 0.9025785 (242)\ttotal: 2m 3s\tremaining: 6m 22s\n",
      "244:\ttest: 0.9026122\tbest: 0.9026122 (244)\ttotal: 2m 4s\tremaining: 6m 23s\n",
      "245:\ttest: 0.9026890\tbest: 0.9026890 (245)\ttotal: 2m 5s\tremaining: 6m 23s\n",
      "246:\ttest: 0.9027263\tbest: 0.9027263 (246)\ttotal: 2m 5s\tremaining: 6m 23s\n",
      "247:\ttest: 0.9026775\tbest: 0.9027263 (246)\ttotal: 2m 6s\tremaining: 6m 23s\n",
      "248:\ttest: 0.9026921\tbest: 0.9027263 (246)\ttotal: 2m 7s\tremaining: 6m 23s\n",
      "249:\ttest: 0.9027329\tbest: 0.9027329 (249)\ttotal: 2m 7s\tremaining: 6m 23s\n",
      "250:\ttest: 0.9027429\tbest: 0.9027429 (250)\ttotal: 2m 8s\tremaining: 6m 24s\n",
      "251:\ttest: 0.9027499\tbest: 0.9027499 (251)\ttotal: 2m 9s\tremaining: 6m 24s\n",
      "252:\ttest: 0.9027248\tbest: 0.9027499 (251)\ttotal: 2m 10s\tremaining: 6m 24s\n",
      "253:\ttest: 0.9027463\tbest: 0.9027499 (251)\ttotal: 2m 10s\tremaining: 6m 24s\n",
      "254:\ttest: 0.9027938\tbest: 0.9027938 (254)\ttotal: 2m 11s\tremaining: 6m 24s\n",
      "255:\ttest: 0.9027783\tbest: 0.9027938 (254)\ttotal: 2m 12s\tremaining: 6m 24s\n",
      "256:\ttest: 0.9029178\tbest: 0.9029178 (256)\ttotal: 2m 13s\tremaining: 6m 24s\n",
      "257:\ttest: 0.9030456\tbest: 0.9030456 (257)\ttotal: 2m 13s\tremaining: 6m 24s\n",
      "258:\ttest: 0.9030305\tbest: 0.9030456 (257)\ttotal: 2m 14s\tremaining: 6m 25s\n",
      "259:\ttest: 0.9029774\tbest: 0.9030456 (257)\ttotal: 2m 15s\tremaining: 6m 25s\n",
      "260:\ttest: 0.9029472\tbest: 0.9030456 (257)\ttotal: 2m 16s\tremaining: 6m 25s\n",
      "261:\ttest: 0.9030364\tbest: 0.9030456 (257)\ttotal: 2m 16s\tremaining: 6m 25s\n",
      "262:\ttest: 0.9030561\tbest: 0.9030561 (262)\ttotal: 2m 17s\tremaining: 6m 25s\n",
      "263:\ttest: 0.9030741\tbest: 0.9030741 (263)\ttotal: 2m 18s\tremaining: 6m 25s\n",
      "264:\ttest: 0.9031199\tbest: 0.9031199 (264)\ttotal: 2m 19s\tremaining: 6m 25s\n",
      "265:\ttest: 0.9031355\tbest: 0.9031355 (265)\ttotal: 2m 19s\tremaining: 6m 26s\n",
      "266:\ttest: 0.9032069\tbest: 0.9032069 (266)\ttotal: 2m 20s\tremaining: 6m 25s\n",
      "267:\ttest: 0.9033041\tbest: 0.9033041 (267)\ttotal: 2m 21s\tremaining: 6m 25s\n",
      "268:\ttest: 0.9033591\tbest: 0.9033591 (268)\ttotal: 2m 21s\tremaining: 6m 25s\n",
      "269:\ttest: 0.9033257\tbest: 0.9033591 (268)\ttotal: 2m 22s\tremaining: 6m 25s\n",
      "270:\ttest: 0.9033492\tbest: 0.9033591 (268)\ttotal: 2m 23s\tremaining: 6m 26s\n",
      "271:\ttest: 0.9033590\tbest: 0.9033591 (268)\ttotal: 2m 24s\tremaining: 6m 26s\n",
      "272:\ttest: 0.9033802\tbest: 0.9033802 (272)\ttotal: 2m 24s\tremaining: 6m 26s\n",
      "273:\ttest: 0.9033823\tbest: 0.9033823 (273)\ttotal: 2m 25s\tremaining: 6m 25s\n",
      "274:\ttest: 0.9034107\tbest: 0.9034107 (274)\ttotal: 2m 26s\tremaining: 6m 25s\n",
      "275:\ttest: 0.9034798\tbest: 0.9034798 (275)\ttotal: 2m 26s\tremaining: 6m 25s\n",
      "276:\ttest: 0.9034838\tbest: 0.9034838 (276)\ttotal: 2m 27s\tremaining: 6m 25s\n",
      "277:\ttest: 0.9035980\tbest: 0.9035980 (277)\ttotal: 2m 28s\tremaining: 6m 25s\n",
      "278:\ttest: 0.9036016\tbest: 0.9036016 (278)\ttotal: 2m 29s\tremaining: 6m 25s\n",
      "279:\ttest: 0.9036324\tbest: 0.9036324 (279)\ttotal: 2m 29s\tremaining: 6m 25s\n",
      "280:\ttest: 0.9036928\tbest: 0.9036928 (280)\ttotal: 2m 30s\tremaining: 6m 25s\n",
      "281:\ttest: 0.9037175\tbest: 0.9037175 (281)\ttotal: 2m 31s\tremaining: 6m 25s\n",
      "282:\ttest: 0.9037177\tbest: 0.9037177 (282)\ttotal: 2m 32s\tremaining: 6m 25s\n",
      "283:\ttest: 0.9037375\tbest: 0.9037375 (283)\ttotal: 2m 33s\tremaining: 6m 25s\n",
      "284:\ttest: 0.9037850\tbest: 0.9037850 (284)\ttotal: 2m 33s\tremaining: 6m 26s\n",
      "285:\ttest: 0.9038516\tbest: 0.9038516 (285)\ttotal: 2m 34s\tremaining: 6m 26s\n",
      "286:\ttest: 0.9039468\tbest: 0.9039468 (286)\ttotal: 2m 35s\tremaining: 6m 25s\n",
      "287:\ttest: 0.9039378\tbest: 0.9039468 (286)\ttotal: 2m 35s\tremaining: 6m 25s\n",
      "288:\ttest: 0.9038991\tbest: 0.9039468 (286)\ttotal: 2m 36s\tremaining: 6m 25s\n",
      "289:\ttest: 0.9039133\tbest: 0.9039468 (286)\ttotal: 2m 37s\tremaining: 6m 25s\n",
      "290:\ttest: 0.9038825\tbest: 0.9039468 (286)\ttotal: 2m 37s\tremaining: 6m 24s\n",
      "291:\ttest: 0.9038779\tbest: 0.9039468 (286)\ttotal: 2m 38s\tremaining: 6m 24s\n",
      "292:\ttest: 0.9039742\tbest: 0.9039742 (292)\ttotal: 2m 39s\tremaining: 6m 24s\n",
      "293:\ttest: 0.9040166\tbest: 0.9040166 (293)\ttotal: 2m 39s\tremaining: 6m 24s\n",
      "294:\ttest: 0.9041192\tbest: 0.9041192 (294)\ttotal: 2m 40s\tremaining: 6m 24s\n",
      "295:\ttest: 0.9041671\tbest: 0.9041671 (295)\ttotal: 2m 41s\tremaining: 6m 23s\n",
      "296:\ttest: 0.9042533\tbest: 0.9042533 (296)\ttotal: 2m 42s\tremaining: 6m 23s\n",
      "297:\ttest: 0.9043081\tbest: 0.9043081 (297)\ttotal: 2m 42s\tremaining: 6m 23s\n",
      "298:\ttest: 0.9043048\tbest: 0.9043081 (297)\ttotal: 2m 43s\tremaining: 6m 23s\n",
      "299:\ttest: 0.9043202\tbest: 0.9043202 (299)\ttotal: 2m 44s\tremaining: 6m 22s\n",
      "300:\ttest: 0.9043041\tbest: 0.9043202 (299)\ttotal: 2m 44s\tremaining: 6m 22s\n",
      "301:\ttest: 0.9042773\tbest: 0.9043202 (299)\ttotal: 2m 45s\tremaining: 6m 22s\n",
      "302:\ttest: 0.9042239\tbest: 0.9043202 (299)\ttotal: 2m 46s\tremaining: 6m 22s\n",
      "303:\ttest: 0.9042683\tbest: 0.9043202 (299)\ttotal: 2m 46s\tremaining: 6m 21s\n",
      "304:\ttest: 0.9042328\tbest: 0.9043202 (299)\ttotal: 2m 47s\tremaining: 6m 21s\n",
      "305:\ttest: 0.9042848\tbest: 0.9043202 (299)\ttotal: 2m 47s\tremaining: 6m 20s\n",
      "306:\ttest: 0.9043754\tbest: 0.9043754 (306)\ttotal: 2m 48s\tremaining: 6m 20s\n",
      "307:\ttest: 0.9043903\tbest: 0.9043903 (307)\ttotal: 2m 48s\tremaining: 6m 19s\n",
      "308:\ttest: 0.9044145\tbest: 0.9044145 (308)\ttotal: 2m 49s\tremaining: 6m 19s\n",
      "309:\ttest: 0.9044236\tbest: 0.9044236 (309)\ttotal: 2m 50s\tremaining: 6m 18s\n",
      "310:\ttest: 0.9044464\tbest: 0.9044464 (310)\ttotal: 2m 50s\tremaining: 6m 18s\n",
      "311:\ttest: 0.9044168\tbest: 0.9044464 (310)\ttotal: 2m 51s\tremaining: 6m 17s\n",
      "312:\ttest: 0.9044552\tbest: 0.9044552 (312)\ttotal: 2m 52s\tremaining: 6m 17s\n",
      "313:\ttest: 0.9044837\tbest: 0.9044837 (313)\ttotal: 2m 52s\tremaining: 6m 16s\n",
      "314:\ttest: 0.9044931\tbest: 0.9044931 (314)\ttotal: 2m 53s\tremaining: 6m 16s\n",
      "315:\ttest: 0.9046007\tbest: 0.9046007 (315)\ttotal: 2m 53s\tremaining: 6m 15s\n",
      "316:\ttest: 0.9046386\tbest: 0.9046386 (316)\ttotal: 2m 54s\tremaining: 6m 15s\n",
      "317:\ttest: 0.9046823\tbest: 0.9046823 (317)\ttotal: 2m 54s\tremaining: 6m 15s\n",
      "318:\ttest: 0.9047591\tbest: 0.9047591 (318)\ttotal: 2m 55s\tremaining: 6m 14s\n",
      "319:\ttest: 0.9047682\tbest: 0.9047682 (319)\ttotal: 2m 56s\tremaining: 6m 14s\n",
      "320:\ttest: 0.9047503\tbest: 0.9047682 (319)\ttotal: 2m 56s\tremaining: 6m 13s\n",
      "321:\ttest: 0.9046778\tbest: 0.9047682 (319)\ttotal: 2m 57s\tremaining: 6m 13s\n",
      "322:\ttest: 0.9047199\tbest: 0.9047682 (319)\ttotal: 2m 57s\tremaining: 6m 12s\n",
      "323:\ttest: 0.9046995\tbest: 0.9047682 (319)\ttotal: 2m 58s\tremaining: 6m 11s\n",
      "324:\ttest: 0.9048112\tbest: 0.9048112 (324)\ttotal: 2m 58s\tremaining: 6m 11s\n",
      "325:\ttest: 0.9047731\tbest: 0.9048112 (324)\ttotal: 2m 59s\tremaining: 6m 10s\n",
      "326:\ttest: 0.9048508\tbest: 0.9048508 (326)\ttotal: 2m 59s\tremaining: 6m 10s\n",
      "327:\ttest: 0.9049137\tbest: 0.9049137 (327)\ttotal: 3m\tremaining: 6m 9s\n",
      "328:\ttest: 0.9049281\tbest: 0.9049281 (328)\ttotal: 3m\tremaining: 6m 8s\n",
      "329:\ttest: 0.9049176\tbest: 0.9049281 (328)\ttotal: 3m 1s\tremaining: 6m 8s\n",
      "330:\ttest: 0.9048793\tbest: 0.9049281 (328)\ttotal: 3m 2s\tremaining: 6m 8s\n",
      "331:\ttest: 0.9048912\tbest: 0.9049281 (328)\ttotal: 3m 3s\tremaining: 6m 8s\n",
      "332:\ttest: 0.9048748\tbest: 0.9049281 (328)\ttotal: 3m 3s\tremaining: 6m 7s\n",
      "333:\ttest: 0.9048688\tbest: 0.9049281 (328)\ttotal: 3m 4s\tremaining: 6m 7s\n"
     ]
    },
    {
     "name": "stdout",
     "output_type": "stream",
     "text": [
      "334:\ttest: 0.9048844\tbest: 0.9049281 (328)\ttotal: 3m 5s\tremaining: 6m 7s\n",
      "335:\ttest: 0.9049260\tbest: 0.9049281 (328)\ttotal: 3m 5s\tremaining: 6m 7s\n",
      "336:\ttest: 0.9049093\tbest: 0.9049281 (328)\ttotal: 3m 6s\tremaining: 6m 7s\n",
      "337:\ttest: 0.9049425\tbest: 0.9049425 (337)\ttotal: 3m 7s\tremaining: 6m 7s\n",
      "338:\ttest: 0.9048741\tbest: 0.9049425 (337)\ttotal: 3m 8s\tremaining: 6m 7s\n",
      "339:\ttest: 0.9048741\tbest: 0.9049425 (337)\ttotal: 3m 9s\tremaining: 6m 7s\n",
      "340:\ttest: 0.9049196\tbest: 0.9049425 (337)\ttotal: 3m 9s\tremaining: 6m 6s\n",
      "341:\ttest: 0.9048977\tbest: 0.9049425 (337)\ttotal: 3m 10s\tremaining: 6m 6s\n",
      "342:\ttest: 0.9048712\tbest: 0.9049425 (337)\ttotal: 3m 11s\tremaining: 6m 6s\n",
      "343:\ttest: 0.9048657\tbest: 0.9049425 (337)\ttotal: 3m 11s\tremaining: 6m 5s\n",
      "344:\ttest: 0.9048415\tbest: 0.9049425 (337)\ttotal: 3m 12s\tremaining: 6m 5s\n",
      "345:\ttest: 0.9048166\tbest: 0.9049425 (337)\ttotal: 3m 13s\tremaining: 6m 5s\n",
      "346:\ttest: 0.9047719\tbest: 0.9049425 (337)\ttotal: 3m 13s\tremaining: 6m 4s\n",
      "347:\ttest: 0.9047951\tbest: 0.9049425 (337)\ttotal: 3m 14s\tremaining: 6m 4s\n",
      "348:\ttest: 0.9048794\tbest: 0.9049425 (337)\ttotal: 3m 15s\tremaining: 6m 4s\n",
      "349:\ttest: 0.9049142\tbest: 0.9049425 (337)\ttotal: 3m 15s\tremaining: 6m 3s\n",
      "350:\ttest: 0.9048643\tbest: 0.9049425 (337)\ttotal: 3m 16s\tremaining: 6m 3s\n",
      "351:\ttest: 0.9048592\tbest: 0.9049425 (337)\ttotal: 3m 17s\tremaining: 6m 2s\n",
      "352:\ttest: 0.9048793\tbest: 0.9049425 (337)\ttotal: 3m 17s\tremaining: 6m 2s\n",
      "353:\ttest: 0.9048436\tbest: 0.9049425 (337)\ttotal: 3m 18s\tremaining: 6m 2s\n",
      "354:\ttest: 0.9048721\tbest: 0.9049425 (337)\ttotal: 3m 19s\tremaining: 6m 1s\n",
      "355:\ttest: 0.9048173\tbest: 0.9049425 (337)\ttotal: 3m 19s\tremaining: 6m 1s\n",
      "356:\ttest: 0.9048504\tbest: 0.9049425 (337)\ttotal: 3m 20s\tremaining: 6m\n",
      "357:\ttest: 0.9049028\tbest: 0.9049425 (337)\ttotal: 3m 20s\tremaining: 6m\n",
      "358:\ttest: 0.9049307\tbest: 0.9049425 (337)\ttotal: 3m 21s\tremaining: 5m 59s\n",
      "359:\ttest: 0.9049173\tbest: 0.9049425 (337)\ttotal: 3m 21s\tremaining: 5m 59s\n",
      "360:\ttest: 0.9049596\tbest: 0.9049596 (360)\ttotal: 3m 22s\tremaining: 5m 58s\n",
      "361:\ttest: 0.9050278\tbest: 0.9050278 (361)\ttotal: 3m 23s\tremaining: 5m 57s\n",
      "362:\ttest: 0.9050108\tbest: 0.9050278 (361)\ttotal: 3m 23s\tremaining: 5m 57s\n",
      "363:\ttest: 0.9050483\tbest: 0.9050483 (363)\ttotal: 3m 24s\tremaining: 5m 57s\n",
      "364:\ttest: 0.9050020\tbest: 0.9050483 (363)\ttotal: 3m 25s\tremaining: 5m 56s\n",
      "365:\ttest: 0.9050085\tbest: 0.9050483 (363)\ttotal: 3m 25s\tremaining: 5m 56s\n",
      "366:\ttest: 0.9050695\tbest: 0.9050695 (366)\ttotal: 3m 26s\tremaining: 5m 55s\n",
      "367:\ttest: 0.9051019\tbest: 0.9051019 (367)\ttotal: 3m 26s\tremaining: 5m 55s\n",
      "368:\ttest: 0.9051135\tbest: 0.9051135 (368)\ttotal: 3m 27s\tremaining: 5m 54s\n",
      "369:\ttest: 0.9052138\tbest: 0.9052138 (369)\ttotal: 3m 27s\tremaining: 5m 53s\n",
      "370:\ttest: 0.9052400\tbest: 0.9052400 (370)\ttotal: 3m 28s\tremaining: 5m 53s\n",
      "371:\ttest: 0.9052888\tbest: 0.9052888 (371)\ttotal: 3m 29s\tremaining: 5m 52s\n",
      "372:\ttest: 0.9053455\tbest: 0.9053455 (372)\ttotal: 3m 29s\tremaining: 5m 52s\n",
      "373:\ttest: 0.9053699\tbest: 0.9053699 (373)\ttotal: 3m 30s\tremaining: 5m 51s\n",
      "374:\ttest: 0.9053719\tbest: 0.9053719 (374)\ttotal: 3m 30s\tremaining: 5m 51s\n",
      "375:\ttest: 0.9053374\tbest: 0.9053719 (374)\ttotal: 3m 31s\tremaining: 5m 50s\n",
      "376:\ttest: 0.9053283\tbest: 0.9053719 (374)\ttotal: 3m 31s\tremaining: 5m 50s\n",
      "377:\ttest: 0.9054620\tbest: 0.9054620 (377)\ttotal: 3m 32s\tremaining: 5m 49s\n",
      "378:\ttest: 0.9054785\tbest: 0.9054785 (378)\ttotal: 3m 33s\tremaining: 5m 49s\n",
      "379:\ttest: 0.9055032\tbest: 0.9055032 (379)\ttotal: 3m 33s\tremaining: 5m 48s\n",
      "380:\ttest: 0.9054939\tbest: 0.9055032 (379)\ttotal: 3m 34s\tremaining: 5m 48s\n",
      "381:\ttest: 0.9054980\tbest: 0.9055032 (379)\ttotal: 3m 34s\tremaining: 5m 47s\n",
      "382:\ttest: 0.9055027\tbest: 0.9055032 (379)\ttotal: 3m 35s\tremaining: 5m 46s\n",
      "383:\ttest: 0.9055582\tbest: 0.9055582 (383)\ttotal: 3m 35s\tremaining: 5m 46s\n",
      "384:\ttest: 0.9056566\tbest: 0.9056566 (384)\ttotal: 3m 36s\tremaining: 5m 45s\n",
      "385:\ttest: 0.9056488\tbest: 0.9056566 (384)\ttotal: 3m 37s\tremaining: 5m 45s\n",
      "386:\ttest: 0.9056813\tbest: 0.9056813 (386)\ttotal: 3m 37s\tremaining: 5m 44s\n",
      "387:\ttest: 0.9057305\tbest: 0.9057305 (387)\ttotal: 3m 38s\tremaining: 5m 44s\n",
      "388:\ttest: 0.9056895\tbest: 0.9057305 (387)\ttotal: 3m 38s\tremaining: 5m 43s\n",
      "389:\ttest: 0.9056880\tbest: 0.9057305 (387)\ttotal: 3m 39s\tremaining: 5m 43s\n",
      "390:\ttest: 0.9057617\tbest: 0.9057617 (390)\ttotal: 3m 39s\tremaining: 5m 42s\n",
      "391:\ttest: 0.9057606\tbest: 0.9057617 (390)\ttotal: 3m 40s\tremaining: 5m 42s\n",
      "392:\ttest: 0.9058302\tbest: 0.9058302 (392)\ttotal: 3m 41s\tremaining: 5m 41s\n",
      "393:\ttest: 0.9058672\tbest: 0.9058672 (393)\ttotal: 3m 41s\tremaining: 5m 41s\n",
      "394:\ttest: 0.9059354\tbest: 0.9059354 (394)\ttotal: 3m 42s\tremaining: 5m 40s\n",
      "395:\ttest: 0.9059390\tbest: 0.9059390 (395)\ttotal: 3m 42s\tremaining: 5m 40s\n",
      "396:\ttest: 0.9059382\tbest: 0.9059390 (395)\ttotal: 3m 43s\tremaining: 5m 39s\n",
      "397:\ttest: 0.9059658\tbest: 0.9059658 (397)\ttotal: 3m 44s\tremaining: 5m 38s\n",
      "398:\ttest: 0.9059592\tbest: 0.9059658 (397)\ttotal: 3m 44s\tremaining: 5m 38s\n",
      "399:\ttest: 0.9059319\tbest: 0.9059658 (397)\ttotal: 3m 45s\tremaining: 5m 37s\n",
      "400:\ttest: 0.9059614\tbest: 0.9059658 (397)\ttotal: 3m 45s\tremaining: 5m 37s\n",
      "401:\ttest: 0.9059670\tbest: 0.9059670 (401)\ttotal: 3m 46s\tremaining: 5m 36s\n",
      "402:\ttest: 0.9059530\tbest: 0.9059670 (401)\ttotal: 3m 46s\tremaining: 5m 36s\n",
      "403:\ttest: 0.9059537\tbest: 0.9059670 (401)\ttotal: 3m 47s\tremaining: 5m 35s\n",
      "404:\ttest: 0.9059319\tbest: 0.9059670 (401)\ttotal: 3m 48s\tremaining: 5m 35s\n",
      "405:\ttest: 0.9059598\tbest: 0.9059670 (401)\ttotal: 3m 48s\tremaining: 5m 34s\n",
      "406:\ttest: 0.9060120\tbest: 0.9060120 (406)\ttotal: 3m 49s\tremaining: 5m 34s\n",
      "407:\ttest: 0.9059813\tbest: 0.9060120 (406)\ttotal: 3m 49s\tremaining: 5m 33s\n",
      "408:\ttest: 0.9059779\tbest: 0.9060120 (406)\ttotal: 3m 50s\tremaining: 5m 32s\n",
      "409:\ttest: 0.9059869\tbest: 0.9060120 (406)\ttotal: 3m 51s\tremaining: 5m 32s\n",
      "410:\ttest: 0.9059895\tbest: 0.9060120 (406)\ttotal: 3m 51s\tremaining: 5m 32s\n",
      "411:\ttest: 0.9060652\tbest: 0.9060652 (411)\ttotal: 3m 52s\tremaining: 5m 31s\n",
      "412:\ttest: 0.9061051\tbest: 0.9061051 (412)\ttotal: 3m 52s\tremaining: 5m 31s\n",
      "413:\ttest: 0.9061155\tbest: 0.9061155 (413)\ttotal: 3m 53s\tremaining: 5m 30s\n",
      "414:\ttest: 0.9061632\tbest: 0.9061632 (414)\ttotal: 3m 54s\tremaining: 5m 30s\n",
      "415:\ttest: 0.9061617\tbest: 0.9061632 (414)\ttotal: 3m 54s\tremaining: 5m 29s\n",
      "416:\ttest: 0.9062071\tbest: 0.9062071 (416)\ttotal: 3m 55s\tremaining: 5m 29s\n",
      "417:\ttest: 0.9062055\tbest: 0.9062071 (416)\ttotal: 3m 56s\tremaining: 5m 29s\n",
      "418:\ttest: 0.9061687\tbest: 0.9062071 (416)\ttotal: 3m 56s\tremaining: 5m 28s\n",
      "419:\ttest: 0.9061689\tbest: 0.9062071 (416)\ttotal: 3m 57s\tremaining: 5m 28s\n",
      "420:\ttest: 0.9062111\tbest: 0.9062111 (420)\ttotal: 3m 58s\tremaining: 5m 27s\n",
      "421:\ttest: 0.9062466\tbest: 0.9062466 (421)\ttotal: 3m 58s\tremaining: 5m 27s\n",
      "422:\ttest: 0.9062797\tbest: 0.9062797 (422)\ttotal: 3m 59s\tremaining: 5m 26s\n",
      "423:\ttest: 0.9063320\tbest: 0.9063320 (423)\ttotal: 4m\tremaining: 5m 26s\n",
      "424:\ttest: 0.9063408\tbest: 0.9063408 (424)\ttotal: 4m\tremaining: 5m 25s\n",
      "425:\ttest: 0.9063526\tbest: 0.9063526 (425)\ttotal: 4m 1s\tremaining: 5m 25s\n",
      "426:\ttest: 0.9063834\tbest: 0.9063834 (426)\ttotal: 4m 2s\tremaining: 5m 25s\n",
      "427:\ttest: 0.9064048\tbest: 0.9064048 (427)\ttotal: 4m 3s\tremaining: 5m 25s\n",
      "428:\ttest: 0.9063796\tbest: 0.9064048 (427)\ttotal: 4m 4s\tremaining: 5m 25s\n",
      "429:\ttest: 0.9063868\tbest: 0.9064048 (427)\ttotal: 4m 4s\tremaining: 5m 24s\n",
      "430:\ttest: 0.9063898\tbest: 0.9064048 (427)\ttotal: 4m 5s\tremaining: 5m 24s\n",
      "431:\ttest: 0.9064102\tbest: 0.9064102 (431)\ttotal: 4m 6s\tremaining: 5m 23s\n",
      "432:\ttest: 0.9063987\tbest: 0.9064102 (431)\ttotal: 4m 6s\tremaining: 5m 23s\n",
      "433:\ttest: 0.9063994\tbest: 0.9064102 (431)\ttotal: 4m 8s\tremaining: 5m 23s\n",
      "434:\ttest: 0.9063977\tbest: 0.9064102 (431)\ttotal: 4m 8s\tremaining: 5m 23s\n",
      "435:\ttest: 0.9063687\tbest: 0.9064102 (431)\ttotal: 4m 9s\tremaining: 5m 23s\n",
      "436:\ttest: 0.9063820\tbest: 0.9064102 (431)\ttotal: 4m 10s\tremaining: 5m 23s\n",
      "437:\ttest: 0.9063888\tbest: 0.9064102 (431)\ttotal: 4m 11s\tremaining: 5m 22s\n",
      "438:\ttest: 0.9064204\tbest: 0.9064204 (438)\ttotal: 4m 12s\tremaining: 5m 22s\n",
      "439:\ttest: 0.9063801\tbest: 0.9064204 (438)\ttotal: 4m 13s\tremaining: 5m 22s\n",
      "440:\ttest: 0.9063754\tbest: 0.9064204 (438)\ttotal: 4m 13s\tremaining: 5m 21s\n",
      "441:\ttest: 0.9064297\tbest: 0.9064297 (441)\ttotal: 4m 14s\tremaining: 5m 21s\n",
      "442:\ttest: 0.9063864\tbest: 0.9064297 (441)\ttotal: 4m 15s\tremaining: 5m 20s\n",
      "443:\ttest: 0.9063786\tbest: 0.9064297 (441)\ttotal: 4m 15s\tremaining: 5m 20s\n"
     ]
    },
    {
     "name": "stdout",
     "output_type": "stream",
     "text": [
      "444:\ttest: 0.9063920\tbest: 0.9064297 (441)\ttotal: 4m 16s\tremaining: 5m 19s\n",
      "445:\ttest: 0.9064449\tbest: 0.9064449 (445)\ttotal: 4m 17s\tremaining: 5m 19s\n",
      "446:\ttest: 0.9064565\tbest: 0.9064565 (446)\ttotal: 4m 17s\tremaining: 5m 19s\n",
      "447:\ttest: 0.9064943\tbest: 0.9064943 (447)\ttotal: 4m 18s\tremaining: 5m 18s\n",
      "448:\ttest: 0.9065177\tbest: 0.9065177 (448)\ttotal: 4m 19s\tremaining: 5m 18s\n",
      "449:\ttest: 0.9065092\tbest: 0.9065177 (448)\ttotal: 4m 19s\tremaining: 5m 17s\n",
      "450:\ttest: 0.9064974\tbest: 0.9065177 (448)\ttotal: 4m 20s\tremaining: 5m 16s\n",
      "451:\ttest: 0.9064024\tbest: 0.9065177 (448)\ttotal: 4m 20s\tremaining: 5m 16s\n",
      "452:\ttest: 0.9064262\tbest: 0.9065177 (448)\ttotal: 4m 21s\tremaining: 5m 15s\n",
      "453:\ttest: 0.9064147\tbest: 0.9065177 (448)\ttotal: 4m 22s\tremaining: 5m 15s\n",
      "454:\ttest: 0.9064768\tbest: 0.9065177 (448)\ttotal: 4m 22s\tremaining: 5m 14s\n",
      "455:\ttest: 0.9064416\tbest: 0.9065177 (448)\ttotal: 4m 23s\tremaining: 5m 14s\n",
      "456:\ttest: 0.9064355\tbest: 0.9065177 (448)\ttotal: 4m 23s\tremaining: 5m 13s\n",
      "457:\ttest: 0.9064790\tbest: 0.9065177 (448)\ttotal: 4m 24s\tremaining: 5m 12s\n",
      "458:\ttest: 0.9064625\tbest: 0.9065177 (448)\ttotal: 4m 24s\tremaining: 5m 12s\n",
      "459:\ttest: 0.9064602\tbest: 0.9065177 (448)\ttotal: 4m 25s\tremaining: 5m 11s\n",
      "460:\ttest: 0.9064636\tbest: 0.9065177 (448)\ttotal: 4m 26s\tremaining: 5m 11s\n",
      "461:\ttest: 0.9065270\tbest: 0.9065270 (461)\ttotal: 4m 26s\tremaining: 5m 10s\n",
      "462:\ttest: 0.9065375\tbest: 0.9065375 (462)\ttotal: 4m 27s\tremaining: 5m 9s\n",
      "463:\ttest: 0.9065731\tbest: 0.9065731 (463)\ttotal: 4m 27s\tremaining: 5m 9s\n",
      "464:\ttest: 0.9065374\tbest: 0.9065731 (463)\ttotal: 4m 28s\tremaining: 5m 8s\n",
      "465:\ttest: 0.9065409\tbest: 0.9065731 (463)\ttotal: 4m 28s\tremaining: 5m 8s\n",
      "466:\ttest: 0.9066619\tbest: 0.9066619 (466)\ttotal: 4m 29s\tremaining: 5m 7s\n",
      "467:\ttest: 0.9066605\tbest: 0.9066619 (466)\ttotal: 4m 29s\tremaining: 5m 6s\n",
      "468:\ttest: 0.9066304\tbest: 0.9066619 (466)\ttotal: 4m 30s\tremaining: 5m 6s\n",
      "469:\ttest: 0.9066504\tbest: 0.9066619 (466)\ttotal: 4m 31s\tremaining: 5m 5s\n",
      "470:\ttest: 0.9066829\tbest: 0.9066829 (470)\ttotal: 4m 31s\tremaining: 5m 5s\n",
      "471:\ttest: 0.9066604\tbest: 0.9066829 (470)\ttotal: 4m 32s\tremaining: 5m 4s\n",
      "472:\ttest: 0.9065933\tbest: 0.9066829 (470)\ttotal: 4m 32s\tremaining: 5m 3s\n",
      "473:\ttest: 0.9066022\tbest: 0.9066829 (470)\ttotal: 4m 33s\tremaining: 5m 3s\n",
      "474:\ttest: 0.9066093\tbest: 0.9066829 (470)\ttotal: 4m 33s\tremaining: 5m 2s\n",
      "475:\ttest: 0.9066206\tbest: 0.9066829 (470)\ttotal: 4m 34s\tremaining: 5m 2s\n",
      "476:\ttest: 0.9066361\tbest: 0.9066829 (470)\ttotal: 4m 34s\tremaining: 5m 1s\n",
      "477:\ttest: 0.9066555\tbest: 0.9066829 (470)\ttotal: 4m 35s\tremaining: 5m\n",
      "478:\ttest: 0.9066785\tbest: 0.9066829 (470)\ttotal: 4m 36s\tremaining: 5m\n",
      "479:\ttest: 0.9066667\tbest: 0.9066829 (470)\ttotal: 4m 36s\tremaining: 4m 59s\n",
      "480:\ttest: 0.9066384\tbest: 0.9066829 (470)\ttotal: 4m 37s\tremaining: 4m 59s\n",
      "481:\ttest: 0.9066568\tbest: 0.9066829 (470)\ttotal: 4m 37s\tremaining: 4m 58s\n",
      "482:\ttest: 0.9066517\tbest: 0.9066829 (470)\ttotal: 4m 38s\tremaining: 4m 57s\n",
      "483:\ttest: 0.9066953\tbest: 0.9066953 (483)\ttotal: 4m 38s\tremaining: 4m 57s\n",
      "484:\ttest: 0.9067064\tbest: 0.9067064 (484)\ttotal: 4m 39s\tremaining: 4m 56s\n",
      "485:\ttest: 0.9068079\tbest: 0.9068079 (485)\ttotal: 4m 40s\tremaining: 4m 56s\n",
      "486:\ttest: 0.9068179\tbest: 0.9068179 (486)\ttotal: 4m 40s\tremaining: 4m 55s\n",
      "487:\ttest: 0.9068514\tbest: 0.9068514 (487)\ttotal: 4m 41s\tremaining: 4m 54s\n",
      "488:\ttest: 0.9068455\tbest: 0.9068514 (487)\ttotal: 4m 41s\tremaining: 4m 54s\n",
      "489:\ttest: 0.9067973\tbest: 0.9068514 (487)\ttotal: 4m 42s\tremaining: 4m 53s\n",
      "490:\ttest: 0.9067996\tbest: 0.9068514 (487)\ttotal: 4m 42s\tremaining: 4m 53s\n",
      "491:\ttest: 0.9068291\tbest: 0.9068514 (487)\ttotal: 4m 43s\tremaining: 4m 52s\n",
      "492:\ttest: 0.9068394\tbest: 0.9068514 (487)\ttotal: 4m 44s\tremaining: 4m 52s\n",
      "493:\ttest: 0.9068982\tbest: 0.9068982 (493)\ttotal: 4m 44s\tremaining: 4m 51s\n",
      "494:\ttest: 0.9069610\tbest: 0.9069610 (494)\ttotal: 4m 45s\tremaining: 4m 51s\n",
      "495:\ttest: 0.9069514\tbest: 0.9069610 (494)\ttotal: 4m 46s\tremaining: 4m 50s\n",
      "496:\ttest: 0.9069296\tbest: 0.9069610 (494)\ttotal: 4m 46s\tremaining: 4m 50s\n",
      "497:\ttest: 0.9069157\tbest: 0.9069610 (494)\ttotal: 4m 47s\tremaining: 4m 49s\n",
      "498:\ttest: 0.9069524\tbest: 0.9069610 (494)\ttotal: 4m 48s\tremaining: 4m 49s\n",
      "499:\ttest: 0.9069372\tbest: 0.9069610 (494)\ttotal: 4m 48s\tremaining: 4m 48s\n",
      "500:\ttest: 0.9069402\tbest: 0.9069610 (494)\ttotal: 4m 49s\tremaining: 4m 48s\n",
      "501:\ttest: 0.9069997\tbest: 0.9069997 (501)\ttotal: 4m 50s\tremaining: 4m 47s\n",
      "502:\ttest: 0.9070933\tbest: 0.9070933 (502)\ttotal: 4m 50s\tremaining: 4m 47s\n",
      "503:\ttest: 0.9071560\tbest: 0.9071560 (503)\ttotal: 4m 51s\tremaining: 4m 46s\n",
      "504:\ttest: 0.9071368\tbest: 0.9071560 (503)\ttotal: 4m 51s\tremaining: 4m 46s\n",
      "505:\ttest: 0.9071183\tbest: 0.9071560 (503)\ttotal: 4m 52s\tremaining: 4m 45s\n",
      "506:\ttest: 0.9070549\tbest: 0.9071560 (503)\ttotal: 4m 53s\tremaining: 4m 45s\n",
      "507:\ttest: 0.9069929\tbest: 0.9071560 (503)\ttotal: 4m 54s\tremaining: 4m 44s\n",
      "508:\ttest: 0.9069979\tbest: 0.9071560 (503)\ttotal: 4m 54s\tremaining: 4m 44s\n",
      "509:\ttest: 0.9069906\tbest: 0.9071560 (503)\ttotal: 4m 55s\tremaining: 4m 44s\n",
      "510:\ttest: 0.9069558\tbest: 0.9071560 (503)\ttotal: 4m 56s\tremaining: 4m 43s\n",
      "511:\ttest: 0.9069639\tbest: 0.9071560 (503)\ttotal: 4m 57s\tremaining: 4m 43s\n",
      "512:\ttest: 0.9070232\tbest: 0.9071560 (503)\ttotal: 4m 57s\tremaining: 4m 42s\n",
      "513:\ttest: 0.9070365\tbest: 0.9071560 (503)\ttotal: 4m 58s\tremaining: 4m 42s\n",
      "514:\ttest: 0.9069558\tbest: 0.9071560 (503)\ttotal: 4m 59s\tremaining: 4m 41s\n",
      "515:\ttest: 0.9069386\tbest: 0.9071560 (503)\ttotal: 4m 59s\tremaining: 4m 41s\n",
      "516:\ttest: 0.9069368\tbest: 0.9071560 (503)\ttotal: 5m\tremaining: 4m 40s\n",
      "517:\ttest: 0.9068297\tbest: 0.9071560 (503)\ttotal: 5m 1s\tremaining: 4m 40s\n",
      "518:\ttest: 0.9068216\tbest: 0.9071560 (503)\ttotal: 5m 1s\tremaining: 4m 39s\n",
      "519:\ttest: 0.9068454\tbest: 0.9071560 (503)\ttotal: 5m 2s\tremaining: 4m 39s\n",
      "520:\ttest: 0.9068390\tbest: 0.9071560 (503)\ttotal: 5m 2s\tremaining: 4m 38s\n",
      "521:\ttest: 0.9068123\tbest: 0.9071560 (503)\ttotal: 5m 3s\tremaining: 4m 37s\n",
      "522:\ttest: 0.9068388\tbest: 0.9071560 (503)\ttotal: 5m 4s\tremaining: 4m 37s\n",
      "523:\ttest: 0.9069000\tbest: 0.9071560 (503)\ttotal: 5m 4s\tremaining: 4m 36s\n",
      "524:\ttest: 0.9068416\tbest: 0.9071560 (503)\ttotal: 5m 5s\tremaining: 4m 36s\n",
      "525:\ttest: 0.9068597\tbest: 0.9071560 (503)\ttotal: 5m 5s\tremaining: 4m 35s\n",
      "526:\ttest: 0.9068683\tbest: 0.9071560 (503)\ttotal: 5m 6s\tremaining: 4m 35s\n",
      "527:\ttest: 0.9068602\tbest: 0.9071560 (503)\ttotal: 5m 7s\tremaining: 4m 34s\n",
      "528:\ttest: 0.9068520\tbest: 0.9071560 (503)\ttotal: 5m 7s\tremaining: 4m 33s\n",
      "529:\ttest: 0.9068184\tbest: 0.9071560 (503)\ttotal: 5m 8s\tremaining: 4m 33s\n",
      "530:\ttest: 0.9067878\tbest: 0.9071560 (503)\ttotal: 5m 9s\tremaining: 4m 32s\n",
      "531:\ttest: 0.9067813\tbest: 0.9071560 (503)\ttotal: 5m 9s\tremaining: 4m 32s\n",
      "532:\ttest: 0.9068313\tbest: 0.9071560 (503)\ttotal: 5m 10s\tremaining: 4m 32s\n",
      "533:\ttest: 0.9068752\tbest: 0.9071560 (503)\ttotal: 5m 11s\tremaining: 4m 31s\n",
      "534:\ttest: 0.9068726\tbest: 0.9071560 (503)\ttotal: 5m 11s\tremaining: 4m 30s\n",
      "535:\ttest: 0.9068869\tbest: 0.9071560 (503)\ttotal: 5m 12s\tremaining: 4m 30s\n",
      "536:\ttest: 0.9068919\tbest: 0.9071560 (503)\ttotal: 5m 13s\tremaining: 4m 30s\n",
      "537:\ttest: 0.9068965\tbest: 0.9071560 (503)\ttotal: 5m 13s\tremaining: 4m 29s\n",
      "538:\ttest: 0.9069400\tbest: 0.9071560 (503)\ttotal: 5m 14s\tremaining: 4m 29s\n",
      "539:\ttest: 0.9069852\tbest: 0.9071560 (503)\ttotal: 5m 15s\tremaining: 4m 28s\n",
      "540:\ttest: 0.9069864\tbest: 0.9071560 (503)\ttotal: 5m 16s\tremaining: 4m 28s\n",
      "541:\ttest: 0.9069442\tbest: 0.9071560 (503)\ttotal: 5m 16s\tremaining: 4m 27s\n",
      "542:\ttest: 0.9069550\tbest: 0.9071560 (503)\ttotal: 5m 17s\tremaining: 4m 27s\n",
      "543:\ttest: 0.9069319\tbest: 0.9071560 (503)\ttotal: 5m 18s\tremaining: 4m 26s\n",
      "544:\ttest: 0.9069521\tbest: 0.9071560 (503)\ttotal: 5m 18s\tremaining: 4m 26s\n",
      "545:\ttest: 0.9069940\tbest: 0.9071560 (503)\ttotal: 5m 19s\tremaining: 4m 25s\n",
      "546:\ttest: 0.9069310\tbest: 0.9071560 (503)\ttotal: 5m 20s\tremaining: 4m 25s\n",
      "547:\ttest: 0.9069172\tbest: 0.9071560 (503)\ttotal: 5m 20s\tremaining: 4m 24s\n",
      "548:\ttest: 0.9069117\tbest: 0.9071560 (503)\ttotal: 5m 21s\tremaining: 4m 24s\n",
      "549:\ttest: 0.9069058\tbest: 0.9071560 (503)\ttotal: 5m 22s\tremaining: 4m 23s\n",
      "550:\ttest: 0.9068918\tbest: 0.9071560 (503)\ttotal: 5m 23s\tremaining: 4m 23s\n",
      "551:\ttest: 0.9069011\tbest: 0.9071560 (503)\ttotal: 5m 23s\tremaining: 4m 22s\n",
      "552:\ttest: 0.9068633\tbest: 0.9071560 (503)\ttotal: 5m 24s\tremaining: 4m 22s\n",
      "553:\ttest: 0.9068529\tbest: 0.9071560 (503)\ttotal: 5m 24s\tremaining: 4m 21s\n"
     ]
    },
    {
     "name": "stdout",
     "output_type": "stream",
     "text": [
      "554:\ttest: 0.9068457\tbest: 0.9071560 (503)\ttotal: 5m 25s\tremaining: 4m 20s\n",
      "555:\ttest: 0.9068902\tbest: 0.9071560 (503)\ttotal: 5m 25s\tremaining: 4m 20s\n",
      "556:\ttest: 0.9068711\tbest: 0.9071560 (503)\ttotal: 5m 26s\tremaining: 4m 19s\n",
      "557:\ttest: 0.9067765\tbest: 0.9071560 (503)\ttotal: 5m 27s\tremaining: 4m 19s\n",
      "558:\ttest: 0.9067611\tbest: 0.9071560 (503)\ttotal: 5m 27s\tremaining: 4m 18s\n",
      "559:\ttest: 0.9067995\tbest: 0.9071560 (503)\ttotal: 5m 28s\tremaining: 4m 18s\n",
      "560:\ttest: 0.9068016\tbest: 0.9071560 (503)\ttotal: 5m 28s\tremaining: 4m 17s\n",
      "561:\ttest: 0.9067993\tbest: 0.9071560 (503)\ttotal: 5m 29s\tremaining: 4m 16s\n",
      "562:\ttest: 0.9067759\tbest: 0.9071560 (503)\ttotal: 5m 30s\tremaining: 4m 16s\n",
      "563:\ttest: 0.9067961\tbest: 0.9071560 (503)\ttotal: 5m 30s\tremaining: 4m 15s\n",
      "564:\ttest: 0.9067944\tbest: 0.9071560 (503)\ttotal: 5m 31s\tremaining: 4m 15s\n",
      "565:\ttest: 0.9067701\tbest: 0.9071560 (503)\ttotal: 5m 31s\tremaining: 4m 14s\n",
      "566:\ttest: 0.9067200\tbest: 0.9071560 (503)\ttotal: 5m 32s\tremaining: 4m 13s\n",
      "567:\ttest: 0.9067294\tbest: 0.9071560 (503)\ttotal: 5m 33s\tremaining: 4m 13s\n",
      "568:\ttest: 0.9067150\tbest: 0.9071560 (503)\ttotal: 5m 33s\tremaining: 4m 12s\n",
      "569:\ttest: 0.9066987\tbest: 0.9071560 (503)\ttotal: 5m 34s\tremaining: 4m 12s\n",
      "570:\ttest: 0.9067143\tbest: 0.9071560 (503)\ttotal: 5m 35s\tremaining: 4m 11s\n",
      "571:\ttest: 0.9067322\tbest: 0.9071560 (503)\ttotal: 5m 35s\tremaining: 4m 11s\n",
      "572:\ttest: 0.9067128\tbest: 0.9071560 (503)\ttotal: 5m 36s\tremaining: 4m 10s\n",
      "573:\ttest: 0.9067357\tbest: 0.9071560 (503)\ttotal: 5m 37s\tremaining: 4m 10s\n",
      "574:\ttest: 0.9067470\tbest: 0.9071560 (503)\ttotal: 5m 37s\tremaining: 4m 9s\n",
      "575:\ttest: 0.9067271\tbest: 0.9071560 (503)\ttotal: 5m 38s\tremaining: 4m 9s\n",
      "576:\ttest: 0.9067183\tbest: 0.9071560 (503)\ttotal: 5m 39s\tremaining: 4m 8s\n",
      "577:\ttest: 0.9067145\tbest: 0.9071560 (503)\ttotal: 5m 39s\tremaining: 4m 7s\n",
      "578:\ttest: 0.9066648\tbest: 0.9071560 (503)\ttotal: 5m 40s\tremaining: 4m 7s\n",
      "579:\ttest: 0.9066936\tbest: 0.9071560 (503)\ttotal: 5m 40s\tremaining: 4m 6s\n",
      "580:\ttest: 0.9066527\tbest: 0.9071560 (503)\ttotal: 5m 41s\tremaining: 4m 6s\n",
      "581:\ttest: 0.9066500\tbest: 0.9071560 (503)\ttotal: 5m 41s\tremaining: 4m 5s\n",
      "582:\ttest: 0.9066829\tbest: 0.9071560 (503)\ttotal: 5m 42s\tremaining: 4m 4s\n",
      "583:\ttest: 0.9066974\tbest: 0.9071560 (503)\ttotal: 5m 43s\tremaining: 4m 4s\n",
      "584:\ttest: 0.9066603\tbest: 0.9071560 (503)\ttotal: 5m 43s\tremaining: 4m 3s\n",
      "585:\ttest: 0.9067187\tbest: 0.9071560 (503)\ttotal: 5m 44s\tremaining: 4m 3s\n",
      "586:\ttest: 0.9068027\tbest: 0.9071560 (503)\ttotal: 5m 45s\tremaining: 4m 2s\n",
      "587:\ttest: 0.9068458\tbest: 0.9071560 (503)\ttotal: 5m 45s\tremaining: 4m 2s\n",
      "588:\ttest: 0.9068590\tbest: 0.9071560 (503)\ttotal: 5m 46s\tremaining: 4m 1s\n",
      "589:\ttest: 0.9068475\tbest: 0.9071560 (503)\ttotal: 5m 46s\tremaining: 4m\n",
      "590:\ttest: 0.9069350\tbest: 0.9071560 (503)\ttotal: 5m 47s\tremaining: 4m\n",
      "591:\ttest: 0.9069580\tbest: 0.9071560 (503)\ttotal: 5m 47s\tremaining: 3m 59s\n",
      "592:\ttest: 0.9069709\tbest: 0.9071560 (503)\ttotal: 5m 48s\tremaining: 3m 59s\n",
      "593:\ttest: 0.9069502\tbest: 0.9071560 (503)\ttotal: 5m 49s\tremaining: 3m 58s\n",
      "594:\ttest: 0.9069165\tbest: 0.9071560 (503)\ttotal: 5m 49s\tremaining: 3m 58s\n",
      "595:\ttest: 0.9069032\tbest: 0.9071560 (503)\ttotal: 5m 50s\tremaining: 3m 57s\n",
      "596:\ttest: 0.9069583\tbest: 0.9071560 (503)\ttotal: 5m 50s\tremaining: 3m 56s\n",
      "597:\ttest: 0.9069794\tbest: 0.9071560 (503)\ttotal: 5m 51s\tremaining: 3m 56s\n",
      "598:\ttest: 0.9069176\tbest: 0.9071560 (503)\ttotal: 5m 52s\tremaining: 3m 55s\n",
      "599:\ttest: 0.9069271\tbest: 0.9071560 (503)\ttotal: 5m 52s\tremaining: 3m 55s\n",
      "600:\ttest: 0.9069603\tbest: 0.9071560 (503)\ttotal: 5m 53s\tremaining: 3m 54s\n",
      "601:\ttest: 0.9070227\tbest: 0.9071560 (503)\ttotal: 5m 53s\tremaining: 3m 53s\n",
      "602:\ttest: 0.9070381\tbest: 0.9071560 (503)\ttotal: 5m 54s\tremaining: 3m 53s\n",
      "603:\ttest: 0.9070710\tbest: 0.9071560 (503)\ttotal: 5m 55s\tremaining: 3m 52s\n",
      "604:\ttest: 0.9070762\tbest: 0.9071560 (503)\ttotal: 5m 55s\tremaining: 3m 52s\n",
      "605:\ttest: 0.9070782\tbest: 0.9071560 (503)\ttotal: 5m 56s\tremaining: 3m 51s\n",
      "606:\ttest: 0.9070420\tbest: 0.9071560 (503)\ttotal: 5m 56s\tremaining: 3m 51s\n",
      "607:\ttest: 0.9070450\tbest: 0.9071560 (503)\ttotal: 5m 57s\tremaining: 3m 50s\n",
      "608:\ttest: 0.9070694\tbest: 0.9071560 (503)\ttotal: 5m 58s\tremaining: 3m 49s\n",
      "609:\ttest: 0.9070885\tbest: 0.9071560 (503)\ttotal: 5m 58s\tremaining: 3m 49s\n",
      "610:\ttest: 0.9071086\tbest: 0.9071560 (503)\ttotal: 5m 59s\tremaining: 3m 48s\n",
      "611:\ttest: 0.9071004\tbest: 0.9071560 (503)\ttotal: 5m 59s\tremaining: 3m 48s\n",
      "612:\ttest: 0.9071362\tbest: 0.9071560 (503)\ttotal: 6m\tremaining: 3m 47s\n",
      "613:\ttest: 0.9071090\tbest: 0.9071560 (503)\ttotal: 6m 1s\tremaining: 3m 47s\n",
      "614:\ttest: 0.9071351\tbest: 0.9071560 (503)\ttotal: 6m 1s\tremaining: 3m 46s\n",
      "615:\ttest: 0.9071799\tbest: 0.9071799 (615)\ttotal: 6m 2s\tremaining: 3m 45s\n",
      "616:\ttest: 0.9071803\tbest: 0.9071803 (616)\ttotal: 6m 2s\tremaining: 3m 45s\n",
      "617:\ttest: 0.9071360\tbest: 0.9071803 (616)\ttotal: 6m 3s\tremaining: 3m 44s\n",
      "618:\ttest: 0.9072021\tbest: 0.9072021 (618)\ttotal: 6m 4s\tremaining: 3m 44s\n",
      "619:\ttest: 0.9071601\tbest: 0.9072021 (618)\ttotal: 6m 4s\tremaining: 3m 43s\n",
      "620:\ttest: 0.9071595\tbest: 0.9072021 (618)\ttotal: 6m 5s\tremaining: 3m 42s\n",
      "621:\ttest: 0.9071853\tbest: 0.9072021 (618)\ttotal: 6m 5s\tremaining: 3m 42s\n",
      "622:\ttest: 0.9071643\tbest: 0.9072021 (618)\ttotal: 6m 6s\tremaining: 3m 41s\n",
      "623:\ttest: 0.9071724\tbest: 0.9072021 (618)\ttotal: 6m 6s\tremaining: 3m 41s\n",
      "624:\ttest: 0.9071912\tbest: 0.9072021 (618)\ttotal: 6m 7s\tremaining: 3m 40s\n",
      "625:\ttest: 0.9071995\tbest: 0.9072021 (618)\ttotal: 6m 7s\tremaining: 3m 39s\n",
      "626:\ttest: 0.9072598\tbest: 0.9072598 (626)\ttotal: 6m 8s\tremaining: 3m 39s\n",
      "627:\ttest: 0.9072205\tbest: 0.9072598 (626)\ttotal: 6m 9s\tremaining: 3m 38s\n",
      "628:\ttest: 0.9072454\tbest: 0.9072598 (626)\ttotal: 6m 9s\tremaining: 3m 38s\n",
      "629:\ttest: 0.9072177\tbest: 0.9072598 (626)\ttotal: 6m 10s\tremaining: 3m 37s\n",
      "630:\ttest: 0.9072706\tbest: 0.9072706 (630)\ttotal: 6m 10s\tremaining: 3m 36s\n",
      "631:\ttest: 0.9072101\tbest: 0.9072706 (630)\ttotal: 6m 11s\tremaining: 3m 36s\n",
      "632:\ttest: 0.9072135\tbest: 0.9072706 (630)\ttotal: 6m 12s\tremaining: 3m 35s\n",
      "633:\ttest: 0.9072199\tbest: 0.9072706 (630)\ttotal: 6m 12s\tremaining: 3m 35s\n",
      "634:\ttest: 0.9072807\tbest: 0.9072807 (634)\ttotal: 6m 13s\tremaining: 3m 34s\n",
      "635:\ttest: 0.9072703\tbest: 0.9072807 (634)\ttotal: 6m 13s\tremaining: 3m 34s\n",
      "636:\ttest: 0.9072515\tbest: 0.9072807 (634)\ttotal: 6m 14s\tremaining: 3m 33s\n",
      "637:\ttest: 0.9073081\tbest: 0.9073081 (637)\ttotal: 6m 15s\tremaining: 3m 32s\n",
      "638:\ttest: 0.9073500\tbest: 0.9073500 (638)\ttotal: 6m 15s\tremaining: 3m 32s\n",
      "639:\ttest: 0.9073274\tbest: 0.9073500 (638)\ttotal: 6m 16s\tremaining: 3m 31s\n",
      "640:\ttest: 0.9073200\tbest: 0.9073500 (638)\ttotal: 6m 17s\tremaining: 3m 31s\n",
      "641:\ttest: 0.9073694\tbest: 0.9073694 (641)\ttotal: 6m 17s\tremaining: 3m 30s\n",
      "642:\ttest: 0.9074426\tbest: 0.9074426 (642)\ttotal: 6m 18s\tremaining: 3m 30s\n",
      "643:\ttest: 0.9074289\tbest: 0.9074426 (642)\ttotal: 6m 18s\tremaining: 3m 29s\n",
      "644:\ttest: 0.9074307\tbest: 0.9074426 (642)\ttotal: 6m 19s\tremaining: 3m 28s\n",
      "645:\ttest: 0.9074319\tbest: 0.9074426 (642)\ttotal: 6m 20s\tremaining: 3m 28s\n",
      "646:\ttest: 0.9074244\tbest: 0.9074426 (642)\ttotal: 6m 20s\tremaining: 3m 27s\n",
      "647:\ttest: 0.9074487\tbest: 0.9074487 (647)\ttotal: 6m 21s\tremaining: 3m 27s\n",
      "648:\ttest: 0.9074488\tbest: 0.9074488 (648)\ttotal: 6m 22s\tremaining: 3m 26s\n",
      "649:\ttest: 0.9074469\tbest: 0.9074488 (648)\ttotal: 6m 22s\tremaining: 3m 26s\n",
      "650:\ttest: 0.9074461\tbest: 0.9074488 (648)\ttotal: 6m 23s\tremaining: 3m 25s\n",
      "651:\ttest: 0.9074562\tbest: 0.9074562 (651)\ttotal: 6m 23s\tremaining: 3m 24s\n",
      "652:\ttest: 0.9074758\tbest: 0.9074758 (652)\ttotal: 6m 24s\tremaining: 3m 24s\n",
      "653:\ttest: 0.9074602\tbest: 0.9074758 (652)\ttotal: 6m 25s\tremaining: 3m 23s\n",
      "654:\ttest: 0.9074202\tbest: 0.9074758 (652)\ttotal: 6m 25s\tremaining: 3m 23s\n",
      "655:\ttest: 0.9074432\tbest: 0.9074758 (652)\ttotal: 6m 26s\tremaining: 3m 22s\n",
      "656:\ttest: 0.9074325\tbest: 0.9074758 (652)\ttotal: 6m 27s\tremaining: 3m 22s\n",
      "657:\ttest: 0.9074220\tbest: 0.9074758 (652)\ttotal: 6m 27s\tremaining: 3m 21s\n",
      "658:\ttest: 0.9074282\tbest: 0.9074758 (652)\ttotal: 6m 28s\tremaining: 3m 20s\n",
      "659:\ttest: 0.9073787\tbest: 0.9074758 (652)\ttotal: 6m 29s\tremaining: 3m 20s\n",
      "660:\ttest: 0.9073575\tbest: 0.9074758 (652)\ttotal: 6m 29s\tremaining: 3m 19s\n",
      "661:\ttest: 0.9073624\tbest: 0.9074758 (652)\ttotal: 6m 30s\tremaining: 3m 19s\n",
      "662:\ttest: 0.9073618\tbest: 0.9074758 (652)\ttotal: 6m 30s\tremaining: 3m 18s\n",
      "663:\ttest: 0.9073985\tbest: 0.9074758 (652)\ttotal: 6m 31s\tremaining: 3m 18s\n"
     ]
    },
    {
     "name": "stdout",
     "output_type": "stream",
     "text": [
      "664:\ttest: 0.9073809\tbest: 0.9074758 (652)\ttotal: 6m 32s\tremaining: 3m 17s\n",
      "665:\ttest: 0.9073992\tbest: 0.9074758 (652)\ttotal: 6m 32s\tremaining: 3m 16s\n",
      "666:\ttest: 0.9073748\tbest: 0.9074758 (652)\ttotal: 6m 33s\tremaining: 3m 16s\n",
      "667:\ttest: 0.9073285\tbest: 0.9074758 (652)\ttotal: 6m 33s\tremaining: 3m 15s\n",
      "668:\ttest: 0.9072687\tbest: 0.9074758 (652)\ttotal: 6m 34s\tremaining: 3m 15s\n",
      "669:\ttest: 0.9072751\tbest: 0.9074758 (652)\ttotal: 6m 34s\tremaining: 3m 14s\n",
      "670:\ttest: 0.9072527\tbest: 0.9074758 (652)\ttotal: 6m 35s\tremaining: 3m 13s\n",
      "671:\ttest: 0.9072882\tbest: 0.9074758 (652)\ttotal: 6m 36s\tremaining: 3m 13s\n",
      "672:\ttest: 0.9072968\tbest: 0.9074758 (652)\ttotal: 6m 36s\tremaining: 3m 12s\n",
      "673:\ttest: 0.9073122\tbest: 0.9074758 (652)\ttotal: 6m 37s\tremaining: 3m 12s\n",
      "674:\ttest: 0.9072597\tbest: 0.9074758 (652)\ttotal: 6m 37s\tremaining: 3m 11s\n",
      "675:\ttest: 0.9072289\tbest: 0.9074758 (652)\ttotal: 6m 38s\tremaining: 3m 11s\n",
      "676:\ttest: 0.9072395\tbest: 0.9074758 (652)\ttotal: 6m 39s\tremaining: 3m 10s\n",
      "677:\ttest: 0.9072938\tbest: 0.9074758 (652)\ttotal: 6m 39s\tremaining: 3m 9s\n",
      "678:\ttest: 0.9072746\tbest: 0.9074758 (652)\ttotal: 6m 40s\tremaining: 3m 9s\n",
      "679:\ttest: 0.9072273\tbest: 0.9074758 (652)\ttotal: 6m 41s\tremaining: 3m 8s\n",
      "680:\ttest: 0.9072617\tbest: 0.9074758 (652)\ttotal: 6m 41s\tremaining: 3m 8s\n",
      "681:\ttest: 0.9072294\tbest: 0.9074758 (652)\ttotal: 6m 42s\tremaining: 3m 7s\n",
      "682:\ttest: 0.9073040\tbest: 0.9074758 (652)\ttotal: 6m 43s\tremaining: 3m 7s\n",
      "683:\ttest: 0.9072901\tbest: 0.9074758 (652)\ttotal: 6m 44s\tremaining: 3m 6s\n",
      "684:\ttest: 0.9072883\tbest: 0.9074758 (652)\ttotal: 6m 44s\tremaining: 3m 6s\n",
      "685:\ttest: 0.9072419\tbest: 0.9074758 (652)\ttotal: 6m 45s\tremaining: 3m 5s\n",
      "686:\ttest: 0.9072197\tbest: 0.9074758 (652)\ttotal: 6m 45s\tremaining: 3m 4s\n",
      "687:\ttest: 0.9072824\tbest: 0.9074758 (652)\ttotal: 6m 46s\tremaining: 3m 4s\n",
      "688:\ttest: 0.9072885\tbest: 0.9074758 (652)\ttotal: 6m 46s\tremaining: 3m 3s\n",
      "689:\ttest: 0.9072981\tbest: 0.9074758 (652)\ttotal: 6m 47s\tremaining: 3m 3s\n",
      "690:\ttest: 0.9072842\tbest: 0.9074758 (652)\ttotal: 6m 48s\tremaining: 3m 2s\n",
      "691:\ttest: 0.9072867\tbest: 0.9074758 (652)\ttotal: 6m 48s\tremaining: 3m 1s\n",
      "692:\ttest: 0.9073168\tbest: 0.9074758 (652)\ttotal: 6m 49s\tremaining: 3m 1s\n",
      "693:\ttest: 0.9072937\tbest: 0.9074758 (652)\ttotal: 6m 49s\tremaining: 3m\n",
      "694:\ttest: 0.9073138\tbest: 0.9074758 (652)\ttotal: 6m 50s\tremaining: 2m 59s\n",
      "695:\ttest: 0.9073180\tbest: 0.9074758 (652)\ttotal: 6m 50s\tremaining: 2m 59s\n",
      "696:\ttest: 0.9073093\tbest: 0.9074758 (652)\ttotal: 6m 51s\tremaining: 2m 58s\n",
      "697:\ttest: 0.9073305\tbest: 0.9074758 (652)\ttotal: 6m 51s\tremaining: 2m 58s\n",
      "698:\ttest: 0.9073770\tbest: 0.9074758 (652)\ttotal: 6m 52s\tremaining: 2m 57s\n",
      "699:\ttest: 0.9073951\tbest: 0.9074758 (652)\ttotal: 6m 52s\tremaining: 2m 56s\n",
      "700:\ttest: 0.9073946\tbest: 0.9074758 (652)\ttotal: 6m 53s\tremaining: 2m 56s\n",
      "701:\ttest: 0.9073723\tbest: 0.9074758 (652)\ttotal: 6m 53s\tremaining: 2m 55s\n",
      "702:\ttest: 0.9073502\tbest: 0.9074758 (652)\ttotal: 6m 54s\tremaining: 2m 55s\n",
      "703:\ttest: 0.9073489\tbest: 0.9074758 (652)\ttotal: 6m 55s\tremaining: 2m 54s\n",
      "704:\ttest: 0.9073430\tbest: 0.9074758 (652)\ttotal: 6m 55s\tremaining: 2m 53s\n",
      "705:\ttest: 0.9073388\tbest: 0.9074758 (652)\ttotal: 6m 56s\tremaining: 2m 53s\n",
      "706:\ttest: 0.9073619\tbest: 0.9074758 (652)\ttotal: 6m 56s\tremaining: 2m 52s\n",
      "707:\ttest: 0.9073646\tbest: 0.9074758 (652)\ttotal: 6m 57s\tremaining: 2m 52s\n",
      "708:\ttest: 0.9073866\tbest: 0.9074758 (652)\ttotal: 6m 58s\tremaining: 2m 51s\n",
      "709:\ttest: 0.9074009\tbest: 0.9074758 (652)\ttotal: 6m 58s\tremaining: 2m 51s\n",
      "710:\ttest: 0.9073870\tbest: 0.9074758 (652)\ttotal: 6m 59s\tremaining: 2m 50s\n",
      "711:\ttest: 0.9073958\tbest: 0.9074758 (652)\ttotal: 6m 59s\tremaining: 2m 49s\n",
      "712:\ttest: 0.9074518\tbest: 0.9074758 (652)\ttotal: 7m\tremaining: 2m 49s\n",
      "713:\ttest: 0.9074557\tbest: 0.9074758 (652)\ttotal: 7m\tremaining: 2m 48s\n",
      "714:\ttest: 0.9074731\tbest: 0.9074758 (652)\ttotal: 7m 1s\tremaining: 2m 48s\n",
      "715:\ttest: 0.9075030\tbest: 0.9075030 (715)\ttotal: 7m 2s\tremaining: 2m 47s\n",
      "716:\ttest: 0.9075138\tbest: 0.9075138 (716)\ttotal: 7m 2s\tremaining: 2m 46s\n",
      "717:\ttest: 0.9075197\tbest: 0.9075197 (717)\ttotal: 7m 3s\tremaining: 2m 46s\n",
      "718:\ttest: 0.9075117\tbest: 0.9075197 (717)\ttotal: 7m 3s\tremaining: 2m 45s\n",
      "719:\ttest: 0.9074923\tbest: 0.9075197 (717)\ttotal: 7m 4s\tremaining: 2m 45s\n",
      "720:\ttest: 0.9075093\tbest: 0.9075197 (717)\ttotal: 7m 4s\tremaining: 2m 44s\n",
      "721:\ttest: 0.9075078\tbest: 0.9075197 (717)\ttotal: 7m 5s\tremaining: 2m 43s\n",
      "722:\ttest: 0.9074959\tbest: 0.9075197 (717)\ttotal: 7m 6s\tremaining: 2m 43s\n",
      "723:\ttest: 0.9074948\tbest: 0.9075197 (717)\ttotal: 7m 6s\tremaining: 2m 42s\n",
      "724:\ttest: 0.9074934\tbest: 0.9075197 (717)\ttotal: 7m 7s\tremaining: 2m 41s\n",
      "725:\ttest: 0.9074455\tbest: 0.9075197 (717)\ttotal: 7m 7s\tremaining: 2m 41s\n",
      "726:\ttest: 0.9074614\tbest: 0.9075197 (717)\ttotal: 7m 8s\tremaining: 2m 40s\n",
      "727:\ttest: 0.9074530\tbest: 0.9075197 (717)\ttotal: 7m 8s\tremaining: 2m 40s\n",
      "728:\ttest: 0.9074664\tbest: 0.9075197 (717)\ttotal: 7m 9s\tremaining: 2m 39s\n",
      "729:\ttest: 0.9074897\tbest: 0.9075197 (717)\ttotal: 7m 9s\tremaining: 2m 38s\n",
      "730:\ttest: 0.9075115\tbest: 0.9075197 (717)\ttotal: 7m 10s\tremaining: 2m 38s\n",
      "731:\ttest: 0.9074814\tbest: 0.9075197 (717)\ttotal: 7m 10s\tremaining: 2m 37s\n",
      "732:\ttest: 0.9074923\tbest: 0.9075197 (717)\ttotal: 7m 11s\tremaining: 2m 37s\n",
      "733:\ttest: 0.9074730\tbest: 0.9075197 (717)\ttotal: 7m 12s\tremaining: 2m 36s\n",
      "734:\ttest: 0.9075052\tbest: 0.9075197 (717)\ttotal: 7m 12s\tremaining: 2m 36s\n",
      "735:\ttest: 0.9074990\tbest: 0.9075197 (717)\ttotal: 7m 13s\tremaining: 2m 35s\n",
      "736:\ttest: 0.9075058\tbest: 0.9075197 (717)\ttotal: 7m 13s\tremaining: 2m 34s\n",
      "737:\ttest: 0.9075231\tbest: 0.9075231 (737)\ttotal: 7m 14s\tremaining: 2m 34s\n",
      "738:\ttest: 0.9075339\tbest: 0.9075339 (738)\ttotal: 7m 14s\tremaining: 2m 33s\n",
      "739:\ttest: 0.9075328\tbest: 0.9075339 (738)\ttotal: 7m 15s\tremaining: 2m 32s\n",
      "740:\ttest: 0.9075173\tbest: 0.9075339 (738)\ttotal: 7m 15s\tremaining: 2m 32s\n",
      "741:\ttest: 0.9075197\tbest: 0.9075339 (738)\ttotal: 7m 16s\tremaining: 2m 31s\n",
      "742:\ttest: 0.9075337\tbest: 0.9075339 (738)\ttotal: 7m 17s\tremaining: 2m 31s\n",
      "743:\ttest: 0.9075351\tbest: 0.9075351 (743)\ttotal: 7m 17s\tremaining: 2m 30s\n",
      "744:\ttest: 0.9075015\tbest: 0.9075351 (743)\ttotal: 7m 18s\tremaining: 2m 29s\n",
      "745:\ttest: 0.9074553\tbest: 0.9075351 (743)\ttotal: 7m 18s\tremaining: 2m 29s\n",
      "746:\ttest: 0.9074646\tbest: 0.9075351 (743)\ttotal: 7m 19s\tremaining: 2m 28s\n",
      "747:\ttest: 0.9074746\tbest: 0.9075351 (743)\ttotal: 7m 19s\tremaining: 2m 28s\n",
      "748:\ttest: 0.9075296\tbest: 0.9075351 (743)\ttotal: 7m 20s\tremaining: 2m 27s\n",
      "749:\ttest: 0.9075631\tbest: 0.9075631 (749)\ttotal: 7m 20s\tremaining: 2m 26s\n",
      "750:\ttest: 0.9076090\tbest: 0.9076090 (750)\ttotal: 7m 21s\tremaining: 2m 26s\n",
      "751:\ttest: 0.9075956\tbest: 0.9076090 (750)\ttotal: 7m 22s\tremaining: 2m 25s\n",
      "752:\ttest: 0.9075621\tbest: 0.9076090 (750)\ttotal: 7m 22s\tremaining: 2m 25s\n",
      "753:\ttest: 0.9075487\tbest: 0.9076090 (750)\ttotal: 7m 23s\tremaining: 2m 24s\n",
      "754:\ttest: 0.9075470\tbest: 0.9076090 (750)\ttotal: 7m 23s\tremaining: 2m 24s\n",
      "755:\ttest: 0.9075380\tbest: 0.9076090 (750)\ttotal: 7m 24s\tremaining: 2m 23s\n",
      "756:\ttest: 0.9075348\tbest: 0.9076090 (750)\ttotal: 7m 24s\tremaining: 2m 22s\n",
      "757:\ttest: 0.9075521\tbest: 0.9076090 (750)\ttotal: 7m 25s\tremaining: 2m 22s\n",
      "758:\ttest: 0.9075228\tbest: 0.9076090 (750)\ttotal: 7m 25s\tremaining: 2m 21s\n",
      "759:\ttest: 0.9075027\tbest: 0.9076090 (750)\ttotal: 7m 26s\tremaining: 2m 21s\n",
      "760:\ttest: 0.9074856\tbest: 0.9076090 (750)\ttotal: 7m 27s\tremaining: 2m 20s\n",
      "761:\ttest: 0.9074903\tbest: 0.9076090 (750)\ttotal: 7m 27s\tremaining: 2m 19s\n",
      "762:\ttest: 0.9075182\tbest: 0.9076090 (750)\ttotal: 7m 28s\tremaining: 2m 19s\n",
      "763:\ttest: 0.9075132\tbest: 0.9076090 (750)\ttotal: 7m 28s\tremaining: 2m 18s\n",
      "764:\ttest: 0.9074881\tbest: 0.9076090 (750)\ttotal: 7m 29s\tremaining: 2m 18s\n",
      "765:\ttest: 0.9075023\tbest: 0.9076090 (750)\ttotal: 7m 29s\tremaining: 2m 17s\n",
      "766:\ttest: 0.9074517\tbest: 0.9076090 (750)\ttotal: 7m 30s\tremaining: 2m 16s\n",
      "767:\ttest: 0.9074251\tbest: 0.9076090 (750)\ttotal: 7m 30s\tremaining: 2m 16s\n",
      "768:\ttest: 0.9074643\tbest: 0.9076090 (750)\ttotal: 7m 31s\tremaining: 2m 15s\n",
      "769:\ttest: 0.9074335\tbest: 0.9076090 (750)\ttotal: 7m 32s\tremaining: 2m 15s\n",
      "770:\ttest: 0.9074384\tbest: 0.9076090 (750)\ttotal: 7m 32s\tremaining: 2m 14s\n",
      "771:\ttest: 0.9075031\tbest: 0.9076090 (750)\ttotal: 7m 33s\tremaining: 2m 13s\n",
      "772:\ttest: 0.9074795\tbest: 0.9076090 (750)\ttotal: 7m 33s\tremaining: 2m 13s\n",
      "773:\ttest: 0.9074886\tbest: 0.9076090 (750)\ttotal: 7m 34s\tremaining: 2m 12s\n"
     ]
    },
    {
     "name": "stdout",
     "output_type": "stream",
     "text": [
      "774:\ttest: 0.9075002\tbest: 0.9076090 (750)\ttotal: 7m 34s\tremaining: 2m 12s\n",
      "775:\ttest: 0.9074935\tbest: 0.9076090 (750)\ttotal: 7m 35s\tremaining: 2m 11s\n",
      "776:\ttest: 0.9075412\tbest: 0.9076090 (750)\ttotal: 7m 36s\tremaining: 2m 10s\n",
      "777:\ttest: 0.9076102\tbest: 0.9076102 (777)\ttotal: 7m 36s\tremaining: 2m 10s\n",
      "778:\ttest: 0.9076081\tbest: 0.9076102 (777)\ttotal: 7m 37s\tremaining: 2m 9s\n",
      "779:\ttest: 0.9076050\tbest: 0.9076102 (777)\ttotal: 7m 37s\tremaining: 2m 9s\n",
      "780:\ttest: 0.9077066\tbest: 0.9077066 (780)\ttotal: 7m 38s\tremaining: 2m 8s\n",
      "781:\ttest: 0.9077364\tbest: 0.9077364 (781)\ttotal: 7m 38s\tremaining: 2m 7s\n",
      "782:\ttest: 0.9076874\tbest: 0.9077364 (781)\ttotal: 7m 39s\tremaining: 2m 7s\n",
      "783:\ttest: 0.9076810\tbest: 0.9077364 (781)\ttotal: 7m 39s\tremaining: 2m 6s\n",
      "784:\ttest: 0.9076232\tbest: 0.9077364 (781)\ttotal: 7m 40s\tremaining: 2m 6s\n",
      "785:\ttest: 0.9075885\tbest: 0.9077364 (781)\ttotal: 7m 41s\tremaining: 2m 5s\n",
      "786:\ttest: 0.9075905\tbest: 0.9077364 (781)\ttotal: 7m 41s\tremaining: 2m 4s\n",
      "787:\ttest: 0.9076202\tbest: 0.9077364 (781)\ttotal: 7m 42s\tremaining: 2m 4s\n",
      "788:\ttest: 0.9076385\tbest: 0.9077364 (781)\ttotal: 7m 42s\tremaining: 2m 3s\n",
      "789:\ttest: 0.9075837\tbest: 0.9077364 (781)\ttotal: 7m 43s\tremaining: 2m 3s\n",
      "790:\ttest: 0.9075104\tbest: 0.9077364 (781)\ttotal: 7m 44s\tremaining: 2m 2s\n",
      "791:\ttest: 0.9075352\tbest: 0.9077364 (781)\ttotal: 7m 44s\tremaining: 2m 2s\n",
      "792:\ttest: 0.9075313\tbest: 0.9077364 (781)\ttotal: 7m 45s\tremaining: 2m 1s\n",
      "793:\ttest: 0.9075862\tbest: 0.9077364 (781)\ttotal: 7m 46s\tremaining: 2m\n",
      "794:\ttest: 0.9076040\tbest: 0.9077364 (781)\ttotal: 7m 46s\tremaining: 2m\n",
      "795:\ttest: 0.9076349\tbest: 0.9077364 (781)\ttotal: 7m 47s\tremaining: 1m 59s\n",
      "796:\ttest: 0.9076684\tbest: 0.9077364 (781)\ttotal: 7m 47s\tremaining: 1m 59s\n",
      "797:\ttest: 0.9076788\tbest: 0.9077364 (781)\ttotal: 7m 48s\tremaining: 1m 58s\n",
      "798:\ttest: 0.9076706\tbest: 0.9077364 (781)\ttotal: 7m 49s\tremaining: 1m 57s\n",
      "799:\ttest: 0.9076737\tbest: 0.9077364 (781)\ttotal: 7m 49s\tremaining: 1m 57s\n",
      "800:\ttest: 0.9076879\tbest: 0.9077364 (781)\ttotal: 7m 50s\tremaining: 1m 56s\n",
      "801:\ttest: 0.9076848\tbest: 0.9077364 (781)\ttotal: 7m 50s\tremaining: 1m 56s\n",
      "802:\ttest: 0.9077173\tbest: 0.9077364 (781)\ttotal: 7m 51s\tremaining: 1m 55s\n",
      "803:\ttest: 0.9077314\tbest: 0.9077364 (781)\ttotal: 7m 51s\tremaining: 1m 55s\n",
      "804:\ttest: 0.9077640\tbest: 0.9077640 (804)\ttotal: 7m 52s\tremaining: 1m 54s\n",
      "805:\ttest: 0.9077666\tbest: 0.9077666 (805)\ttotal: 7m 53s\tremaining: 1m 53s\n",
      "806:\ttest: 0.9077825\tbest: 0.9077825 (806)\ttotal: 7m 53s\tremaining: 1m 53s\n",
      "807:\ttest: 0.9077713\tbest: 0.9077825 (806)\ttotal: 7m 54s\tremaining: 1m 52s\n",
      "808:\ttest: 0.9077372\tbest: 0.9077825 (806)\ttotal: 7m 54s\tremaining: 1m 52s\n",
      "809:\ttest: 0.9077391\tbest: 0.9077825 (806)\ttotal: 7m 55s\tremaining: 1m 51s\n",
      "810:\ttest: 0.9077101\tbest: 0.9077825 (806)\ttotal: 7m 56s\tremaining: 1m 50s\n",
      "811:\ttest: 0.9077034\tbest: 0.9077825 (806)\ttotal: 7m 56s\tremaining: 1m 50s\n",
      "812:\ttest: 0.9077105\tbest: 0.9077825 (806)\ttotal: 7m 57s\tremaining: 1m 49s\n",
      "813:\ttest: 0.9076757\tbest: 0.9077825 (806)\ttotal: 7m 57s\tremaining: 1m 49s\n",
      "814:\ttest: 0.9077113\tbest: 0.9077825 (806)\ttotal: 7m 58s\tremaining: 1m 48s\n",
      "815:\ttest: 0.9077383\tbest: 0.9077825 (806)\ttotal: 7m 58s\tremaining: 1m 47s\n",
      "816:\ttest: 0.9076295\tbest: 0.9077825 (806)\ttotal: 7m 59s\tremaining: 1m 47s\n",
      "817:\ttest: 0.9076403\tbest: 0.9077825 (806)\ttotal: 8m\tremaining: 1m 46s\n",
      "818:\ttest: 0.9076164\tbest: 0.9077825 (806)\ttotal: 8m\tremaining: 1m 46s\n",
      "819:\ttest: 0.9076299\tbest: 0.9077825 (806)\ttotal: 8m 1s\tremaining: 1m 45s\n",
      "820:\ttest: 0.9076536\tbest: 0.9077825 (806)\ttotal: 8m 1s\tremaining: 1m 45s\n",
      "821:\ttest: 0.9076845\tbest: 0.9077825 (806)\ttotal: 8m 2s\tremaining: 1m 44s\n",
      "822:\ttest: 0.9076825\tbest: 0.9077825 (806)\ttotal: 8m 2s\tremaining: 1m 43s\n",
      "823:\ttest: 0.9077280\tbest: 0.9077825 (806)\ttotal: 8m 3s\tremaining: 1m 43s\n",
      "824:\ttest: 0.9077338\tbest: 0.9077825 (806)\ttotal: 8m 3s\tremaining: 1m 42s\n",
      "825:\ttest: 0.9077142\tbest: 0.9077825 (806)\ttotal: 8m 4s\tremaining: 1m 42s\n",
      "826:\ttest: 0.9077897\tbest: 0.9077897 (826)\ttotal: 8m 5s\tremaining: 1m 41s\n",
      "827:\ttest: 0.9077573\tbest: 0.9077897 (826)\ttotal: 8m 5s\tremaining: 1m 40s\n",
      "828:\ttest: 0.9077682\tbest: 0.9077897 (826)\ttotal: 8m 6s\tremaining: 1m 40s\n",
      "829:\ttest: 0.9077832\tbest: 0.9077897 (826)\ttotal: 8m 6s\tremaining: 1m 39s\n",
      "830:\ttest: 0.9077498\tbest: 0.9077897 (826)\ttotal: 8m 7s\tremaining: 1m 39s\n",
      "831:\ttest: 0.9077916\tbest: 0.9077916 (831)\ttotal: 8m 7s\tremaining: 1m 38s\n",
      "832:\ttest: 0.9078218\tbest: 0.9078218 (832)\ttotal: 8m 8s\tremaining: 1m 37s\n",
      "833:\ttest: 0.9078101\tbest: 0.9078218 (832)\ttotal: 8m 9s\tremaining: 1m 37s\n",
      "834:\ttest: 0.9078053\tbest: 0.9078218 (832)\ttotal: 8m 9s\tremaining: 1m 36s\n",
      "835:\ttest: 0.9077870\tbest: 0.9078218 (832)\ttotal: 8m 10s\tremaining: 1m 36s\n",
      "836:\ttest: 0.9078428\tbest: 0.9078428 (836)\ttotal: 8m 10s\tremaining: 1m 35s\n",
      "837:\ttest: 0.9078708\tbest: 0.9078708 (837)\ttotal: 8m 11s\tremaining: 1m 34s\n",
      "838:\ttest: 0.9077866\tbest: 0.9078708 (837)\ttotal: 8m 11s\tremaining: 1m 34s\n",
      "839:\ttest: 0.9078011\tbest: 0.9078708 (837)\ttotal: 8m 12s\tremaining: 1m 33s\n",
      "840:\ttest: 0.9077752\tbest: 0.9078708 (837)\ttotal: 8m 13s\tremaining: 1m 33s\n",
      "841:\ttest: 0.9077712\tbest: 0.9078708 (837)\ttotal: 8m 13s\tremaining: 1m 32s\n",
      "842:\ttest: 0.9077667\tbest: 0.9078708 (837)\ttotal: 8m 14s\tremaining: 1m 32s\n",
      "843:\ttest: 0.9077998\tbest: 0.9078708 (837)\ttotal: 8m 14s\tremaining: 1m 31s\n",
      "844:\ttest: 0.9078109\tbest: 0.9078708 (837)\ttotal: 8m 15s\tremaining: 1m 30s\n",
      "845:\ttest: 0.9078002\tbest: 0.9078708 (837)\ttotal: 8m 16s\tremaining: 1m 30s\n",
      "846:\ttest: 0.9078506\tbest: 0.9078708 (837)\ttotal: 8m 16s\tremaining: 1m 29s\n",
      "847:\ttest: 0.9079054\tbest: 0.9079054 (847)\ttotal: 8m 17s\tremaining: 1m 29s\n",
      "848:\ttest: 0.9079009\tbest: 0.9079054 (847)\ttotal: 8m 17s\tremaining: 1m 28s\n",
      "849:\ttest: 0.9078971\tbest: 0.9079054 (847)\ttotal: 8m 18s\tremaining: 1m 27s\n",
      "850:\ttest: 0.9079141\tbest: 0.9079141 (850)\ttotal: 8m 18s\tremaining: 1m 27s\n",
      "851:\ttest: 0.9079259\tbest: 0.9079259 (851)\ttotal: 8m 19s\tremaining: 1m 26s\n",
      "852:\ttest: 0.9079574\tbest: 0.9079574 (852)\ttotal: 8m 20s\tremaining: 1m 26s\n",
      "853:\ttest: 0.9079089\tbest: 0.9079574 (852)\ttotal: 8m 20s\tremaining: 1m 25s\n",
      "854:\ttest: 0.9078471\tbest: 0.9079574 (852)\ttotal: 8m 21s\tremaining: 1m 25s\n",
      "855:\ttest: 0.9078681\tbest: 0.9079574 (852)\ttotal: 8m 21s\tremaining: 1m 24s\n",
      "856:\ttest: 0.9078606\tbest: 0.9079574 (852)\ttotal: 8m 22s\tremaining: 1m 23s\n",
      "857:\ttest: 0.9079345\tbest: 0.9079574 (852)\ttotal: 8m 22s\tremaining: 1m 23s\n",
      "858:\ttest: 0.9079687\tbest: 0.9079687 (858)\ttotal: 8m 23s\tremaining: 1m 22s\n",
      "859:\ttest: 0.9079582\tbest: 0.9079687 (858)\ttotal: 8m 24s\tremaining: 1m 22s\n",
      "860:\ttest: 0.9079552\tbest: 0.9079687 (858)\ttotal: 8m 24s\tremaining: 1m 21s\n",
      "861:\ttest: 0.9079715\tbest: 0.9079715 (861)\ttotal: 8m 25s\tremaining: 1m 20s\n",
      "862:\ttest: 0.9079665\tbest: 0.9079715 (861)\ttotal: 8m 25s\tremaining: 1m 20s\n",
      "863:\ttest: 0.9079600\tbest: 0.9079715 (861)\ttotal: 8m 26s\tremaining: 1m 19s\n",
      "864:\ttest: 0.9079414\tbest: 0.9079715 (861)\ttotal: 8m 27s\tremaining: 1m 19s\n",
      "865:\ttest: 0.9079499\tbest: 0.9079715 (861)\ttotal: 8m 27s\tremaining: 1m 18s\n",
      "866:\ttest: 0.9079764\tbest: 0.9079764 (866)\ttotal: 8m 28s\tremaining: 1m 17s\n",
      "867:\ttest: 0.9079890\tbest: 0.9079890 (867)\ttotal: 8m 28s\tremaining: 1m 17s\n",
      "868:\ttest: 0.9079381\tbest: 0.9079890 (867)\ttotal: 8m 29s\tremaining: 1m 16s\n",
      "869:\ttest: 0.9079052\tbest: 0.9079890 (867)\ttotal: 8m 30s\tremaining: 1m 16s\n",
      "870:\ttest: 0.9079160\tbest: 0.9079890 (867)\ttotal: 8m 30s\tremaining: 1m 15s\n",
      "871:\ttest: 0.9079203\tbest: 0.9079890 (867)\ttotal: 8m 31s\tremaining: 1m 15s\n",
      "872:\ttest: 0.9079004\tbest: 0.9079890 (867)\ttotal: 8m 31s\tremaining: 1m 14s\n",
      "873:\ttest: 0.9079259\tbest: 0.9079890 (867)\ttotal: 8m 32s\tremaining: 1m 13s\n",
      "874:\ttest: 0.9079260\tbest: 0.9079890 (867)\ttotal: 8m 33s\tremaining: 1m 13s\n",
      "875:\ttest: 0.9079076\tbest: 0.9079890 (867)\ttotal: 8m 33s\tremaining: 1m 12s\n",
      "876:\ttest: 0.9078774\tbest: 0.9079890 (867)\ttotal: 8m 34s\tremaining: 1m 12s\n",
      "877:\ttest: 0.9078556\tbest: 0.9079890 (867)\ttotal: 8m 34s\tremaining: 1m 11s\n",
      "878:\ttest: 0.9078291\tbest: 0.9079890 (867)\ttotal: 8m 35s\tremaining: 1m 10s\n",
      "879:\ttest: 0.9078146\tbest: 0.9079890 (867)\ttotal: 8m 35s\tremaining: 1m 10s\n",
      "880:\ttest: 0.9078592\tbest: 0.9079890 (867)\ttotal: 8m 36s\tremaining: 1m 9s\n",
      "881:\ttest: 0.9078873\tbest: 0.9079890 (867)\ttotal: 8m 37s\tremaining: 1m 9s\n",
      "882:\ttest: 0.9078565\tbest: 0.9079890 (867)\ttotal: 8m 37s\tremaining: 1m 8s\n",
      "883:\ttest: 0.9078516\tbest: 0.9079890 (867)\ttotal: 8m 38s\tremaining: 1m 7s\n"
     ]
    },
    {
     "name": "stdout",
     "output_type": "stream",
     "text": [
      "884:\ttest: 0.9078838\tbest: 0.9079890 (867)\ttotal: 8m 38s\tremaining: 1m 7s\n",
      "885:\ttest: 0.9078931\tbest: 0.9079890 (867)\ttotal: 8m 39s\tremaining: 1m 6s\n",
      "886:\ttest: 0.9078920\tbest: 0.9079890 (867)\ttotal: 8m 39s\tremaining: 1m 6s\n",
      "887:\ttest: 0.9079525\tbest: 0.9079890 (867)\ttotal: 8m 40s\tremaining: 1m 5s\n",
      "888:\ttest: 0.9079542\tbest: 0.9079890 (867)\ttotal: 8m 41s\tremaining: 1m 5s\n",
      "889:\ttest: 0.9079634\tbest: 0.9079890 (867)\ttotal: 8m 41s\tremaining: 1m 4s\n",
      "890:\ttest: 0.9079921\tbest: 0.9079921 (890)\ttotal: 8m 42s\tremaining: 1m 3s\n",
      "891:\ttest: 0.9080211\tbest: 0.9080211 (891)\ttotal: 8m 42s\tremaining: 1m 3s\n",
      "892:\ttest: 0.9080370\tbest: 0.9080370 (892)\ttotal: 8m 43s\tremaining: 1m 2s\n",
      "893:\ttest: 0.9080452\tbest: 0.9080452 (893)\ttotal: 8m 43s\tremaining: 1m 2s\n",
      "894:\ttest: 0.9080911\tbest: 0.9080911 (894)\ttotal: 8m 44s\tremaining: 1m 1s\n",
      "895:\ttest: 0.9080383\tbest: 0.9080911 (894)\ttotal: 8m 45s\tremaining: 1m\n",
      "896:\ttest: 0.9080645\tbest: 0.9080911 (894)\ttotal: 8m 45s\tremaining: 1m\n",
      "897:\ttest: 0.9080295\tbest: 0.9080911 (894)\ttotal: 8m 46s\tremaining: 59.8s\n",
      "898:\ttest: 0.9080125\tbest: 0.9080911 (894)\ttotal: 8m 46s\tremaining: 59.2s\n",
      "899:\ttest: 0.9079984\tbest: 0.9080911 (894)\ttotal: 8m 47s\tremaining: 58.6s\n",
      "900:\ttest: 0.9080006\tbest: 0.9080911 (894)\ttotal: 8m 48s\tremaining: 58s\n",
      "901:\ttest: 0.9080368\tbest: 0.9080911 (894)\ttotal: 8m 48s\tremaining: 57.4s\n",
      "902:\ttest: 0.9080521\tbest: 0.9080911 (894)\ttotal: 8m 49s\tremaining: 56.9s\n",
      "903:\ttest: 0.9080464\tbest: 0.9080911 (894)\ttotal: 8m 49s\tremaining: 56.3s\n",
      "904:\ttest: 0.9080660\tbest: 0.9080911 (894)\ttotal: 8m 50s\tremaining: 55.7s\n",
      "905:\ttest: 0.9080588\tbest: 0.9080911 (894)\ttotal: 8m 50s\tremaining: 55.1s\n",
      "906:\ttest: 0.9080504\tbest: 0.9080911 (894)\ttotal: 8m 51s\tremaining: 54.5s\n",
      "907:\ttest: 0.9080257\tbest: 0.9080911 (894)\ttotal: 8m 51s\tremaining: 53.9s\n",
      "908:\ttest: 0.9080116\tbest: 0.9080911 (894)\ttotal: 8m 52s\tremaining: 53.3s\n",
      "909:\ttest: 0.9080307\tbest: 0.9080911 (894)\ttotal: 8m 53s\tremaining: 52.7s\n",
      "910:\ttest: 0.9080675\tbest: 0.9080911 (894)\ttotal: 8m 53s\tremaining: 52.1s\n",
      "911:\ttest: 0.9080774\tbest: 0.9080911 (894)\ttotal: 8m 54s\tremaining: 51.5s\n",
      "912:\ttest: 0.9080854\tbest: 0.9080911 (894)\ttotal: 8m 54s\tremaining: 51s\n",
      "913:\ttest: 0.9080550\tbest: 0.9080911 (894)\ttotal: 8m 55s\tremaining: 50.4s\n",
      "914:\ttest: 0.9080662\tbest: 0.9080911 (894)\ttotal: 8m 56s\tremaining: 49.8s\n",
      "915:\ttest: 0.9080612\tbest: 0.9080911 (894)\ttotal: 8m 56s\tremaining: 49.2s\n",
      "916:\ttest: 0.9080723\tbest: 0.9080911 (894)\ttotal: 8m 57s\tremaining: 48.6s\n",
      "917:\ttest: 0.9080617\tbest: 0.9080911 (894)\ttotal: 8m 57s\tremaining: 48s\n",
      "918:\ttest: 0.9080586\tbest: 0.9080911 (894)\ttotal: 8m 58s\tremaining: 47.4s\n",
      "919:\ttest: 0.9080264\tbest: 0.9080911 (894)\ttotal: 8m 58s\tremaining: 46.8s\n",
      "920:\ttest: 0.9080588\tbest: 0.9080911 (894)\ttotal: 8m 59s\tremaining: 46.3s\n",
      "921:\ttest: 0.9081233\tbest: 0.9081233 (921)\ttotal: 8m 59s\tremaining: 45.7s\n",
      "922:\ttest: 0.9080934\tbest: 0.9081233 (921)\ttotal: 9m\tremaining: 45.1s\n",
      "923:\ttest: 0.9081548\tbest: 0.9081548 (923)\ttotal: 9m\tremaining: 44.5s\n",
      "924:\ttest: 0.9081548\tbest: 0.9081548 (923)\ttotal: 9m 1s\tremaining: 43.9s\n",
      "925:\ttest: 0.9081587\tbest: 0.9081587 (925)\ttotal: 9m 2s\tremaining: 43.3s\n",
      "926:\ttest: 0.9081525\tbest: 0.9081587 (925)\ttotal: 9m 2s\tremaining: 42.7s\n",
      "927:\ttest: 0.9081576\tbest: 0.9081587 (925)\ttotal: 9m 3s\tremaining: 42.1s\n",
      "928:\ttest: 0.9081378\tbest: 0.9081587 (925)\ttotal: 9m 3s\tremaining: 41.5s\n",
      "929:\ttest: 0.9081445\tbest: 0.9081587 (925)\ttotal: 9m 4s\tremaining: 41s\n",
      "930:\ttest: 0.9081369\tbest: 0.9081587 (925)\ttotal: 9m 4s\tremaining: 40.4s\n",
      "931:\ttest: 0.9081709\tbest: 0.9081709 (931)\ttotal: 9m 5s\tremaining: 39.8s\n",
      "932:\ttest: 0.9081560\tbest: 0.9081709 (931)\ttotal: 9m 5s\tremaining: 39.2s\n",
      "933:\ttest: 0.9081602\tbest: 0.9081709 (931)\ttotal: 9m 6s\tremaining: 38.6s\n",
      "934:\ttest: 0.9081655\tbest: 0.9081709 (931)\ttotal: 9m 6s\tremaining: 38s\n",
      "935:\ttest: 0.9081539\tbest: 0.9081709 (931)\ttotal: 9m 7s\tremaining: 37.4s\n",
      "936:\ttest: 0.9081678\tbest: 0.9081709 (931)\ttotal: 9m 8s\tremaining: 36.8s\n",
      "937:\ttest: 0.9081442\tbest: 0.9081709 (931)\ttotal: 9m 8s\tremaining: 36.3s\n",
      "938:\ttest: 0.9081518\tbest: 0.9081709 (931)\ttotal: 9m 9s\tremaining: 35.7s\n",
      "939:\ttest: 0.9081902\tbest: 0.9081902 (939)\ttotal: 9m 9s\tremaining: 35.1s\n",
      "940:\ttest: 0.9081898\tbest: 0.9081902 (939)\ttotal: 9m 10s\tremaining: 34.5s\n",
      "941:\ttest: 0.9082104\tbest: 0.9082104 (941)\ttotal: 9m 10s\tremaining: 33.9s\n",
      "942:\ttest: 0.9081737\tbest: 0.9082104 (941)\ttotal: 9m 11s\tremaining: 33.3s\n",
      "943:\ttest: 0.9081658\tbest: 0.9082104 (941)\ttotal: 9m 12s\tremaining: 32.8s\n",
      "944:\ttest: 0.9081368\tbest: 0.9082104 (941)\ttotal: 9m 12s\tremaining: 32.2s\n",
      "945:\ttest: 0.9080891\tbest: 0.9082104 (941)\ttotal: 9m 13s\tremaining: 31.6s\n",
      "946:\ttest: 0.9080657\tbest: 0.9082104 (941)\ttotal: 9m 13s\tremaining: 31s\n",
      "947:\ttest: 0.9080548\tbest: 0.9082104 (941)\ttotal: 9m 14s\tremaining: 30.4s\n",
      "948:\ttest: 0.9080562\tbest: 0.9082104 (941)\ttotal: 9m 15s\tremaining: 29.8s\n",
      "949:\ttest: 0.9080878\tbest: 0.9082104 (941)\ttotal: 9m 15s\tremaining: 29.2s\n",
      "950:\ttest: 0.9080542\tbest: 0.9082104 (941)\ttotal: 9m 16s\tremaining: 28.7s\n",
      "951:\ttest: 0.9080432\tbest: 0.9082104 (941)\ttotal: 9m 16s\tremaining: 28.1s\n",
      "952:\ttest: 0.9080533\tbest: 0.9082104 (941)\ttotal: 9m 17s\tremaining: 27.5s\n",
      "953:\ttest: 0.9080392\tbest: 0.9082104 (941)\ttotal: 9m 18s\tremaining: 26.9s\n",
      "954:\ttest: 0.9080668\tbest: 0.9082104 (941)\ttotal: 9m 18s\tremaining: 26.3s\n",
      "955:\ttest: 0.9081169\tbest: 0.9082104 (941)\ttotal: 9m 19s\tremaining: 25.7s\n",
      "956:\ttest: 0.9080885\tbest: 0.9082104 (941)\ttotal: 9m 19s\tremaining: 25.2s\n",
      "957:\ttest: 0.9080711\tbest: 0.9082104 (941)\ttotal: 9m 20s\tremaining: 24.6s\n",
      "958:\ttest: 0.9080774\tbest: 0.9082104 (941)\ttotal: 9m 20s\tremaining: 24s\n",
      "959:\ttest: 0.9081165\tbest: 0.9082104 (941)\ttotal: 9m 21s\tremaining: 23.4s\n",
      "960:\ttest: 0.9081162\tbest: 0.9082104 (941)\ttotal: 9m 22s\tremaining: 22.8s\n",
      "961:\ttest: 0.9080532\tbest: 0.9082104 (941)\ttotal: 9m 22s\tremaining: 22.2s\n",
      "962:\ttest: 0.9080707\tbest: 0.9082104 (941)\ttotal: 9m 23s\tremaining: 21.6s\n",
      "963:\ttest: 0.9081021\tbest: 0.9082104 (941)\ttotal: 9m 23s\tremaining: 21.1s\n",
      "964:\ttest: 0.9081045\tbest: 0.9082104 (941)\ttotal: 9m 24s\tremaining: 20.5s\n",
      "965:\ttest: 0.9081106\tbest: 0.9082104 (941)\ttotal: 9m 24s\tremaining: 19.9s\n",
      "966:\ttest: 0.9081142\tbest: 0.9082104 (941)\ttotal: 9m 25s\tremaining: 19.3s\n",
      "967:\ttest: 0.9081108\tbest: 0.9082104 (941)\ttotal: 9m 26s\tremaining: 18.7s\n",
      "968:\ttest: 0.9081200\tbest: 0.9082104 (941)\ttotal: 9m 26s\tremaining: 18.1s\n",
      "969:\ttest: 0.9081090\tbest: 0.9082104 (941)\ttotal: 9m 27s\tremaining: 17.5s\n",
      "970:\ttest: 0.9081131\tbest: 0.9082104 (941)\ttotal: 9m 27s\tremaining: 17s\n",
      "971:\ttest: 0.9080639\tbest: 0.9082104 (941)\ttotal: 9m 28s\tremaining: 16.4s\n",
      "972:\ttest: 0.9080689\tbest: 0.9082104 (941)\ttotal: 9m 28s\tremaining: 15.8s\n",
      "973:\ttest: 0.9080734\tbest: 0.9082104 (941)\ttotal: 9m 29s\tremaining: 15.2s\n",
      "974:\ttest: 0.9081496\tbest: 0.9082104 (941)\ttotal: 9m 29s\tremaining: 14.6s\n",
      "975:\ttest: 0.9081614\tbest: 0.9082104 (941)\ttotal: 9m 30s\tremaining: 14s\n",
      "976:\ttest: 0.9081592\tbest: 0.9082104 (941)\ttotal: 9m 30s\tremaining: 13.4s\n",
      "977:\ttest: 0.9081843\tbest: 0.9082104 (941)\ttotal: 9m 31s\tremaining: 12.9s\n",
      "978:\ttest: 0.9082335\tbest: 0.9082335 (978)\ttotal: 9m 32s\tremaining: 12.3s\n",
      "979:\ttest: 0.9082098\tbest: 0.9082335 (978)\ttotal: 9m 32s\tremaining: 11.7s\n",
      "980:\ttest: 0.9082350\tbest: 0.9082350 (980)\ttotal: 9m 33s\tremaining: 11.1s\n",
      "981:\ttest: 0.9082466\tbest: 0.9082466 (981)\ttotal: 9m 33s\tremaining: 10.5s\n",
      "982:\ttest: 0.9082411\tbest: 0.9082466 (981)\ttotal: 9m 34s\tremaining: 9.93s\n",
      "983:\ttest: 0.9082389\tbest: 0.9082466 (981)\ttotal: 9m 34s\tremaining: 9.35s\n",
      "984:\ttest: 0.9081585\tbest: 0.9082466 (981)\ttotal: 9m 35s\tremaining: 8.76s\n",
      "985:\ttest: 0.9081824\tbest: 0.9082466 (981)\ttotal: 9m 35s\tremaining: 8.18s\n",
      "986:\ttest: 0.9081931\tbest: 0.9082466 (981)\ttotal: 9m 36s\tremaining: 7.59s\n",
      "987:\ttest: 0.9082021\tbest: 0.9082466 (981)\ttotal: 9m 37s\tremaining: 7.01s\n",
      "988:\ttest: 0.9082005\tbest: 0.9082466 (981)\ttotal: 9m 37s\tremaining: 6.42s\n",
      "989:\ttest: 0.9082743\tbest: 0.9082743 (989)\ttotal: 9m 38s\tremaining: 5.84s\n",
      "990:\ttest: 0.9082847\tbest: 0.9082847 (990)\ttotal: 9m 38s\tremaining: 5.25s\n",
      "991:\ttest: 0.9082612\tbest: 0.9082847 (990)\ttotal: 9m 39s\tremaining: 4.67s\n",
      "992:\ttest: 0.9082793\tbest: 0.9082847 (990)\ttotal: 9m 39s\tremaining: 4.09s\n",
      "993:\ttest: 0.9083112\tbest: 0.9083112 (993)\ttotal: 9m 40s\tremaining: 3.5s\n",
      "994:\ttest: 0.9083132\tbest: 0.9083132 (994)\ttotal: 9m 41s\tremaining: 2.92s\n",
      "995:\ttest: 0.9083007\tbest: 0.9083132 (994)\ttotal: 9m 41s\tremaining: 2.33s\n"
     ]
    },
    {
     "name": "stdout",
     "output_type": "stream",
     "text": [
      "996:\ttest: 0.9083115\tbest: 0.9083132 (994)\ttotal: 9m 42s\tremaining: 1.75s\n",
      "997:\ttest: 0.9083032\tbest: 0.9083132 (994)\ttotal: 9m 42s\tremaining: 1.17s\n",
      "998:\ttest: 0.9082818\tbest: 0.9083132 (994)\ttotal: 9m 43s\tremaining: 584ms\n",
      "999:\ttest: 0.9082698\tbest: 0.9083132 (994)\ttotal: 9m 43s\tremaining: 0us\n",
      "\n",
      "bestTest = 0.9083131708\n",
      "bestIteration = 994\n",
      "\n",
      "Shrink model to first 995 iterations.\n"
     ]
    },
    {
     "data": {
      "text/plain": [
       "<catboost.core.CatBoostClassifier at 0x2db62c5d130>"
      ]
     },
     "execution_count": 481,
     "metadata": {},
     "output_type": "execute_result"
    }
   ],
   "source": [
    "#scheme_mgt imputation 0.9207563 auc, accuracy - 0.82205\n",
    "catboost_model.fit(train_pool,plot=True,eval_set=eval_pool)"
   ]
  },
  {
   "cell_type": "code",
   "execution_count": 482,
   "metadata": {},
   "outputs": [
    {
     "name": "stdout",
     "output_type": "stream",
     "text": [
      "Accuracy: 0.8107744107744108\n",
      "                         precision    recall  f1-score   support\n",
      "\n",
      "             functional       0.80      0.91      0.85      6452\n",
      "functional needs repair       0.60      0.29      0.39       863\n",
      "         non functional       0.85      0.78      0.81      4565\n",
      "\n",
      "               accuracy                           0.81     11880\n",
      "              macro avg       0.75      0.66      0.68     11880\n",
      "           weighted avg       0.80      0.81      0.80     11880\n",
      "\n"
     ]
    },
    {
     "data": {
      "image/png": "[encoded data removed]",
      "text/plain": [
       "<Figure size 432x288 with 2 Axes>"
      ]
     },
     "metadata": {
      "needs_background": "light"
     },
     "output_type": "display_data"
    }
   ],
   "source": [
    "pred = catboost_model.predict(X_test)\n",
    "from sklearn.metrics import plot_confusion_matrix\n",
    "from sklearn.metrics import accuracy_score\n",
    "from sklearn.metrics import classification_report\n",
    "\n",
    "print(\"Accuracy: {0}\".format(accuracy_score(y_test, pred)))\n",
    "plot_confusion_matrix(catboost_model, X_test, y_test,\n",
    "                                 display_labels=class_labels,\n",
    "                                 cmap=plt.cm.Blues)\n",
    "print(classification_report(y_test,catboost_model.predict(X_test)))"
   ]
  },
  {
   "cell_type": "markdown",
   "metadata": {},
   "source": [
    "### Create Test Predictions"
   ]
  },
  {
   "cell_type": "code",
   "execution_count": 483,
   "metadata": {
    "id": "pFac28Ya8A6A"
   },
   "outputs": [],
   "source": [
    "test_data_cp = test_data.copy(deep=True)"
   ]
  },
  {
   "cell_type": "code",
   "execution_count": 484,
   "metadata": {
    "id": "Lml3gxGv8vQp"
   },
   "outputs": [],
   "source": [
    "test_data_cp.fillna('unknown', inplace=True)"
   ]
  },
  {
   "cell_type": "code",
   "execution_count": 485,
   "metadata": {},
   "outputs": [],
   "source": [
    "c = X_train[e].value_counts()\n",
    "replaced_values = sorted(c.index[c <= 1])\n",
    "test_data.loc[test_data[e].isin(replaced_values),e] = 'low_freq'"
   ]
  },
  {
   "cell_type": "code",
   "execution_count": 486,
   "metadata": {
    "id": "LOHahK9-9Imq"
   },
   "outputs": [],
   "source": [
    "res =  catboost_model.predict(test_data_cp)"
   ]
  },
  {
   "cell_type": "code",
   "execution_count": 487,
   "metadata": {
    "id": "DOyveLkl9JfJ"
   },
   "outputs": [
    {
     "data": {
      "text/plain": [
       "array([['functional'],\n",
       "       ['functional'],\n",
       "       ['functional'],\n",
       "       ...,\n",
       "       ['functional'],\n",
       "       ['functional'],\n",
       "       ['non functional']], dtype=object)"
      ]
     },
     "execution_count": 487,
     "metadata": {},
     "output_type": "execute_result"
    }
   ],
   "source": [
    "res"
   ]
  },
  {
   "cell_type": "code",
   "execution_count": 488,
   "metadata": {
    "id": "tD2BqLAjxnWs"
   },
   "outputs": [],
   "source": [
    "test_predictions = pd.DataFrame({'status_group' : catboost_model.predict(test_data_cp)[:,0]}, index=test_data_cp.index)"
   ]
  },
  {
   "cell_type": "code",
   "execution_count": 489,
   "metadata": {
    "id": "F7NDXawj9-61"
   },
   "outputs": [],
   "source": [
    "test_predictions.to_csv(r\"C:\\Users\\HP\\Desktop\\submission_42_8222.csv\", index=True, index_label='id')"
   ]
  }
 ],
 "metadata": {
  "colab": {
   "collapsed_sections": [],
   "name": "Machine Learning Project -209",
   "provenance": []
  },
  "kernelspec": {
   "display_name": "Python 3",
   "language": "python",
   "name": "python3"
  },
  "language_info": {
   "codemirror_mode": {
    "name": "ipython",
    "version": 3
   },
   "file_extension": ".py",
   "mimetype": "text/x-python",
   "name": "python",
   "nbconvert_exporter": "python",
   "pygments_lexer": "ipython3",
   "version": "3.8.3"
  },
  "widgets": {
   "application/vnd.jupyter.widget-state+json": {
    "b330c814b6a34dfb95d0794e54027060": {
     "model_module": "catboost-widget",
     "model_module_version": "^1.0.0",
     "model_name": "CatboostWidgetModel",
     "state": {
      "_dom_classes": [],
      "_model_module": "catboost-widget",
      "_model_module_version": "^1.0.0",
      "_model_name": "CatboostWidgetModel",
      "_view_count": null,
      "_view_module": "catboost-widget",
      "_view_module_version": "^1.0.0",
      "_view_name": "CatboostWidgetView",
      "data": {
       "catboost_info": {
        "content": {
         "data": {
          "iterations": [
           {
            "iteration": 0,
            "learn": [
             0.7185746352,
             1.008826972
            ],
            "passed_time": 1.192777134,
            "remaining_time": 1191.584357,
            "test": [
             0.7220538721,
             1.007865864
            ]
           },
           {
            "iteration": 1,
            "learn": [
             0.7334829779,
             0.9379522332
            ],
            "passed_time": 2.379700639,
            "remaining_time": 1187.470619,
            "test": [
             0.7377104377,
             0.9358887009
            ]
           },
           {
            "iteration": 2,
            "learn": [
             0.7358211747,
             0.881923957
            ],
            "passed_time": 3.511917597,
            "remaining_time": 1167.127281,
            "test": [
             0.7393939394,
             0.8788613632
            ]
           },
           {
            "iteration": 3,
            "learn": [
             0.7378787879,
             0.837493729
            ],
            "passed_time": 4.620696612,
            "remaining_time": 1150.553456,
            "test": [
             0.737037037,
             0.8337057953
            ]
           },
           {
            "iteration": 4,
            "learn": [
             0.7468013468,
             0.7990052224
            ],
            "passed_time": 5.602685348,
            "remaining_time": 1114.934384,
            "test": [
             0.7552188552,
             0.7927705888
            ]
           },
           {
            "iteration": 5,
            "learn": [
             0.7505798728,
             0.7672023672
            ],
            "passed_time": 6.601095567,
            "remaining_time": 1093.581499,
            "test": [
             0.7592592593,
             0.7597565662
            ]
           },
           {
            "iteration": 6,
            "learn": [
             0.7526187804,
             0.7402770822
            ],
            "passed_time": 7.512743136,
            "remaining_time": 1065.736276,
            "test": [
             0.761952862,
             0.7319362833
            ]
           },
           {
            "iteration": 7,
            "learn": [
             0.7566404789,
             0.717880886
            ],
            "passed_time": 8.577539166,
            "remaining_time": 1063.614857,
            "test": [
             0.7671717172,
             0.7086307282
            ]
           },
           {
            "iteration": 8,
            "learn": [
             0.7577815189,
             0.6983035097
            ],
            "passed_time": 9.619806124,
            "remaining_time": 1059.247541,
            "test": [
             0.7673400673,
             0.6878287539
            ]
           },
           {
            "iteration": 9,
            "learn": [
             0.7604377104,
             0.6809882049
            ],
            "passed_time": 10.45425832,
            "remaining_time": 1034.971574,
            "test": [
             0.7715488215,
             0.6684750285
            ]
           },
           {
            "iteration": 10,
            "learn": [
             0.7617658062,
             0.6673266541
            ],
            "passed_time": 11.45124876,
            "remaining_time": 1029.571366,
            "test": [
             0.7720538721,
             0.6548748004
            ]
           },
           {
            "iteration": 11,
            "learn": [
             0.764104003,
             0.6535223078
            ],
            "passed_time": 12.37156767,
            "remaining_time": 1018.592405,
            "test": [
             0.7754208754,
             0.6405423719
            ]
           },
           {
            "iteration": 12,
            "learn": [
             0.7645716423,
             0.6431308968
            ],
            "passed_time": 13.40059185,
            "remaining_time": 1017.414166,
            "test": [
             0.7762626263,
             0.6299453882
            ]
           },
           {
            "iteration": 13,
            "learn": [
             0.7654133932,
             0.6333406082
            ],
            "passed_time": 14.31798046,
            "remaining_time": 1008.39491,
            "test": [
             0.7769360269,
             0.6191208131
            ]
           },
           {
            "iteration": 14,
            "learn": [
             0.7663486719,
             0.6250032401
            ],
            "passed_time": 15.41409255,
            "remaining_time": 1012.192078,
            "test": [
             0.7784511785,
             0.6104834364
            ]
           },
           {
            "iteration": 15,
            "learn": [
             0.7670407782,
             0.6179461989
            ],
            "passed_time": 16.49091498,
            "remaining_time": 1014.191271,
            "test": [
             0.7796296296,
             0.6031810389
            ]
           },
           {
            "iteration": 16,
            "learn": [
             0.7684249906,
             0.6115929971
            ],
            "passed_time": 17.48363002,
            "remaining_time": 1010.965195,
            "test": [
             0.780976431,
             0.5965951223
            ]
           },
           {
            "iteration": 17,
            "learn": [
             0.7690609802,
             0.6058977439
            ],
            "passed_time": 18.62742023,
            "remaining_time": 1016.229259,
            "test": [
             0.7806397306,
             0.5903248057
            ]
           },
           {
            "iteration": 18,
            "learn": [
             0.7694350917,
             0.6010576776
            ],
            "passed_time": 19.75284384,
            "remaining_time": 1019.870516,
            "test": [
             0.780976431,
             0.5854009642
            ]
           },
           {
            "iteration": 19,
            "learn": [
             0.7702207258,
             0.595913037
            ],
            "passed_time": 20.7002556,
            "remaining_time": 1014.312524,
            "test": [
             0.7831649832,
             0.5797480305
            ]
           },
           {
            "iteration": 20,
            "learn": [
             0.7710624766,
             0.591584499
            ],
            "passed_time": 21.77836855,
            "remaining_time": 1015.2868,
            "test": [
             0.782996633,
             0.5756484467
            ]
           },
           {
            "iteration": 21,
            "learn": [
             0.7716423494,
             0.5875206369
            ],
            "passed_time": 22.82327263,
            "remaining_time": 1014.59821,
            "test": [
             0.784006734,
             0.571187374
            ]
           },
           {
            "iteration": 22,
            "learn": [
             0.7722783389,
             0.5835416493
            ],
            "passed_time": 23.84262498,
            "remaining_time": 1012.793244,
            "test": [
             0.7843434343,
             0.5665532173
            ]
           },
           {
            "iteration": 23,
            "learn": [
             0.77328844,
             0.5794396801
            ],
            "passed_time": 24.87492306,
            "remaining_time": 1011.580204,
            "test": [
             0.7872053872,
             0.5623281729
            ]
           },
           {
            "iteration": 24,
            "learn": [
             0.7740179574,
             0.5765374137
            ],
            "passed_time": 25.90601151,
            "remaining_time": 1010.334449,
            "test": [
             0.7856902357,
             0.5594790385
            ]
           },
           {
            "iteration": 25,
            "learn": [
             0.7750280584,
             0.573568284
            ],
            "passed_time": 27.03991053,
            "remaining_time": 1012.956648,
            "test": [
             0.7872053872,
             0.5568570879
            ]
           },
           {
            "iteration": 26,
            "learn": [
             0.7761503928,
             0.5709416262
            ],
            "passed_time": 28.25222968,
            "remaining_time": 1018.126647,
            "test": [
             0.788047138,
             0.5539721624
            ]
           },
           {
            "iteration": 27,
            "learn": [
             0.7765432099,
             0.5681571881
            ],
            "passed_time": 29.32222233,
            "remaining_time": 1017.900004,
            "test": [
             0.7885521886,
             0.5512393649
            ]
           },
           {
            "iteration": 28,
            "learn": [
             0.7767302656,
             0.5663236715
            ],
            "passed_time": 30.2747479,
            "remaining_time": 1013.682076,
            "test": [
             0.7890572391,
             0.549194838
            ]
           },
           {
            "iteration": 29,
            "learn": [
             0.7777029555,
             0.5636969318
            ],
            "passed_time": 31.40090275,
            "remaining_time": 1015.295856,
            "test": [
             0.7895622896,
             0.5467009839
            ]
           },
           {
            "iteration": 30,
            "learn": [
             0.7789749345,
             0.5603639207
            ],
            "passed_time": 32.43276106,
            "remaining_time": 1013.785338,
            "test": [
             0.7905723906,
             0.5431400329
            ]
           },
           {
            "iteration": 31,
            "learn": [
             0.7796109241,
             0.558979569
            ],
            "passed_time": 33.53674731,
            "remaining_time": 1014.486606,
            "test": [
             0.7912457912,
             0.5419274046
            ]
           },
           {
            "iteration": 32,
            "learn": [
             0.7805087916,
             0.5573883515
            ],
            "passed_time": 34.63095404,
            "remaining_time": 1014.791896,
            "test": [
             0.7915824916,
             0.5404591365
            ]
           },
           {
            "iteration": 33,
            "learn": [
             0.7807706697,
             0.555998279
            ],
            "passed_time": 35.66348952,
            "remaining_time": 1013.262673,
            "test": [
             0.7917508418,
             0.5388461728
            ]
           },
           {
            "iteration": 34,
            "learn": [
             0.7807519641,
             0.5547125777
            ],
            "passed_time": 36.8189686,
            "remaining_time": 1015.151563,
            "test": [
             0.7930976431,
             0.537531947
            ]
           },
           {
            "iteration": 35,
            "learn": [
             0.7810886644,
             0.5530459491
            ],
            "passed_time": 37.82346042,
            "remaining_time": 1012.828218,
            "test": [
             0.7934343434,
             0.5352219866
            ]
           },
           {
            "iteration": 36,
            "learn": [
             0.7818742985,
             0.5508479991
            ],
            "passed_time": 38.87926414,
            "remaining_time": 1011.911658,
            "test": [
             0.7936026936,
             0.5327655904
            ]
           },
           {
            "iteration": 37,
            "learn": [
             0.7825664048,
             0.54945155
            ],
            "passed_time": 39.94484415,
            "remaining_time": 1011.235265,
            "test": [
             0.7941077441,
             0.5310524763
            ]
           },
           {
            "iteration": 38,
            "learn": [
             0.7829779274,
             0.548066248
            ],
            "passed_time": 40.96380336,
            "remaining_time": 1009.390129,
            "test": [
             0.7932659933,
             0.5293283979
            ]
           },
           {
            "iteration": 39,
            "learn": [
             0.7830527497,
             0.5467384399
            ],
            "passed_time": 41.96758514,
            "remaining_time": 1007.222043,
            "test": [
             0.7929292929,
             0.5284168653
            ]
           },
           {
            "iteration": 40,
            "learn": [
             0.7831836887,
             0.5455110848
            ],
            "passed_time": 43.03192914,
            "remaining_time": 1006.527318,
            "test": [
             0.7934343434,
             0.5275114574
            ]
           },
           {
            "iteration": 41,
            "learn": [
             0.7834642724,
             0.5445471725
            ],
            "passed_time": 43.99224606,
            "remaining_time": 1003.442184,
            "test": [
             0.7939393939,
             0.5267322495
            ]
           },
           {
            "iteration": 42,
            "learn": [
             0.7841189675,
             0.5434306122
            ],
            "passed_time": 45.19364348,
            "remaining_time": 1005.821321,
            "test": [
             0.7942760943,
             0.5255361612
            ]
           },
           {
            "iteration": 43,
            "learn": [
             0.7842312009,
             0.5424597407
            ],
            "passed_time": 46.29175263,
            "remaining_time": 1005.793534,
            "test": [
             0.7947811448,
             0.5246728612
            ]
           },
           {
            "iteration": 44,
            "learn": [
             0.7846427235,
             0.5418988533
            ],
            "passed_time": 47.28255274,
            "remaining_time": 1003.440841,
            "test": [
             0.7946127946,
             0.5243553094
            ]
           },
           {
            "iteration": 45,
            "learn": [
             0.784624018,
             0.541289707
            ],
            "passed_time": 48.37937925,
            "remaining_time": 1003.346257,
            "test": [
             0.7942760943,
             0.5237916269
            ]
           },
           {
            "iteration": 46,
            "learn": [
             0.7849420127,
             0.5401434126
            ],
            "passed_time": 49.5135166,
            "remaining_time": 1003.96556,
            "test": [
             0.7947811448,
             0.5225151053
            ]
           },
           {
            "iteration": 47,
            "learn": [
             0.785016835,
             0.5394419457
            ],
            "passed_time": 50.60112814,
            "remaining_time": 1003.589041,
            "test": [
             0.7949494949,
             0.5219101013
            ]
           },
           {
            "iteration": 48,
            "learn": [
             0.7851103629,
             0.5382351245
            ],
            "passed_time": 51.64458994,
            "remaining_time": 1002.326633,
            "test": [
             0.795959596,
             0.5208923225
            ]
           },
           {
            "iteration": 49,
            "learn": [
             0.7852225963,
             0.5372476928
            ],
            "passed_time": 52.8185363,
            "remaining_time": 1003.55219,
            "test": [
             0.7949494949,
             0.5202714124
            ]
           },
           {
            "iteration": 50,
            "learn": [
             0.786026936,
             0.5364024066
            ],
            "passed_time": 53.86080491,
            "remaining_time": 1002.233409,
            "test": [
             0.7961279461,
             0.5195100664
            ]
           },
           {
            "iteration": 51,
            "learn": [
             0.7862326973,
             0.5354989158
            ],
            "passed_time": 54.91943939,
            "remaining_time": 1001.223626,
            "test": [
             0.7954545455,
             0.5187998704
            ]
           },
           {
            "iteration": 52,
            "learn": [
             0.7862326973,
             0.5348118265
            ],
            "passed_time": 55.91018989,
            "remaining_time": 998.9990534,
            "test": [
             0.7957912458,
             0.5180186563
            ]
           },
           {
            "iteration": 53,
            "learn": [
             0.7864197531,
             0.5343218113
            ],
            "passed_time": 56.87892231,
            "remaining_time": 996.4344539,
            "test": [
             0.7966329966,
             0.5176735211
            ]
           },
           {
            "iteration": 54,
            "learn": [
             0.7866629256,
             0.5335819688
            ],
            "passed_time": 57.88932072,
            "remaining_time": 994.6437833,
            "test": [
             0.7966329966,
             0.5171438851
            ]
           },
           {
            "iteration": 55,
            "learn": [
             0.7867003367,
             0.5329855962
            ],
            "passed_time": 58.93089136,
            "remaining_time": 993.4064544,
            "test": [
             0.7961279461,
             0.5165767748
            ]
           },
           {
            "iteration": 56,
            "learn": [
             0.7869996259,
             0.5324168182
            ],
            "passed_time": 59.9300684,
            "remaining_time": 991.4746403,
            "test": [
             0.795959596,
             0.5158120411
            ]
           },
           {
            "iteration": 57,
            "learn": [
             0.7871492705,
             0.5322096483
            ],
            "passed_time": 60.91865915,
            "remaining_time": 989.4030503,
            "test": [
             0.7961279461,
             0.5156639591
            ]
           },
           {
            "iteration": 58,
            "learn": [
             0.7876169098,
             0.5316369604
            ],
            "passed_time": 62.00729024,
            "remaining_time": 988.9637308,
            "test": [
             0.7956228956,
             0.5152452011
            ]
           },
           {
            "iteration": 59,
            "learn": [
             0.7876356154,
             0.5310958508
            ],
            "passed_time": 62.99173063,
            "remaining_time": 986.8704465,
            "test": [
             0.795959596,
             0.5147388725
            ]
           },
           {
            "iteration": 60,
            "learn": [
             0.7878039656,
             0.5298859655
            ],
            "passed_time": 64.00991953,
            "remaining_time": 985.3330236,
            "test": [
             0.7956228956,
             0.5136071544
            ]
           },
           {
            "iteration": 61,
            "learn": [
             0.7878787879,
             0.5297214713
            ],
            "passed_time": 65.04280304,
            "remaining_time": 984.0346653,
            "test": [
             0.7954545455,
             0.5135709539
            ]
           },
           {
            "iteration": 62,
            "learn": [
             0.7878974935,
             0.5291903362
            ],
            "passed_time": 66.07696435,
            "remaining_time": 982.7637396,
            "test": [
             0.7951178451,
             0.5131338946
            ]
           },
           {
            "iteration": 63,
            "learn": [
             0.7880097269,
             0.5287448001
            ],
            "passed_time": 67.02754787,
            "remaining_time": 980.2778876,
            "test": [
             0.7956228956,
             0.5125213153
            ]
           },
           {
            "iteration": 64,
            "learn": [
             0.788402544,
             0.5282901743
            ],
            "passed_time": 67.99347911,
            "remaining_time": 978.0600457,
            "test": [
             0.7961279461,
             0.5118380824
            ]
           },
           {
            "iteration": 65,
            "learn": [
             0.7886831276,
             0.5277005634
            ],
            "passed_time": 69.15108399,
            "remaining_time": 978.5926128,
            "test": [
             0.7952861953,
             0.5113662526
            ]
           },
           {
            "iteration": 66,
            "learn": [
             0.7889263,
             0.5272927602
            ],
            "passed_time": 70.24092769,
            "remaining_time": 978.1311273,
            "test": [
             0.7956228956,
             0.5111490079
            ]
           },
           {
            "iteration": 67,
            "learn": [
             0.7890011223,
             0.5269600036
            ],
            "passed_time": 71.12522761,
            "remaining_time": 974.8340019,
            "test": [
             0.7956228956,
             0.5108632875
            ]
           },
           {
            "iteration": 68,
            "learn": [
             0.7892068837,
             0.5263792554
            ],
            "passed_time": 72.19188033,
            "remaining_time": 974.0672548,
            "test": [
             0.7961279461,
             0.51028056
            ]
           },
           {
            "iteration": 69,
            "learn": [
             0.7894500561,
             0.5251806457
            ],
            "passed_time": 73.29822931,
            "remaining_time": 973.8193322,
            "test": [
             0.7962962963,
             0.5090501314
            ]
           },
           {
            "iteration": 70,
            "learn": [
             0.789805462,
             0.5245863926
            ],
            "passed_time": 74.40599969,
            "remaining_time": 973.5658269,
            "test": [
             0.7956228956,
             0.5083235887
            ]
           }
          ],
          "meta": {
           "iteration_count": 1000,
           "launch_mode": "Train",
           "learn_metrics": [
            {
             "best_value": "Max",
             "name": "Accuracy"
            },
            {
             "best_value": "Min",
             "name": "MultiClass"
            }
           ],
           "learn_sets": [
            "learn"
           ],
           "name": "experiment",
           "parameters": "",
           "test_metrics": [
            {
             "best_value": "Max",
             "name": "Accuracy"
            },
            {
             "best_value": "Min",
             "name": "MultiClass"
            }
           ],
           "test_sets": [
            "test"
           ]
          }
         },
         "passed_iterations": 70,
         "total_iterations": 1000
        },
        "name": "catboost_info",
        "path": "catboost_info"
       }
      },
      "layout": "IPY_MODEL_0862215a0afc4430b29fdbc3850b1c0a"
     }
    }
   }
  }
 },
 "nbformat": 4,
 "nbformat_minor": 1
}
